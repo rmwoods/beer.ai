{
 "cells": [
  {
   "cell_type": "code",
   "execution_count": 2,
   "metadata": {},
   "outputs": [],
   "source": [
    "import matplotlib.pyplot as plt\n",
    "import numpy as np\n",
    "import os\n",
    "import pandas as pd\n",
    "import plotly.express as px\n",
    "import plotly.graph_objs as go\n",
    "import plotly.io as io\n",
    "\n",
    "from beerai import cleaning, utils\n",
    "from beerai.config import DATA_DIR\n",
    "\n",
    "from plotly import tools\n",
    "from plotly.offline import iplot\n",
    "from plotly import colors\n"
   ]
  },
  {
   "cell_type": "code",
   "execution_count": 3,
   "metadata": {},
   "outputs": [],
   "source": [
    "RECIPE_FILE = os.path.join(DATA_DIR, \"interim/all_recipes.h5\")"
   ]
  },
  {
   "cell_type": "markdown",
   "metadata": {},
   "source": [
    "# Visualizing Beers by Style\n",
    "\n",
    "..."
   ]
  },
  {
   "cell_type": "markdown",
   "metadata": {},
   "source": [
    "## Load in our data"
   ]
  },
  {
   "cell_type": "code",
   "execution_count": 4,
   "metadata": {},
   "outputs": [],
   "source": [
    "def load_recipes(index_range):\n",
    "    with pd.HDFStore(RECIPE_FILE, \"r\") as store:\n",
    "        where_clause = f\"(index >= {index_range[0]}) & (index <= {index_range[1]})\"\n",
    "        core = store.select(\"/core\", where=where_clause)\n",
    "        ing = store.select(\"/ingredients\", where=where_clause)\n",
    "    df = core.join(ing)\n",
    "    return df"
   ]
  },
  {
   "cell_type": "code",
   "execution_count": 3,
   "metadata": {},
   "outputs": [],
   "source": [
    "brewersfriend_indices = [330790, 403157]\n",
    "brewtoad_indices = [258423, 330789]"
   ]
  },
  {
   "cell_type": "code",
   "execution_count": 4,
   "metadata": {},
   "outputs": [],
   "source": [
    "bf = load_recipes(brewersfriend_indices)\n",
    "bt = load_recipes(brewtoad_indices)"
   ]
  },
  {
   "cell_type": "code",
   "execution_count": 5,
   "metadata": {},
   "outputs": [
    {
     "data": {
      "text/html": [
       "<div>\n",
       "<style scoped>\n",
       "    .dataframe tbody tr th:only-of-type {\n",
       "        vertical-align: middle;\n",
       "    }\n",
       "\n",
       "    .dataframe tbody tr th {\n",
       "        vertical-align: top;\n",
       "    }\n",
       "\n",
       "    .dataframe thead th {\n",
       "        text-align: right;\n",
       "    }\n",
       "</style>\n",
       "<table border=\"1\" class=\"dataframe\">\n",
       "  <thead>\n",
       "    <tr style=\"text-align: right;\">\n",
       "      <th></th>\n",
       "      <th>batch_size</th>\n",
       "      <th>boil_size</th>\n",
       "      <th>boil_time</th>\n",
       "      <th>brewer</th>\n",
       "      <th>efficiency</th>\n",
       "      <th>name</th>\n",
       "      <th>origin</th>\n",
       "      <th>recipe_file</th>\n",
       "      <th>src_abv</th>\n",
       "      <th>src_color</th>\n",
       "      <th>...</th>\n",
       "      <th>misc_time</th>\n",
       "      <th>misc_use</th>\n",
       "      <th>yeast_amount</th>\n",
       "      <th>yeast_attenuation</th>\n",
       "      <th>yeast_flocculation</th>\n",
       "      <th>yeast_form</th>\n",
       "      <th>yeast_laboratory</th>\n",
       "      <th>yeast_name</th>\n",
       "      <th>yeast_product_id</th>\n",
       "      <th>yeast_type</th>\n",
       "    </tr>\n",
       "    <tr>\n",
       "      <th>id</th>\n",
       "      <th></th>\n",
       "      <th></th>\n",
       "      <th></th>\n",
       "      <th></th>\n",
       "      <th></th>\n",
       "      <th></th>\n",
       "      <th></th>\n",
       "      <th></th>\n",
       "      <th></th>\n",
       "      <th></th>\n",
       "      <th></th>\n",
       "      <th></th>\n",
       "      <th></th>\n",
       "      <th></th>\n",
       "      <th></th>\n",
       "      <th></th>\n",
       "      <th></th>\n",
       "      <th></th>\n",
       "      <th></th>\n",
       "      <th></th>\n",
       "      <th></th>\n",
       "    </tr>\n",
       "  </thead>\n",
       "  <tbody>\n",
       "    <tr>\n",
       "      <th>330790</th>\n",
       "      <td>18.927059</td>\n",
       "      <td>22.712471</td>\n",
       "      <td>60.0</td>\n",
       "      <td>NaN</td>\n",
       "      <td>0.63</td>\n",
       "      <td>northwest wheat</td>\n",
       "      <td>brewersfriend</td>\n",
       "      <td>recipes/brewersfriend/189607.xml</td>\n",
       "      <td>4.71</td>\n",
       "      <td>5.56</td>\n",
       "      <td>...</td>\n",
       "      <td>NaN</td>\n",
       "      <td>NaN</td>\n",
       "      <td>0.1</td>\n",
       "      <td>72.5</td>\n",
       "      <td>low</td>\n",
       "      <td>liquid</td>\n",
       "      <td>white labs</td>\n",
       "      <td>american hefeweizen ale yeast wlp320</td>\n",
       "      <td>WLP320</td>\n",
       "      <td>ale</td>\n",
       "    </tr>\n",
       "    <tr>\n",
       "      <th>330790</th>\n",
       "      <td>18.927059</td>\n",
       "      <td>22.712471</td>\n",
       "      <td>60.0</td>\n",
       "      <td>NaN</td>\n",
       "      <td>0.63</td>\n",
       "      <td>northwest wheat</td>\n",
       "      <td>brewersfriend</td>\n",
       "      <td>recipes/brewersfriend/189607.xml</td>\n",
       "      <td>4.71</td>\n",
       "      <td>5.56</td>\n",
       "      <td>...</td>\n",
       "      <td>NaN</td>\n",
       "      <td>NaN</td>\n",
       "      <td>NaN</td>\n",
       "      <td>NaN</td>\n",
       "      <td>NaN</td>\n",
       "      <td>NaN</td>\n",
       "      <td>NaN</td>\n",
       "      <td>NaN</td>\n",
       "      <td>NaN</td>\n",
       "      <td>NaN</td>\n",
       "    </tr>\n",
       "    <tr>\n",
       "      <th>330790</th>\n",
       "      <td>18.927059</td>\n",
       "      <td>22.712471</td>\n",
       "      <td>60.0</td>\n",
       "      <td>NaN</td>\n",
       "      <td>0.63</td>\n",
       "      <td>northwest wheat</td>\n",
       "      <td>brewersfriend</td>\n",
       "      <td>recipes/brewersfriend/189607.xml</td>\n",
       "      <td>4.71</td>\n",
       "      <td>5.56</td>\n",
       "      <td>...</td>\n",
       "      <td>NaN</td>\n",
       "      <td>NaN</td>\n",
       "      <td>NaN</td>\n",
       "      <td>NaN</td>\n",
       "      <td>NaN</td>\n",
       "      <td>NaN</td>\n",
       "      <td>NaN</td>\n",
       "      <td>NaN</td>\n",
       "      <td>NaN</td>\n",
       "      <td>NaN</td>\n",
       "    </tr>\n",
       "    <tr>\n",
       "      <th>330791</th>\n",
       "      <td>20.819765</td>\n",
       "      <td>11.356235</td>\n",
       "      <td>60.0</td>\n",
       "      <td>andy weaver</td>\n",
       "      <td>0.45</td>\n",
       "      <td>the beach some-what wheat</td>\n",
       "      <td>brewersfriend</td>\n",
       "      <td>recipes/brewersfriend/43750.xml</td>\n",
       "      <td>4.68</td>\n",
       "      <td>3.47</td>\n",
       "      <td>...</td>\n",
       "      <td>15.0</td>\n",
       "      <td>boil</td>\n",
       "      <td>0.1</td>\n",
       "      <td>76.5</td>\n",
       "      <td>medium</td>\n",
       "      <td>liquid</td>\n",
       "      <td>white labs</td>\n",
       "      <td>california ale yeast wlp001</td>\n",
       "      <td>WLP001</td>\n",
       "      <td>ale</td>\n",
       "    </tr>\n",
       "    <tr>\n",
       "      <th>330791</th>\n",
       "      <td>20.819765</td>\n",
       "      <td>11.356235</td>\n",
       "      <td>60.0</td>\n",
       "      <td>andy weaver</td>\n",
       "      <td>0.45</td>\n",
       "      <td>the beach some-what wheat</td>\n",
       "      <td>brewersfriend</td>\n",
       "      <td>recipes/brewersfriend/43750.xml</td>\n",
       "      <td>4.68</td>\n",
       "      <td>3.47</td>\n",
       "      <td>...</td>\n",
       "      <td>NaN</td>\n",
       "      <td>NaN</td>\n",
       "      <td>NaN</td>\n",
       "      <td>NaN</td>\n",
       "      <td>NaN</td>\n",
       "      <td>NaN</td>\n",
       "      <td>NaN</td>\n",
       "      <td>NaN</td>\n",
       "      <td>NaN</td>\n",
       "      <td>NaN</td>\n",
       "    </tr>\n",
       "  </tbody>\n",
       "</table>\n",
       "<p>5 rows × 46 columns</p>\n",
       "</div>"
      ],
      "text/plain": [
       "        batch_size  boil_size  boil_time       brewer  efficiency  \\\n",
       "id                                                                  \n",
       "330790   18.927059  22.712471       60.0          NaN        0.63   \n",
       "330790   18.927059  22.712471       60.0          NaN        0.63   \n",
       "330790   18.927059  22.712471       60.0          NaN        0.63   \n",
       "330791   20.819765  11.356235       60.0  andy weaver        0.45   \n",
       "330791   20.819765  11.356235       60.0  andy weaver        0.45   \n",
       "\n",
       "                             name         origin  \\\n",
       "id                                                 \n",
       "330790            northwest wheat  brewersfriend   \n",
       "330790            northwest wheat  brewersfriend   \n",
       "330790            northwest wheat  brewersfriend   \n",
       "330791  the beach some-what wheat  brewersfriend   \n",
       "330791  the beach some-what wheat  brewersfriend   \n",
       "\n",
       "                             recipe_file  src_abv  src_color  ...  misc_time  \\\n",
       "id                                                            ...              \n",
       "330790  recipes/brewersfriend/189607.xml     4.71       5.56  ...        NaN   \n",
       "330790  recipes/brewersfriend/189607.xml     4.71       5.56  ...        NaN   \n",
       "330790  recipes/brewersfriend/189607.xml     4.71       5.56  ...        NaN   \n",
       "330791   recipes/brewersfriend/43750.xml     4.68       3.47  ...       15.0   \n",
       "330791   recipes/brewersfriend/43750.xml     4.68       3.47  ...        NaN   \n",
       "\n",
       "        misc_use  yeast_amount yeast_attenuation yeast_flocculation  \\\n",
       "id                                                                    \n",
       "330790       NaN           0.1              72.5                low   \n",
       "330790       NaN           NaN               NaN                NaN   \n",
       "330790       NaN           NaN               NaN                NaN   \n",
       "330791      boil           0.1              76.5             medium   \n",
       "330791       NaN           NaN               NaN                NaN   \n",
       "\n",
       "       yeast_form  yeast_laboratory                            yeast_name  \\\n",
       "id                                                                          \n",
       "330790     liquid        white labs  american hefeweizen ale yeast wlp320   \n",
       "330790        NaN               NaN                                   NaN   \n",
       "330790        NaN               NaN                                   NaN   \n",
       "330791     liquid        white labs           california ale yeast wlp001   \n",
       "330791        NaN               NaN                                   NaN   \n",
       "\n",
       "        yeast_product_id yeast_type  \n",
       "id                                   \n",
       "330790            WLP320        ale  \n",
       "330790               NaN        NaN  \n",
       "330790               NaN        NaN  \n",
       "330791            WLP001        ale  \n",
       "330791               NaN        NaN  \n",
       "\n",
       "[5 rows x 46 columns]"
      ]
     },
     "execution_count": 5,
     "metadata": {},
     "output_type": "execute_result"
    }
   ],
   "source": [
    "bf.head()"
   ]
  },
  {
   "cell_type": "code",
   "execution_count": 6,
   "metadata": {},
   "outputs": [],
   "source": [
    "def generate_metrics(df):\n",
    "    df[\"ferm_scaled\"] = utils.scale_ferm(df)\n",
    "    df[\"hop_scaled\"] = utils.scale_hop(df)\n",
    "    df[\"efficiency\"] = cleaning.clean_efficiency(df[\"efficiency\"])\n",
    "    df[\"ferm_yield\"] = cleaning.clean_ferm_yield(df)\n",
    "    df[\"ibu\"] = utils.ibu(df, utilization_factor=3.75)\n",
    "    df[\"abv\"] = utils.abv(df)\n",
    "    df[\"srm\"] = utils.srm(df)"
   ]
  },
  {
   "cell_type": "code",
   "execution_count": 7,
   "metadata": {},
   "outputs": [],
   "source": [
    "generate_metrics(bt)\n",
    "generate_metrics(bf)"
   ]
  },
  {
   "cell_type": "markdown",
   "metadata": {},
   "source": [
    "## Let's Plot Some Shit\n",
    "\n",
    "We'd like to see where styles of beer live in IBU vs ABV vs SRM space. We'll make a bubble ploy of abv vs ibu with SRM as the color of the points"
   ]
  },
  {
   "cell_type": "markdown",
   "metadata": {},
   "source": [
    "### Bubble plot"
   ]
  },
  {
   "cell_type": "markdown",
   "metadata": {},
   "source": [
    "This is the plot displayed in the Compubeer website App \"Style Landscape\" (ibu_abv_color.html)"
   ]
  },
  {
   "cell_type": "code",
   "execution_count": 12,
   "metadata": {},
   "outputs": [],
   "source": [
    "def plot_bubble(df):\n",
    "    flattened = df.groupby(df.index).first()\n",
    "    summary = flattened.groupby(flattened.style_name).agg([\"mean\", \"std\", \"count\", \"min\", \"max\"]).round(1)\n",
    "    max_val = 35\n",
    "    cscale = colors.make_colorscale([\"white\", \"yellow\",\"red\", \"brown\", \"black\"], scale=[0, 4./max_val, 9./max_val, 16./max_val, 1])\n",
    "    size = 2.5*np.log2(summary[(\"ibu\", \"count\")].values)\n",
    "    color = summary[(\"srm\", \"mean\")].values\n",
    "    \n",
    "    title_size = 32\n",
    "    axis_label_size = 22\n",
    "    tick_label_size = 18\n",
    "\n",
    "    data = [\n",
    "        {\n",
    "            \"y\": summary[(\"abv\",\"mean\")],\n",
    "\n",
    "            \"x\": summary[(\"ibu\",\"mean\")],\n",
    "            \"mode\": \"markers\",\n",
    "            \"marker\": {\n",
    "                \"color\": color,\n",
    "                \"line\": {\n",
    "                    \"width\": 2,\n",
    "                    \"color\": \"DarkGray\"\n",
    "                },\n",
    "                #\"opacity\": 0.5,\n",
    "                \"colorscale\": cscale,\n",
    "                \"colorbar\": {\n",
    "                    \"title\": {\n",
    "                        \"text\":\"SRM\",\n",
    "                        \"font\": {\n",
    "                            \"size\": axis_label_size\n",
    "                        },\n",
    "                    },\n",
    "                    \"tickfont\": {\n",
    "                        \"size\": tick_label_size,\n",
    "                        \"family\": \"Arial\"\n",
    "                    }\n",
    "                },\n",
    "                \"size\": size,\n",
    "                \"showscale\": True\n",
    "            },\n",
    "            \"text\" : summary.index.values,\n",
    "        }\n",
    "    ]\n",
    "    # \"color_continuous_scale\": [\"red\", \"green\", \"blue\"],\n",
    "    layout = {\n",
    "        \"xaxis\": {\n",
    "            \"title\": {\n",
    "                \"text\":\"IBU\",\n",
    "                \"font\": {\n",
    "                    \"size\": axis_label_size\n",
    "                }\n",
    "            },\n",
    "            \"tickfont\":{\n",
    "                \"size\": tick_label_size\n",
    "            },\n",
    "            \"range\": [0, 125],\n",
    "        },\n",
    "        \"yaxis\": {\n",
    "            \"title\": {\n",
    "                \"text\":\"ABV\",\n",
    "                \"font\": {\n",
    "                    \"size\": axis_label_size\n",
    "                }\n",
    "            },\n",
    "            \"tickfont\":{\n",
    "                \"size\": tick_label_size\n",
    "            },\n",
    "            \"range\": [3.5, 12]\n",
    "        },\n",
    "        \"title\": {\n",
    "                \"text\":\"Style Landscape\",\n",
    "                \"font\": {\n",
    "                    \"size\": title_size\n",
    "                }        }\n",
    "    }\n",
    "    fig = go.Figure(data=data, layout=layout)\n",
    "    \n",
    "    fig.update_layout(\n",
    "        autosize=False,\n",
    "        width=1200,\n",
    "        height=800,\n",
    "        title_x=0.5,\n",
    "        font=dict(\n",
    "            family=\"Arial\",\n",
    "            color=\"Black\"\n",
    "        )\n",
    "    ) \n",
    "    \n",
    "    iplot(fig)\n",
    "    return fig"
   ]
  },
  {
   "cell_type": "code",
   "execution_count": 13,
   "metadata": {},
   "outputs": [
    {
     "data": {
      "application/vnd.plotly.v1+json": {
       "config": {
        "linkText": "Export to plot.ly",
        "plotlyServerURL": "https://plot.ly",
        "showLink": false
       },
       "data": [
        {
         "marker": {
          "color": [
           14,
           8.9,
           11.8,
           13.7,
           16.8,
           22.9,
           9.2,
           5.1,
           10.7,
           7.4,
           36.2,
           41.1,
           14.5,
           4.9,
           5.6,
           6.6,
           5.6,
           15.3,
           33.6,
           5.7,
           27.5,
           17.8,
           5.9,
           8.1,
           12.6,
           7,
           3.5,
           11.8,
           11.4,
           4.8,
           4.3,
           13.7,
           7.1,
           19.2,
           5.4,
           16.6,
           29,
           13.6,
           10.9,
           11.1,
           22,
           4.2,
           16,
           20.6,
           17,
           7.3,
           4.5,
           7.2,
           10.5,
           23.8,
           4.4,
           4.6,
           22.1,
           20.1,
           19.5,
           5.4,
           8.4,
           5.5,
           36.3,
           18,
           17.4,
           18.9,
           13.6,
           21.8,
           17.6,
           4,
           9.7,
           30.1,
           12.7,
           10.7,
           11.4,
           6.9,
           19.4,
           13.8,
           41.8,
           2,
           11.8,
           8.3,
           7,
           5.6,
           5.2,
           7,
           3.8,
           3.9,
           4.2,
           4.5,
           7.9,
           20.8,
           11,
           53.9,
           9.8,
           19.2,
           4.9,
           38.6,
           15.2,
           36.6,
           11.5,
           6.2,
           14.9,
           4.2,
           5.3,
           3.7,
           5.1,
           5.3,
           22.8,
           8.6,
           7.6,
           17.7,
           7.5,
           15.3,
           19.4,
           4.4,
           11.2,
           10.8,
           14.5,
           15.8,
           18.7,
           18.1,
           15.1,
           37.5,
           10.5,
           19.3,
           13.2,
           9.2,
           7.8,
           21.8,
           12.9,
           20.6,
           3.6,
           5,
           29.2,
           4.7,
           9.4,
           15.3,
           34.4,
           14.7,
           14.4,
           52.2,
           17.5,
           6.5,
           27.6,
           27.9,
           17.4,
           15.3,
           20.9,
           14.8,
           15.6,
           15,
           6.9,
           22.6,
           9.3,
           16.2,
           10.4,
           8.2,
           34.8,
           18.3,
           5.3,
           15.7,
           10.7,
           5.3,
           16.3,
           29.9,
           14.7,
           4,
           8.3,
           4.9,
           11.7,
           21,
           6.9,
           39.8,
           18,
           0.5,
           6.1,
           38.7,
           10.5,
           20.4,
           4.7,
           4.8,
           19.6,
           11.5,
           7.3,
           22.7,
           4.4,
           29.4
          ],
          "colorbar": {
           "tickfont": {
            "family": "Arial",
            "size": 18
           },
           "title": {
            "font": {
             "size": 22
            },
            "text": "SRM"
           }
          },
          "colorscale": [
           [
            0,
            "white"
           ],
           [
            0.11428571428571428,
            "yellow"
           ],
           [
            0.2571428571428571,
            "red"
           ],
           [
            0.45714285714285713,
            "brown"
           ],
           [
            1,
            "black"
           ]
          ],
          "line": {
           "color": "DarkGray",
           "width": 2
          },
          "showscale": true,
          "size": [
           17.692038992627076,
           12.610985298396134,
           10.804820237218406,
           30.02107155517645,
           24.61764336522834,
           28.80890489014253,
           36.05729719745031,
           19.420460811942316,
           27.58699740644317,
           34.85147223589768,
           23.862411081973093,
           28.328692054649046,
           19.38721875540867,
           23.253740487456373,
           28.08704357779331,
           6.46240625180289,
           13.729632740824186,
           15.572046726239702,
           23.838188441552006,
           24.989417877194505,
           25.352074426932504,
           25.336065800552316,
           23.896051783171657,
           25.402829707460768,
           26.17918803598011,
           25.547921301155405,
           23.62287161343859,
           21.367236149719094,
           20.804820237218404,
           28.855161355708606,
           23.91513509542773,
           16.229632740824186,
           14.885490775967188,
           21.289249595710107,
           19.92885888487693,
           18.82845365129078,
           24.6643331771294,
           0,
           18.0720467262397,
           26.224619901098244,
           22.40724001334315,
           21.689892582354375,
           17.14495248781893,
           15,
           17.66522297614443,
           16.10735873962182,
           26.761920598406498,
           10.218657103125848,
           12.267226489021297,
           12.610985298396134,
           18.28220738821089,
           19.613725127360937,
           18.21350554715562,
           19.691292366412497,
           22.090125887645176,
           17.050447406037968,
           24.189892582354375,
           15.619818783608963,
           25.141594287783,
           23.029720736365007,
           13.648579046593243,
           18.92463902082737,
           21.117708065524134,
           12.823207542362416,
           22.548976820894705,
           12.14495248781893,
           26.35274153837381,
           19.353667466002868,
           21.724994928548615,
           26.158810933177953,
           23.327292195286546,
           14.706607623404604,
           18.327292195286542,
           20.91580553561454,
           23.09003547975021,
           2.5,
           12.92481250360578,
           25.47764803632914,
           11.148579046593243,
           18.70953944316064,
           12.267226489021297,
           10.42481250360578,
           19.03677461028802,
           24.90362423599549,
           17.848878380996986,
           17.555919532571135,
           15.374367798761705,
           20.782207388210885,
           30.39889007014692,
           23.36073976978954,
           16.10735873962182,
           12.385490775967188,
           20.486892136055623,
           14.826843343907218,
           27.836065800552316,
           19.943199808749792,
           10,
           10.619818783608963,
           12.14495248781893,
           26.469443790820524,
           15.323207542362416,
           6.46240625180289,
           15.42481250360578,
           19.812031259014454,
           7.5,
           21.499782105467816,
           9.51838730514401,
           24.055129548640938,
           18.259451870442756,
           17.638206088752973,
           21.67221246066562,
           22.751655847512996,
           20.88286706374521,
           7.01838730514401,
           22.949772725037334,
           15.055919532571135,
           20.336065800552316,
           22.392755103905717,
           16.920460811942316,
           27.441410308538323,
           25.258219521030053,
           23.304820237218404,
           10.218657103125848,
           20.055919532571135,
           14.767226489021297,
           20.948445917678153,
           12.823207542362416,
           12.267226489021297,
           10,
           12.14495248781893,
           8.648579046593243,
           20.631663581125622,
           5.804820237218405,
           13.480793556946901,
           28.5221510900619,
           12.385490775967188,
           19.675911798958513,
           28.3579642886197,
           10.980793556946901,
           31.000864491336735,
           19.216251317958047,
           19.582225035411852,
           18.565661886755244,
           21.74241881558572,
           16.716251317958047,
           17.5,
           13.304820237218406,
           15.89388001154521,
           13.480793556946901,
           19.16333979296294,
           24.064272107661164,
           31.622578952766666,
           14.03677461028802,
           19.319801136407996,
           23.072046726239705,
           16.148579046593245,
           15.055919532571135,
           21.895558036816812,
           20.666966351737255,
           20.17865590639156,
           15.165222976144431,
           8.648579046593243,
           26.16646584429811,
           17.471711716930415,
           23.377347953866078,
           17.692038992627076,
           22.04245905813845,
           23.843046001346487,
           12.823207542362416,
           27.380032912223715,
           20.138206088752973,
           2.5,
           17.267226489021297,
           12.01838730514401,
           23.42126615376923,
           17.692038992627076,
           24.737044408269856,
           27.966833222822167,
           21.759758933611657,
           13.648579046593243,
           13.565661886755244,
           18.023633414072375,
           27.787609125404273,
           19.420460811942316
          ]
         },
         "mode": "markers",
         "text": [
          "altbier",
          "alternative grain beer",
          "alternative sugar beer",
          "american amber ale",
          "american barleywine",
          "american brown ale",
          "american ipa",
          "american lager",
          "american light lager",
          "american pale ale",
          "american porter",
          "american stout",
          "american strong ale",
          "american wheat beer",
          "american wheat or rye beer",
          "apple wine",
          "australian sparkling ale",
          "autumn seasonal beer",
          "baltic porter",
          "belgian blond ale",
          "belgian dark strong ale",
          "belgian dubbel",
          "belgian golden strong ale",
          "belgian pale ale",
          "belgian specialty ale",
          "belgian tripel",
          "berliner weisse",
          "best bitter",
          "bière de garde",
          "blonde ale",
          "bohemian pilsener",
          "braggot",
          "brett beer",
          "british brown ale",
          "british golden ale",
          "british strong ale",
          "brown porter",
          "burton ale",
          "california common",
          "california common beer",
          "christmas/winter specialty spiced beer",
          "classic american pilsner",
          "classic rauchbier",
          "classic style smoked beer",
          "clone beer",
          "common cider",
          "cream ale",
          "cyser (apple melomel)",
          "czech amber lager",
          "czech dark lager",
          "czech pale lager",
          "czech premium pale lager",
          "dark american lager",
          "dark mild",
          "doppelbock",
          "dortmunder export",
          "double ipa",
          "dry mead",
          "dry stout",
          "dunkelweizen",
          "dunkles bock",
          "dunkles weissbier",
          "düsseldorf altbier",
          "eisbock",
          "english barleywine",
          "english cider",
          "english ipa",
          "english porter",
          "experimental beer",
          "extra special/strong bitter (english pale ale)",
          "extra special/strong bitter (esb)",
          "festbier",
          "flanders brown ale/oud bruin",
          "flanders red ale",
          "foreign extra stout",
          "french cider",
          "fruit and spice beer",
          "fruit beer",
          "fruit cider",
          "fruit lambic",
          "german helles exportbier",
          "german leichtbier",
          "german pils",
          "german pilsner (pils)",
          "gose",
          "gueuze",
          "helles bock",
          "holiday/winter special spiced beer",
          "imperial ipa",
          "imperial stout",
          "international amber lager",
          "international dark lager",
          "international pale lager",
          "irish extra stout",
          "irish red ale",
          "irish stout",
          "kellerbier: amber kellerbier",
          "kellerbier: pale kellerbier",
          "kentucky common",
          "kölsch",
          "lambic",
          "lichtenhainer",
          "light american lager",
          "lite american lager",
          "london brown ale",
          "maibock/helles bock",
          "metheglin",
          "mild",
          "mixed-fermentation sour beer",
          "mixed-style beer",
          "munich dunkel",
          "munich helles",
          "märzen",
          "new england cider",
          "no profile selected",
          "north german altbier",
          "northern english brown",
          "northern english brown ale",
          "northern german altbier",
          "oatmeal stout",
          "oktoberfest/märzen",
          "old ale",
          "open category mead",
          "ordinary bitter",
          "other fruit melomel",
          "other smoked beer",
          "other specialty cider or perry",
          "oud bruin",
          "piwo grodziskie",
          "pre-prohibition lager",
          "pre-prohibition porter",
          "premium american lager",
          "pyment (grape melomel)",
          "rauchbier",
          "robust porter",
          "roggenbier",
          "roggenbier (german rye beer)",
          "russian imperial stout",
          "sahti",
          "saison",
          "schwarzbier",
          "schwarzbier (black beer)",
          "scottish export",
          "scottish export 80/-",
          "scottish heavy",
          "scottish heavy 70/-",
          "scottish light",
          "scottish light 60/-",
          "semi-sweet mead",
          "southern english brown",
          "special/best/premium bitter",
          "specialty beer",
          "specialty fruit beer",
          "specialty ipa: belgian ipa",
          "specialty ipa: black ipa",
          "specialty ipa: brown ipa",
          "specialty ipa: new england ipa",
          "specialty ipa: red ipa",
          "specialty ipa: rye ipa",
          "specialty ipa: white ipa",
          "specialty smoked beer",
          "specialty wood-aged beer",
          "spice, herb, or vegetable beer",
          "standard american lager",
          "standard/ordinary bitter",
          "straight (unblended) lambic",
          "strong bitter",
          "strong scotch ale",
          "sweet mead",
          "sweet stout",
          "traditional bock",
          "traditional perry",
          "trappist single",
          "tropical stout",
          "vienna lager",
          "wee heavy",
          "weissbier",
          "weizen/weissbier",
          "weizenbock",
          "wheatwine",
          "wild specialty beer",
          "winter seasonal beer",
          "witbier",
          "wood-aged beer"
         ],
         "type": "scatter",
         "x": [
          37.1,
          38.3,
          23.6,
          null,
          90,
          38.1,
          80.1,
          22.1,
          30.2,
          null,
          36.2,
          46.4,
          68.4,
          26.7,
          32.4,
          10,
          32.5,
          24.7,
          36.7,
          25.8,
          30.3,
          24,
          30.8,
          31.7,
          40.8,
          31.5,
          8.2,
          34,
          25.5,
          26.7,
          39.7,
          17,
          33.8,
          26.9,
          34.2,
          41.8,
          30.4,
          42.3,
          38.5,
          40.9,
          39.8,
          33.4,
          27.5,
          30.6,
          40.9,
          1.2,
          22.8,
          1.6,
          26.9,
          29.8,
          29.8,
          38,
          30.2,
          19.8,
          26.2,
          30.8,
          108,
          3.8,
          37.9,
          19.6,
          23.4,
          15.3,
          48,
          31.7,
          58.6,
          3.6,
          56.5,
          31.3,
          35.8,
          44.5,
          39,
          25.5,
          22,
          15.2,
          3606604012360.2,
          0,
          20.2,
          25.3,
          0.2,
          12.1,
          27.3,
          34.2,
          31.7,
          35.6,
          8.6,
          12.9,
          28,
          31.8,
          119.6,
          57.7,
          22.1,
          23.6,
          29.1,
          38,
          29.8,
          33.1,
          27.6,
          26.2,
          19.6,
          27,
          7.9,
          7.2,
          19.2,
          26.3,
          51.8,
          32.8,
          2.2,
          23.1,
          15.7,
          40.4,
          25.2,
          21.5,
          22,
          1.2,
          58.1,
          34.5,
          27.5,
          28.9,
          38,
          34.3,
          27.5,
          47.8,
          7.2,
          30.8,
          1,
          38.5,
          6.3,
          15.1,
          19.5,
          33.8,
          36.3,
          27.5,
          8.5,
          24.5,
          39.3,
          17.6,
          24.6,
          67.5,
          10,
          31.2,
          27.8,
          31.4,
          24,
          27.2,
          25.6,
          24.1,
          21.9,
          20.2,
          0.8,
          23.1,
          34.8,
          53.3,
          26.2,
          68.5,
          77.6,
          61,
          77.6,
          64.9,
          64.9,
          439.7,
          30.6,
          31.3,
          29.7,
          19.9,
          33.1,
          9.2,
          38.6,
          31.3,
          10.3,
          30,
          25.5,
          0,
          28,
          37.8,
          26.6,
          26.6,
          15.8,
          16.8,
          24.7,
          42.8,
          20.1,
          31.8,
          19.3,
          49.8
         ],
         "y": [
          5.2,
          5.5,
          7.4,
          5.8,
          10.5,
          5.9,
          6.5,
          5.2,
          5.8,
          5.6,
          6.3,
          6.6,
          7.8,
          5.4,
          5.3,
          9.2,
          5,
          7.1,
          7.5,
          6.6,
          9.5,
          6.9,
          8.1,
          5.6,
          6.7,
          8.8,
          4,
          5.3,
          7,
          5,
          5.3,
          9.5,
          6.2,
          5.3,
          4.7,
          6.7,
          5.4,
          6.6,
          5.1,
          5.7,
          7.2,
          5.5,
          5.8,
          6,
          6.8,
          6.2,
          5.2,
          9.7,
          5.4,
          5.2,
          5.2,
          6.1,
          5.6,
          4.1,
          8,
          5.4,
          8.2,
          10.1,
          5.1,
          5.6,
          6.7,
          5.7,
          5.3,
          9.3,
          10.4,
          5.9,
          6,
          5.4,
          6.6,
          5.4,
          5.4,
          5.8,
          6.4,
          6.1,
          6.9,
          6.5,
          6,
          5.8,
          8.2,
          5.7,
          5.4,
          4.8,
          5.2,
          5.1,
          4.7,
          5.3,
          6.7,
          7.3,
          8.3,
          10,
          5.2,
          5.5,
          5.4,
          6.1,
          5.4,
          4.9,
          5.2,
          5,
          4.9,
          5,
          6,
          4.3,
          4.7,
          4.8,
          5.2,
          6.7,
          12.6,
          4.1,
          5.9,
          6.4,
          5.3,
          5,
          5.9,
          6.7,
          6.5,
          5.5,
          5.3,
          5,
          5.3,
          6,
          5.6,
          7.6,
          8.7,
          4.1,
          11.4,
          6,
          6.8,
          6.8,
          3.6,
          5.6,
          5.8,
          5.3,
          9.4,
          5.7,
          6.2,
          5.4,
          5.5,
          9.8,
          16.6,
          6.1,
          5.3,
          5.2,
          5.8,
          5.3,
          6.4,
          4.8,
          5.2,
          4,
          10.9,
          4.7,
          4.5,
          6.6,
          5.8,
          7.1,
          7,
          6.5,
          6.4,
          6.5,
          6.7,
          6.2,
          6.2,
          8.1,
          6.6,
          4.9,
          4.2,
          5.7,
          5.4,
          8.2,
          12.1,
          6.1,
          6.4,
          6.5,
          5.5,
          6.8,
          5.1,
          8.4,
          5.4,
          5.2,
          8.4,
          9.7,
          5.8,
          7,
          5.2,
          8.6
         ]
        }
       ],
       "layout": {
        "autosize": false,
        "font": {
         "color": "Black",
         "family": "Arial"
        },
        "height": 250,
        "template": {
         "data": {
          "bar": [
           {
            "error_x": {
             "color": "#2a3f5f"
            },
            "error_y": {
             "color": "#2a3f5f"
            },
            "marker": {
             "line": {
              "color": "#E5ECF6",
              "width": 0.5
             }
            },
            "type": "bar"
           }
          ],
          "barpolar": [
           {
            "marker": {
             "line": {
              "color": "#E5ECF6",
              "width": 0.5
             }
            },
            "type": "barpolar"
           }
          ],
          "carpet": [
           {
            "aaxis": {
             "endlinecolor": "#2a3f5f",
             "gridcolor": "white",
             "linecolor": "white",
             "minorgridcolor": "white",
             "startlinecolor": "#2a3f5f"
            },
            "baxis": {
             "endlinecolor": "#2a3f5f",
             "gridcolor": "white",
             "linecolor": "white",
             "minorgridcolor": "white",
             "startlinecolor": "#2a3f5f"
            },
            "type": "carpet"
           }
          ],
          "choropleth": [
           {
            "colorbar": {
             "outlinewidth": 0,
             "ticks": ""
            },
            "type": "choropleth"
           }
          ],
          "contour": [
           {
            "colorbar": {
             "outlinewidth": 0,
             "ticks": ""
            },
            "colorscale": [
             [
              0,
              "#0d0887"
             ],
             [
              0.1111111111111111,
              "#46039f"
             ],
             [
              0.2222222222222222,
              "#7201a8"
             ],
             [
              0.3333333333333333,
              "#9c179e"
             ],
             [
              0.4444444444444444,
              "#bd3786"
             ],
             [
              0.5555555555555556,
              "#d8576b"
             ],
             [
              0.6666666666666666,
              "#ed7953"
             ],
             [
              0.7777777777777778,
              "#fb9f3a"
             ],
             [
              0.8888888888888888,
              "#fdca26"
             ],
             [
              1,
              "#f0f921"
             ]
            ],
            "type": "contour"
           }
          ],
          "contourcarpet": [
           {
            "colorbar": {
             "outlinewidth": 0,
             "ticks": ""
            },
            "type": "contourcarpet"
           }
          ],
          "heatmap": [
           {
            "colorbar": {
             "outlinewidth": 0,
             "ticks": ""
            },
            "colorscale": [
             [
              0,
              "#0d0887"
             ],
             [
              0.1111111111111111,
              "#46039f"
             ],
             [
              0.2222222222222222,
              "#7201a8"
             ],
             [
              0.3333333333333333,
              "#9c179e"
             ],
             [
              0.4444444444444444,
              "#bd3786"
             ],
             [
              0.5555555555555556,
              "#d8576b"
             ],
             [
              0.6666666666666666,
              "#ed7953"
             ],
             [
              0.7777777777777778,
              "#fb9f3a"
             ],
             [
              0.8888888888888888,
              "#fdca26"
             ],
             [
              1,
              "#f0f921"
             ]
            ],
            "type": "heatmap"
           }
          ],
          "heatmapgl": [
           {
            "colorbar": {
             "outlinewidth": 0,
             "ticks": ""
            },
            "colorscale": [
             [
              0,
              "#0d0887"
             ],
             [
              0.1111111111111111,
              "#46039f"
             ],
             [
              0.2222222222222222,
              "#7201a8"
             ],
             [
              0.3333333333333333,
              "#9c179e"
             ],
             [
              0.4444444444444444,
              "#bd3786"
             ],
             [
              0.5555555555555556,
              "#d8576b"
             ],
             [
              0.6666666666666666,
              "#ed7953"
             ],
             [
              0.7777777777777778,
              "#fb9f3a"
             ],
             [
              0.8888888888888888,
              "#fdca26"
             ],
             [
              1,
              "#f0f921"
             ]
            ],
            "type": "heatmapgl"
           }
          ],
          "histogram": [
           {
            "marker": {
             "colorbar": {
              "outlinewidth": 0,
              "ticks": ""
             }
            },
            "type": "histogram"
           }
          ],
          "histogram2d": [
           {
            "colorbar": {
             "outlinewidth": 0,
             "ticks": ""
            },
            "colorscale": [
             [
              0,
              "#0d0887"
             ],
             [
              0.1111111111111111,
              "#46039f"
             ],
             [
              0.2222222222222222,
              "#7201a8"
             ],
             [
              0.3333333333333333,
              "#9c179e"
             ],
             [
              0.4444444444444444,
              "#bd3786"
             ],
             [
              0.5555555555555556,
              "#d8576b"
             ],
             [
              0.6666666666666666,
              "#ed7953"
             ],
             [
              0.7777777777777778,
              "#fb9f3a"
             ],
             [
              0.8888888888888888,
              "#fdca26"
             ],
             [
              1,
              "#f0f921"
             ]
            ],
            "type": "histogram2d"
           }
          ],
          "histogram2dcontour": [
           {
            "colorbar": {
             "outlinewidth": 0,
             "ticks": ""
            },
            "colorscale": [
             [
              0,
              "#0d0887"
             ],
             [
              0.1111111111111111,
              "#46039f"
             ],
             [
              0.2222222222222222,
              "#7201a8"
             ],
             [
              0.3333333333333333,
              "#9c179e"
             ],
             [
              0.4444444444444444,
              "#bd3786"
             ],
             [
              0.5555555555555556,
              "#d8576b"
             ],
             [
              0.6666666666666666,
              "#ed7953"
             ],
             [
              0.7777777777777778,
              "#fb9f3a"
             ],
             [
              0.8888888888888888,
              "#fdca26"
             ],
             [
              1,
              "#f0f921"
             ]
            ],
            "type": "histogram2dcontour"
           }
          ],
          "mesh3d": [
           {
            "colorbar": {
             "outlinewidth": 0,
             "ticks": ""
            },
            "type": "mesh3d"
           }
          ],
          "parcoords": [
           {
            "line": {
             "colorbar": {
              "outlinewidth": 0,
              "ticks": ""
             }
            },
            "type": "parcoords"
           }
          ],
          "pie": [
           {
            "automargin": true,
            "type": "pie"
           }
          ],
          "scatter": [
           {
            "marker": {
             "colorbar": {
              "outlinewidth": 0,
              "ticks": ""
             }
            },
            "type": "scatter"
           }
          ],
          "scatter3d": [
           {
            "line": {
             "colorbar": {
              "outlinewidth": 0,
              "ticks": ""
             }
            },
            "marker": {
             "colorbar": {
              "outlinewidth": 0,
              "ticks": ""
             }
            },
            "type": "scatter3d"
           }
          ],
          "scattercarpet": [
           {
            "marker": {
             "colorbar": {
              "outlinewidth": 0,
              "ticks": ""
             }
            },
            "type": "scattercarpet"
           }
          ],
          "scattergeo": [
           {
            "marker": {
             "colorbar": {
              "outlinewidth": 0,
              "ticks": ""
             }
            },
            "type": "scattergeo"
           }
          ],
          "scattergl": [
           {
            "marker": {
             "colorbar": {
              "outlinewidth": 0,
              "ticks": ""
             }
            },
            "type": "scattergl"
           }
          ],
          "scattermapbox": [
           {
            "marker": {
             "colorbar": {
              "outlinewidth": 0,
              "ticks": ""
             }
            },
            "type": "scattermapbox"
           }
          ],
          "scatterpolar": [
           {
            "marker": {
             "colorbar": {
              "outlinewidth": 0,
              "ticks": ""
             }
            },
            "type": "scatterpolar"
           }
          ],
          "scatterpolargl": [
           {
            "marker": {
             "colorbar": {
              "outlinewidth": 0,
              "ticks": ""
             }
            },
            "type": "scatterpolargl"
           }
          ],
          "scatterternary": [
           {
            "marker": {
             "colorbar": {
              "outlinewidth": 0,
              "ticks": ""
             }
            },
            "type": "scatterternary"
           }
          ],
          "surface": [
           {
            "colorbar": {
             "outlinewidth": 0,
             "ticks": ""
            },
            "colorscale": [
             [
              0,
              "#0d0887"
             ],
             [
              0.1111111111111111,
              "#46039f"
             ],
             [
              0.2222222222222222,
              "#7201a8"
             ],
             [
              0.3333333333333333,
              "#9c179e"
             ],
             [
              0.4444444444444444,
              "#bd3786"
             ],
             [
              0.5555555555555556,
              "#d8576b"
             ],
             [
              0.6666666666666666,
              "#ed7953"
             ],
             [
              0.7777777777777778,
              "#fb9f3a"
             ],
             [
              0.8888888888888888,
              "#fdca26"
             ],
             [
              1,
              "#f0f921"
             ]
            ],
            "type": "surface"
           }
          ],
          "table": [
           {
            "cells": {
             "fill": {
              "color": "#EBF0F8"
             },
             "line": {
              "color": "white"
             }
            },
            "header": {
             "fill": {
              "color": "#C8D4E3"
             },
             "line": {
              "color": "white"
             }
            },
            "type": "table"
           }
          ]
         },
         "layout": {
          "annotationdefaults": {
           "arrowcolor": "#2a3f5f",
           "arrowhead": 0,
           "arrowwidth": 1
          },
          "coloraxis": {
           "colorbar": {
            "outlinewidth": 0,
            "ticks": ""
           }
          },
          "colorscale": {
           "diverging": [
            [
             0,
             "#8e0152"
            ],
            [
             0.1,
             "#c51b7d"
            ],
            [
             0.2,
             "#de77ae"
            ],
            [
             0.3,
             "#f1b6da"
            ],
            [
             0.4,
             "#fde0ef"
            ],
            [
             0.5,
             "#f7f7f7"
            ],
            [
             0.6,
             "#e6f5d0"
            ],
            [
             0.7,
             "#b8e186"
            ],
            [
             0.8,
             "#7fbc41"
            ],
            [
             0.9,
             "#4d9221"
            ],
            [
             1,
             "#276419"
            ]
           ],
           "sequential": [
            [
             0,
             "#0d0887"
            ],
            [
             0.1111111111111111,
             "#46039f"
            ],
            [
             0.2222222222222222,
             "#7201a8"
            ],
            [
             0.3333333333333333,
             "#9c179e"
            ],
            [
             0.4444444444444444,
             "#bd3786"
            ],
            [
             0.5555555555555556,
             "#d8576b"
            ],
            [
             0.6666666666666666,
             "#ed7953"
            ],
            [
             0.7777777777777778,
             "#fb9f3a"
            ],
            [
             0.8888888888888888,
             "#fdca26"
            ],
            [
             1,
             "#f0f921"
            ]
           ],
           "sequentialminus": [
            [
             0,
             "#0d0887"
            ],
            [
             0.1111111111111111,
             "#46039f"
            ],
            [
             0.2222222222222222,
             "#7201a8"
            ],
            [
             0.3333333333333333,
             "#9c179e"
            ],
            [
             0.4444444444444444,
             "#bd3786"
            ],
            [
             0.5555555555555556,
             "#d8576b"
            ],
            [
             0.6666666666666666,
             "#ed7953"
            ],
            [
             0.7777777777777778,
             "#fb9f3a"
            ],
            [
             0.8888888888888888,
             "#fdca26"
            ],
            [
             1,
             "#f0f921"
            ]
           ]
          },
          "colorway": [
           "#636efa",
           "#EF553B",
           "#00cc96",
           "#ab63fa",
           "#FFA15A",
           "#19d3f3",
           "#FF6692",
           "#B6E880",
           "#FF97FF",
           "#FECB52"
          ],
          "font": {
           "color": "#2a3f5f"
          },
          "geo": {
           "bgcolor": "white",
           "lakecolor": "white",
           "landcolor": "#E5ECF6",
           "showlakes": true,
           "showland": true,
           "subunitcolor": "white"
          },
          "hoverlabel": {
           "align": "left"
          },
          "hovermode": "closest",
          "mapbox": {
           "style": "light"
          },
          "paper_bgcolor": "white",
          "plot_bgcolor": "#E5ECF6",
          "polar": {
           "angularaxis": {
            "gridcolor": "white",
            "linecolor": "white",
            "ticks": ""
           },
           "bgcolor": "#E5ECF6",
           "radialaxis": {
            "gridcolor": "white",
            "linecolor": "white",
            "ticks": ""
           }
          },
          "scene": {
           "xaxis": {
            "backgroundcolor": "#E5ECF6",
            "gridcolor": "white",
            "gridwidth": 2,
            "linecolor": "white",
            "showbackground": true,
            "ticks": "",
            "zerolinecolor": "white"
           },
           "yaxis": {
            "backgroundcolor": "#E5ECF6",
            "gridcolor": "white",
            "gridwidth": 2,
            "linecolor": "white",
            "showbackground": true,
            "ticks": "",
            "zerolinecolor": "white"
           },
           "zaxis": {
            "backgroundcolor": "#E5ECF6",
            "gridcolor": "white",
            "gridwidth": 2,
            "linecolor": "white",
            "showbackground": true,
            "ticks": "",
            "zerolinecolor": "white"
           }
          },
          "shapedefaults": {
           "line": {
            "color": "#2a3f5f"
           }
          },
          "ternary": {
           "aaxis": {
            "gridcolor": "white",
            "linecolor": "white",
            "ticks": ""
           },
           "baxis": {
            "gridcolor": "white",
            "linecolor": "white",
            "ticks": ""
           },
           "bgcolor": "#E5ECF6",
           "caxis": {
            "gridcolor": "white",
            "linecolor": "white",
            "ticks": ""
           }
          },
          "title": {
           "x": 0.05
          },
          "xaxis": {
           "automargin": true,
           "gridcolor": "white",
           "linecolor": "white",
           "ticks": "",
           "title": {
            "standoff": 15
           },
           "zerolinecolor": "white",
           "zerolinewidth": 2
          },
          "yaxis": {
           "automargin": true,
           "gridcolor": "white",
           "linecolor": "white",
           "ticks": "",
           "title": {
            "standoff": 15
           },
           "zerolinecolor": "white",
           "zerolinewidth": 2
          }
         }
        },
        "title": {
         "font": {
          "size": 32
         },
         "text": "Style Landscape",
         "x": 0.5
        },
        "width": 500,
        "xaxis": {
         "range": [
          0,
          125
         ],
         "tickfont": {
          "size": 18
         },
         "title": {
          "font": {
           "size": 22
          },
          "text": "IBU"
         }
        },
        "yaxis": {
         "range": [
          3.5,
          12
         ],
         "tickfont": {
          "size": 18
         },
         "title": {
          "font": {
           "size": 22
          },
          "text": "ABV"
         }
        }
       }
      },
      "text/html": [
       "<div>\n",
       "        \n",
       "        \n",
       "            <div id=\"9496d16e-a489-47f5-9077-ee85b3a88569\" class=\"plotly-graph-div\" style=\"height:250px; width:500px;\"></div>\n",
       "            <script type=\"text/javascript\">\n",
       "                require([\"plotly\"], function(Plotly) {\n",
       "                    window.PLOTLYENV=window.PLOTLYENV || {};\n",
       "                    \n",
       "                if (document.getElementById(\"9496d16e-a489-47f5-9077-ee85b3a88569\")) {\n",
       "                    Plotly.newPlot(\n",
       "                        '9496d16e-a489-47f5-9077-ee85b3a88569',\n",
       "                        [{\"marker\": {\"color\": [14.0, 8.9, 11.8, 13.7, 16.8, 22.9, 9.2, 5.1, 10.7, 7.4, 36.2, 41.1, 14.5, 4.9, 5.6, 6.6, 5.6, 15.3, 33.6, 5.7, 27.5, 17.8, 5.9, 8.1, 12.6, 7.0, 3.5, 11.8, 11.4, 4.8, 4.3, 13.7, 7.1, 19.2, 5.4, 16.6, 29.0, 13.6, 10.9, 11.1, 22.0, 4.2, 16.0, 20.6, 17.0, 7.3, 4.5, 7.2, 10.5, 23.8, 4.4, 4.6, 22.1, 20.1, 19.5, 5.4, 8.4, 5.5, 36.3, 18.0, 17.4, 18.9, 13.6, 21.8, 17.6, 4.0, 9.7, 30.1, 12.7, 10.7, 11.4, 6.9, 19.4, 13.8, 41.8, 2.0, 11.8, 8.3, 7.0, 5.6, 5.2, 7.0, 3.8, 3.9, 4.2, 4.5, 7.9, 20.8, 11.0, 53.9, 9.8, 19.2, 4.9, 38.6, 15.2, 36.6, 11.5, 6.2, 14.9, 4.2, 5.3, 3.7, 5.1, 5.3, 22.8, 8.6, 7.6, 17.7, 7.5, 15.3, 19.4, 4.4, 11.2, 10.8, 14.5, 15.8, 18.7, 18.1, 15.1, 37.5, 10.5, 19.3, 13.2, 9.2, 7.8, 21.8, 12.9, 20.6, 3.6, 5.0, 29.2, 4.7, 9.4, 15.3, 34.4, 14.7, 14.4, 52.2, 17.5, 6.5, 27.6, 27.9, 17.4, 15.3, 20.9, 14.8, 15.6, 15.0, 6.9, 22.6, 9.3, 16.2, 10.4, 8.2, 34.8, 18.3, 5.3, 15.7, 10.7, 5.3, 16.3, 29.9, 14.7, 4.0, 8.3, 4.9, 11.7, 21.0, 6.9, 39.8, 18.0, 0.5, 6.1, 38.7, 10.5, 20.4, 4.7, 4.8, 19.6, 11.5, 7.3, 22.7, 4.4, 29.4], \"colorbar\": {\"tickfont\": {\"family\": \"Arial\", \"size\": 18}, \"title\": {\"font\": {\"size\": 22}, \"text\": \"SRM\"}}, \"colorscale\": [[0, \"white\"], [0.11428571428571428, \"yellow\"], [0.2571428571428571, \"red\"], [0.45714285714285713, \"brown\"], [1, \"black\"]], \"line\": {\"color\": \"DarkGray\", \"width\": 2}, \"showscale\": true, \"size\": [17.692038992627076, 12.610985298396134, 10.804820237218406, 30.02107155517645, 24.61764336522834, 28.80890489014253, 36.05729719745031, 19.420460811942316, 27.58699740644317, 34.85147223589768, 23.862411081973093, 28.328692054649046, 19.38721875540867, 23.253740487456373, 28.08704357779331, 6.46240625180289, 13.729632740824186, 15.572046726239702, 23.838188441552006, 24.989417877194505, 25.352074426932504, 25.336065800552316, 23.896051783171657, 25.402829707460768, 26.17918803598011, 25.547921301155405, 23.62287161343859, 21.367236149719094, 20.804820237218404, 28.855161355708606, 23.91513509542773, 16.229632740824186, 14.885490775967188, 21.289249595710107, 19.92885888487693, 18.82845365129078, 24.6643331771294, 0.0, 18.0720467262397, 26.224619901098244, 22.40724001334315, 21.689892582354375, 17.14495248781893, 15.0, 17.66522297614443, 16.10735873962182, 26.761920598406498, 10.218657103125848, 12.267226489021297, 12.610985298396134, 18.28220738821089, 19.613725127360937, 18.21350554715562, 19.691292366412497, 22.090125887645176, 17.050447406037968, 24.189892582354375, 15.619818783608963, 25.141594287783, 23.029720736365007, 13.648579046593243, 18.92463902082737, 21.117708065524134, 12.823207542362416, 22.548976820894705, 12.14495248781893, 26.35274153837381, 19.353667466002868, 21.724994928548615, 26.158810933177953, 23.327292195286546, 14.706607623404604, 18.327292195286542, 20.91580553561454, 23.09003547975021, 2.5, 12.92481250360578, 25.47764803632914, 11.148579046593243, 18.70953944316064, 12.267226489021297, 10.42481250360578, 19.03677461028802, 24.90362423599549, 17.848878380996986, 17.555919532571135, 15.374367798761705, 20.782207388210885, 30.39889007014692, 23.36073976978954, 16.10735873962182, 12.385490775967188, 20.486892136055623, 14.826843343907218, 27.836065800552316, 19.943199808749792, 10.0, 10.619818783608963, 12.14495248781893, 26.469443790820524, 15.323207542362416, 6.46240625180289, 15.42481250360578, 19.812031259014454, 7.5, 21.499782105467816, 9.51838730514401, 24.055129548640938, 18.259451870442756, 17.638206088752973, 21.67221246066562, 22.751655847512996, 20.88286706374521, 7.01838730514401, 22.949772725037334, 15.055919532571135, 20.336065800552316, 22.392755103905717, 16.920460811942316, 27.441410308538323, 25.258219521030053, 23.304820237218404, 10.218657103125848, 20.055919532571135, 14.767226489021297, 20.948445917678153, 12.823207542362416, 12.267226489021297, 10.0, 12.14495248781893, 8.648579046593243, 20.631663581125622, 5.804820237218405, 13.480793556946901, 28.5221510900619, 12.385490775967188, 19.675911798958513, 28.3579642886197, 10.980793556946901, 31.000864491336735, 19.216251317958047, 19.582225035411852, 18.565661886755244, 21.74241881558572, 16.716251317958047, 17.5, 13.304820237218406, 15.89388001154521, 13.480793556946901, 19.16333979296294, 24.064272107661164, 31.622578952766666, 14.03677461028802, 19.319801136407996, 23.072046726239705, 16.148579046593245, 15.055919532571135, 21.895558036816812, 20.666966351737255, 20.17865590639156, 15.165222976144431, 8.648579046593243, 26.16646584429811, 17.471711716930415, 23.377347953866078, 17.692038992627076, 22.04245905813845, 23.843046001346487, 12.823207542362416, 27.380032912223715, 20.138206088752973, 2.5, 17.267226489021297, 12.01838730514401, 23.42126615376923, 17.692038992627076, 24.737044408269856, 27.966833222822167, 21.759758933611657, 13.648579046593243, 13.565661886755244, 18.023633414072375, 27.787609125404273, 19.420460811942316]}, \"mode\": \"markers\", \"text\": [\"altbier\", \"alternative grain beer\", \"alternative sugar beer\", \"american amber ale\", \"american barleywine\", \"american brown ale\", \"american ipa\", \"american lager\", \"american light lager\", \"american pale ale\", \"american porter\", \"american stout\", \"american strong ale\", \"american wheat beer\", \"american wheat or rye beer\", \"apple wine\", \"australian sparkling ale\", \"autumn seasonal beer\", \"baltic porter\", \"belgian blond ale\", \"belgian dark strong ale\", \"belgian dubbel\", \"belgian golden strong ale\", \"belgian pale ale\", \"belgian specialty ale\", \"belgian tripel\", \"berliner weisse\", \"best bitter\", \"bi\\u00e8re de garde\", \"blonde ale\", \"bohemian pilsener\", \"braggot\", \"brett beer\", \"british brown ale\", \"british golden ale\", \"british strong ale\", \"brown porter\", \"burton ale\", \"california common\", \"california common beer\", \"christmas/winter specialty spiced beer\", \"classic american pilsner\", \"classic rauchbier\", \"classic style smoked beer\", \"clone beer\", \"common cider\", \"cream ale\", \"cyser (apple melomel)\", \"czech amber lager\", \"czech dark lager\", \"czech pale lager\", \"czech premium pale lager\", \"dark american lager\", \"dark mild\", \"doppelbock\", \"dortmunder export\", \"double ipa\", \"dry mead\", \"dry stout\", \"dunkelweizen\", \"dunkles bock\", \"dunkles weissbier\", \"d\\u00fcsseldorf altbier\", \"eisbock\", \"english barleywine\", \"english cider\", \"english ipa\", \"english porter\", \"experimental beer\", \"extra special/strong bitter (english pale ale)\", \"extra special/strong bitter (esb)\", \"festbier\", \"flanders brown ale/oud bruin\", \"flanders red ale\", \"foreign extra stout\", \"french cider\", \"fruit and spice beer\", \"fruit beer\", \"fruit cider\", \"fruit lambic\", \"german helles exportbier\", \"german leichtbier\", \"german pils\", \"german pilsner (pils)\", \"gose\", \"gueuze\", \"helles bock\", \"holiday/winter special spiced beer\", \"imperial ipa\", \"imperial stout\", \"international amber lager\", \"international dark lager\", \"international pale lager\", \"irish extra stout\", \"irish red ale\", \"irish stout\", \"kellerbier: amber kellerbier\", \"kellerbier: pale kellerbier\", \"kentucky common\", \"k\\u00f6lsch\", \"lambic\", \"lichtenhainer\", \"light american lager\", \"lite american lager\", \"london brown ale\", \"maibock/helles bock\", \"metheglin\", \"mild\", \"mixed-fermentation sour beer\", \"mixed-style beer\", \"munich dunkel\", \"munich helles\", \"m\\u00e4rzen\", \"new england cider\", \"no profile selected\", \"north german altbier\", \"northern english brown\", \"northern english brown ale\", \"northern german altbier\", \"oatmeal stout\", \"oktoberfest/m\\u00e4rzen\", \"old ale\", \"open category mead\", \"ordinary bitter\", \"other fruit melomel\", \"other smoked beer\", \"other specialty cider or perry\", \"oud bruin\", \"piwo grodziskie\", \"pre-prohibition lager\", \"pre-prohibition porter\", \"premium american lager\", \"pyment (grape melomel)\", \"rauchbier\", \"robust porter\", \"roggenbier\", \"roggenbier (german rye beer)\", \"russian imperial stout\", \"sahti\", \"saison\", \"schwarzbier\", \"schwarzbier (black beer)\", \"scottish export\", \"scottish export 80/-\", \"scottish heavy\", \"scottish heavy 70/-\", \"scottish light\", \"scottish light 60/-\", \"semi-sweet mead\", \"southern english brown\", \"special/best/premium bitter\", \"specialty beer\", \"specialty fruit beer\", \"specialty ipa: belgian ipa\", \"specialty ipa: black ipa\", \"specialty ipa: brown ipa\", \"specialty ipa: new england ipa\", \"specialty ipa: red ipa\", \"specialty ipa: rye ipa\", \"specialty ipa: white ipa\", \"specialty smoked beer\", \"specialty wood-aged beer\", \"spice, herb, or vegetable beer\", \"standard american lager\", \"standard/ordinary bitter\", \"straight (unblended) lambic\", \"strong bitter\", \"strong scotch ale\", \"sweet mead\", \"sweet stout\", \"traditional bock\", \"traditional perry\", \"trappist single\", \"tropical stout\", \"vienna lager\", \"wee heavy\", \"weissbier\", \"weizen/weissbier\", \"weizenbock\", \"wheatwine\", \"wild specialty beer\", \"winter seasonal beer\", \"witbier\", \"wood-aged beer\"], \"type\": \"scatter\", \"x\": [37.1, 38.3, 23.6, null, 90.0, 38.1, 80.1, 22.1, 30.2, null, 36.2, 46.4, 68.4, 26.7, 32.4, 10.0, 32.5, 24.7, 36.7, 25.8, 30.3, 24.0, 30.8, 31.7, 40.8, 31.5, 8.2, 34.0, 25.5, 26.7, 39.7, 17.0, 33.8, 26.9, 34.2, 41.8, 30.4, 42.3, 38.5, 40.9, 39.8, 33.4, 27.5, 30.6, 40.9, 1.2, 22.8, 1.6, 26.9, 29.8, 29.8, 38.0, 30.2, 19.8, 26.2, 30.8, 108.0, 3.8, 37.9, 19.6, 23.4, 15.3, 48.0, 31.7, 58.6, 3.6, 56.5, 31.3, 35.8, 44.5, 39.0, 25.5, 22.0, 15.2, 3606604012360.2, 0.0, 20.2, 25.3, 0.2, 12.1, 27.3, 34.2, 31.7, 35.6, 8.6, 12.9, 28.0, 31.8, 119.6, 57.7, 22.1, 23.6, 29.1, 38.0, 29.8, 33.1, 27.6, 26.2, 19.6, 27.0, 7.9, 7.2, 19.2, 26.3, 51.8, 32.8, 2.2, 23.1, 15.7, 40.4, 25.2, 21.5, 22.0, 1.2, 58.1, 34.5, 27.5, 28.9, 38.0, 34.3, 27.5, 47.8, 7.2, 30.8, 1.0, 38.5, 6.3, 15.1, 19.5, 33.8, 36.3, 27.5, 8.5, 24.5, 39.3, 17.6, 24.6, 67.5, 10.0, 31.2, 27.8, 31.4, 24.0, 27.2, 25.6, 24.1, 21.9, 20.2, 0.8, 23.1, 34.8, 53.3, 26.2, 68.5, 77.6, 61.0, 77.6, 64.9, 64.9, 439.7, 30.6, 31.3, 29.7, 19.9, 33.1, 9.2, 38.6, 31.3, 10.3, 30.0, 25.5, 0.0, 28.0, 37.8, 26.6, 26.6, 15.8, 16.8, 24.7, 42.8, 20.1, 31.8, 19.3, 49.8], \"y\": [5.2, 5.5, 7.4, 5.8, 10.5, 5.9, 6.5, 5.2, 5.8, 5.6, 6.3, 6.6, 7.8, 5.4, 5.3, 9.2, 5.0, 7.1, 7.5, 6.6, 9.5, 6.9, 8.1, 5.6, 6.7, 8.8, 4.0, 5.3, 7.0, 5.0, 5.3, 9.5, 6.2, 5.3, 4.7, 6.7, 5.4, 6.6, 5.1, 5.7, 7.2, 5.5, 5.8, 6.0, 6.8, 6.2, 5.2, 9.7, 5.4, 5.2, 5.2, 6.1, 5.6, 4.1, 8.0, 5.4, 8.2, 10.1, 5.1, 5.6, 6.7, 5.7, 5.3, 9.3, 10.4, 5.9, 6.0, 5.4, 6.6, 5.4, 5.4, 5.8, 6.4, 6.1, 6.9, 6.5, 6.0, 5.8, 8.2, 5.7, 5.4, 4.8, 5.2, 5.1, 4.7, 5.3, 6.7, 7.3, 8.3, 10.0, 5.2, 5.5, 5.4, 6.1, 5.4, 4.9, 5.2, 5.0, 4.9, 5.0, 6.0, 4.3, 4.7, 4.8, 5.2, 6.7, 12.6, 4.1, 5.9, 6.4, 5.3, 5.0, 5.9, 6.7, 6.5, 5.5, 5.3, 5.0, 5.3, 6.0, 5.6, 7.6, 8.7, 4.1, 11.4, 6.0, 6.8, 6.8, 3.6, 5.6, 5.8, 5.3, 9.4, 5.7, 6.2, 5.4, 5.5, 9.8, 16.6, 6.1, 5.3, 5.2, 5.8, 5.3, 6.4, 4.8, 5.2, 4.0, 10.9, 4.7, 4.5, 6.6, 5.8, 7.1, 7.0, 6.5, 6.4, 6.5, 6.7, 6.2, 6.2, 8.1, 6.6, 4.9, 4.2, 5.7, 5.4, 8.2, 12.1, 6.1, 6.4, 6.5, 5.5, 6.8, 5.1, 8.4, 5.4, 5.2, 8.4, 9.7, 5.8, 7.0, 5.2, 8.6]}],\n",
       "                        {\"autosize\": false, \"font\": {\"color\": \"Black\", \"family\": \"Arial\"}, \"height\": 250, \"template\": {\"data\": {\"bar\": [{\"error_x\": {\"color\": \"#2a3f5f\"}, \"error_y\": {\"color\": \"#2a3f5f\"}, \"marker\": {\"line\": {\"color\": \"#E5ECF6\", \"width\": 0.5}}, \"type\": \"bar\"}], \"barpolar\": [{\"marker\": {\"line\": {\"color\": \"#E5ECF6\", \"width\": 0.5}}, \"type\": \"barpolar\"}], \"carpet\": [{\"aaxis\": {\"endlinecolor\": \"#2a3f5f\", \"gridcolor\": \"white\", \"linecolor\": \"white\", \"minorgridcolor\": \"white\", \"startlinecolor\": \"#2a3f5f\"}, \"baxis\": {\"endlinecolor\": \"#2a3f5f\", \"gridcolor\": \"white\", \"linecolor\": \"white\", \"minorgridcolor\": \"white\", \"startlinecolor\": \"#2a3f5f\"}, \"type\": \"carpet\"}], \"choropleth\": [{\"colorbar\": {\"outlinewidth\": 0, \"ticks\": \"\"}, \"type\": \"choropleth\"}], \"contour\": [{\"colorbar\": {\"outlinewidth\": 0, \"ticks\": \"\"}, \"colorscale\": [[0.0, \"#0d0887\"], [0.1111111111111111, \"#46039f\"], [0.2222222222222222, \"#7201a8\"], [0.3333333333333333, \"#9c179e\"], [0.4444444444444444, \"#bd3786\"], [0.5555555555555556, \"#d8576b\"], [0.6666666666666666, \"#ed7953\"], [0.7777777777777778, \"#fb9f3a\"], [0.8888888888888888, \"#fdca26\"], [1.0, \"#f0f921\"]], \"type\": \"contour\"}], \"contourcarpet\": [{\"colorbar\": {\"outlinewidth\": 0, \"ticks\": \"\"}, \"type\": \"contourcarpet\"}], \"heatmap\": [{\"colorbar\": {\"outlinewidth\": 0, \"ticks\": \"\"}, \"colorscale\": [[0.0, \"#0d0887\"], [0.1111111111111111, \"#46039f\"], [0.2222222222222222, \"#7201a8\"], [0.3333333333333333, \"#9c179e\"], [0.4444444444444444, \"#bd3786\"], [0.5555555555555556, \"#d8576b\"], [0.6666666666666666, \"#ed7953\"], [0.7777777777777778, \"#fb9f3a\"], [0.8888888888888888, \"#fdca26\"], [1.0, \"#f0f921\"]], \"type\": \"heatmap\"}], \"heatmapgl\": [{\"colorbar\": {\"outlinewidth\": 0, \"ticks\": \"\"}, \"colorscale\": [[0.0, \"#0d0887\"], [0.1111111111111111, \"#46039f\"], [0.2222222222222222, \"#7201a8\"], [0.3333333333333333, \"#9c179e\"], [0.4444444444444444, \"#bd3786\"], [0.5555555555555556, \"#d8576b\"], [0.6666666666666666, \"#ed7953\"], [0.7777777777777778, \"#fb9f3a\"], [0.8888888888888888, \"#fdca26\"], [1.0, \"#f0f921\"]], \"type\": \"heatmapgl\"}], \"histogram\": [{\"marker\": {\"colorbar\": {\"outlinewidth\": 0, \"ticks\": \"\"}}, \"type\": \"histogram\"}], \"histogram2d\": [{\"colorbar\": {\"outlinewidth\": 0, \"ticks\": \"\"}, \"colorscale\": [[0.0, \"#0d0887\"], [0.1111111111111111, \"#46039f\"], [0.2222222222222222, \"#7201a8\"], [0.3333333333333333, \"#9c179e\"], [0.4444444444444444, \"#bd3786\"], [0.5555555555555556, \"#d8576b\"], [0.6666666666666666, \"#ed7953\"], [0.7777777777777778, \"#fb9f3a\"], [0.8888888888888888, \"#fdca26\"], [1.0, \"#f0f921\"]], \"type\": \"histogram2d\"}], \"histogram2dcontour\": [{\"colorbar\": {\"outlinewidth\": 0, \"ticks\": \"\"}, \"colorscale\": [[0.0, \"#0d0887\"], [0.1111111111111111, \"#46039f\"], [0.2222222222222222, \"#7201a8\"], [0.3333333333333333, \"#9c179e\"], [0.4444444444444444, \"#bd3786\"], [0.5555555555555556, \"#d8576b\"], [0.6666666666666666, \"#ed7953\"], [0.7777777777777778, \"#fb9f3a\"], [0.8888888888888888, \"#fdca26\"], [1.0, \"#f0f921\"]], \"type\": \"histogram2dcontour\"}], \"mesh3d\": [{\"colorbar\": {\"outlinewidth\": 0, \"ticks\": \"\"}, \"type\": \"mesh3d\"}], \"parcoords\": [{\"line\": {\"colorbar\": {\"outlinewidth\": 0, \"ticks\": \"\"}}, \"type\": \"parcoords\"}], \"pie\": [{\"automargin\": true, \"type\": \"pie\"}], \"scatter\": [{\"marker\": {\"colorbar\": {\"outlinewidth\": 0, \"ticks\": \"\"}}, \"type\": \"scatter\"}], \"scatter3d\": [{\"line\": {\"colorbar\": {\"outlinewidth\": 0, \"ticks\": \"\"}}, \"marker\": {\"colorbar\": {\"outlinewidth\": 0, \"ticks\": \"\"}}, \"type\": \"scatter3d\"}], \"scattercarpet\": [{\"marker\": {\"colorbar\": {\"outlinewidth\": 0, \"ticks\": \"\"}}, \"type\": \"scattercarpet\"}], \"scattergeo\": [{\"marker\": {\"colorbar\": {\"outlinewidth\": 0, \"ticks\": \"\"}}, \"type\": \"scattergeo\"}], \"scattergl\": [{\"marker\": {\"colorbar\": {\"outlinewidth\": 0, \"ticks\": \"\"}}, \"type\": \"scattergl\"}], \"scattermapbox\": [{\"marker\": {\"colorbar\": {\"outlinewidth\": 0, \"ticks\": \"\"}}, \"type\": \"scattermapbox\"}], \"scatterpolar\": [{\"marker\": {\"colorbar\": {\"outlinewidth\": 0, \"ticks\": \"\"}}, \"type\": \"scatterpolar\"}], \"scatterpolargl\": [{\"marker\": {\"colorbar\": {\"outlinewidth\": 0, \"ticks\": \"\"}}, \"type\": \"scatterpolargl\"}], \"scatterternary\": [{\"marker\": {\"colorbar\": {\"outlinewidth\": 0, \"ticks\": \"\"}}, \"type\": \"scatterternary\"}], \"surface\": [{\"colorbar\": {\"outlinewidth\": 0, \"ticks\": \"\"}, \"colorscale\": [[0.0, \"#0d0887\"], [0.1111111111111111, \"#46039f\"], [0.2222222222222222, \"#7201a8\"], [0.3333333333333333, \"#9c179e\"], [0.4444444444444444, \"#bd3786\"], [0.5555555555555556, \"#d8576b\"], [0.6666666666666666, \"#ed7953\"], [0.7777777777777778, \"#fb9f3a\"], [0.8888888888888888, \"#fdca26\"], [1.0, \"#f0f921\"]], \"type\": \"surface\"}], \"table\": [{\"cells\": {\"fill\": {\"color\": \"#EBF0F8\"}, \"line\": {\"color\": \"white\"}}, \"header\": {\"fill\": {\"color\": \"#C8D4E3\"}, \"line\": {\"color\": \"white\"}}, \"type\": \"table\"}]}, \"layout\": {\"annotationdefaults\": {\"arrowcolor\": \"#2a3f5f\", \"arrowhead\": 0, \"arrowwidth\": 1}, \"coloraxis\": {\"colorbar\": {\"outlinewidth\": 0, \"ticks\": \"\"}}, \"colorscale\": {\"diverging\": [[0, \"#8e0152\"], [0.1, \"#c51b7d\"], [0.2, \"#de77ae\"], [0.3, \"#f1b6da\"], [0.4, \"#fde0ef\"], [0.5, \"#f7f7f7\"], [0.6, \"#e6f5d0\"], [0.7, \"#b8e186\"], [0.8, \"#7fbc41\"], [0.9, \"#4d9221\"], [1, \"#276419\"]], \"sequential\": [[0.0, \"#0d0887\"], [0.1111111111111111, \"#46039f\"], [0.2222222222222222, \"#7201a8\"], [0.3333333333333333, \"#9c179e\"], [0.4444444444444444, \"#bd3786\"], [0.5555555555555556, \"#d8576b\"], [0.6666666666666666, \"#ed7953\"], [0.7777777777777778, \"#fb9f3a\"], [0.8888888888888888, \"#fdca26\"], [1.0, \"#f0f921\"]], \"sequentialminus\": [[0.0, \"#0d0887\"], [0.1111111111111111, \"#46039f\"], [0.2222222222222222, \"#7201a8\"], [0.3333333333333333, \"#9c179e\"], [0.4444444444444444, \"#bd3786\"], [0.5555555555555556, \"#d8576b\"], [0.6666666666666666, \"#ed7953\"], [0.7777777777777778, \"#fb9f3a\"], [0.8888888888888888, \"#fdca26\"], [1.0, \"#f0f921\"]]}, \"colorway\": [\"#636efa\", \"#EF553B\", \"#00cc96\", \"#ab63fa\", \"#FFA15A\", \"#19d3f3\", \"#FF6692\", \"#B6E880\", \"#FF97FF\", \"#FECB52\"], \"font\": {\"color\": \"#2a3f5f\"}, \"geo\": {\"bgcolor\": \"white\", \"lakecolor\": \"white\", \"landcolor\": \"#E5ECF6\", \"showlakes\": true, \"showland\": true, \"subunitcolor\": \"white\"}, \"hoverlabel\": {\"align\": \"left\"}, \"hovermode\": \"closest\", \"mapbox\": {\"style\": \"light\"}, \"paper_bgcolor\": \"white\", \"plot_bgcolor\": \"#E5ECF6\", \"polar\": {\"angularaxis\": {\"gridcolor\": \"white\", \"linecolor\": \"white\", \"ticks\": \"\"}, \"bgcolor\": \"#E5ECF6\", \"radialaxis\": {\"gridcolor\": \"white\", \"linecolor\": \"white\", \"ticks\": \"\"}}, \"scene\": {\"xaxis\": {\"backgroundcolor\": \"#E5ECF6\", \"gridcolor\": \"white\", \"gridwidth\": 2, \"linecolor\": \"white\", \"showbackground\": true, \"ticks\": \"\", \"zerolinecolor\": \"white\"}, \"yaxis\": {\"backgroundcolor\": \"#E5ECF6\", \"gridcolor\": \"white\", \"gridwidth\": 2, \"linecolor\": \"white\", \"showbackground\": true, \"ticks\": \"\", \"zerolinecolor\": \"white\"}, \"zaxis\": {\"backgroundcolor\": \"#E5ECF6\", \"gridcolor\": \"white\", \"gridwidth\": 2, \"linecolor\": \"white\", \"showbackground\": true, \"ticks\": \"\", \"zerolinecolor\": \"white\"}}, \"shapedefaults\": {\"line\": {\"color\": \"#2a3f5f\"}}, \"ternary\": {\"aaxis\": {\"gridcolor\": \"white\", \"linecolor\": \"white\", \"ticks\": \"\"}, \"baxis\": {\"gridcolor\": \"white\", \"linecolor\": \"white\", \"ticks\": \"\"}, \"bgcolor\": \"#E5ECF6\", \"caxis\": {\"gridcolor\": \"white\", \"linecolor\": \"white\", \"ticks\": \"\"}}, \"title\": {\"x\": 0.05}, \"xaxis\": {\"automargin\": true, \"gridcolor\": \"white\", \"linecolor\": \"white\", \"ticks\": \"\", \"title\": {\"standoff\": 15}, \"zerolinecolor\": \"white\", \"zerolinewidth\": 2}, \"yaxis\": {\"automargin\": true, \"gridcolor\": \"white\", \"linecolor\": \"white\", \"ticks\": \"\", \"title\": {\"standoff\": 15}, \"zerolinecolor\": \"white\", \"zerolinewidth\": 2}}}, \"title\": {\"font\": {\"size\": 32}, \"text\": \"Style Landscape\", \"x\": 0.5}, \"width\": 500, \"xaxis\": {\"range\": [0, 125], \"tickfont\": {\"size\": 18}, \"title\": {\"font\": {\"size\": 22}, \"text\": \"IBU\"}}, \"yaxis\": {\"range\": [3.5, 12], \"tickfont\": {\"size\": 18}, \"title\": {\"font\": {\"size\": 22}, \"text\": \"ABV\"}}},\n",
       "                        {\"responsive\": true}\n",
       "                    ).then(function(){\n",
       "                            \n",
       "var gd = document.getElementById('9496d16e-a489-47f5-9077-ee85b3a88569');\n",
       "var x = new MutationObserver(function (mutations, observer) {{\n",
       "        var display = window.getComputedStyle(gd).display;\n",
       "        if (!display || display === 'none') {{\n",
       "            console.log([gd, 'removed!']);\n",
       "            Plotly.purge(gd);\n",
       "            observer.disconnect();\n",
       "        }}\n",
       "}});\n",
       "\n",
       "// Listen for the removal of the full notebook cells\n",
       "var notebookContainer = gd.closest('#notebook-container');\n",
       "if (notebookContainer) {{\n",
       "    x.observe(notebookContainer, {childList: true});\n",
       "}}\n",
       "\n",
       "// Listen for the clearing of the current output cell\n",
       "var outputEl = gd.closest('.output');\n",
       "if (outputEl) {{\n",
       "    x.observe(outputEl, {childList: true});\n",
       "}}\n",
       "\n",
       "                        })\n",
       "                };\n",
       "                });\n",
       "            </script>\n",
       "        </div>"
      ]
     },
     "metadata": {},
     "output_type": "display_data"
    }
   ],
   "source": [
    "bf_bt = bf.append(bt)\n",
    "fig = plot_bubble(bf_bt)"
   ]
  },
  {
   "cell_type": "code",
   "execution_count": 188,
   "metadata": {},
   "outputs": [],
   "source": [
    "fig_html_export = \"../docs/_includes/ibu_abv_color_test.html\"\n",
    "with open(fig_html_export, \"w\") as f:\n",
    "    f.write(io.to_html(fig))"
   ]
  },
  {
   "cell_type": "code",
   "execution_count": 15,
   "metadata": {},
   "outputs": [
    {
     "data": {
      "application/vnd.plotly.v1+json": {
       "config": {
        "linkText": "Export to plot.ly",
        "plotlyServerURL": "https://plot.ly",
        "showLink": false
       },
       "data": [
        {
         "marker": {
          "color": [
           13.313631990386678,
           16.60767601409785,
           22.311716556005976,
           9.875454483087442,
           7.5839586398153225,
           40.87170488204041,
           5.607918558462922,
           33.48397673220363,
           5.2275771725492755,
           24.116382077670334,
           17.8751948841857,
           5.603654031309836,
           8.01954519855565,
           12.724424966788469,
           6.206616599000855,
           3.2169934971764826,
           10.786784309434886,
           4.449957526899065,
           4.255942102255773,
           27.592546139677683,
           10.393287182007212,
           22.022113087745787,
           3.8941213429519466,
           14.959425549857697,
           4.373220893742557,
           21.926310654110022,
           19.526146374212335,
           5.4995179448329194,
           34.99399569198927,
           18.245974429600217,
           13.523086354583663,
           25.828271751166664,
           16.99211489160438,
           9.957956667182968,
           10.653304970404351,
           18.983714840333445,
           13.186381562138275,
           40.856473264858145,
           8.902177744428206,
           5.710806897230484,
           3.710572180350322,
           4.604514634568639,
           11.084494937274426,
           14.709124501219025,
           4.193889754376909,
           5.285417279695563,
           8.506618852290828,
           17.03817908065479,
           18.957277204057657,
           4.36409364324984,
           18.11861624989615,
           15.1479312684529,
           37.100976995612804,
           10.550292231004265,
           18.652450733905283,
           21.089893379933226,
           4.6676458070244635,
           33.74812017762328,
           14.124098546622994,
           51.19268627086204,
           6.387551622394638,
           27.936080602662198,
           14.972565636052348,
           14.642575206991214,
           14.5968043617676,
           22.354034078994466,
           9.352214375341253,
           16.202994503731464,
           15.161593109837211,
           4.090467284323847,
           8.294918550739016,
           4.925979593245691,
           20.762346194657834,
           39.32547829518985,
           17.640637121434217,
           10.217223856275346,
           4.720174655250505,
           15.279539258727048,
           4.2678406999909155,
           29.283596039372224
          ],
          "colorbar": {
           "title": {
            "text": "SRM"
           }
          },
          "colorscale": [
           [
            0,
            "white"
           ],
           [
            0.11428571428571428,
            "yellow"
           ],
           [
            0.2571428571428571,
            "red"
           ],
           [
            0.45714285714285713,
            "brown"
           ],
           [
            1,
            "black"
           ]
          ],
          "showscale": true,
          "size": [
           22.182870772647213,
           18.438337040924324,
           21.69098010188875,
           26.737012923015385,
           26.08571267607171,
           20.797487383876387,
           21.701936301964878,
           17.28771237954945,
           18.174925682500678,
           18.500596835812665,
           18.528885200453203,
           17.43535284613279,
           18.185514281839705,
           19.96313456380603,
           18.621225563319058,
           16.616678060278815,
           14.45763738099176,
           20.72607926051303,
           17.523102464888957,
           18.01685724414116,
           17.60179979984061,
           17.92579201067452,
           15.44219837741437,
           12.607561496354206,
           19.503088118178198,
           13.229419688230417,
           15.65309697458183,
           12.339850002884624,
           18.481582664323913,
           17.3519140658835,
           15.920003864136161,
           7.614709844115208,
           16.227484332098378,
           19.043200879447454,
           20.92704874654236,
           13.665780028329483,
           15.093788919775273,
           15.977369373544331,
           18.827255858048346,
           13.482933972802295,
           18.227484332098378,
           12.132178380915544,
           23.236771004517212,
           20.18815537134381,
           18.94335042878409,
           15.849625007211563,
           15.977369373544331,
           18.061334272493884,
           14.552248810548475,
           15.627562382434075,
           17.914204083124574,
           13.536368649553852,
           20.16429808270774,
           19.082193230699048,
           16.894166452419306,
           15.469419240451677,
           15.244103638912753,
           21.703498082832116,
           14.319742673556778,
           21.43535284613279,
           22.959560528058198,
           15.665780028329483,
           16.524189690740357,
           13.015589280397393,
           11.715961990255144,
           13.34485068394299,
           17.63396724651076,
           25.107738486392137,
           19.73146654170352,
           12.715104009236168,
           16.835705029771795,
           12.679700005769249,
           18.061334272493884,
           20.180224839328577,
           14.784634845557521,
           16.428638241601533,
           21.00566360813349,
           15.65309697458183,
           20.421342687571244,
           14.514775685385304
          ]
         },
         "mode": "markers",
         "text": [
          "american amber ale",
          "american barleywine",
          "american brown ale",
          "american ipa",
          "american pale ale",
          "american stout",
          "american wheat or rye beer",
          "baltic porter",
          "belgian blond ale",
          "belgian dark strong ale",
          "belgian dubbel",
          "belgian golden strong ale",
          "belgian pale ale",
          "belgian specialty ale",
          "belgian tripel",
          "berliner weisse",
          "bière de garde",
          "blonde ale",
          "bohemian pilsener",
          "brown porter",
          "california common beer",
          "christmas/winter specialty spiced beer",
          "classic american pilsner",
          "classic rauchbier",
          "cream ale",
          "dark american lager",
          "doppelbock",
          "dortmunder export",
          "dry stout",
          "dunkelweizen",
          "düsseldorf altbier",
          "eisbock",
          "english barleywine",
          "english ipa",
          "extra special/strong bitter (english pale ale)",
          "flanders brown ale/oud bruin",
          "flanders red ale",
          "foreign extra stout",
          "fruit beer",
          "fruit lambic",
          "german pilsner (pils)",
          "gueuze",
          "imperial ipa",
          "irish red ale",
          "kölsch",
          "lite american lager",
          "maibock/helles bock",
          "mild",
          "munich dunkel",
          "munich helles",
          "northern english brown ale",
          "northern german altbier",
          "oatmeal stout",
          "oktoberfest/märzen",
          "old ale",
          "other smoked beer",
          "premium american lager",
          "robust porter",
          "roggenbier (german rye beer)",
          "russian imperial stout",
          "saison",
          "schwarzbier (black beer)",
          "scottish export 80/-",
          "scottish heavy 70/-",
          "scottish light 60/-",
          "southern english brown",
          "special/best/premium bitter",
          "specialty beer",
          "spice, herb, or vegetable beer",
          "standard american lager",
          "standard/ordinary bitter",
          "straight (unblended) lambic",
          "strong scotch ale",
          "sweet stout",
          "traditional bock",
          "vienna lager",
          "weizen/weissbier",
          "weizenbock",
          "witbier",
          "wood-aged beer"
         ],
         "type": "scatter",
         "x": [
          null,
          96.29698829143447,
          40.23259152014543,
          81.16424046490295,
          null,
          48.50860545282495,
          33.559731740336076,
          39.075369628265726,
          26.59708568195624,
          32.41919246692919,
          25.198788015029265,
          32.92582043037245,
          34.76874567365484,
          43.93131170587485,
          34.32464318412044,
          9.164729175600176,
          26.887584063780157,
          26.706529025923665,
          40.27554977951738,
          31.143518934002042,
          44.36314804791293,
          39.757386499858875,
          36.09146084882619,
          28.00526640786816,
          24.396922484776397,
          33.76141776992304,
          27.64587851663298,
          34.08596479909514,
          39.31061118005912,
          19.588047308442373,
          50.91827989981497,
          35.85872149171058,
          62.329542914928325,
          57.75552303062333,
          44.486721116163274,
          23.206639904296818,
          16.320603925866102,
          8562134722194.7,
          25.540425622853117,
          12.80691234246511,
          37.13452711829178,
          13.735950509440855,
          123.12798051454857,
          32.91949161941435,
          29.096564953487228,
          26.343665333141857,
          35.4272170443934,
          22.94042164900571,
          27.390840586589917,
          22.871257203364735,
          28.919116865517523,
          37.99683606112663,
          36.43698747108908,
          28.428917362658456,
          52.548906933216,
          39.062324130031534,
          28.33843053334453,
          40.74626422879776,
          25.22459102740427,
          70.84624298175822,
          33.27732251331558,
          31.38293929820057,
          28.36773020059115,
          24.236602560484847,
          19.858303225964328,
          21.69572817115503,
          35.86452989722591,
          54.31487669630868,
          30.905210701778056,
          22.229979687089706,
          33.036630156178646,
          10.125778414981747,
          32.6622043461599,
          31.578521465064455,
          26.79439642153752,
          28.949402728932426,
          17.21764244127579,
          25.820307777463693,
          20.89830434294592,
          53.74989788911599
         ],
         "y": [
          5.7511561297520055,
          10.441874981568509,
          5.840193349068205,
          6.554009776209206,
          5.57733015632867,
          6.61699646864297,
          5.3253895008524195,
          7.445854448219969,
          6.432730222835302,
          9.148777871191825,
          6.903057159418091,
          8.153236717378888,
          5.620183325841463,
          6.824114915870416,
          8.466717421043523,
          3.6872409180955765,
          6.917174028918796,
          4.934224195601312,
          5.123112349778608,
          5.360998460070309,
          5.0808891798563,
          7.151969626993733,
          5.346367409221114,
          5.664352932737022,
          5.154209147488337,
          5.468356615087937,
          7.822303585899943,
          5.431758960110393,
          4.847883085494834,
          5.507887446480404,
          5.233179573327251,
          9.493508905095888,
          10.118511535896145,
          5.963413210134558,
          5.353706190202948,
          6.394488698527326,
          5.976255804151216,
          6.716192523508623,
          5.926178974569802,
          5.682914339996026,
          5.019517141321556,
          5.403382775579182,
          8.319656339653237,
          5.435862371468203,
          4.970655931065699,
          4.772076198194023,
          6.668090401708342,
          3.8305048805399675,
          5.1356627297398125,
          4.928789015449176,
          5.039244583666668,
          5.301578293472951,
          5.8527779066166445,
          5.567512947715346,
          7.677398443754818,
          6.00721914666166,
          5.166476950695726,
          6.134537972933034,
          5.369790560239904,
          9.6964388555546,
          6.112049338750573,
          5.195814153148085,
          5.282055080145703,
          4.712792997451311,
          3.8420021758889757,
          4.4591894421248925,
          4.4139077549978705,
          6.564388035617747,
          6.659670967381838,
          4.83466502807359,
          3.863564999671382,
          5.5057975796348515,
          8.135236187616753,
          6.03586841413219,
          6.458248575186347,
          5.0062850769031035,
          5.128584566485497,
          7.455913257394932,
          5.209690075450298,
          8.328999900537344
         ]
        }
       ],
       "layout": {
        "template": {
         "data": {
          "bar": [
           {
            "error_x": {
             "color": "#2a3f5f"
            },
            "error_y": {
             "color": "#2a3f5f"
            },
            "marker": {
             "line": {
              "color": "#E5ECF6",
              "width": 0.5
             }
            },
            "type": "bar"
           }
          ],
          "barpolar": [
           {
            "marker": {
             "line": {
              "color": "#E5ECF6",
              "width": 0.5
             }
            },
            "type": "barpolar"
           }
          ],
          "carpet": [
           {
            "aaxis": {
             "endlinecolor": "#2a3f5f",
             "gridcolor": "white",
             "linecolor": "white",
             "minorgridcolor": "white",
             "startlinecolor": "#2a3f5f"
            },
            "baxis": {
             "endlinecolor": "#2a3f5f",
             "gridcolor": "white",
             "linecolor": "white",
             "minorgridcolor": "white",
             "startlinecolor": "#2a3f5f"
            },
            "type": "carpet"
           }
          ],
          "choropleth": [
           {
            "colorbar": {
             "outlinewidth": 0,
             "ticks": ""
            },
            "type": "choropleth"
           }
          ],
          "contour": [
           {
            "colorbar": {
             "outlinewidth": 0,
             "ticks": ""
            },
            "colorscale": [
             [
              0,
              "#0d0887"
             ],
             [
              0.1111111111111111,
              "#46039f"
             ],
             [
              0.2222222222222222,
              "#7201a8"
             ],
             [
              0.3333333333333333,
              "#9c179e"
             ],
             [
              0.4444444444444444,
              "#bd3786"
             ],
             [
              0.5555555555555556,
              "#d8576b"
             ],
             [
              0.6666666666666666,
              "#ed7953"
             ],
             [
              0.7777777777777778,
              "#fb9f3a"
             ],
             [
              0.8888888888888888,
              "#fdca26"
             ],
             [
              1,
              "#f0f921"
             ]
            ],
            "type": "contour"
           }
          ],
          "contourcarpet": [
           {
            "colorbar": {
             "outlinewidth": 0,
             "ticks": ""
            },
            "type": "contourcarpet"
           }
          ],
          "heatmap": [
           {
            "colorbar": {
             "outlinewidth": 0,
             "ticks": ""
            },
            "colorscale": [
             [
              0,
              "#0d0887"
             ],
             [
              0.1111111111111111,
              "#46039f"
             ],
             [
              0.2222222222222222,
              "#7201a8"
             ],
             [
              0.3333333333333333,
              "#9c179e"
             ],
             [
              0.4444444444444444,
              "#bd3786"
             ],
             [
              0.5555555555555556,
              "#d8576b"
             ],
             [
              0.6666666666666666,
              "#ed7953"
             ],
             [
              0.7777777777777778,
              "#fb9f3a"
             ],
             [
              0.8888888888888888,
              "#fdca26"
             ],
             [
              1,
              "#f0f921"
             ]
            ],
            "type": "heatmap"
           }
          ],
          "heatmapgl": [
           {
            "colorbar": {
             "outlinewidth": 0,
             "ticks": ""
            },
            "colorscale": [
             [
              0,
              "#0d0887"
             ],
             [
              0.1111111111111111,
              "#46039f"
             ],
             [
              0.2222222222222222,
              "#7201a8"
             ],
             [
              0.3333333333333333,
              "#9c179e"
             ],
             [
              0.4444444444444444,
              "#bd3786"
             ],
             [
              0.5555555555555556,
              "#d8576b"
             ],
             [
              0.6666666666666666,
              "#ed7953"
             ],
             [
              0.7777777777777778,
              "#fb9f3a"
             ],
             [
              0.8888888888888888,
              "#fdca26"
             ],
             [
              1,
              "#f0f921"
             ]
            ],
            "type": "heatmapgl"
           }
          ],
          "histogram": [
           {
            "marker": {
             "colorbar": {
              "outlinewidth": 0,
              "ticks": ""
             }
            },
            "type": "histogram"
           }
          ],
          "histogram2d": [
           {
            "colorbar": {
             "outlinewidth": 0,
             "ticks": ""
            },
            "colorscale": [
             [
              0,
              "#0d0887"
             ],
             [
              0.1111111111111111,
              "#46039f"
             ],
             [
              0.2222222222222222,
              "#7201a8"
             ],
             [
              0.3333333333333333,
              "#9c179e"
             ],
             [
              0.4444444444444444,
              "#bd3786"
             ],
             [
              0.5555555555555556,
              "#d8576b"
             ],
             [
              0.6666666666666666,
              "#ed7953"
             ],
             [
              0.7777777777777778,
              "#fb9f3a"
             ],
             [
              0.8888888888888888,
              "#fdca26"
             ],
             [
              1,
              "#f0f921"
             ]
            ],
            "type": "histogram2d"
           }
          ],
          "histogram2dcontour": [
           {
            "colorbar": {
             "outlinewidth": 0,
             "ticks": ""
            },
            "colorscale": [
             [
              0,
              "#0d0887"
             ],
             [
              0.1111111111111111,
              "#46039f"
             ],
             [
              0.2222222222222222,
              "#7201a8"
             ],
             [
              0.3333333333333333,
              "#9c179e"
             ],
             [
              0.4444444444444444,
              "#bd3786"
             ],
             [
              0.5555555555555556,
              "#d8576b"
             ],
             [
              0.6666666666666666,
              "#ed7953"
             ],
             [
              0.7777777777777778,
              "#fb9f3a"
             ],
             [
              0.8888888888888888,
              "#fdca26"
             ],
             [
              1,
              "#f0f921"
             ]
            ],
            "type": "histogram2dcontour"
           }
          ],
          "mesh3d": [
           {
            "colorbar": {
             "outlinewidth": 0,
             "ticks": ""
            },
            "type": "mesh3d"
           }
          ],
          "parcoords": [
           {
            "line": {
             "colorbar": {
              "outlinewidth": 0,
              "ticks": ""
             }
            },
            "type": "parcoords"
           }
          ],
          "pie": [
           {
            "automargin": true,
            "type": "pie"
           }
          ],
          "scatter": [
           {
            "marker": {
             "colorbar": {
              "outlinewidth": 0,
              "ticks": ""
             }
            },
            "type": "scatter"
           }
          ],
          "scatter3d": [
           {
            "line": {
             "colorbar": {
              "outlinewidth": 0,
              "ticks": ""
             }
            },
            "marker": {
             "colorbar": {
              "outlinewidth": 0,
              "ticks": ""
             }
            },
            "type": "scatter3d"
           }
          ],
          "scattercarpet": [
           {
            "marker": {
             "colorbar": {
              "outlinewidth": 0,
              "ticks": ""
             }
            },
            "type": "scattercarpet"
           }
          ],
          "scattergeo": [
           {
            "marker": {
             "colorbar": {
              "outlinewidth": 0,
              "ticks": ""
             }
            },
            "type": "scattergeo"
           }
          ],
          "scattergl": [
           {
            "marker": {
             "colorbar": {
              "outlinewidth": 0,
              "ticks": ""
             }
            },
            "type": "scattergl"
           }
          ],
          "scattermapbox": [
           {
            "marker": {
             "colorbar": {
              "outlinewidth": 0,
              "ticks": ""
             }
            },
            "type": "scattermapbox"
           }
          ],
          "scatterpolar": [
           {
            "marker": {
             "colorbar": {
              "outlinewidth": 0,
              "ticks": ""
             }
            },
            "type": "scatterpolar"
           }
          ],
          "scatterpolargl": [
           {
            "marker": {
             "colorbar": {
              "outlinewidth": 0,
              "ticks": ""
             }
            },
            "type": "scatterpolargl"
           }
          ],
          "scatterternary": [
           {
            "marker": {
             "colorbar": {
              "outlinewidth": 0,
              "ticks": ""
             }
            },
            "type": "scatterternary"
           }
          ],
          "surface": [
           {
            "colorbar": {
             "outlinewidth": 0,
             "ticks": ""
            },
            "colorscale": [
             [
              0,
              "#0d0887"
             ],
             [
              0.1111111111111111,
              "#46039f"
             ],
             [
              0.2222222222222222,
              "#7201a8"
             ],
             [
              0.3333333333333333,
              "#9c179e"
             ],
             [
              0.4444444444444444,
              "#bd3786"
             ],
             [
              0.5555555555555556,
              "#d8576b"
             ],
             [
              0.6666666666666666,
              "#ed7953"
             ],
             [
              0.7777777777777778,
              "#fb9f3a"
             ],
             [
              0.8888888888888888,
              "#fdca26"
             ],
             [
              1,
              "#f0f921"
             ]
            ],
            "type": "surface"
           }
          ],
          "table": [
           {
            "cells": {
             "fill": {
              "color": "#EBF0F8"
             },
             "line": {
              "color": "white"
             }
            },
            "header": {
             "fill": {
              "color": "#C8D4E3"
             },
             "line": {
              "color": "white"
             }
            },
            "type": "table"
           }
          ]
         },
         "layout": {
          "annotationdefaults": {
           "arrowcolor": "#2a3f5f",
           "arrowhead": 0,
           "arrowwidth": 1
          },
          "coloraxis": {
           "colorbar": {
            "outlinewidth": 0,
            "ticks": ""
           }
          },
          "colorscale": {
           "diverging": [
            [
             0,
             "#8e0152"
            ],
            [
             0.1,
             "#c51b7d"
            ],
            [
             0.2,
             "#de77ae"
            ],
            [
             0.3,
             "#f1b6da"
            ],
            [
             0.4,
             "#fde0ef"
            ],
            [
             0.5,
             "#f7f7f7"
            ],
            [
             0.6,
             "#e6f5d0"
            ],
            [
             0.7,
             "#b8e186"
            ],
            [
             0.8,
             "#7fbc41"
            ],
            [
             0.9,
             "#4d9221"
            ],
            [
             1,
             "#276419"
            ]
           ],
           "sequential": [
            [
             0,
             "#0d0887"
            ],
            [
             0.1111111111111111,
             "#46039f"
            ],
            [
             0.2222222222222222,
             "#7201a8"
            ],
            [
             0.3333333333333333,
             "#9c179e"
            ],
            [
             0.4444444444444444,
             "#bd3786"
            ],
            [
             0.5555555555555556,
             "#d8576b"
            ],
            [
             0.6666666666666666,
             "#ed7953"
            ],
            [
             0.7777777777777778,
             "#fb9f3a"
            ],
            [
             0.8888888888888888,
             "#fdca26"
            ],
            [
             1,
             "#f0f921"
            ]
           ],
           "sequentialminus": [
            [
             0,
             "#0d0887"
            ],
            [
             0.1111111111111111,
             "#46039f"
            ],
            [
             0.2222222222222222,
             "#7201a8"
            ],
            [
             0.3333333333333333,
             "#9c179e"
            ],
            [
             0.4444444444444444,
             "#bd3786"
            ],
            [
             0.5555555555555556,
             "#d8576b"
            ],
            [
             0.6666666666666666,
             "#ed7953"
            ],
            [
             0.7777777777777778,
             "#fb9f3a"
            ],
            [
             0.8888888888888888,
             "#fdca26"
            ],
            [
             1,
             "#f0f921"
            ]
           ]
          },
          "colorway": [
           "#636efa",
           "#EF553B",
           "#00cc96",
           "#ab63fa",
           "#FFA15A",
           "#19d3f3",
           "#FF6692",
           "#B6E880",
           "#FF97FF",
           "#FECB52"
          ],
          "font": {
           "color": "#2a3f5f"
          },
          "geo": {
           "bgcolor": "white",
           "lakecolor": "white",
           "landcolor": "#E5ECF6",
           "showlakes": true,
           "showland": true,
           "subunitcolor": "white"
          },
          "hoverlabel": {
           "align": "left"
          },
          "hovermode": "closest",
          "mapbox": {
           "style": "light"
          },
          "paper_bgcolor": "white",
          "plot_bgcolor": "#E5ECF6",
          "polar": {
           "angularaxis": {
            "gridcolor": "white",
            "linecolor": "white",
            "ticks": ""
           },
           "bgcolor": "#E5ECF6",
           "radialaxis": {
            "gridcolor": "white",
            "linecolor": "white",
            "ticks": ""
           }
          },
          "scene": {
           "xaxis": {
            "backgroundcolor": "#E5ECF6",
            "gridcolor": "white",
            "gridwidth": 2,
            "linecolor": "white",
            "showbackground": true,
            "ticks": "",
            "zerolinecolor": "white"
           },
           "yaxis": {
            "backgroundcolor": "#E5ECF6",
            "gridcolor": "white",
            "gridwidth": 2,
            "linecolor": "white",
            "showbackground": true,
            "ticks": "",
            "zerolinecolor": "white"
           },
           "zaxis": {
            "backgroundcolor": "#E5ECF6",
            "gridcolor": "white",
            "gridwidth": 2,
            "linecolor": "white",
            "showbackground": true,
            "ticks": "",
            "zerolinecolor": "white"
           }
          },
          "shapedefaults": {
           "line": {
            "color": "#2a3f5f"
           }
          },
          "ternary": {
           "aaxis": {
            "gridcolor": "white",
            "linecolor": "white",
            "ticks": ""
           },
           "baxis": {
            "gridcolor": "white",
            "linecolor": "white",
            "ticks": ""
           },
           "bgcolor": "#E5ECF6",
           "caxis": {
            "gridcolor": "white",
            "linecolor": "white",
            "ticks": ""
           }
          },
          "title": {
           "x": 0.05
          },
          "xaxis": {
           "automargin": true,
           "gridcolor": "white",
           "linecolor": "white",
           "ticks": "",
           "title": {
            "standoff": 15
           },
           "zerolinecolor": "white",
           "zerolinewidth": 2
          },
          "yaxis": {
           "automargin": true,
           "gridcolor": "white",
           "linecolor": "white",
           "ticks": "",
           "title": {
            "standoff": 15
           },
           "zerolinecolor": "white",
           "zerolinewidth": 2
          }
         }
        },
        "title": {
         "text": ""
        },
        "xaxis": {
         "range": [
          0,
          120
         ],
         "title": {
          "text": "IBU"
         }
        },
        "yaxis": {
         "range": [
          2,
          15
         ],
         "title": {
          "text": "ABV"
         }
        }
       }
      },
      "text/html": [
       "<div>\n",
       "        \n",
       "        \n",
       "            <div id=\"356a2b10-503e-4340-bbd3-58bb0fcc6473\" class=\"plotly-graph-div\" style=\"height:525px; width:100%;\"></div>\n",
       "            <script type=\"text/javascript\">\n",
       "                require([\"plotly\"], function(Plotly) {\n",
       "                    window.PLOTLYENV=window.PLOTLYENV || {};\n",
       "                    \n",
       "                if (document.getElementById(\"356a2b10-503e-4340-bbd3-58bb0fcc6473\")) {\n",
       "                    Plotly.newPlot(\n",
       "                        '356a2b10-503e-4340-bbd3-58bb0fcc6473',\n",
       "                        [{\"marker\": {\"color\": [13.313631990386678, 16.60767601409785, 22.311716556005976, 9.875454483087442, 7.5839586398153225, 40.87170488204041, 5.607918558462922, 33.48397673220363, 5.2275771725492755, 24.116382077670334, 17.8751948841857, 5.603654031309836, 8.01954519855565, 12.724424966788469, 6.206616599000855, 3.2169934971764826, 10.786784309434886, 4.449957526899065, 4.255942102255773, 27.592546139677683, 10.393287182007212, 22.022113087745787, 3.8941213429519466, 14.959425549857697, 4.373220893742557, 21.926310654110022, 19.526146374212335, 5.4995179448329194, 34.99399569198927, 18.245974429600217, 13.523086354583663, 25.828271751166664, 16.99211489160438, 9.957956667182968, 10.653304970404351, 18.983714840333445, 13.186381562138275, 40.856473264858145, 8.902177744428206, 5.710806897230484, 3.710572180350322, 4.604514634568639, 11.084494937274426, 14.709124501219025, 4.193889754376909, 5.285417279695563, 8.506618852290828, 17.03817908065479, 18.957277204057657, 4.36409364324984, 18.11861624989615, 15.1479312684529, 37.100976995612804, 10.550292231004265, 18.652450733905283, 21.089893379933226, 4.6676458070244635, 33.74812017762328, 14.124098546622994, 51.19268627086204, 6.387551622394638, 27.936080602662198, 14.972565636052348, 14.642575206991214, 14.5968043617676, 22.354034078994466, 9.352214375341253, 16.202994503731464, 15.161593109837211, 4.090467284323847, 8.294918550739016, 4.925979593245691, 20.762346194657834, 39.32547829518985, 17.640637121434217, 10.217223856275346, 4.720174655250505, 15.279539258727048, 4.2678406999909155, 29.283596039372224], \"colorbar\": {\"title\": {\"text\": \"SRM\"}}, \"colorscale\": [[0, \"white\"], [0.11428571428571428, \"yellow\"], [0.2571428571428571, \"red\"], [0.45714285714285713, \"brown\"], [1, \"black\"]], \"showscale\": true, \"size\": [22.182870772647213, 18.438337040924324, 21.69098010188875, 26.737012923015385, 26.08571267607171, 20.797487383876387, 21.701936301964878, 17.28771237954945, 18.174925682500678, 18.500596835812665, 18.528885200453203, 17.43535284613279, 18.185514281839705, 19.96313456380603, 18.621225563319058, 16.616678060278815, 14.45763738099176, 20.72607926051303, 17.523102464888957, 18.01685724414116, 17.60179979984061, 17.92579201067452, 15.44219837741437, 12.607561496354206, 19.503088118178198, 13.229419688230417, 15.65309697458183, 12.339850002884624, 18.481582664323913, 17.3519140658835, 15.920003864136161, 7.614709844115208, 16.227484332098378, 19.043200879447454, 20.92704874654236, 13.665780028329483, 15.093788919775273, 15.977369373544331, 18.827255858048346, 13.482933972802295, 18.227484332098378, 12.132178380915544, 23.236771004517212, 20.18815537134381, 18.94335042878409, 15.849625007211563, 15.977369373544331, 18.061334272493884, 14.552248810548475, 15.627562382434075, 17.914204083124574, 13.536368649553852, 20.16429808270774, 19.082193230699048, 16.894166452419306, 15.469419240451677, 15.244103638912753, 21.703498082832116, 14.319742673556778, 21.43535284613279, 22.959560528058198, 15.665780028329483, 16.524189690740357, 13.015589280397393, 11.715961990255144, 13.34485068394299, 17.63396724651076, 25.107738486392137, 19.73146654170352, 12.715104009236168, 16.835705029771795, 12.679700005769249, 18.061334272493884, 20.180224839328577, 14.784634845557521, 16.428638241601533, 21.00566360813349, 15.65309697458183, 20.421342687571244, 14.514775685385304]}, \"mode\": \"markers\", \"text\": [\"american amber ale\", \"american barleywine\", \"american brown ale\", \"american ipa\", \"american pale ale\", \"american stout\", \"american wheat or rye beer\", \"baltic porter\", \"belgian blond ale\", \"belgian dark strong ale\", \"belgian dubbel\", \"belgian golden strong ale\", \"belgian pale ale\", \"belgian specialty ale\", \"belgian tripel\", \"berliner weisse\", \"bi\\u00e8re de garde\", \"blonde ale\", \"bohemian pilsener\", \"brown porter\", \"california common beer\", \"christmas/winter specialty spiced beer\", \"classic american pilsner\", \"classic rauchbier\", \"cream ale\", \"dark american lager\", \"doppelbock\", \"dortmunder export\", \"dry stout\", \"dunkelweizen\", \"d\\u00fcsseldorf altbier\", \"eisbock\", \"english barleywine\", \"english ipa\", \"extra special/strong bitter (english pale ale)\", \"flanders brown ale/oud bruin\", \"flanders red ale\", \"foreign extra stout\", \"fruit beer\", \"fruit lambic\", \"german pilsner (pils)\", \"gueuze\", \"imperial ipa\", \"irish red ale\", \"k\\u00f6lsch\", \"lite american lager\", \"maibock/helles bock\", \"mild\", \"munich dunkel\", \"munich helles\", \"northern english brown ale\", \"northern german altbier\", \"oatmeal stout\", \"oktoberfest/m\\u00e4rzen\", \"old ale\", \"other smoked beer\", \"premium american lager\", \"robust porter\", \"roggenbier (german rye beer)\", \"russian imperial stout\", \"saison\", \"schwarzbier (black beer)\", \"scottish export 80/-\", \"scottish heavy 70/-\", \"scottish light 60/-\", \"southern english brown\", \"special/best/premium bitter\", \"specialty beer\", \"spice, herb, or vegetable beer\", \"standard american lager\", \"standard/ordinary bitter\", \"straight (unblended) lambic\", \"strong scotch ale\", \"sweet stout\", \"traditional bock\", \"vienna lager\", \"weizen/weissbier\", \"weizenbock\", \"witbier\", \"wood-aged beer\"], \"type\": \"scatter\", \"x\": [null, 96.29698829143447, 40.23259152014543, 81.16424046490295, null, 48.50860545282495, 33.559731740336076, 39.075369628265726, 26.59708568195624, 32.41919246692919, 25.198788015029265, 32.92582043037245, 34.76874567365484, 43.93131170587485, 34.32464318412044, 9.164729175600176, 26.887584063780157, 26.706529025923665, 40.27554977951738, 31.143518934002042, 44.36314804791293, 39.757386499858875, 36.09146084882619, 28.00526640786816, 24.396922484776397, 33.76141776992304, 27.64587851663298, 34.08596479909514, 39.31061118005912, 19.588047308442373, 50.91827989981497, 35.85872149171058, 62.329542914928325, 57.75552303062333, 44.486721116163274, 23.206639904296818, 16.320603925866102, 8562134722194.7, 25.540425622853117, 12.80691234246511, 37.13452711829178, 13.735950509440855, 123.12798051454857, 32.91949161941435, 29.096564953487228, 26.343665333141857, 35.4272170443934, 22.94042164900571, 27.390840586589917, 22.871257203364735, 28.919116865517523, 37.99683606112663, 36.43698747108908, 28.428917362658456, 52.548906933216, 39.062324130031534, 28.33843053334453, 40.74626422879776, 25.22459102740427, 70.84624298175822, 33.27732251331558, 31.38293929820057, 28.36773020059115, 24.236602560484847, 19.858303225964328, 21.69572817115503, 35.86452989722591, 54.31487669630868, 30.905210701778056, 22.229979687089706, 33.036630156178646, 10.125778414981747, 32.6622043461599, 31.578521465064455, 26.79439642153752, 28.949402728932426, 17.21764244127579, 25.820307777463693, 20.89830434294592, 53.74989788911599], \"y\": [5.7511561297520055, 10.441874981568509, 5.840193349068205, 6.554009776209206, 5.57733015632867, 6.61699646864297, 5.3253895008524195, 7.445854448219969, 6.432730222835302, 9.148777871191825, 6.903057159418091, 8.153236717378888, 5.620183325841463, 6.824114915870416, 8.466717421043523, 3.6872409180955765, 6.917174028918796, 4.934224195601312, 5.123112349778608, 5.360998460070309, 5.0808891798563, 7.151969626993733, 5.346367409221114, 5.664352932737022, 5.154209147488337, 5.468356615087937, 7.822303585899943, 5.431758960110393, 4.847883085494834, 5.507887446480404, 5.233179573327251, 9.493508905095888, 10.118511535896145, 5.963413210134558, 5.353706190202948, 6.394488698527326, 5.976255804151216, 6.716192523508623, 5.926178974569802, 5.682914339996026, 5.019517141321556, 5.403382775579182, 8.319656339653237, 5.435862371468203, 4.970655931065699, 4.772076198194023, 6.668090401708342, 3.8305048805399675, 5.1356627297398125, 4.928789015449176, 5.039244583666668, 5.301578293472951, 5.8527779066166445, 5.567512947715346, 7.677398443754818, 6.00721914666166, 5.166476950695726, 6.134537972933034, 5.369790560239904, 9.6964388555546, 6.112049338750573, 5.195814153148085, 5.282055080145703, 4.712792997451311, 3.8420021758889757, 4.4591894421248925, 4.4139077549978705, 6.564388035617747, 6.659670967381838, 4.83466502807359, 3.863564999671382, 5.5057975796348515, 8.135236187616753, 6.03586841413219, 6.458248575186347, 5.0062850769031035, 5.128584566485497, 7.455913257394932, 5.209690075450298, 8.328999900537344]}],\n",
       "                        {\"template\": {\"data\": {\"bar\": [{\"error_x\": {\"color\": \"#2a3f5f\"}, \"error_y\": {\"color\": \"#2a3f5f\"}, \"marker\": {\"line\": {\"color\": \"#E5ECF6\", \"width\": 0.5}}, \"type\": \"bar\"}], \"barpolar\": [{\"marker\": {\"line\": {\"color\": \"#E5ECF6\", \"width\": 0.5}}, \"type\": \"barpolar\"}], \"carpet\": [{\"aaxis\": {\"endlinecolor\": \"#2a3f5f\", \"gridcolor\": \"white\", \"linecolor\": \"white\", \"minorgridcolor\": \"white\", \"startlinecolor\": \"#2a3f5f\"}, \"baxis\": {\"endlinecolor\": \"#2a3f5f\", \"gridcolor\": \"white\", \"linecolor\": \"white\", \"minorgridcolor\": \"white\", \"startlinecolor\": \"#2a3f5f\"}, \"type\": \"carpet\"}], \"choropleth\": [{\"colorbar\": {\"outlinewidth\": 0, \"ticks\": \"\"}, \"type\": \"choropleth\"}], \"contour\": [{\"colorbar\": {\"outlinewidth\": 0, \"ticks\": \"\"}, \"colorscale\": [[0.0, \"#0d0887\"], [0.1111111111111111, \"#46039f\"], [0.2222222222222222, \"#7201a8\"], [0.3333333333333333, \"#9c179e\"], [0.4444444444444444, \"#bd3786\"], [0.5555555555555556, \"#d8576b\"], [0.6666666666666666, \"#ed7953\"], [0.7777777777777778, \"#fb9f3a\"], [0.8888888888888888, \"#fdca26\"], [1.0, \"#f0f921\"]], \"type\": \"contour\"}], \"contourcarpet\": [{\"colorbar\": {\"outlinewidth\": 0, \"ticks\": \"\"}, \"type\": \"contourcarpet\"}], \"heatmap\": [{\"colorbar\": {\"outlinewidth\": 0, \"ticks\": \"\"}, \"colorscale\": [[0.0, \"#0d0887\"], [0.1111111111111111, \"#46039f\"], [0.2222222222222222, \"#7201a8\"], [0.3333333333333333, \"#9c179e\"], [0.4444444444444444, \"#bd3786\"], [0.5555555555555556, \"#d8576b\"], [0.6666666666666666, \"#ed7953\"], [0.7777777777777778, \"#fb9f3a\"], [0.8888888888888888, \"#fdca26\"], [1.0, \"#f0f921\"]], \"type\": \"heatmap\"}], \"heatmapgl\": [{\"colorbar\": {\"outlinewidth\": 0, \"ticks\": \"\"}, \"colorscale\": [[0.0, \"#0d0887\"], [0.1111111111111111, \"#46039f\"], [0.2222222222222222, \"#7201a8\"], [0.3333333333333333, \"#9c179e\"], [0.4444444444444444, \"#bd3786\"], [0.5555555555555556, \"#d8576b\"], [0.6666666666666666, \"#ed7953\"], [0.7777777777777778, \"#fb9f3a\"], [0.8888888888888888, \"#fdca26\"], [1.0, \"#f0f921\"]], \"type\": \"heatmapgl\"}], \"histogram\": [{\"marker\": {\"colorbar\": {\"outlinewidth\": 0, \"ticks\": \"\"}}, \"type\": \"histogram\"}], \"histogram2d\": [{\"colorbar\": {\"outlinewidth\": 0, \"ticks\": \"\"}, \"colorscale\": [[0.0, \"#0d0887\"], [0.1111111111111111, \"#46039f\"], [0.2222222222222222, \"#7201a8\"], [0.3333333333333333, \"#9c179e\"], [0.4444444444444444, \"#bd3786\"], [0.5555555555555556, \"#d8576b\"], [0.6666666666666666, \"#ed7953\"], [0.7777777777777778, \"#fb9f3a\"], [0.8888888888888888, \"#fdca26\"], [1.0, \"#f0f921\"]], \"type\": \"histogram2d\"}], \"histogram2dcontour\": [{\"colorbar\": {\"outlinewidth\": 0, \"ticks\": \"\"}, \"colorscale\": [[0.0, \"#0d0887\"], [0.1111111111111111, \"#46039f\"], [0.2222222222222222, \"#7201a8\"], [0.3333333333333333, \"#9c179e\"], [0.4444444444444444, \"#bd3786\"], [0.5555555555555556, \"#d8576b\"], [0.6666666666666666, \"#ed7953\"], [0.7777777777777778, \"#fb9f3a\"], [0.8888888888888888, \"#fdca26\"], [1.0, \"#f0f921\"]], \"type\": \"histogram2dcontour\"}], \"mesh3d\": [{\"colorbar\": {\"outlinewidth\": 0, \"ticks\": \"\"}, \"type\": \"mesh3d\"}], \"parcoords\": [{\"line\": {\"colorbar\": {\"outlinewidth\": 0, \"ticks\": \"\"}}, \"type\": \"parcoords\"}], \"pie\": [{\"automargin\": true, \"type\": \"pie\"}], \"scatter\": [{\"marker\": {\"colorbar\": {\"outlinewidth\": 0, \"ticks\": \"\"}}, \"type\": \"scatter\"}], \"scatter3d\": [{\"line\": {\"colorbar\": {\"outlinewidth\": 0, \"ticks\": \"\"}}, \"marker\": {\"colorbar\": {\"outlinewidth\": 0, \"ticks\": \"\"}}, \"type\": \"scatter3d\"}], \"scattercarpet\": [{\"marker\": {\"colorbar\": {\"outlinewidth\": 0, \"ticks\": \"\"}}, \"type\": \"scattercarpet\"}], \"scattergeo\": [{\"marker\": {\"colorbar\": {\"outlinewidth\": 0, \"ticks\": \"\"}}, \"type\": \"scattergeo\"}], \"scattergl\": [{\"marker\": {\"colorbar\": {\"outlinewidth\": 0, \"ticks\": \"\"}}, \"type\": \"scattergl\"}], \"scattermapbox\": [{\"marker\": {\"colorbar\": {\"outlinewidth\": 0, \"ticks\": \"\"}}, \"type\": \"scattermapbox\"}], \"scatterpolar\": [{\"marker\": {\"colorbar\": {\"outlinewidth\": 0, \"ticks\": \"\"}}, \"type\": \"scatterpolar\"}], \"scatterpolargl\": [{\"marker\": {\"colorbar\": {\"outlinewidth\": 0, \"ticks\": \"\"}}, \"type\": \"scatterpolargl\"}], \"scatterternary\": [{\"marker\": {\"colorbar\": {\"outlinewidth\": 0, \"ticks\": \"\"}}, \"type\": \"scatterternary\"}], \"surface\": [{\"colorbar\": {\"outlinewidth\": 0, \"ticks\": \"\"}, \"colorscale\": [[0.0, \"#0d0887\"], [0.1111111111111111, \"#46039f\"], [0.2222222222222222, \"#7201a8\"], [0.3333333333333333, \"#9c179e\"], [0.4444444444444444, \"#bd3786\"], [0.5555555555555556, \"#d8576b\"], [0.6666666666666666, \"#ed7953\"], [0.7777777777777778, \"#fb9f3a\"], [0.8888888888888888, \"#fdca26\"], [1.0, \"#f0f921\"]], \"type\": \"surface\"}], \"table\": [{\"cells\": {\"fill\": {\"color\": \"#EBF0F8\"}, \"line\": {\"color\": \"white\"}}, \"header\": {\"fill\": {\"color\": \"#C8D4E3\"}, \"line\": {\"color\": \"white\"}}, \"type\": \"table\"}]}, \"layout\": {\"annotationdefaults\": {\"arrowcolor\": \"#2a3f5f\", \"arrowhead\": 0, \"arrowwidth\": 1}, \"coloraxis\": {\"colorbar\": {\"outlinewidth\": 0, \"ticks\": \"\"}}, \"colorscale\": {\"diverging\": [[0, \"#8e0152\"], [0.1, \"#c51b7d\"], [0.2, \"#de77ae\"], [0.3, \"#f1b6da\"], [0.4, \"#fde0ef\"], [0.5, \"#f7f7f7\"], [0.6, \"#e6f5d0\"], [0.7, \"#b8e186\"], [0.8, \"#7fbc41\"], [0.9, \"#4d9221\"], [1, \"#276419\"]], \"sequential\": [[0.0, \"#0d0887\"], [0.1111111111111111, \"#46039f\"], [0.2222222222222222, \"#7201a8\"], [0.3333333333333333, \"#9c179e\"], [0.4444444444444444, \"#bd3786\"], [0.5555555555555556, \"#d8576b\"], [0.6666666666666666, \"#ed7953\"], [0.7777777777777778, \"#fb9f3a\"], [0.8888888888888888, \"#fdca26\"], [1.0, \"#f0f921\"]], \"sequentialminus\": [[0.0, \"#0d0887\"], [0.1111111111111111, \"#46039f\"], [0.2222222222222222, \"#7201a8\"], [0.3333333333333333, \"#9c179e\"], [0.4444444444444444, \"#bd3786\"], [0.5555555555555556, \"#d8576b\"], [0.6666666666666666, \"#ed7953\"], [0.7777777777777778, \"#fb9f3a\"], [0.8888888888888888, \"#fdca26\"], [1.0, \"#f0f921\"]]}, \"colorway\": [\"#636efa\", \"#EF553B\", \"#00cc96\", \"#ab63fa\", \"#FFA15A\", \"#19d3f3\", \"#FF6692\", \"#B6E880\", \"#FF97FF\", \"#FECB52\"], \"font\": {\"color\": \"#2a3f5f\"}, \"geo\": {\"bgcolor\": \"white\", \"lakecolor\": \"white\", \"landcolor\": \"#E5ECF6\", \"showlakes\": true, \"showland\": true, \"subunitcolor\": \"white\"}, \"hoverlabel\": {\"align\": \"left\"}, \"hovermode\": \"closest\", \"mapbox\": {\"style\": \"light\"}, \"paper_bgcolor\": \"white\", \"plot_bgcolor\": \"#E5ECF6\", \"polar\": {\"angularaxis\": {\"gridcolor\": \"white\", \"linecolor\": \"white\", \"ticks\": \"\"}, \"bgcolor\": \"#E5ECF6\", \"radialaxis\": {\"gridcolor\": \"white\", \"linecolor\": \"white\", \"ticks\": \"\"}}, \"scene\": {\"xaxis\": {\"backgroundcolor\": \"#E5ECF6\", \"gridcolor\": \"white\", \"gridwidth\": 2, \"linecolor\": \"white\", \"showbackground\": true, \"ticks\": \"\", \"zerolinecolor\": \"white\"}, \"yaxis\": {\"backgroundcolor\": \"#E5ECF6\", \"gridcolor\": \"white\", \"gridwidth\": 2, \"linecolor\": \"white\", \"showbackground\": true, \"ticks\": \"\", \"zerolinecolor\": \"white\"}, \"zaxis\": {\"backgroundcolor\": \"#E5ECF6\", \"gridcolor\": \"white\", \"gridwidth\": 2, \"linecolor\": \"white\", \"showbackground\": true, \"ticks\": \"\", \"zerolinecolor\": \"white\"}}, \"shapedefaults\": {\"line\": {\"color\": \"#2a3f5f\"}}, \"ternary\": {\"aaxis\": {\"gridcolor\": \"white\", \"linecolor\": \"white\", \"ticks\": \"\"}, \"baxis\": {\"gridcolor\": \"white\", \"linecolor\": \"white\", \"ticks\": \"\"}, \"bgcolor\": \"#E5ECF6\", \"caxis\": {\"gridcolor\": \"white\", \"linecolor\": \"white\", \"ticks\": \"\"}}, \"title\": {\"x\": 0.05}, \"xaxis\": {\"automargin\": true, \"gridcolor\": \"white\", \"linecolor\": \"white\", \"ticks\": \"\", \"title\": {\"standoff\": 15}, \"zerolinecolor\": \"white\", \"zerolinewidth\": 2}, \"yaxis\": {\"automargin\": true, \"gridcolor\": \"white\", \"linecolor\": \"white\", \"ticks\": \"\", \"title\": {\"standoff\": 15}, \"zerolinecolor\": \"white\", \"zerolinewidth\": 2}}}, \"title\": {\"text\": \"\"}, \"xaxis\": {\"range\": [0, 120], \"title\": {\"text\": \"IBU\"}}, \"yaxis\": {\"range\": [2, 15], \"title\": {\"text\": \"ABV\"}}},\n",
       "                        {\"responsive\": true}\n",
       "                    ).then(function(){\n",
       "                            \n",
       "var gd = document.getElementById('356a2b10-503e-4340-bbd3-58bb0fcc6473');\n",
       "var x = new MutationObserver(function (mutations, observer) {{\n",
       "        var display = window.getComputedStyle(gd).display;\n",
       "        if (!display || display === 'none') {{\n",
       "            console.log([gd, 'removed!']);\n",
       "            Plotly.purge(gd);\n",
       "            observer.disconnect();\n",
       "        }}\n",
       "}});\n",
       "\n",
       "// Listen for the removal of the full notebook cells\n",
       "var notebookContainer = gd.closest('#notebook-container');\n",
       "if (notebookContainer) {{\n",
       "    x.observe(notebookContainer, {childList: true});\n",
       "}}\n",
       "\n",
       "// Listen for the clearing of the current output cell\n",
       "var outputEl = gd.closest('.output');\n",
       "if (outputEl) {{\n",
       "    x.observe(outputEl, {childList: true});\n",
       "}}\n",
       "\n",
       "                        })\n",
       "                };\n",
       "                });\n",
       "            </script>\n",
       "        </div>"
      ]
     },
     "metadata": {},
     "output_type": "display_data"
    }
   ],
   "source": [
    "plot_bubble(bt)"
   ]
  },
  {
   "cell_type": "code",
   "execution_count": 11,
   "metadata": {},
   "outputs": [
    {
     "data": {
      "application/vnd.plotly.v1+json": {
       "config": {
        "linkText": "Export to plot.ly",
        "plotlyServerURL": "https://plot.ly",
        "showLink": false
       },
       "data": [
        {
         "marker": {
          "color": [
           14.01486896587762,
           8.869422797055876,
           11.760128305255282,
           14.229950067315253,
           17.02624932086326,
           23.78981934068697,
           8.607501092481831,
           5.088949085172231,
           10.714196574100303,
           7.215187020721385,
           36.17782994323026,
           41.448480036163225,
           14.470508964266962,
           4.938345673341797,
           5.620159827987077,
           6.584109942322084,
           5.608562775754781,
           15.343129869198805,
           33.694404374083724,
           6.28961760966178,
           31.39575595804805,
           17.6628975276949,
           6.330064070241505,
           8.101194464436244,
           12.377655065195393,
           7.875518845428156,
           3.6845740281142167,
           11.765858030590845,
           12.02232747738947,
           5.08112127256501,
           4.4581390075525436,
           13.736376394269675,
           7.109739456790675,
           19.153881270641595,
           5.403942011708581,
           16.588289628011054,
           30.710518868481955,
           13.572935731689027,
           10.919144659591224,
           11.461818974290862,
           4.591906758168849,
           18.121245206181285,
           20.60885694480622,
           17.03175225680421,
           7.341214942193667,
           4.664231282291727,
           7.2219908988623445,
           10.506175489635616,
           23.76386880107492,
           4.405933023081741,
           4.551176881586546,
           22.38215461620291,
           20.147997815173817,
           19.493779860713154,
           5.325507712091152,
           8.41176084668539,
           5.454718875484142,
           37.973983420376825,
           17.424268897549243,
           17.404594187180827,
           18.89500890801447,
           13.91257414336548,
           19.183358300424853,
           18.309809268063574,
           4.022814749740856,
           9.45316396877493,
           30.10912166033079,
           12.686827253055325,
           11.3544553696739,
           6.924173550370418,
           20.53044372074924,
           14.588016010297185,
           42.540215238387496,
           2.0330542863287686,
           11.787770673311442,
           7.468934113936011,
           7.025310782399993,
           5.515112652289617,
           5.191562054902309,
           6.95596762083039,
           3.821049601585294,
           4.127136602641387,
           4.191306624499727,
           4.453884675653245,
           7.864301413366925,
           20.784761257693972,
           10.96663445948302,
           53.90162003610319,
           9.792214595538715,
           19.236942101438483,
           4.928273632939925,
           38.63471087041401,
           15.74887288508785,
           36.63109216710348,
           11.462438670324628,
           6.1502012687125065,
           14.87518899436542,
           4.114862634557032,
           5.31070450966078,
           3.749174036655715,
           5.111160133984551,
           22.835281925553677,
           8.655062118197867,
           7.582885407830725,
           19.088139746318557,
           7.538106543506358,
           15.33156983928874,
           19.732839697108012,
           4.429006009115696,
           11.171384307827001,
           10.837813477208288,
           14.49616783740212,
           15.797640728249942,
           18.718834429230018,
           38.02698826070809,
           10.441019987854204,
           20.095988365912273,
           13.182895190963897,
           9.174312806648171,
           7.843583493426158,
           23.028530976184562,
           12.935132640046591,
           20.635861486242288,
           3.563218495952895,
           5.001047791695125,
           29.217150972236855,
           4.84123303411533,
           9.432697099012092,
           15.289687730816862,
           35.67427488552285,
           14.741788598358724,
           14.92355164613984,
           54.164795807684925,
           17.484123232979478,
           6.587793512424162,
           27.583399496747095,
           17.433253067621507,
           16.10408646208411,
           20.92149764290081,
           15.168004670225097,
           15.609346921005926,
           15.824455036477275,
           6.855795541392434,
           22.838460517042773,
           9.231569295426485,
           16.875398712682145,
           10.375499580991928,
           8.242794347432016,
           34.83950030505553,
           18.255801225459255,
           5.302373341099748,
           15.69945421974057,
           10.671013440184517,
           5.337781352598779,
           16.26347313809666,
           29.873689697005304,
           13.84695389356661,
           3.8842365171935738,
           8.379537016059329,
           4.836196369826731,
           11.660304823767076,
           21.567586011561204,
           6.862723764364884,
           40.40940933551266,
           18.53814576863128,
           0.545426671669274,
           6.1471895993636165,
           38.73376744682115,
           10.780990923292103,
           20.35970870802297,
           4.662018279325041,
           5.001163988182728,
           24.75092413057706,
           11.49981158563508,
           7.340780352678421,
           22.655369307647508,
           4.536859363266707,
           29.752515293777805
          ],
          "colorbar": {
           "title": {
            "text": "SRM"
           }
          },
          "colorscale": [
           [
            0,
            "white"
           ],
           [
            0.11428571428571428,
            "yellow"
           ],
           [
            0.2571428571428571,
            "red"
           ],
           [
            0.45714285714285713,
            "brown"
           ],
           [
            1,
            "black"
           ]
          ],
          "showscale": true,
          "size": [
           14.153631194101662,
           10.088788238716907,
           8.643856189774725,
           21.84070571083016,
           16.688591815831632,
           20.217048913556336,
           26.950706915460263,
           15.536368649553852,
           22.069597925154536,
           25.661030413953675,
           19.089928865578475,
           20.52183906732581,
           15.509775004326936,
           18.6029923899651,
           18.27398222416046,
           5.169925001442312,
           10.98370619265935,
           12.45763738099176,
           16.835705029771795,
           17.795690912011022,
           18.04473562605691,
           17.98304369215139,
           16.758756734142523,
           18.45282438557757,
           17.3519140658835,
           18.243067034680063,
           17.1548576560715,
           17.093788919775275,
           14.818781872275403,
           21.40261292391725,
           16.67970000576925,
           12.98370619265935,
           11.90839262077375,
           17.031399676568086,
           15.943087107901544,
           15.062762921032624,
           17.414718264161767,
           0,
           14.45763738099176,
           19.90839262077375,
           15.258713240159219,
           10.4189067312579,
           12,
           14.132178380915544,
           12.885886991697456,
           19.312849726555562,
           8.174925682500678,
           9.813781191217037,
           10.088788238716907,
           14.625765910568711,
           15.69098010188875,
           11.715961990255144,
           15.753033893129999,
           15.69098010188875,
           10.715104009236168,
           19.3519140658835,
           12.49585502688717,
           17.69098010188875,
           15.047123912114026,
           10.918863237274595,
           15.139711216661896,
           13.287712379549449,
           8.784634845557521,
           15.83772647454919,
           9.715961990255144,
           19.120665668424884,
           15.482933972802295,
           17.379995942838892,
           18.661833756229235,
           11.765286098723683,
           11.109177703355275,
           14.319742673556778,
           16.894166452419306,
           2,
           10.339850002884624,
           17.855555924164683,
           8.918863237274595,
           12.339850002884624,
           9.813781191217037,
           8.339850002884624,
           15.229419688230417,
           17.582325777110036,
           14.279102704797587,
           11.954559846999834,
           12.299494239009364,
           16.62576591056871,
           20.965615913453334,
           18.688591815831632,
           12.885886991697456,
           9.90839262077375,
           16.389513708844497,
           11.861474675125773,
           20.34735427260684,
           15.954559846999834,
           8,
           8.49585502688717,
           9.715961990255144,
           19.3904565829915,
           12.258566033889933,
           5.169925001442312,
           12.339850002884624,
           6,
           14.132178380915544,
           7.614709844115208,
           16.099697098901125,
           14.607561496354206,
           14.11056487100238,
           15.954559846999834,
           16.67970000576925,
           16.706293650996166,
           5.614709844115208,
           18.35981818002987,
           12.044735626056909,
           16.268852640441853,
           19.72527471511759,
           16.94335042878409,
           16.369750685816566,
           8.174925682500678,
           16.04473562605691,
           11.813781191217037,
           13.813781191217037,
           10.258566033889933,
           9.813781191217037,
           8,
           9.715961990255144,
           6.918863237274595,
           13.509775004326936,
           4.643856189774724,
           10.784634845557521,
           19.53305781719773,
           9.90839262077375,
           13.015589280397393,
           19.67210071011614,
           8.784634845557521,
           22.63256306349244,
           15.373001054366437,
           14.852529509404196,
           13.509775004326936,
           13.373001054366437,
           10.4189067312579,
           10.643856189774725,
           9.169925001442312,
           10.784634845557521,
           13.31642296550359,
           16.810282926272688,
           17.35896019901089,
           11.229419688230417,
           15.455840909126398,
           18.457637380991763,
           12.918863237274595,
           12.044735626056909,
           17.51644642945345,
           16.533573081389804,
           16.142924725113247,
           12.132178380915544,
           6.918863237274595,
           17.825778672459922,
           10.98370619265935,
           16.561541540261207,
           11.509775004326936,
           17.63396724651076,
           15.56271942704932,
           10.258566033889933,
           19.598563243043845,
           13.229419688230417,
           2,
           13.813781191217037,
           9.614709844115207,
           17.015589280397393,
           14.153631194101662,
           19.789635526615886,
           19.56271942704932,
           15.139711216661896,
           10.918863237274595,
           10.852529509404196,
           14.4189067312579,
           20.02524907773012,
           12.044735626056909
          ]
         },
         "mode": "markers",
         "text": [
          "altbier",
          "alternative grain beer",
          "alternative sugar beer",
          "american amber ale",
          "american barleywine",
          "american brown ale",
          "american ipa",
          "american lager",
          "american light lager",
          "american pale ale",
          "american porter",
          "american stout",
          "american strong ale",
          "american wheat beer",
          "american wheat or rye beer",
          "apple wine",
          "australian sparkling ale",
          "autumn seasonal beer",
          "baltic porter",
          "belgian blond ale",
          "belgian dark strong ale",
          "belgian dubbel",
          "belgian golden strong ale",
          "belgian pale ale",
          "belgian specialty ale",
          "belgian tripel",
          "berliner weisse",
          "best bitter",
          "bière de garde",
          "blonde ale",
          "bohemian pilsener",
          "braggot",
          "brett beer",
          "british brown ale",
          "british golden ale",
          "british strong ale",
          "brown porter",
          "burton ale",
          "california common",
          "california common beer",
          "classic american pilsner",
          "classic rauchbier",
          "classic style smoked beer",
          "clone beer",
          "common cider",
          "cream ale",
          "cyser (apple melomel)",
          "czech amber lager",
          "czech dark lager",
          "czech pale lager",
          "czech premium pale lager",
          "dark american lager",
          "dark mild",
          "doppelbock",
          "dortmunder export",
          "double ipa",
          "dry mead",
          "dry stout",
          "dunkelweizen",
          "dunkles bock",
          "dunkles weissbier",
          "düsseldorf altbier",
          "eisbock",
          "english barleywine",
          "english cider",
          "english ipa",
          "english porter",
          "experimental beer",
          "extra special/strong bitter (esb)",
          "festbier",
          "flanders brown ale/oud bruin",
          "flanders red ale",
          "foreign extra stout",
          "french cider",
          "fruit and spice beer",
          "fruit beer",
          "fruit cider",
          "fruit lambic",
          "german helles exportbier",
          "german leichtbier",
          "german pils",
          "german pilsner (pils)",
          "gose",
          "gueuze",
          "helles bock",
          "holiday/winter special spiced beer",
          "imperial ipa",
          "imperial stout",
          "international amber lager",
          "international dark lager",
          "international pale lager",
          "irish extra stout",
          "irish red ale",
          "irish stout",
          "kellerbier: amber kellerbier",
          "kellerbier: pale kellerbier",
          "kentucky common",
          "kölsch",
          "lambic",
          "lichtenhainer",
          "light american lager",
          "london brown ale",
          "maibock/helles bock",
          "metheglin",
          "mild",
          "mixed-fermentation sour beer",
          "mixed-style beer",
          "munich dunkel",
          "munich helles",
          "märzen",
          "new england cider",
          "no profile selected",
          "north german altbier",
          "northern english brown",
          "oatmeal stout",
          "oktoberfest/märzen",
          "old ale",
          "open category mead",
          "ordinary bitter",
          "other fruit melomel",
          "other smoked beer",
          "other specialty cider or perry",
          "oud bruin",
          "piwo grodziskie",
          "pre-prohibition lager",
          "pre-prohibition porter",
          "premium american lager",
          "pyment (grape melomel)",
          "rauchbier",
          "robust porter",
          "roggenbier",
          "roggenbier (german rye beer)",
          "russian imperial stout",
          "sahti",
          "saison",
          "schwarzbier",
          "scottish export",
          "scottish export 80/-",
          "scottish heavy",
          "scottish heavy 70/-",
          "scottish light",
          "scottish light 60/-",
          "semi-sweet mead",
          "southern english brown",
          "special/best/premium bitter",
          "specialty beer",
          "specialty fruit beer",
          "specialty ipa: belgian ipa",
          "specialty ipa: black ipa",
          "specialty ipa: brown ipa",
          "specialty ipa: new england ipa",
          "specialty ipa: red ipa",
          "specialty ipa: rye ipa",
          "specialty ipa: white ipa",
          "specialty smoked beer",
          "specialty wood-aged beer",
          "spice, herb, or vegetable beer",
          "standard american lager",
          "standard/ordinary bitter",
          "straight (unblended) lambic",
          "strong bitter",
          "strong scotch ale",
          "sweet mead",
          "sweet stout",
          "traditional bock",
          "traditional perry",
          "trappist single",
          "tropical stout",
          "vienna lager",
          "wee heavy",
          "weissbier",
          "weizen/weissbier",
          "weizenbock",
          "wheatwine",
          "wild specialty beer",
          "winter seasonal beer",
          "witbier",
          "wood-aged beer"
         ],
         "type": "scatter",
         "x": [
          37.07516709355909,
          38.31400968728273,
          23.59473779594847,
          45.21568753799864,
          78.36007722860039,
          34.499267952804885,
          79.08340352138059,
          22.134257981414887,
          30.199342964042707,
          46.517885856806,
          36.17137095597745,
          44.11461314173908,
          68.38550148416309,
          26.676466110620453,
          28.58676907565779,
          10.015008379429302,
          32.54027812207186,
          24.729709558239588,
          34.00826856640981,
          24.98464108636027,
          27.714076366206385,
          22.456538129769886,
          28.036665022092617,
          28.95520158707616,
          33.1733693461812,
          28.266204290252514,
          7.31772477431462,
          33.98096803604763,
          24.183230198335085,
          26.78423094911045,
          38.928405456541334,
          17.00542889563829,
          33.77776598224849,
          26.92155302444416,
          34.23391138753962,
          41.80914474503966,
          29.584918509810414,
          42.33023623926316,
          38.457690613977455,
          39.411993832339775,
          30.433838954257762,
          26.438020779577467,
          30.551235316272113,
          40.894343123716,
          1.187605319465814,
          21.040935405041896,
          1.5724029522927312,
          26.924543114543113,
          29.83689398491915,
          29.755463618090044,
          37.99606477153378,
          24.30567073115242,
          19.839871420616632,
          24.833823907707103,
          25.016754222362056,
          107.9845170993748,
          3.752718448729215,
          36.06862848756627,
          19.485200966249774,
          23.39676599250532,
          15.341985370002124,
          40.84368831141515,
          28.9798553274315,
          54.36566379792993,
          3.5595515478048676,
          55.21641810050855,
          31.31245943005836,
          35.78690274718102,
          39.04640132873368,
          25.531709764328884,
          19.18665728885472,
          13.763474463055857,
          45.06594640303642,
          0,
          20.178925157166095,
          25.026915898780018,
          0.15579934675147825,
          11.11483600115909,
          27.315234023083047,
          34.20796305672586,
          31.699797813975046,
          33.728755427715434,
          8.609870381895947,
          11.957044106102384,
          27.956186900916464,
          31.7880478370618,
          111.89850663820738,
          57.66904480376282,
          22.08642903728561,
          23.57077086308481,
          29.056816469355848,
          37.959568098770625,
          26.925762641382324,
          33.14607501745585,
          27.630688364837837,
          26.221860369148658,
          19.64997280038319,
          25.168975655528417,
          7.910047500973774,
          7.245491979058614,
          19.221263353014674,
          51.80243117280018,
          27.787529553669064,
          2.1815503456217984,
          23.455096927476657,
          15.6851776298515,
          40.379354498332276,
          23.872401048855053,
          20.58780071812531,
          21.980658752642324,
          1.2174331157751361,
          58.065638478312984,
          34.464578782361095,
          27.47197264885102,
          31.804255802334527,
          25.58649895733172,
          42.0167224575353,
          7.2227284939108465,
          30.82724744638531,
          0.9780540933335421,
          37.37331667713852,
          6.321477588985562,
          15.0932101553214,
          19.54143462738871,
          33.76852307567138,
          36.29994311139394,
          26.08053870988824,
          8.547369720874176,
          24.45734833673197,
          36.17300931673697,
          17.623567212360445,
          23.50940118824782,
          61.258177473394156,
          9.994430782180821,
          28.92840580415206,
          27.75370421529298,
          23.998966525904244,
          23.69651743327633,
          25.55017690498722,
          23.789879899986964,
          21.859844633755422,
          21.152134621121565,
          0.7689973832970461,
          24.50257934329217,
          33.49163793650668,
          38.282810712572235,
          26.2192752020766,
          68.474099472561,
          77.62815085843876,
          60.95682778601909,
          77.56545472665341,
          64.87209126506373,
          64.90366410247448,
          439.6957926082655,
          30.62982972335781,
          31.324009876260337,
          27.422131185314967,
          15.580747388532833,
          33.24832557311312,
          7.7534111677254,
          38.61133542859379,
          28.002003665494364,
          10.277077969340302,
          28.072262937216337,
          23.254810882768595,
          0,
          27.98902143120473,
          37.82921095666183,
          24.621491911174488,
          26.60679889926477,
          15.75760616689425,
          16.189624013459223,
          23.464712139183575,
          42.77535050348607,
          20.128474005372766,
          31.84057331700768,
          17.462919160341947,
          40.35327346296417
         ],
         "y": [
          5.200654600661583,
          5.519939883825891,
          7.44503695478858,
          5.817677895359228,
          10.528384739892061,
          5.887815451598191,
          6.517644802616469,
          5.171390185875067,
          5.768950358581137,
          5.52902381414396,
          6.329661505511959,
          6.626466587321395,
          7.773303275254477,
          5.365051954758956,
          5.232139301175958,
          9.234509681063853,
          5.017147936946177,
          7.107784955029452,
          7.559854998509757,
          6.739512074294551,
          9.881544416983552,
          6.918257974076251,
          8.062331525018113,
          5.631721792298576,
          6.4934246464699035,
          9.26705378906168,
          4.205019061601401,
          5.328242901296596,
          7.007432065908427,
          5.068840345265543,
          5.421872252520575,
          9.475828096466138,
          6.179058265906407,
          5.312741161236849,
          4.744489076974695,
          6.731198907696045,
          5.506577387759659,
          6.555741330132935,
          5.111968332979956,
          5.906185194293218,
          5.723907100859154,
          6.239755712882794,
          5.977448744720187,
          6.7502533411752665,
          6.1781185801700484,
          5.333520924161185,
          9.661821562260744,
          5.404347270752628,
          5.181683089608756,
          5.225938873845123,
          6.092252379899674,
          5.766068478033405,
          4.11372380448054,
          8.129489085311054,
          5.375843431946794,
          8.163496336750319,
          10.103809765532821,
          5.330329716547551,
          5.757642911499027,
          6.683764295145322,
          5.688307336758816,
          5.302710594640972,
          9.203941054408121,
          10.643014808762421,
          5.945660884449856,
          6.108812735804029,
          5.421563169095221,
          6.617791674126043,
          5.4075171979678505,
          5.810757126567172,
          6.534665388708725,
          6.217959112686281,
          6.9560154594469745,
          6.454530460914975,
          6.019764878909395,
          5.636904396771361,
          8.188057745420188,
          5.8067967168932615,
          5.355448110782333,
          4.780240252074352,
          5.159815417425491,
          5.24375981326547,
          4.67621438410657,
          5.242336224536897,
          6.719261934123841,
          7.333180947857643,
          8.301900618776731,
          9.985542462514767,
          5.193186979207056,
          5.488941359951177,
          5.409460370426014,
          6.064028809140538,
          5.46150784976949,
          4.885125434330728,
          5.17080047152237,
          5.047531227616147,
          4.898806727359224,
          4.978666338721896,
          6.014295339650133,
          4.321111429825719,
          4.695385714980627,
          5.183260830807366,
          6.64712656562987,
          12.57849033564832,
          4.561056103192452,
          5.868599943731799,
          6.404829564436104,
          5.451894369164435,
          5.0687625309482405,
          5.878561914103105,
          6.693399976147998,
          6.477970402013468,
          5.529236631242117,
          5.268821012151396,
          6.066558170973165,
          5.549273770057766,
          7.434922191611523,
          8.72596070802591,
          4.088383622434307,
          11.412124086887792,
          6.0014502228801145,
          6.8199669204068725,
          6.793539087794529,
          3.626142527698476,
          5.5588180910267,
          5.844681859696622,
          5.506954033668599,
          9.40188485681992,
          5.739025782986357,
          6.235739021885237,
          5.3952926979778795,
          5.649870279027014,
          9.913441094267514,
          16.573231076794887,
          6.067691053220226,
          5.34142200827126,
          5.784632258945845,
          5.270293410971168,
          6.421082930241009,
          5.180017038619779,
          5.15720711007676,
          4.461468104110566,
          10.889570637475435,
          4.965104862282162,
          4.669045508101989,
          6.666435271076369,
          5.8414984150578375,
          7.125348578746774,
          7.026153064659377,
          6.502713255842463,
          6.4451280985302475,
          6.497657770122847,
          6.730058302667363,
          6.1545571298513355,
          6.229528150996809,
          8.078068304423445,
          6.421731288271104,
          4.910243363549014,
          4.5029913160060575,
          5.9615508294315465,
          5.403325185603329,
          8.28258325435059,
          12.115851068143037,
          6.240278071710092,
          6.400293305004188,
          6.496781425604512,
          5.509481905121705,
          6.821737492830574,
          5.266209378798633,
          8.40458136306367,
          5.360139345382344,
          5.319823823613897,
          9.567213539379976,
          9.675405683948505,
          5.829567533849999,
          7.0326893490183044,
          5.242185531928392,
          9.378327581229648
         ]
        }
       ],
       "layout": {
        "template": {
         "data": {
          "bar": [
           {
            "error_x": {
             "color": "#2a3f5f"
            },
            "error_y": {
             "color": "#2a3f5f"
            },
            "marker": {
             "line": {
              "color": "#E5ECF6",
              "width": 0.5
             }
            },
            "type": "bar"
           }
          ],
          "barpolar": [
           {
            "marker": {
             "line": {
              "color": "#E5ECF6",
              "width": 0.5
             }
            },
            "type": "barpolar"
           }
          ],
          "carpet": [
           {
            "aaxis": {
             "endlinecolor": "#2a3f5f",
             "gridcolor": "white",
             "linecolor": "white",
             "minorgridcolor": "white",
             "startlinecolor": "#2a3f5f"
            },
            "baxis": {
             "endlinecolor": "#2a3f5f",
             "gridcolor": "white",
             "linecolor": "white",
             "minorgridcolor": "white",
             "startlinecolor": "#2a3f5f"
            },
            "type": "carpet"
           }
          ],
          "choropleth": [
           {
            "colorbar": {
             "outlinewidth": 0,
             "ticks": ""
            },
            "type": "choropleth"
           }
          ],
          "contour": [
           {
            "colorbar": {
             "outlinewidth": 0,
             "ticks": ""
            },
            "colorscale": [
             [
              0,
              "#0d0887"
             ],
             [
              0.1111111111111111,
              "#46039f"
             ],
             [
              0.2222222222222222,
              "#7201a8"
             ],
             [
              0.3333333333333333,
              "#9c179e"
             ],
             [
              0.4444444444444444,
              "#bd3786"
             ],
             [
              0.5555555555555556,
              "#d8576b"
             ],
             [
              0.6666666666666666,
              "#ed7953"
             ],
             [
              0.7777777777777778,
              "#fb9f3a"
             ],
             [
              0.8888888888888888,
              "#fdca26"
             ],
             [
              1,
              "#f0f921"
             ]
            ],
            "type": "contour"
           }
          ],
          "contourcarpet": [
           {
            "colorbar": {
             "outlinewidth": 0,
             "ticks": ""
            },
            "type": "contourcarpet"
           }
          ],
          "heatmap": [
           {
            "colorbar": {
             "outlinewidth": 0,
             "ticks": ""
            },
            "colorscale": [
             [
              0,
              "#0d0887"
             ],
             [
              0.1111111111111111,
              "#46039f"
             ],
             [
              0.2222222222222222,
              "#7201a8"
             ],
             [
              0.3333333333333333,
              "#9c179e"
             ],
             [
              0.4444444444444444,
              "#bd3786"
             ],
             [
              0.5555555555555556,
              "#d8576b"
             ],
             [
              0.6666666666666666,
              "#ed7953"
             ],
             [
              0.7777777777777778,
              "#fb9f3a"
             ],
             [
              0.8888888888888888,
              "#fdca26"
             ],
             [
              1,
              "#f0f921"
             ]
            ],
            "type": "heatmap"
           }
          ],
          "heatmapgl": [
           {
            "colorbar": {
             "outlinewidth": 0,
             "ticks": ""
            },
            "colorscale": [
             [
              0,
              "#0d0887"
             ],
             [
              0.1111111111111111,
              "#46039f"
             ],
             [
              0.2222222222222222,
              "#7201a8"
             ],
             [
              0.3333333333333333,
              "#9c179e"
             ],
             [
              0.4444444444444444,
              "#bd3786"
             ],
             [
              0.5555555555555556,
              "#d8576b"
             ],
             [
              0.6666666666666666,
              "#ed7953"
             ],
             [
              0.7777777777777778,
              "#fb9f3a"
             ],
             [
              0.8888888888888888,
              "#fdca26"
             ],
             [
              1,
              "#f0f921"
             ]
            ],
            "type": "heatmapgl"
           }
          ],
          "histogram": [
           {
            "marker": {
             "colorbar": {
              "outlinewidth": 0,
              "ticks": ""
             }
            },
            "type": "histogram"
           }
          ],
          "histogram2d": [
           {
            "colorbar": {
             "outlinewidth": 0,
             "ticks": ""
            },
            "colorscale": [
             [
              0,
              "#0d0887"
             ],
             [
              0.1111111111111111,
              "#46039f"
             ],
             [
              0.2222222222222222,
              "#7201a8"
             ],
             [
              0.3333333333333333,
              "#9c179e"
             ],
             [
              0.4444444444444444,
              "#bd3786"
             ],
             [
              0.5555555555555556,
              "#d8576b"
             ],
             [
              0.6666666666666666,
              "#ed7953"
             ],
             [
              0.7777777777777778,
              "#fb9f3a"
             ],
             [
              0.8888888888888888,
              "#fdca26"
             ],
             [
              1,
              "#f0f921"
             ]
            ],
            "type": "histogram2d"
           }
          ],
          "histogram2dcontour": [
           {
            "colorbar": {
             "outlinewidth": 0,
             "ticks": ""
            },
            "colorscale": [
             [
              0,
              "#0d0887"
             ],
             [
              0.1111111111111111,
              "#46039f"
             ],
             [
              0.2222222222222222,
              "#7201a8"
             ],
             [
              0.3333333333333333,
              "#9c179e"
             ],
             [
              0.4444444444444444,
              "#bd3786"
             ],
             [
              0.5555555555555556,
              "#d8576b"
             ],
             [
              0.6666666666666666,
              "#ed7953"
             ],
             [
              0.7777777777777778,
              "#fb9f3a"
             ],
             [
              0.8888888888888888,
              "#fdca26"
             ],
             [
              1,
              "#f0f921"
             ]
            ],
            "type": "histogram2dcontour"
           }
          ],
          "mesh3d": [
           {
            "colorbar": {
             "outlinewidth": 0,
             "ticks": ""
            },
            "type": "mesh3d"
           }
          ],
          "parcoords": [
           {
            "line": {
             "colorbar": {
              "outlinewidth": 0,
              "ticks": ""
             }
            },
            "type": "parcoords"
           }
          ],
          "pie": [
           {
            "automargin": true,
            "type": "pie"
           }
          ],
          "scatter": [
           {
            "marker": {
             "colorbar": {
              "outlinewidth": 0,
              "ticks": ""
             }
            },
            "type": "scatter"
           }
          ],
          "scatter3d": [
           {
            "line": {
             "colorbar": {
              "outlinewidth": 0,
              "ticks": ""
             }
            },
            "marker": {
             "colorbar": {
              "outlinewidth": 0,
              "ticks": ""
             }
            },
            "type": "scatter3d"
           }
          ],
          "scattercarpet": [
           {
            "marker": {
             "colorbar": {
              "outlinewidth": 0,
              "ticks": ""
             }
            },
            "type": "scattercarpet"
           }
          ],
          "scattergeo": [
           {
            "marker": {
             "colorbar": {
              "outlinewidth": 0,
              "ticks": ""
             }
            },
            "type": "scattergeo"
           }
          ],
          "scattergl": [
           {
            "marker": {
             "colorbar": {
              "outlinewidth": 0,
              "ticks": ""
             }
            },
            "type": "scattergl"
           }
          ],
          "scattermapbox": [
           {
            "marker": {
             "colorbar": {
              "outlinewidth": 0,
              "ticks": ""
             }
            },
            "type": "scattermapbox"
           }
          ],
          "scatterpolar": [
           {
            "marker": {
             "colorbar": {
              "outlinewidth": 0,
              "ticks": ""
             }
            },
            "type": "scatterpolar"
           }
          ],
          "scatterpolargl": [
           {
            "marker": {
             "colorbar": {
              "outlinewidth": 0,
              "ticks": ""
             }
            },
            "type": "scatterpolargl"
           }
          ],
          "scatterternary": [
           {
            "marker": {
             "colorbar": {
              "outlinewidth": 0,
              "ticks": ""
             }
            },
            "type": "scatterternary"
           }
          ],
          "surface": [
           {
            "colorbar": {
             "outlinewidth": 0,
             "ticks": ""
            },
            "colorscale": [
             [
              0,
              "#0d0887"
             ],
             [
              0.1111111111111111,
              "#46039f"
             ],
             [
              0.2222222222222222,
              "#7201a8"
             ],
             [
              0.3333333333333333,
              "#9c179e"
             ],
             [
              0.4444444444444444,
              "#bd3786"
             ],
             [
              0.5555555555555556,
              "#d8576b"
             ],
             [
              0.6666666666666666,
              "#ed7953"
             ],
             [
              0.7777777777777778,
              "#fb9f3a"
             ],
             [
              0.8888888888888888,
              "#fdca26"
             ],
             [
              1,
              "#f0f921"
             ]
            ],
            "type": "surface"
           }
          ],
          "table": [
           {
            "cells": {
             "fill": {
              "color": "#EBF0F8"
             },
             "line": {
              "color": "white"
             }
            },
            "header": {
             "fill": {
              "color": "#C8D4E3"
             },
             "line": {
              "color": "white"
             }
            },
            "type": "table"
           }
          ]
         },
         "layout": {
          "annotationdefaults": {
           "arrowcolor": "#2a3f5f",
           "arrowhead": 0,
           "arrowwidth": 1
          },
          "coloraxis": {
           "colorbar": {
            "outlinewidth": 0,
            "ticks": ""
           }
          },
          "colorscale": {
           "diverging": [
            [
             0,
             "#8e0152"
            ],
            [
             0.1,
             "#c51b7d"
            ],
            [
             0.2,
             "#de77ae"
            ],
            [
             0.3,
             "#f1b6da"
            ],
            [
             0.4,
             "#fde0ef"
            ],
            [
             0.5,
             "#f7f7f7"
            ],
            [
             0.6,
             "#e6f5d0"
            ],
            [
             0.7,
             "#b8e186"
            ],
            [
             0.8,
             "#7fbc41"
            ],
            [
             0.9,
             "#4d9221"
            ],
            [
             1,
             "#276419"
            ]
           ],
           "sequential": [
            [
             0,
             "#0d0887"
            ],
            [
             0.1111111111111111,
             "#46039f"
            ],
            [
             0.2222222222222222,
             "#7201a8"
            ],
            [
             0.3333333333333333,
             "#9c179e"
            ],
            [
             0.4444444444444444,
             "#bd3786"
            ],
            [
             0.5555555555555556,
             "#d8576b"
            ],
            [
             0.6666666666666666,
             "#ed7953"
            ],
            [
             0.7777777777777778,
             "#fb9f3a"
            ],
            [
             0.8888888888888888,
             "#fdca26"
            ],
            [
             1,
             "#f0f921"
            ]
           ],
           "sequentialminus": [
            [
             0,
             "#0d0887"
            ],
            [
             0.1111111111111111,
             "#46039f"
            ],
            [
             0.2222222222222222,
             "#7201a8"
            ],
            [
             0.3333333333333333,
             "#9c179e"
            ],
            [
             0.4444444444444444,
             "#bd3786"
            ],
            [
             0.5555555555555556,
             "#d8576b"
            ],
            [
             0.6666666666666666,
             "#ed7953"
            ],
            [
             0.7777777777777778,
             "#fb9f3a"
            ],
            [
             0.8888888888888888,
             "#fdca26"
            ],
            [
             1,
             "#f0f921"
            ]
           ]
          },
          "colorway": [
           "#636efa",
           "#EF553B",
           "#00cc96",
           "#ab63fa",
           "#FFA15A",
           "#19d3f3",
           "#FF6692",
           "#B6E880",
           "#FF97FF",
           "#FECB52"
          ],
          "font": {
           "color": "#2a3f5f"
          },
          "geo": {
           "bgcolor": "white",
           "lakecolor": "white",
           "landcolor": "#E5ECF6",
           "showlakes": true,
           "showland": true,
           "subunitcolor": "white"
          },
          "hoverlabel": {
           "align": "left"
          },
          "hovermode": "closest",
          "mapbox": {
           "style": "light"
          },
          "paper_bgcolor": "white",
          "plot_bgcolor": "#E5ECF6",
          "polar": {
           "angularaxis": {
            "gridcolor": "white",
            "linecolor": "white",
            "ticks": ""
           },
           "bgcolor": "#E5ECF6",
           "radialaxis": {
            "gridcolor": "white",
            "linecolor": "white",
            "ticks": ""
           }
          },
          "scene": {
           "xaxis": {
            "backgroundcolor": "#E5ECF6",
            "gridcolor": "white",
            "gridwidth": 2,
            "linecolor": "white",
            "showbackground": true,
            "ticks": "",
            "zerolinecolor": "white"
           },
           "yaxis": {
            "backgroundcolor": "#E5ECF6",
            "gridcolor": "white",
            "gridwidth": 2,
            "linecolor": "white",
            "showbackground": true,
            "ticks": "",
            "zerolinecolor": "white"
           },
           "zaxis": {
            "backgroundcolor": "#E5ECF6",
            "gridcolor": "white",
            "gridwidth": 2,
            "linecolor": "white",
            "showbackground": true,
            "ticks": "",
            "zerolinecolor": "white"
           }
          },
          "shapedefaults": {
           "line": {
            "color": "#2a3f5f"
           }
          },
          "ternary": {
           "aaxis": {
            "gridcolor": "white",
            "linecolor": "white",
            "ticks": ""
           },
           "baxis": {
            "gridcolor": "white",
            "linecolor": "white",
            "ticks": ""
           },
           "bgcolor": "#E5ECF6",
           "caxis": {
            "gridcolor": "white",
            "linecolor": "white",
            "ticks": ""
           }
          },
          "title": {
           "x": 0.05
          },
          "xaxis": {
           "automargin": true,
           "gridcolor": "white",
           "linecolor": "white",
           "ticks": "",
           "title": {
            "standoff": 15
           },
           "zerolinecolor": "white",
           "zerolinewidth": 2
          },
          "yaxis": {
           "automargin": true,
           "gridcolor": "white",
           "linecolor": "white",
           "ticks": "",
           "title": {
            "standoff": 15
           },
           "zerolinecolor": "white",
           "zerolinewidth": 2
          }
         }
        },
        "title": {
         "text": "ABV vs IBU with SRM to Boot"
        },
        "xaxis": {
         "range": [
          0,
          120
         ],
         "title": {
          "text": "IBU"
         }
        },
        "yaxis": {
         "range": [
          2,
          15
         ],
         "title": {
          "text": "ABV"
         }
        }
       }
      },
      "text/html": [
       "<div>\n",
       "        \n",
       "        \n",
       "            <div id=\"8f7f29a2-51b5-4ea4-ab4e-7fd4c3c6074b\" class=\"plotly-graph-div\" style=\"height:525px; width:100%;\"></div>\n",
       "            <script type=\"text/javascript\">\n",
       "                require([\"plotly\"], function(Plotly) {\n",
       "                    window.PLOTLYENV=window.PLOTLYENV || {};\n",
       "                    \n",
       "                if (document.getElementById(\"8f7f29a2-51b5-4ea4-ab4e-7fd4c3c6074b\")) {\n",
       "                    Plotly.newPlot(\n",
       "                        '8f7f29a2-51b5-4ea4-ab4e-7fd4c3c6074b',\n",
       "                        [{\"marker\": {\"color\": [14.01486896587762, 8.869422797055876, 11.760128305255282, 14.229950067315253, 17.02624932086326, 23.78981934068697, 8.607501092481831, 5.088949085172231, 10.714196574100303, 7.215187020721385, 36.17782994323026, 41.448480036163225, 14.470508964266962, 4.938345673341797, 5.620159827987077, 6.584109942322084, 5.608562775754781, 15.343129869198805, 33.694404374083724, 6.28961760966178, 31.39575595804805, 17.6628975276949, 6.330064070241505, 8.101194464436244, 12.377655065195393, 7.875518845428156, 3.6845740281142167, 11.765858030590845, 12.02232747738947, 5.08112127256501, 4.4581390075525436, 13.736376394269675, 7.109739456790675, 19.153881270641595, 5.403942011708581, 16.588289628011054, 30.710518868481955, 13.572935731689027, 10.919144659591224, 11.461818974290862, 4.591906758168849, 18.121245206181285, 20.60885694480622, 17.03175225680421, 7.341214942193667, 4.664231282291727, 7.2219908988623445, 10.506175489635616, 23.76386880107492, 4.405933023081741, 4.551176881586546, 22.38215461620291, 20.147997815173817, 19.493779860713154, 5.325507712091152, 8.41176084668539, 5.454718875484142, 37.973983420376825, 17.424268897549243, 17.404594187180827, 18.89500890801447, 13.91257414336548, 19.183358300424853, 18.309809268063574, 4.022814749740856, 9.45316396877493, 30.10912166033079, 12.686827253055325, 11.3544553696739, 6.924173550370418, 20.53044372074924, 14.588016010297185, 42.540215238387496, 2.0330542863287686, 11.787770673311442, 7.468934113936011, 7.025310782399993, 5.515112652289617, 5.191562054902309, 6.95596762083039, 3.821049601585294, 4.127136602641387, 4.191306624499727, 4.453884675653245, 7.864301413366925, 20.784761257693972, 10.96663445948302, 53.90162003610319, 9.792214595538715, 19.236942101438483, 4.928273632939925, 38.63471087041401, 15.74887288508785, 36.63109216710348, 11.462438670324628, 6.1502012687125065, 14.87518899436542, 4.114862634557032, 5.31070450966078, 3.749174036655715, 5.111160133984551, 22.835281925553677, 8.655062118197867, 7.582885407830725, 19.088139746318557, 7.538106543506358, 15.33156983928874, 19.732839697108012, 4.429006009115696, 11.171384307827001, 10.837813477208288, 14.49616783740212, 15.797640728249942, 18.718834429230018, 38.02698826070809, 10.441019987854204, 20.095988365912273, 13.182895190963897, 9.174312806648171, 7.843583493426158, 23.028530976184562, 12.935132640046591, 20.635861486242288, 3.563218495952895, 5.001047791695125, 29.217150972236855, 4.84123303411533, 9.432697099012092, 15.289687730816862, 35.67427488552285, 14.741788598358724, 14.92355164613984, 54.164795807684925, 17.484123232979478, 6.587793512424162, 27.583399496747095, 17.433253067621507, 16.10408646208411, 20.92149764290081, 15.168004670225097, 15.609346921005926, 15.824455036477275, 6.855795541392434, 22.838460517042773, 9.231569295426485, 16.875398712682145, 10.375499580991928, 8.242794347432016, 34.83950030505553, 18.255801225459255, 5.302373341099748, 15.69945421974057, 10.671013440184517, 5.337781352598779, 16.26347313809666, 29.873689697005304, 13.84695389356661, 3.8842365171935738, 8.379537016059329, 4.836196369826731, 11.660304823767076, 21.567586011561204, 6.862723764364884, 40.40940933551266, 18.53814576863128, 0.545426671669274, 6.1471895993636165, 38.73376744682115, 10.780990923292103, 20.35970870802297, 4.662018279325041, 5.001163988182728, 24.75092413057706, 11.49981158563508, 7.340780352678421, 22.655369307647508, 4.536859363266707, 29.752515293777805], \"colorbar\": {\"title\": {\"text\": \"SRM\"}}, \"colorscale\": [[0, \"white\"], [0.11428571428571428, \"yellow\"], [0.2571428571428571, \"red\"], [0.45714285714285713, \"brown\"], [1, \"black\"]], \"showscale\": true, \"size\": [14.153631194101662, 10.088788238716907, 8.643856189774725, 21.84070571083016, 16.688591815831632, 20.217048913556336, 26.950706915460263, 15.536368649553852, 22.069597925154536, 25.661030413953675, 19.089928865578475, 20.52183906732581, 15.509775004326936, 18.6029923899651, 18.27398222416046, 5.169925001442312, 10.98370619265935, 12.45763738099176, 16.835705029771795, 17.795690912011022, 18.04473562605691, 17.98304369215139, 16.758756734142523, 18.45282438557757, 17.3519140658835, 18.243067034680063, 17.1548576560715, 17.093788919775275, 14.818781872275403, 21.40261292391725, 16.67970000576925, 12.98370619265935, 11.90839262077375, 17.031399676568086, 15.943087107901544, 15.062762921032624, 17.414718264161767, 0.0, 14.45763738099176, 19.90839262077375, 15.258713240159219, 10.4189067312579, 12.0, 14.132178380915544, 12.885886991697456, 19.312849726555562, 8.174925682500678, 9.813781191217037, 10.088788238716907, 14.625765910568711, 15.69098010188875, 11.715961990255144, 15.753033893129999, 15.69098010188875, 10.715104009236168, 19.3519140658835, 12.49585502688717, 17.69098010188875, 15.047123912114026, 10.918863237274595, 15.139711216661896, 13.287712379549449, 8.784634845557521, 15.83772647454919, 9.715961990255144, 19.120665668424884, 15.482933972802295, 17.379995942838892, 18.661833756229235, 11.765286098723683, 11.109177703355275, 14.319742673556778, 16.894166452419306, 2.0, 10.339850002884624, 17.855555924164683, 8.918863237274595, 12.339850002884624, 9.813781191217037, 8.339850002884624, 15.229419688230417, 17.582325777110036, 14.279102704797587, 11.954559846999834, 12.299494239009364, 16.62576591056871, 20.965615913453334, 18.688591815831632, 12.885886991697456, 9.90839262077375, 16.389513708844497, 11.861474675125773, 20.34735427260684, 15.954559846999834, 8.0, 8.49585502688717, 9.715961990255144, 19.3904565829915, 12.258566033889933, 5.169925001442312, 12.339850002884624, 6.0, 14.132178380915544, 7.614709844115208, 16.099697098901125, 14.607561496354206, 14.11056487100238, 15.954559846999834, 16.67970000576925, 16.706293650996166, 5.614709844115208, 18.35981818002987, 12.044735626056909, 16.268852640441853, 19.72527471511759, 16.94335042878409, 16.369750685816566, 8.174925682500678, 16.04473562605691, 11.813781191217037, 13.813781191217037, 10.258566033889933, 9.813781191217037, 8.0, 9.715961990255144, 6.918863237274595, 13.509775004326936, 4.643856189774724, 10.784634845557521, 19.53305781719773, 9.90839262077375, 13.015589280397393, 19.67210071011614, 8.784634845557521, 22.63256306349244, 15.373001054366437, 14.852529509404196, 13.509775004326936, 13.373001054366437, 10.4189067312579, 10.643856189774725, 9.169925001442312, 10.784634845557521, 13.31642296550359, 16.810282926272688, 17.35896019901089, 11.229419688230417, 15.455840909126398, 18.457637380991763, 12.918863237274595, 12.044735626056909, 17.51644642945345, 16.533573081389804, 16.142924725113247, 12.132178380915544, 6.918863237274595, 17.825778672459922, 10.98370619265935, 16.561541540261207, 11.509775004326936, 17.63396724651076, 15.56271942704932, 10.258566033889933, 19.598563243043845, 13.229419688230417, 2.0, 13.813781191217037, 9.614709844115207, 17.015589280397393, 14.153631194101662, 19.789635526615886, 19.56271942704932, 15.139711216661896, 10.918863237274595, 10.852529509404196, 14.4189067312579, 20.02524907773012, 12.044735626056909]}, \"mode\": \"markers\", \"text\": [\"altbier\", \"alternative grain beer\", \"alternative sugar beer\", \"american amber ale\", \"american barleywine\", \"american brown ale\", \"american ipa\", \"american lager\", \"american light lager\", \"american pale ale\", \"american porter\", \"american stout\", \"american strong ale\", \"american wheat beer\", \"american wheat or rye beer\", \"apple wine\", \"australian sparkling ale\", \"autumn seasonal beer\", \"baltic porter\", \"belgian blond ale\", \"belgian dark strong ale\", \"belgian dubbel\", \"belgian golden strong ale\", \"belgian pale ale\", \"belgian specialty ale\", \"belgian tripel\", \"berliner weisse\", \"best bitter\", \"bi\\u00e8re de garde\", \"blonde ale\", \"bohemian pilsener\", \"braggot\", \"brett beer\", \"british brown ale\", \"british golden ale\", \"british strong ale\", \"brown porter\", \"burton ale\", \"california common\", \"california common beer\", \"classic american pilsner\", \"classic rauchbier\", \"classic style smoked beer\", \"clone beer\", \"common cider\", \"cream ale\", \"cyser (apple melomel)\", \"czech amber lager\", \"czech dark lager\", \"czech pale lager\", \"czech premium pale lager\", \"dark american lager\", \"dark mild\", \"doppelbock\", \"dortmunder export\", \"double ipa\", \"dry mead\", \"dry stout\", \"dunkelweizen\", \"dunkles bock\", \"dunkles weissbier\", \"d\\u00fcsseldorf altbier\", \"eisbock\", \"english barleywine\", \"english cider\", \"english ipa\", \"english porter\", \"experimental beer\", \"extra special/strong bitter (esb)\", \"festbier\", \"flanders brown ale/oud bruin\", \"flanders red ale\", \"foreign extra stout\", \"french cider\", \"fruit and spice beer\", \"fruit beer\", \"fruit cider\", \"fruit lambic\", \"german helles exportbier\", \"german leichtbier\", \"german pils\", \"german pilsner (pils)\", \"gose\", \"gueuze\", \"helles bock\", \"holiday/winter special spiced beer\", \"imperial ipa\", \"imperial stout\", \"international amber lager\", \"international dark lager\", \"international pale lager\", \"irish extra stout\", \"irish red ale\", \"irish stout\", \"kellerbier: amber kellerbier\", \"kellerbier: pale kellerbier\", \"kentucky common\", \"k\\u00f6lsch\", \"lambic\", \"lichtenhainer\", \"light american lager\", \"london brown ale\", \"maibock/helles bock\", \"metheglin\", \"mild\", \"mixed-fermentation sour beer\", \"mixed-style beer\", \"munich dunkel\", \"munich helles\", \"m\\u00e4rzen\", \"new england cider\", \"no profile selected\", \"north german altbier\", \"northern english brown\", \"oatmeal stout\", \"oktoberfest/m\\u00e4rzen\", \"old ale\", \"open category mead\", \"ordinary bitter\", \"other fruit melomel\", \"other smoked beer\", \"other specialty cider or perry\", \"oud bruin\", \"piwo grodziskie\", \"pre-prohibition lager\", \"pre-prohibition porter\", \"premium american lager\", \"pyment (grape melomel)\", \"rauchbier\", \"robust porter\", \"roggenbier\", \"roggenbier (german rye beer)\", \"russian imperial stout\", \"sahti\", \"saison\", \"schwarzbier\", \"scottish export\", \"scottish export 80/-\", \"scottish heavy\", \"scottish heavy 70/-\", \"scottish light\", \"scottish light 60/-\", \"semi-sweet mead\", \"southern english brown\", \"special/best/premium bitter\", \"specialty beer\", \"specialty fruit beer\", \"specialty ipa: belgian ipa\", \"specialty ipa: black ipa\", \"specialty ipa: brown ipa\", \"specialty ipa: new england ipa\", \"specialty ipa: red ipa\", \"specialty ipa: rye ipa\", \"specialty ipa: white ipa\", \"specialty smoked beer\", \"specialty wood-aged beer\", \"spice, herb, or vegetable beer\", \"standard american lager\", \"standard/ordinary bitter\", \"straight (unblended) lambic\", \"strong bitter\", \"strong scotch ale\", \"sweet mead\", \"sweet stout\", \"traditional bock\", \"traditional perry\", \"trappist single\", \"tropical stout\", \"vienna lager\", \"wee heavy\", \"weissbier\", \"weizen/weissbier\", \"weizenbock\", \"wheatwine\", \"wild specialty beer\", \"winter seasonal beer\", \"witbier\", \"wood-aged beer\"], \"type\": \"scatter\", \"x\": [37.07516709355909, 38.31400968728273, 23.59473779594847, 45.21568753799864, 78.36007722860039, 34.499267952804885, 79.08340352138059, 22.134257981414887, 30.199342964042707, 46.517885856806, 36.17137095597745, 44.11461314173908, 68.38550148416309, 26.676466110620453, 28.58676907565779, 10.015008379429302, 32.54027812207186, 24.729709558239588, 34.00826856640981, 24.98464108636027, 27.714076366206385, 22.456538129769886, 28.036665022092617, 28.95520158707616, 33.1733693461812, 28.266204290252514, 7.31772477431462, 33.98096803604763, 24.183230198335085, 26.78423094911045, 38.928405456541334, 17.00542889563829, 33.77776598224849, 26.92155302444416, 34.23391138753962, 41.80914474503966, 29.584918509810414, 42.33023623926316, 38.457690613977455, 39.411993832339775, 30.433838954257762, 26.438020779577467, 30.551235316272113, 40.894343123716, 1.187605319465814, 21.040935405041896, 1.5724029522927312, 26.924543114543113, 29.83689398491915, 29.755463618090044, 37.99606477153378, 24.30567073115242, 19.839871420616632, 24.833823907707103, 25.016754222362056, 107.9845170993748, 3.752718448729215, 36.06862848756627, 19.485200966249774, 23.39676599250532, 15.341985370002124, 40.84368831141515, 28.9798553274315, 54.36566379792993, 3.5595515478048676, 55.21641810050855, 31.31245943005836, 35.78690274718102, 39.04640132873368, 25.531709764328884, 19.18665728885472, 13.763474463055857, 45.06594640303642, 0.0, 20.178925157166095, 25.026915898780018, 0.15579934675147825, 11.11483600115909, 27.315234023083047, 34.20796305672586, 31.699797813975046, 33.728755427715434, 8.609870381895947, 11.957044106102384, 27.956186900916464, 31.7880478370618, 111.89850663820738, 57.66904480376282, 22.08642903728561, 23.57077086308481, 29.056816469355848, 37.959568098770625, 26.925762641382324, 33.14607501745585, 27.630688364837837, 26.221860369148658, 19.64997280038319, 25.168975655528417, 7.910047500973774, 7.245491979058614, 19.221263353014674, 51.80243117280018, 27.787529553669064, 2.1815503456217984, 23.455096927476657, 15.6851776298515, 40.379354498332276, 23.872401048855053, 20.58780071812531, 21.980658752642324, 1.2174331157751361, 58.065638478312984, 34.464578782361095, 27.47197264885102, 31.804255802334527, 25.58649895733172, 42.0167224575353, 7.2227284939108465, 30.82724744638531, 0.9780540933335421, 37.37331667713852, 6.321477588985562, 15.0932101553214, 19.54143462738871, 33.76852307567138, 36.29994311139394, 26.08053870988824, 8.547369720874176, 24.45734833673197, 36.17300931673697, 17.623567212360445, 23.50940118824782, 61.258177473394156, 9.994430782180821, 28.92840580415206, 27.75370421529298, 23.998966525904244, 23.69651743327633, 25.55017690498722, 23.789879899986964, 21.859844633755422, 21.152134621121565, 0.7689973832970461, 24.50257934329217, 33.49163793650668, 38.282810712572235, 26.2192752020766, 68.474099472561, 77.62815085843876, 60.95682778601909, 77.56545472665341, 64.87209126506373, 64.90366410247448, 439.6957926082655, 30.62982972335781, 31.324009876260337, 27.422131185314967, 15.580747388532833, 33.24832557311312, 7.7534111677254, 38.61133542859379, 28.002003665494364, 10.277077969340302, 28.072262937216337, 23.254810882768595, 0.0, 27.98902143120473, 37.82921095666183, 24.621491911174488, 26.60679889926477, 15.75760616689425, 16.189624013459223, 23.464712139183575, 42.77535050348607, 20.128474005372766, 31.84057331700768, 17.462919160341947, 40.35327346296417], \"y\": [5.200654600661583, 5.519939883825891, 7.44503695478858, 5.817677895359228, 10.528384739892061, 5.887815451598191, 6.517644802616469, 5.171390185875067, 5.768950358581137, 5.52902381414396, 6.329661505511959, 6.626466587321395, 7.773303275254477, 5.365051954758956, 5.232139301175958, 9.234509681063853, 5.017147936946177, 7.107784955029452, 7.559854998509757, 6.739512074294551, 9.881544416983552, 6.918257974076251, 8.062331525018113, 5.631721792298576, 6.4934246464699035, 9.26705378906168, 4.205019061601401, 5.328242901296596, 7.007432065908427, 5.068840345265543, 5.421872252520575, 9.475828096466138, 6.179058265906407, 5.312741161236849, 4.744489076974695, 6.731198907696045, 5.506577387759659, 6.555741330132935, 5.111968332979956, 5.906185194293218, 5.723907100859154, 6.239755712882794, 5.977448744720187, 6.7502533411752665, 6.1781185801700484, 5.333520924161185, 9.661821562260744, 5.404347270752628, 5.181683089608756, 5.225938873845123, 6.092252379899674, 5.766068478033405, 4.11372380448054, 8.129489085311054, 5.375843431946794, 8.163496336750319, 10.103809765532821, 5.330329716547551, 5.757642911499027, 6.683764295145322, 5.688307336758816, 5.302710594640972, 9.203941054408121, 10.643014808762421, 5.945660884449856, 6.108812735804029, 5.421563169095221, 6.617791674126043, 5.4075171979678505, 5.810757126567172, 6.534665388708725, 6.217959112686281, 6.9560154594469745, 6.454530460914975, 6.019764878909395, 5.636904396771361, 8.188057745420188, 5.8067967168932615, 5.355448110782333, 4.780240252074352, 5.159815417425491, 5.24375981326547, 4.67621438410657, 5.242336224536897, 6.719261934123841, 7.333180947857643, 8.301900618776731, 9.985542462514767, 5.193186979207056, 5.488941359951177, 5.409460370426014, 6.064028809140538, 5.46150784976949, 4.885125434330728, 5.17080047152237, 5.047531227616147, 4.898806727359224, 4.978666338721896, 6.014295339650133, 4.321111429825719, 4.695385714980627, 5.183260830807366, 6.64712656562987, 12.57849033564832, 4.561056103192452, 5.868599943731799, 6.404829564436104, 5.451894369164435, 5.0687625309482405, 5.878561914103105, 6.693399976147998, 6.477970402013468, 5.529236631242117, 5.268821012151396, 6.066558170973165, 5.549273770057766, 7.434922191611523, 8.72596070802591, 4.088383622434307, 11.412124086887792, 6.0014502228801145, 6.8199669204068725, 6.793539087794529, 3.626142527698476, 5.5588180910267, 5.844681859696622, 5.506954033668599, 9.40188485681992, 5.739025782986357, 6.235739021885237, 5.3952926979778795, 5.649870279027014, 9.913441094267514, 16.573231076794887, 6.067691053220226, 5.34142200827126, 5.784632258945845, 5.270293410971168, 6.421082930241009, 5.180017038619779, 5.15720711007676, 4.461468104110566, 10.889570637475435, 4.965104862282162, 4.669045508101989, 6.666435271076369, 5.8414984150578375, 7.125348578746774, 7.026153064659377, 6.502713255842463, 6.4451280985302475, 6.497657770122847, 6.730058302667363, 6.1545571298513355, 6.229528150996809, 8.078068304423445, 6.421731288271104, 4.910243363549014, 4.5029913160060575, 5.9615508294315465, 5.403325185603329, 8.28258325435059, 12.115851068143037, 6.240278071710092, 6.400293305004188, 6.496781425604512, 5.509481905121705, 6.821737492830574, 5.266209378798633, 8.40458136306367, 5.360139345382344, 5.319823823613897, 9.567213539379976, 9.675405683948505, 5.829567533849999, 7.0326893490183044, 5.242185531928392, 9.378327581229648]}],\n",
       "                        {\"template\": {\"data\": {\"bar\": [{\"error_x\": {\"color\": \"#2a3f5f\"}, \"error_y\": {\"color\": \"#2a3f5f\"}, \"marker\": {\"line\": {\"color\": \"#E5ECF6\", \"width\": 0.5}}, \"type\": \"bar\"}], \"barpolar\": [{\"marker\": {\"line\": {\"color\": \"#E5ECF6\", \"width\": 0.5}}, \"type\": \"barpolar\"}], \"carpet\": [{\"aaxis\": {\"endlinecolor\": \"#2a3f5f\", \"gridcolor\": \"white\", \"linecolor\": \"white\", \"minorgridcolor\": \"white\", \"startlinecolor\": \"#2a3f5f\"}, \"baxis\": {\"endlinecolor\": \"#2a3f5f\", \"gridcolor\": \"white\", \"linecolor\": \"white\", \"minorgridcolor\": \"white\", \"startlinecolor\": \"#2a3f5f\"}, \"type\": \"carpet\"}], \"choropleth\": [{\"colorbar\": {\"outlinewidth\": 0, \"ticks\": \"\"}, \"type\": \"choropleth\"}], \"contour\": [{\"colorbar\": {\"outlinewidth\": 0, \"ticks\": \"\"}, \"colorscale\": [[0.0, \"#0d0887\"], [0.1111111111111111, \"#46039f\"], [0.2222222222222222, \"#7201a8\"], [0.3333333333333333, \"#9c179e\"], [0.4444444444444444, \"#bd3786\"], [0.5555555555555556, \"#d8576b\"], [0.6666666666666666, \"#ed7953\"], [0.7777777777777778, \"#fb9f3a\"], [0.8888888888888888, \"#fdca26\"], [1.0, \"#f0f921\"]], \"type\": \"contour\"}], \"contourcarpet\": [{\"colorbar\": {\"outlinewidth\": 0, \"ticks\": \"\"}, \"type\": \"contourcarpet\"}], \"heatmap\": [{\"colorbar\": {\"outlinewidth\": 0, \"ticks\": \"\"}, \"colorscale\": [[0.0, \"#0d0887\"], [0.1111111111111111, \"#46039f\"], [0.2222222222222222, \"#7201a8\"], [0.3333333333333333, \"#9c179e\"], [0.4444444444444444, \"#bd3786\"], [0.5555555555555556, \"#d8576b\"], [0.6666666666666666, \"#ed7953\"], [0.7777777777777778, \"#fb9f3a\"], [0.8888888888888888, \"#fdca26\"], [1.0, \"#f0f921\"]], \"type\": \"heatmap\"}], \"heatmapgl\": [{\"colorbar\": {\"outlinewidth\": 0, \"ticks\": \"\"}, \"colorscale\": [[0.0, \"#0d0887\"], [0.1111111111111111, \"#46039f\"], [0.2222222222222222, \"#7201a8\"], [0.3333333333333333, \"#9c179e\"], [0.4444444444444444, \"#bd3786\"], [0.5555555555555556, \"#d8576b\"], [0.6666666666666666, \"#ed7953\"], [0.7777777777777778, \"#fb9f3a\"], [0.8888888888888888, \"#fdca26\"], [1.0, \"#f0f921\"]], \"type\": \"heatmapgl\"}], \"histogram\": [{\"marker\": {\"colorbar\": {\"outlinewidth\": 0, \"ticks\": \"\"}}, \"type\": \"histogram\"}], \"histogram2d\": [{\"colorbar\": {\"outlinewidth\": 0, \"ticks\": \"\"}, \"colorscale\": [[0.0, \"#0d0887\"], [0.1111111111111111, \"#46039f\"], [0.2222222222222222, \"#7201a8\"], [0.3333333333333333, \"#9c179e\"], [0.4444444444444444, \"#bd3786\"], [0.5555555555555556, \"#d8576b\"], [0.6666666666666666, \"#ed7953\"], [0.7777777777777778, \"#fb9f3a\"], [0.8888888888888888, \"#fdca26\"], [1.0, \"#f0f921\"]], \"type\": \"histogram2d\"}], \"histogram2dcontour\": [{\"colorbar\": {\"outlinewidth\": 0, \"ticks\": \"\"}, \"colorscale\": [[0.0, \"#0d0887\"], [0.1111111111111111, \"#46039f\"], [0.2222222222222222, \"#7201a8\"], [0.3333333333333333, \"#9c179e\"], [0.4444444444444444, \"#bd3786\"], [0.5555555555555556, \"#d8576b\"], [0.6666666666666666, \"#ed7953\"], [0.7777777777777778, \"#fb9f3a\"], [0.8888888888888888, \"#fdca26\"], [1.0, \"#f0f921\"]], \"type\": \"histogram2dcontour\"}], \"mesh3d\": [{\"colorbar\": {\"outlinewidth\": 0, \"ticks\": \"\"}, \"type\": \"mesh3d\"}], \"parcoords\": [{\"line\": {\"colorbar\": {\"outlinewidth\": 0, \"ticks\": \"\"}}, \"type\": \"parcoords\"}], \"pie\": [{\"automargin\": true, \"type\": \"pie\"}], \"scatter\": [{\"marker\": {\"colorbar\": {\"outlinewidth\": 0, \"ticks\": \"\"}}, \"type\": \"scatter\"}], \"scatter3d\": [{\"line\": {\"colorbar\": {\"outlinewidth\": 0, \"ticks\": \"\"}}, \"marker\": {\"colorbar\": {\"outlinewidth\": 0, \"ticks\": \"\"}}, \"type\": \"scatter3d\"}], \"scattercarpet\": [{\"marker\": {\"colorbar\": {\"outlinewidth\": 0, \"ticks\": \"\"}}, \"type\": \"scattercarpet\"}], \"scattergeo\": [{\"marker\": {\"colorbar\": {\"outlinewidth\": 0, \"ticks\": \"\"}}, \"type\": \"scattergeo\"}], \"scattergl\": [{\"marker\": {\"colorbar\": {\"outlinewidth\": 0, \"ticks\": \"\"}}, \"type\": \"scattergl\"}], \"scattermapbox\": [{\"marker\": {\"colorbar\": {\"outlinewidth\": 0, \"ticks\": \"\"}}, \"type\": \"scattermapbox\"}], \"scatterpolar\": [{\"marker\": {\"colorbar\": {\"outlinewidth\": 0, \"ticks\": \"\"}}, \"type\": \"scatterpolar\"}], \"scatterpolargl\": [{\"marker\": {\"colorbar\": {\"outlinewidth\": 0, \"ticks\": \"\"}}, \"type\": \"scatterpolargl\"}], \"scatterternary\": [{\"marker\": {\"colorbar\": {\"outlinewidth\": 0, \"ticks\": \"\"}}, \"type\": \"scatterternary\"}], \"surface\": [{\"colorbar\": {\"outlinewidth\": 0, \"ticks\": \"\"}, \"colorscale\": [[0.0, \"#0d0887\"], [0.1111111111111111, \"#46039f\"], [0.2222222222222222, \"#7201a8\"], [0.3333333333333333, \"#9c179e\"], [0.4444444444444444, \"#bd3786\"], [0.5555555555555556, \"#d8576b\"], [0.6666666666666666, \"#ed7953\"], [0.7777777777777778, \"#fb9f3a\"], [0.8888888888888888, \"#fdca26\"], [1.0, \"#f0f921\"]], \"type\": \"surface\"}], \"table\": [{\"cells\": {\"fill\": {\"color\": \"#EBF0F8\"}, \"line\": {\"color\": \"white\"}}, \"header\": {\"fill\": {\"color\": \"#C8D4E3\"}, \"line\": {\"color\": \"white\"}}, \"type\": \"table\"}]}, \"layout\": {\"annotationdefaults\": {\"arrowcolor\": \"#2a3f5f\", \"arrowhead\": 0, \"arrowwidth\": 1}, \"coloraxis\": {\"colorbar\": {\"outlinewidth\": 0, \"ticks\": \"\"}}, \"colorscale\": {\"diverging\": [[0, \"#8e0152\"], [0.1, \"#c51b7d\"], [0.2, \"#de77ae\"], [0.3, \"#f1b6da\"], [0.4, \"#fde0ef\"], [0.5, \"#f7f7f7\"], [0.6, \"#e6f5d0\"], [0.7, \"#b8e186\"], [0.8, \"#7fbc41\"], [0.9, \"#4d9221\"], [1, \"#276419\"]], \"sequential\": [[0.0, \"#0d0887\"], [0.1111111111111111, \"#46039f\"], [0.2222222222222222, \"#7201a8\"], [0.3333333333333333, \"#9c179e\"], [0.4444444444444444, \"#bd3786\"], [0.5555555555555556, \"#d8576b\"], [0.6666666666666666, \"#ed7953\"], [0.7777777777777778, \"#fb9f3a\"], [0.8888888888888888, \"#fdca26\"], [1.0, \"#f0f921\"]], \"sequentialminus\": [[0.0, \"#0d0887\"], [0.1111111111111111, \"#46039f\"], [0.2222222222222222, \"#7201a8\"], [0.3333333333333333, \"#9c179e\"], [0.4444444444444444, \"#bd3786\"], [0.5555555555555556, \"#d8576b\"], [0.6666666666666666, \"#ed7953\"], [0.7777777777777778, \"#fb9f3a\"], [0.8888888888888888, \"#fdca26\"], [1.0, \"#f0f921\"]]}, \"colorway\": [\"#636efa\", \"#EF553B\", \"#00cc96\", \"#ab63fa\", \"#FFA15A\", \"#19d3f3\", \"#FF6692\", \"#B6E880\", \"#FF97FF\", \"#FECB52\"], \"font\": {\"color\": \"#2a3f5f\"}, \"geo\": {\"bgcolor\": \"white\", \"lakecolor\": \"white\", \"landcolor\": \"#E5ECF6\", \"showlakes\": true, \"showland\": true, \"subunitcolor\": \"white\"}, \"hoverlabel\": {\"align\": \"left\"}, \"hovermode\": \"closest\", \"mapbox\": {\"style\": \"light\"}, \"paper_bgcolor\": \"white\", \"plot_bgcolor\": \"#E5ECF6\", \"polar\": {\"angularaxis\": {\"gridcolor\": \"white\", \"linecolor\": \"white\", \"ticks\": \"\"}, \"bgcolor\": \"#E5ECF6\", \"radialaxis\": {\"gridcolor\": \"white\", \"linecolor\": \"white\", \"ticks\": \"\"}}, \"scene\": {\"xaxis\": {\"backgroundcolor\": \"#E5ECF6\", \"gridcolor\": \"white\", \"gridwidth\": 2, \"linecolor\": \"white\", \"showbackground\": true, \"ticks\": \"\", \"zerolinecolor\": \"white\"}, \"yaxis\": {\"backgroundcolor\": \"#E5ECF6\", \"gridcolor\": \"white\", \"gridwidth\": 2, \"linecolor\": \"white\", \"showbackground\": true, \"ticks\": \"\", \"zerolinecolor\": \"white\"}, \"zaxis\": {\"backgroundcolor\": \"#E5ECF6\", \"gridcolor\": \"white\", \"gridwidth\": 2, \"linecolor\": \"white\", \"showbackground\": true, \"ticks\": \"\", \"zerolinecolor\": \"white\"}}, \"shapedefaults\": {\"line\": {\"color\": \"#2a3f5f\"}}, \"ternary\": {\"aaxis\": {\"gridcolor\": \"white\", \"linecolor\": \"white\", \"ticks\": \"\"}, \"baxis\": {\"gridcolor\": \"white\", \"linecolor\": \"white\", \"ticks\": \"\"}, \"bgcolor\": \"#E5ECF6\", \"caxis\": {\"gridcolor\": \"white\", \"linecolor\": \"white\", \"ticks\": \"\"}}, \"title\": {\"x\": 0.05}, \"xaxis\": {\"automargin\": true, \"gridcolor\": \"white\", \"linecolor\": \"white\", \"ticks\": \"\", \"title\": {\"standoff\": 15}, \"zerolinecolor\": \"white\", \"zerolinewidth\": 2}, \"yaxis\": {\"automargin\": true, \"gridcolor\": \"white\", \"linecolor\": \"white\", \"ticks\": \"\", \"title\": {\"standoff\": 15}, \"zerolinecolor\": \"white\", \"zerolinewidth\": 2}}}, \"title\": {\"text\": \"ABV vs IBU with SRM to Boot\"}, \"xaxis\": {\"range\": [0, 120], \"title\": {\"text\": \"IBU\"}}, \"yaxis\": {\"range\": [2, 15], \"title\": {\"text\": \"ABV\"}}},\n",
       "                        {\"responsive\": true}\n",
       "                    ).then(function(){\n",
       "                            \n",
       "var gd = document.getElementById('8f7f29a2-51b5-4ea4-ab4e-7fd4c3c6074b');\n",
       "var x = new MutationObserver(function (mutations, observer) {{\n",
       "        var display = window.getComputedStyle(gd).display;\n",
       "        if (!display || display === 'none') {{\n",
       "            console.log([gd, 'removed!']);\n",
       "            Plotly.purge(gd);\n",
       "            observer.disconnect();\n",
       "        }}\n",
       "}});\n",
       "\n",
       "// Listen for the removal of the full notebook cells\n",
       "var notebookContainer = gd.closest('#notebook-container');\n",
       "if (notebookContainer) {{\n",
       "    x.observe(notebookContainer, {childList: true});\n",
       "}}\n",
       "\n",
       "// Listen for the clearing of the current output cell\n",
       "var outputEl = gd.closest('.output');\n",
       "if (outputEl) {{\n",
       "    x.observe(outputEl, {childList: true});\n",
       "}}\n",
       "\n",
       "                        })\n",
       "                };\n",
       "                });\n",
       "            </script>\n",
       "        </div>"
      ]
     },
     "metadata": {},
     "output_type": "display_data"
    }
   ],
   "source": [
    "plot_bubble(bf)"
   ]
  },
  {
   "cell_type": "markdown",
   "metadata": {},
   "source": [
    "### Contour plot"
   ]
  },
  {
   "cell_type": "code",
   "execution_count": 13,
   "metadata": {},
   "outputs": [],
   "source": [
    "metrics = bf.groupby(bf.index).first()"
   ]
  },
  {
   "cell_type": "code",
   "execution_count": 14,
   "metadata": {},
   "outputs": [
    {
     "data": {
      "text/plain": [
       "Index(['batch_size', 'boil_size', 'boil_time', 'brewer', 'efficiency', 'name',\n",
       "       'origin', 'recipe_file', 'src_abv', 'src_color', 'src_fg', 'src_ibu',\n",
       "       'src_og', 'style_category', 'style_guide', 'style_name',\n",
       "       'style_version', 'ferm_amount', 'ferm_color', 'ferm_display_amount',\n",
       "       'ferm_name', 'ferm_origin', 'ferm_potential', 'ferm_type', 'ferm_yield',\n",
       "       'hop_alpha', 'hop_amount', 'hop_display_amount', 'hop_form', 'hop_name',\n",
       "       'hop_origin', 'hop_time', 'hop_use', 'misc_amount',\n",
       "       'misc_amount_is_weight', 'misc_name', 'misc_time', 'misc_use',\n",
       "       'yeast_amount', 'yeast_attenuation', 'yeast_flocculation', 'yeast_form',\n",
       "       'yeast_laboratory', 'yeast_name', 'yeast_product_id', 'yeast_type',\n",
       "       'ferm_scaled', 'hop_scaled', 'ibu', 'abv', 'srm'],\n",
       "      dtype='object')"
      ]
     },
     "execution_count": 14,
     "metadata": {},
     "output_type": "execute_result"
    }
   ],
   "source": [
    "metrics.columns"
   ]
  },
  {
   "cell_type": "code",
   "execution_count": 15,
   "metadata": {},
   "outputs": [
    {
     "data": {
      "text/plain": [
       "american ipa                         11393\n",
       "american pale ale                     7285\n",
       "saison                                2550\n",
       "american light lager                  2100\n",
       "american amber ale                    1938\n",
       "blonde ale                            1665\n",
       "imperial ipa                          1431\n",
       "american stout                        1227\n",
       "irish red ale                         1155\n",
       "american brown ale                    1104\n",
       "witbier                               1033\n",
       "california common beer                 992\n",
       "weissbier                              952\n",
       "oatmeal stout                          931\n",
       "russian imperial stout                 914\n",
       "sweet stout                            891\n",
       "weizen/weissbier                       880\n",
       "robust porter                          871\n",
       "kölsch                                 829\n",
       "double ipa                             818\n",
       "cream ale                              807\n",
       "english ipa                            755\n",
       "american porter                        747\n",
       "imperial stout                         650\n",
       "extra special/strong bitter (esb)      644\n",
       "american wheat beer                    631\n",
       "specialty ipa: black ipa               600\n",
       "belgian pale ale                       599\n",
       "no profile selected                    580\n",
       "american wheat or rye beer             563\n",
       "                                     ...  \n",
       "international dark lager                31\n",
       "german helles exportbier                30\n",
       "czech amber lager                       30\n",
       "oud bruin                               30\n",
       "english cider                           30\n",
       "pre-prohibition lager                   29\n",
       "kentucky common                         29\n",
       "tropical stout                          28\n",
       "scottish light 60/-                     24\n",
       "fruit cider                             22\n",
       "sahti                                   21\n",
       "eisbock                                 21\n",
       "alternative sugar beer                  20\n",
       "kellerbier: pale kellerbier             19\n",
       "german leichtbier                       18\n",
       "open category mead                      17\n",
       "cyser (apple melomel)                   17\n",
       "piwo grodziskie                         16\n",
       "kellerbier: amber kellerbier            16\n",
       "metheglin                               14\n",
       "specialty wood-aged beer                11\n",
       "pre-prohibition porter                  11\n",
       "london brown ale                         8\n",
       "new england cider                        7\n",
       "lichtenhainer                            6\n",
       "apple wine                               6\n",
       "pyment (grape melomel)                   5\n",
       "traditional perry                        2\n",
       "french cider                             2\n",
       "burton ale                               1\n",
       "Name: style_name, Length: 178, dtype: int64"
      ]
     },
     "execution_count": 15,
     "metadata": {},
     "output_type": "execute_result"
    }
   ],
   "source": [
    "metrics.style_name.value_counts()"
   ]
  },
  {
   "cell_type": "code",
   "execution_count": 16,
   "metadata": {},
   "outputs": [],
   "source": [
    "def generate_hist(df, style):\n",
    "    metrics = df[df[\"style_name\"] == style]\n",
    "    metrics[\"ibu\"] = metrics[\"ibu\"].clip(0, 200)\n",
    "    metrics[\"abv\"] = metrics[\"abv\"].clip(0, 15)\n",
    "    hist, x_edge, y_edge = np.histogram2d(metrics.ibu.values, metrics.abv.values, bins=20, range=[[0,200],[0,20]], density=True)\n",
    "    x_mid = (x_edge[1:] + x_edge[:-1])/2.\n",
    "    y_mid = (y_edge[1:] + y_edge[:-1])/2.\n",
    "    return hist, x_mid, y_mid"
   ]
  },
  {
   "cell_type": "code",
   "execution_count": 18,
   "metadata": {},
   "outputs": [
    {
     "name": "stderr",
     "output_type": "stream",
     "text": [
      "/home/rory/beer.ai/env/lib/python3.6/site-packages/ipykernel_launcher.py:3: SettingWithCopyWarning:\n",
      "\n",
      "\n",
      "A value is trying to be set on a copy of a slice from a DataFrame.\n",
      "Try using .loc[row_indexer,col_indexer] = value instead\n",
      "\n",
      "See the caveats in the documentation: http://pandas.pydata.org/pandas-docs/stable/indexing.html#indexing-view-versus-copy\n",
      "\n",
      "/home/rory/beer.ai/env/lib/python3.6/site-packages/ipykernel_launcher.py:4: SettingWithCopyWarning:\n",
      "\n",
      "\n",
      "A value is trying to be set on a copy of a slice from a DataFrame.\n",
      "Try using .loc[row_indexer,col_indexer] = value instead\n",
      "\n",
      "See the caveats in the documentation: http://pandas.pydata.org/pandas-docs/stable/indexing.html#indexing-view-versus-copy\n",
      "\n"
     ]
    },
    {
     "data": {
      "application/vnd.plotly.v1+json": {
       "config": {
        "linkText": "Export to plot.ly",
        "plotlyServerURL": "https://plot.ly",
        "showLink": false
       },
       "data": [
        {
         "contours": {
          "coloring": "lines",
          "end": 0.02,
          "start": 0.005
         },
         "line": {
          "width": 2
         },
         "type": "contour",
         "x": [
          5,
          15,
          25,
          35,
          45,
          55,
          65,
          75,
          85,
          95,
          105,
          115,
          125,
          135,
          145,
          155,
          165,
          175,
          185,
          195
         ],
         "y": [
          0.5,
          1.5,
          2.5,
          3.5,
          4.5,
          5.5,
          6.5,
          7.5,
          8.5,
          9.5,
          10.5,
          11.5,
          12.5,
          13.5,
          14.5,
          15.5,
          16.5,
          17.5,
          18.5,
          19.5
         ],
         "z": [
          [
           4.391743522178305e-05,
           2.635046113306983e-05,
           2.635046113306983e-05,
           1.7566974088713222e-05,
           0.0002722880983750549,
           0.0009486166007905139,
           0.0014141414141414144,
           0.0006675450153711023,
           0.00018445322793148882,
           0.00010540184453227932,
           2.635046113306983e-05,
           3.5133948177426444e-05,
           2.635046113306983e-05,
           0,
           8.783487044356611e-06,
           3.5133948177426444e-05,
           0,
           0,
           0,
           0
          ],
          [
           0,
           8.783487044356611e-06,
           1.7566974088713222e-05,
           2.635046113306983e-05,
           0.0001756697408871322,
           0.00044795783926218706,
           0.0006938954765041722,
           0.00024593763724198504,
           6.148440931049626e-05,
           8.783487044356611e-06,
           8.783487044356611e-06,
           1.7566974088713222e-05,
           0,
           8.783487044356611e-06,
           0,
           4.391743522178305e-05,
           0,
           0,
           0,
           0
          ],
          [
           0,
           0,
           2.635046113306983e-05,
           9.661835748792272e-05,
           0.00041282389108476065,
           0.0010979358805445762,
           0.0014931927975406236,
           0.0007114624505928853,
           0.00012296881862099252,
           2.635046113306983e-05,
           3.5133948177426444e-05,
           0,
           0,
           8.783487044356611e-06,
           0,
           8.783487044356611e-06,
           0,
           0,
           0,
           0
          ],
          [
           0,
           0,
           8.783487044356611e-06,
           0.00012296881862099252,
           0.0006324110671936759,
           0.0018620992534036011,
           0.0025120772946859906,
           0.001054018445322793,
           0.00021080368906455863,
           4.391743522178305e-05,
           1.7566974088713222e-05,
           3.5133948177426444e-05,
           2.635046113306983e-05,
           8.783487044356611e-06,
           0,
           8.783487044356611e-06,
           0,
           0,
           0,
           0
          ],
          [
           0,
           0,
           0,
           0.00013175230566534913,
           0.0007992973210364515,
           0.0033025911286780852,
           0.00510320597277119,
           0.001642512077294686,
           0.00025472112428634165,
           0.00018445322793148882,
           6.148440931049626e-05,
           1.7566974088713222e-05,
           2.635046113306983e-05,
           0,
           8.783487044356611e-06,
           1.7566974088713222e-05,
           0,
           0,
           0,
           0
          ],
          [
           0,
           0,
           8.783487044356611e-06,
           9.661835748792272e-05,
           0.0006411945542380325,
           0.004259991216512955,
           0.00717610891523935,
           0.0023364075537988583,
           0.00038647342995169087,
           9.661835748792272e-05,
           2.635046113306983e-05,
           1.7566974088713222e-05,
           1.7566974088713222e-05,
           8.783487044356611e-06,
           8.783487044356611e-06,
           0,
           0,
           0,
           0,
           0
          ],
          [
           0,
           0,
           8.783487044356611e-06,
           6.148440931049626e-05,
           0.0006148440931049627,
           0.004022837066315327,
           0.008818620992534037,
           0.0029424681598594644,
           0.0003952569169960474,
           6.148440931049626e-05,
           4.391743522178305e-05,
           1.7566974088713222e-05,
           1.7566974088713222e-05,
           0,
           0,
           0,
           0,
           0,
           0,
           0
          ],
          [
           0,
           0,
           0,
           3.5133948177426444e-05,
           0.00047430830039525695,
           0.002301273605621432,
           0.005208607817303469,
           0.0023803249890206415,
           0.00038647342995169087,
           6.148440931049626e-05,
           7.026789635485289e-05,
           3.5133948177426444e-05,
           8.783487044356611e-06,
           0,
           0,
           8.783487044356611e-06,
           0,
           0,
           0,
           0
          ],
          [
           8.783487044356611e-06,
           0,
           0,
           3.5133948177426444e-05,
           0.00030742204655248134,
           0.0016073781291172597,
           0.0032411067193675886,
           0.0016073781291172597,
           0.00030742204655248134,
           8.78348704435661e-05,
           8.783487044356611e-06,
           8.783487044356611e-06,
           0,
           0,
           0,
           1.7566974088713222e-05,
           0,
           0,
           0,
           0
          ],
          [
           0,
           0,
           1.7566974088713222e-05,
           1.7566974088713222e-05,
           0.00023715415019762848,
           0.000878348704435661,
           0.00204655248133509,
           0.0011155028546332893,
           0.0003337725076855511,
           7.905138339920949e-05,
           3.5133948177426444e-05,
           8.783487044356611e-06,
           8.783487044356611e-06,
           0,
           0,
           0,
           0,
           0,
           0,
           0
          ],
          [
           0,
           0,
           0,
           3.5133948177426444e-05,
           0.00010540184453227932,
           0.0006060606060606061,
           0.001370223978919631,
           0.000851998243302591,
           0.00018445322793148882,
           6.148440931049626e-05,
           8.783487044356611e-06,
           8.783487044356611e-06,
           0,
           0,
           0,
           0,
           0,
           0,
           0,
           0
          ],
          [
           0,
           0,
           0,
           8.783487044356611e-06,
           8.78348704435661e-05,
           0.0006236275801493193,
           0.0010188844971453666,
           0.0005270092226613965,
           0.00015810276679841898,
           0.00010540184453227932,
           1.7566974088713222e-05,
           0,
           8.783487044356611e-06,
           0,
           0,
           0,
           0,
           0,
           0,
           0
          ],
          [
           0,
           0,
           0,
           8.783487044356611e-06,
           6.148440931049626e-05,
           0.00044795783926218706,
           0.0008607817303469478,
           0.0004655248133509003,
           0.00011418533157663593,
           2.635046113306983e-05,
           0,
           8.783487044356611e-06,
           0,
           0,
           0,
           0,
           0,
           0,
           0,
           0
          ],
          [
           0,
           0,
           0,
           8.783487044356611e-06,
           5.270092226613966e-05,
           0.00036890645586297764,
           0.0006675450153711023,
           0.00041282389108476065,
           0.00014053579270970577,
           2.635046113306983e-05,
           4.391743522178305e-05,
           0,
           0,
           0,
           0,
           0,
           0,
           0,
           0,
           0
          ],
          [
           0,
           0,
           0,
           1.7566974088713222e-05,
           3.5133948177426444e-05,
           0.00018445322793148882,
           0.0005797101449275362,
           0.000202020202020202,
           0.00010540184453227932,
           8.783487044356611e-06,
           0,
           8.783487044356611e-06,
           0,
           0,
           0,
           0,
           0,
           0,
           0,
           0
          ],
          [
           0,
           0,
           0,
           8.783487044356611e-06,
           1.7566974088713222e-05,
           0.00010540184453227932,
           0.00044795783926218706,
           0.00022837066315327186,
           7.026789635485289e-05,
           1.7566974088713222e-05,
           8.783487044356611e-06,
           0,
           0,
           8.783487044356611e-06,
           0,
           0,
           0,
           0,
           0,
           0
          ],
          [
           0,
           0,
           0,
           0,
           7.026789635485289e-05,
           0.00014053579270970577,
           0.0002722880983750549,
           0.00018445322793148882,
           5.270092226613966e-05,
           3.5133948177426444e-05,
           0,
           0,
           0,
           0,
           0,
           0,
           0,
           0,
           0,
           0
          ],
          [
           0,
           0,
           0,
           0,
           1.7566974088713222e-05,
           0.00018445322793148882,
           0.00028107158541941155,
           0.0001756697408871322,
           2.635046113306983e-05,
           8.783487044356611e-06,
           0,
           0,
           0,
           0,
           0,
           0,
           0,
           0,
           0,
           0
          ],
          [
           0,
           0,
           0,
           0,
           2.635046113306983e-05,
           0.00014053579270970577,
           0.0002986385595081247,
           0.00012296881862099252,
           7.026789635485289e-05,
           8.783487044356611e-06,
           8.783487044356611e-06,
           0,
           0,
           0,
           0,
           0,
           0,
           0,
           0,
           0
          ],
          [
           0,
           0,
           0,
           8.783487044356611e-06,
           0.00014053579270970577,
           0.00051822573561704,
           0.001282389108476065,
           0.0010891523935002195,
           0.00032498902064119457,
           8.78348704435661e-05,
           3.5133948177426444e-05,
           8.783487044356611e-06,
           0,
           0,
           8.783487044356611e-06,
           0,
           0,
           0,
           0,
           0
          ]
         ]
        },
        {
         "contours": {
          "coloring": "lines",
          "end": 0.02,
          "start": 0.005
         },
         "line": {
          "width": 2
         },
         "type": "contour",
         "x": [
          5,
          15,
          25,
          35,
          45,
          55,
          65,
          75,
          85,
          95,
          105,
          115,
          125,
          135,
          145,
          155,
          165,
          175,
          185,
          195
         ],
         "y": [
          0.5,
          1.5,
          2.5,
          3.5,
          4.5,
          5.5,
          6.5,
          7.5,
          8.5,
          9.5,
          10.5,
          11.5,
          12.5,
          13.5,
          14.5,
          15.5,
          16.5,
          17.5,
          18.5,
          19.5
         ],
         "z": [
          [
           8.156606851549755e-05,
           0,
           0,
           0.0001631321370309951,
           0.0004078303425774878,
           0.0011419249592169657,
           0.0010603588907014683,
           0.0004078303425774878,
           0.0003262642740619902,
           0,
           8.156606851549755e-05,
           0,
           0,
           0,
           8.156606851549755e-05,
           0,
           0,
           0,
           0,
           0
          ],
          [
           0,
           0,
           0,
           0,
           0.0004078303425774878,
           0.001468189233278956,
           0.002202283849918434,
           0.0008156606851549756,
           0.00024469820554649265,
           0.0001631321370309951,
           0,
           8.156606851549755e-05,
           0,
           8.156606851549755e-05,
           0,
           0,
           0,
           0,
           0,
           0
          ],
          [
           0,
           0,
           8.156606851549755e-05,
           0,
           0.0009787928221859706,
           0.0035073409461663946,
           0.004730831973898858,
           0.0021207177814029365,
           0.0008972267536704731,
           0.0004078303425774878,
           8.156606851549755e-05,
           8.156606851549755e-05,
           0.0001631321370309951,
           8.156606851549755e-05,
           0,
           0.0001631321370309951,
           0,
           0,
           0,
           0
          ],
          [
           0,
           0,
           0,
           0,
           0.0020391517128874386,
           0.008075040783034258,
           0.00831973898858075,
           0.00399673735725938,
           0.0016313213703099511,
           0.0004893964110929853,
           0.0004078303425774878,
           8.156606851549755e-05,
           0,
           0,
           0,
           0,
           0,
           0,
           0,
           0
          ],
          [
           0,
           0,
           0,
           0,
           0.0009787928221859706,
           0.005628058727569331,
           0.009380097879282219,
           0.003099510603588907,
           0.0011419249592169657,
           0.000734094616639478,
           0,
           0,
           8.156606851549755e-05,
           0,
           0,
           8.156606851549755e-05,
           0,
           0,
           0,
           0
          ],
          [
           0,
           0,
           0,
           0,
           0.0004078303425774878,
           0.002365415986949429,
           0.005546492659053833,
           0.002691680261011419,
           0.0013050570962479609,
           0.0004078303425774878,
           0.00024469820554649265,
           0,
           0,
           0,
           0,
           0,
           0,
           0,
           0,
           0
          ],
          [
           0,
           0,
           0,
           0,
           0.0006525285481239804,
           0.0016313213703099511,
           0.004078303425774877,
           0.0018760195758564435,
           0.0006525285481239804,
           8.156606851549755e-05,
           0.0001631321370309951,
           8.156606851549755e-05,
           0,
           8.156606851549755e-05,
           0,
           0,
           0,
           0,
           0,
           0
          ],
          [
           0,
           0,
           0,
           8.156606851549755e-05,
           0,
           0.0013866231647634583,
           0.0015497553017944535,
           0.0004893964110929853,
           0.0004893964110929853,
           0,
           0,
           0,
           0,
           0,
           0,
           0,
           0,
           0,
           0,
           0
          ],
          [
           0,
           0,
           0,
           0,
           8.156606851549755e-05,
           0.0004893964110929853,
           0.0008156606851549756,
           0.0003262642740619902,
           0.00024469820554649265,
           0,
           8.156606851549755e-05,
           8.156606851549755e-05,
           0,
           0,
           0,
           0,
           0,
           0,
           0,
           0
          ],
          [
           0,
           0,
           0,
           0,
           0,
           0.00024469820554649265,
           0.0003262642740619902,
           8.156606851549755e-05,
           0,
           8.156606851549755e-05,
           0,
           0,
           0,
           0,
           0,
           0,
           0,
           0,
           0,
           0
          ],
          [
           0,
           0,
           0,
           0,
           8.156606851549755e-05,
           0,
           0.0004078303425774878,
           0.00024469820554649265,
           8.156606851549755e-05,
           8.156606851549755e-05,
           8.156606851549755e-05,
           0,
           8.156606851549755e-05,
           0,
           0,
           0,
           0,
           0,
           0,
           0
          ],
          [
           0,
           0,
           0,
           0,
           0,
           0,
           8.156606851549755e-05,
           8.156606851549755e-05,
           8.156606851549755e-05,
           0,
           8.156606851549755e-05,
           0,
           0,
           0,
           0,
           0,
           0,
           0,
           0,
           0
          ],
          [
           0,
           0,
           0,
           0,
           0,
           0,
           8.156606851549755e-05,
           8.156606851549755e-05,
           8.156606851549755e-05,
           0,
           0,
           0,
           0,
           0,
           0,
           0,
           0,
           0,
           0,
           0
          ],
          [
           0,
           0,
           0,
           0,
           0,
           8.156606851549755e-05,
           0,
           0,
           0,
           0,
           0,
           0,
           0,
           0,
           0,
           0,
           0,
           0,
           0,
           0
          ],
          [
           0,
           0,
           0,
           0,
           0,
           0,
           8.156606851549755e-05,
           0,
           0,
           0,
           8.156606851549755e-05,
           0,
           0,
           0,
           0,
           0,
           0,
           0,
           0,
           0
          ],
          [
           0,
           0,
           0,
           0,
           0,
           0,
           0,
           8.156606851549755e-05,
           0,
           0,
           0,
           0,
           0,
           0,
           0,
           0,
           0,
           0,
           0,
           0
          ],
          [
           0,
           0,
           0,
           0,
           0,
           0,
           0,
           8.156606851549755e-05,
           0,
           0,
           0,
           0,
           0,
           0,
           0,
           0,
           0,
           0,
           0,
           0
          ],
          [
           0,
           0,
           0,
           0,
           0,
           0,
           0,
           0,
           0,
           0,
           0,
           0,
           0,
           0,
           0,
           0,
           0,
           0,
           0,
           0
          ],
          [
           0,
           0,
           0,
           0,
           0,
           0,
           0,
           0,
           0,
           0,
           0,
           0,
           0,
           0,
           0,
           0,
           0,
           0,
           0,
           0
          ],
          [
           0,
           0,
           0,
           0,
           0,
           0,
           0,
           0,
           8.156606851549755e-05,
           8.156606851549755e-05,
           0,
           0,
           0,
           0,
           0,
           0,
           0,
           0,
           0,
           0
          ]
         ]
        }
       ],
       "layout": {
        "template": {
         "data": {
          "bar": [
           {
            "error_x": {
             "color": "#2a3f5f"
            },
            "error_y": {
             "color": "#2a3f5f"
            },
            "marker": {
             "line": {
              "color": "#E5ECF6",
              "width": 0.5
             }
            },
            "type": "bar"
           }
          ],
          "barpolar": [
           {
            "marker": {
             "line": {
              "color": "#E5ECF6",
              "width": 0.5
             }
            },
            "type": "barpolar"
           }
          ],
          "carpet": [
           {
            "aaxis": {
             "endlinecolor": "#2a3f5f",
             "gridcolor": "white",
             "linecolor": "white",
             "minorgridcolor": "white",
             "startlinecolor": "#2a3f5f"
            },
            "baxis": {
             "endlinecolor": "#2a3f5f",
             "gridcolor": "white",
             "linecolor": "white",
             "minorgridcolor": "white",
             "startlinecolor": "#2a3f5f"
            },
            "type": "carpet"
           }
          ],
          "choropleth": [
           {
            "colorbar": {
             "outlinewidth": 0,
             "ticks": ""
            },
            "type": "choropleth"
           }
          ],
          "contour": [
           {
            "colorbar": {
             "outlinewidth": 0,
             "ticks": ""
            },
            "colorscale": [
             [
              0,
              "#0d0887"
             ],
             [
              0.1111111111111111,
              "#46039f"
             ],
             [
              0.2222222222222222,
              "#7201a8"
             ],
             [
              0.3333333333333333,
              "#9c179e"
             ],
             [
              0.4444444444444444,
              "#bd3786"
             ],
             [
              0.5555555555555556,
              "#d8576b"
             ],
             [
              0.6666666666666666,
              "#ed7953"
             ],
             [
              0.7777777777777778,
              "#fb9f3a"
             ],
             [
              0.8888888888888888,
              "#fdca26"
             ],
             [
              1,
              "#f0f921"
             ]
            ],
            "type": "contour"
           }
          ],
          "contourcarpet": [
           {
            "colorbar": {
             "outlinewidth": 0,
             "ticks": ""
            },
            "type": "contourcarpet"
           }
          ],
          "heatmap": [
           {
            "colorbar": {
             "outlinewidth": 0,
             "ticks": ""
            },
            "colorscale": [
             [
              0,
              "#0d0887"
             ],
             [
              0.1111111111111111,
              "#46039f"
             ],
             [
              0.2222222222222222,
              "#7201a8"
             ],
             [
              0.3333333333333333,
              "#9c179e"
             ],
             [
              0.4444444444444444,
              "#bd3786"
             ],
             [
              0.5555555555555556,
              "#d8576b"
             ],
             [
              0.6666666666666666,
              "#ed7953"
             ],
             [
              0.7777777777777778,
              "#fb9f3a"
             ],
             [
              0.8888888888888888,
              "#fdca26"
             ],
             [
              1,
              "#f0f921"
             ]
            ],
            "type": "heatmap"
           }
          ],
          "heatmapgl": [
           {
            "colorbar": {
             "outlinewidth": 0,
             "ticks": ""
            },
            "colorscale": [
             [
              0,
              "#0d0887"
             ],
             [
              0.1111111111111111,
              "#46039f"
             ],
             [
              0.2222222222222222,
              "#7201a8"
             ],
             [
              0.3333333333333333,
              "#9c179e"
             ],
             [
              0.4444444444444444,
              "#bd3786"
             ],
             [
              0.5555555555555556,
              "#d8576b"
             ],
             [
              0.6666666666666666,
              "#ed7953"
             ],
             [
              0.7777777777777778,
              "#fb9f3a"
             ],
             [
              0.8888888888888888,
              "#fdca26"
             ],
             [
              1,
              "#f0f921"
             ]
            ],
            "type": "heatmapgl"
           }
          ],
          "histogram": [
           {
            "marker": {
             "colorbar": {
              "outlinewidth": 0,
              "ticks": ""
             }
            },
            "type": "histogram"
           }
          ],
          "histogram2d": [
           {
            "colorbar": {
             "outlinewidth": 0,
             "ticks": ""
            },
            "colorscale": [
             [
              0,
              "#0d0887"
             ],
             [
              0.1111111111111111,
              "#46039f"
             ],
             [
              0.2222222222222222,
              "#7201a8"
             ],
             [
              0.3333333333333333,
              "#9c179e"
             ],
             [
              0.4444444444444444,
              "#bd3786"
             ],
             [
              0.5555555555555556,
              "#d8576b"
             ],
             [
              0.6666666666666666,
              "#ed7953"
             ],
             [
              0.7777777777777778,
              "#fb9f3a"
             ],
             [
              0.8888888888888888,
              "#fdca26"
             ],
             [
              1,
              "#f0f921"
             ]
            ],
            "type": "histogram2d"
           }
          ],
          "histogram2dcontour": [
           {
            "colorbar": {
             "outlinewidth": 0,
             "ticks": ""
            },
            "colorscale": [
             [
              0,
              "#0d0887"
             ],
             [
              0.1111111111111111,
              "#46039f"
             ],
             [
              0.2222222222222222,
              "#7201a8"
             ],
             [
              0.3333333333333333,
              "#9c179e"
             ],
             [
              0.4444444444444444,
              "#bd3786"
             ],
             [
              0.5555555555555556,
              "#d8576b"
             ],
             [
              0.6666666666666666,
              "#ed7953"
             ],
             [
              0.7777777777777778,
              "#fb9f3a"
             ],
             [
              0.8888888888888888,
              "#fdca26"
             ],
             [
              1,
              "#f0f921"
             ]
            ],
            "type": "histogram2dcontour"
           }
          ],
          "mesh3d": [
           {
            "colorbar": {
             "outlinewidth": 0,
             "ticks": ""
            },
            "type": "mesh3d"
           }
          ],
          "parcoords": [
           {
            "line": {
             "colorbar": {
              "outlinewidth": 0,
              "ticks": ""
             }
            },
            "type": "parcoords"
           }
          ],
          "pie": [
           {
            "automargin": true,
            "type": "pie"
           }
          ],
          "scatter": [
           {
            "marker": {
             "colorbar": {
              "outlinewidth": 0,
              "ticks": ""
             }
            },
            "type": "scatter"
           }
          ],
          "scatter3d": [
           {
            "line": {
             "colorbar": {
              "outlinewidth": 0,
              "ticks": ""
             }
            },
            "marker": {
             "colorbar": {
              "outlinewidth": 0,
              "ticks": ""
             }
            },
            "type": "scatter3d"
           }
          ],
          "scattercarpet": [
           {
            "marker": {
             "colorbar": {
              "outlinewidth": 0,
              "ticks": ""
             }
            },
            "type": "scattercarpet"
           }
          ],
          "scattergeo": [
           {
            "marker": {
             "colorbar": {
              "outlinewidth": 0,
              "ticks": ""
             }
            },
            "type": "scattergeo"
           }
          ],
          "scattergl": [
           {
            "marker": {
             "colorbar": {
              "outlinewidth": 0,
              "ticks": ""
             }
            },
            "type": "scattergl"
           }
          ],
          "scattermapbox": [
           {
            "marker": {
             "colorbar": {
              "outlinewidth": 0,
              "ticks": ""
             }
            },
            "type": "scattermapbox"
           }
          ],
          "scatterpolar": [
           {
            "marker": {
             "colorbar": {
              "outlinewidth": 0,
              "ticks": ""
             }
            },
            "type": "scatterpolar"
           }
          ],
          "scatterpolargl": [
           {
            "marker": {
             "colorbar": {
              "outlinewidth": 0,
              "ticks": ""
             }
            },
            "type": "scatterpolargl"
           }
          ],
          "scatterternary": [
           {
            "marker": {
             "colorbar": {
              "outlinewidth": 0,
              "ticks": ""
             }
            },
            "type": "scatterternary"
           }
          ],
          "surface": [
           {
            "colorbar": {
             "outlinewidth": 0,
             "ticks": ""
            },
            "colorscale": [
             [
              0,
              "#0d0887"
             ],
             [
              0.1111111111111111,
              "#46039f"
             ],
             [
              0.2222222222222222,
              "#7201a8"
             ],
             [
              0.3333333333333333,
              "#9c179e"
             ],
             [
              0.4444444444444444,
              "#bd3786"
             ],
             [
              0.5555555555555556,
              "#d8576b"
             ],
             [
              0.6666666666666666,
              "#ed7953"
             ],
             [
              0.7777777777777778,
              "#fb9f3a"
             ],
             [
              0.8888888888888888,
              "#fdca26"
             ],
             [
              1,
              "#f0f921"
             ]
            ],
            "type": "surface"
           }
          ],
          "table": [
           {
            "cells": {
             "fill": {
              "color": "#EBF0F8"
             },
             "line": {
              "color": "white"
             }
            },
            "header": {
             "fill": {
              "color": "#C8D4E3"
             },
             "line": {
              "color": "white"
             }
            },
            "type": "table"
           }
          ]
         },
         "layout": {
          "annotationdefaults": {
           "arrowcolor": "#2a3f5f",
           "arrowhead": 0,
           "arrowwidth": 1
          },
          "coloraxis": {
           "colorbar": {
            "outlinewidth": 0,
            "ticks": ""
           }
          },
          "colorscale": {
           "diverging": [
            [
             0,
             "#8e0152"
            ],
            [
             0.1,
             "#c51b7d"
            ],
            [
             0.2,
             "#de77ae"
            ],
            [
             0.3,
             "#f1b6da"
            ],
            [
             0.4,
             "#fde0ef"
            ],
            [
             0.5,
             "#f7f7f7"
            ],
            [
             0.6,
             "#e6f5d0"
            ],
            [
             0.7,
             "#b8e186"
            ],
            [
             0.8,
             "#7fbc41"
            ],
            [
             0.9,
             "#4d9221"
            ],
            [
             1,
             "#276419"
            ]
           ],
           "sequential": [
            [
             0,
             "#0d0887"
            ],
            [
             0.1111111111111111,
             "#46039f"
            ],
            [
             0.2222222222222222,
             "#7201a8"
            ],
            [
             0.3333333333333333,
             "#9c179e"
            ],
            [
             0.4444444444444444,
             "#bd3786"
            ],
            [
             0.5555555555555556,
             "#d8576b"
            ],
            [
             0.6666666666666666,
             "#ed7953"
            ],
            [
             0.7777777777777778,
             "#fb9f3a"
            ],
            [
             0.8888888888888888,
             "#fdca26"
            ],
            [
             1,
             "#f0f921"
            ]
           ],
           "sequentialminus": [
            [
             0,
             "#0d0887"
            ],
            [
             0.1111111111111111,
             "#46039f"
            ],
            [
             0.2222222222222222,
             "#7201a8"
            ],
            [
             0.3333333333333333,
             "#9c179e"
            ],
            [
             0.4444444444444444,
             "#bd3786"
            ],
            [
             0.5555555555555556,
             "#d8576b"
            ],
            [
             0.6666666666666666,
             "#ed7953"
            ],
            [
             0.7777777777777778,
             "#fb9f3a"
            ],
            [
             0.8888888888888888,
             "#fdca26"
            ],
            [
             1,
             "#f0f921"
            ]
           ]
          },
          "colorway": [
           "#636efa",
           "#EF553B",
           "#00cc96",
           "#ab63fa",
           "#FFA15A",
           "#19d3f3",
           "#FF6692",
           "#B6E880",
           "#FF97FF",
           "#FECB52"
          ],
          "font": {
           "color": "#2a3f5f"
          },
          "geo": {
           "bgcolor": "white",
           "lakecolor": "white",
           "landcolor": "#E5ECF6",
           "showlakes": true,
           "showland": true,
           "subunitcolor": "white"
          },
          "hoverlabel": {
           "align": "left"
          },
          "hovermode": "closest",
          "mapbox": {
           "style": "light"
          },
          "paper_bgcolor": "white",
          "plot_bgcolor": "#E5ECF6",
          "polar": {
           "angularaxis": {
            "gridcolor": "white",
            "linecolor": "white",
            "ticks": ""
           },
           "bgcolor": "#E5ECF6",
           "radialaxis": {
            "gridcolor": "white",
            "linecolor": "white",
            "ticks": ""
           }
          },
          "scene": {
           "xaxis": {
            "backgroundcolor": "#E5ECF6",
            "gridcolor": "white",
            "gridwidth": 2,
            "linecolor": "white",
            "showbackground": true,
            "ticks": "",
            "zerolinecolor": "white"
           },
           "yaxis": {
            "backgroundcolor": "#E5ECF6",
            "gridcolor": "white",
            "gridwidth": 2,
            "linecolor": "white",
            "showbackground": true,
            "ticks": "",
            "zerolinecolor": "white"
           },
           "zaxis": {
            "backgroundcolor": "#E5ECF6",
            "gridcolor": "white",
            "gridwidth": 2,
            "linecolor": "white",
            "showbackground": true,
            "ticks": "",
            "zerolinecolor": "white"
           }
          },
          "shapedefaults": {
           "line": {
            "color": "#2a3f5f"
           }
          },
          "ternary": {
           "aaxis": {
            "gridcolor": "white",
            "linecolor": "white",
            "ticks": ""
           },
           "baxis": {
            "gridcolor": "white",
            "linecolor": "white",
            "ticks": ""
           },
           "bgcolor": "#E5ECF6",
           "caxis": {
            "gridcolor": "white",
            "linecolor": "white",
            "ticks": ""
           }
          },
          "title": {
           "x": 0.05
          },
          "xaxis": {
           "automargin": true,
           "gridcolor": "white",
           "linecolor": "white",
           "ticks": "",
           "title": {
            "standoff": 15
           },
           "zerolinecolor": "white",
           "zerolinewidth": 2
          },
          "yaxis": {
           "automargin": true,
           "gridcolor": "white",
           "linecolor": "white",
           "ticks": "",
           "title": {
            "standoff": 15
           },
           "zerolinecolor": "white",
           "zerolinewidth": 2
          }
         }
        },
        "title": {
         "text": "ABV vs IBU with SRM to Boot"
        },
        "xaxis": {
         "range": [
          0,
          120
         ],
         "title": {
          "text": "IBU"
         }
        },
        "yaxis": {
         "range": [
          0,
          15
         ],
         "title": {
          "text": "ABV"
         }
        }
       }
      },
      "text/html": [
       "<div>\n",
       "        \n",
       "        \n",
       "            <div id=\"6584a03e-bbae-46b6-a9a8-acd865326e1f\" class=\"plotly-graph-div\" style=\"height:525px; width:100%;\"></div>\n",
       "            <script type=\"text/javascript\">\n",
       "                require([\"plotly\"], function(Plotly) {\n",
       "                    window.PLOTLYENV=window.PLOTLYENV || {};\n",
       "                    \n",
       "                if (document.getElementById(\"6584a03e-bbae-46b6-a9a8-acd865326e1f\")) {\n",
       "                    Plotly.newPlot(\n",
       "                        '6584a03e-bbae-46b6-a9a8-acd865326e1f',\n",
       "                        [{\"contours\": {\"coloring\": \"lines\", \"end\": 0.02, \"start\": 0.005}, \"line\": {\"width\": 2}, \"type\": \"contour\", \"x\": [5.0, 15.0, 25.0, 35.0, 45.0, 55.0, 65.0, 75.0, 85.0, 95.0, 105.0, 115.0, 125.0, 135.0, 145.0, 155.0, 165.0, 175.0, 185.0, 195.0], \"y\": [0.5, 1.5, 2.5, 3.5, 4.5, 5.5, 6.5, 7.5, 8.5, 9.5, 10.5, 11.5, 12.5, 13.5, 14.5, 15.5, 16.5, 17.5, 18.5, 19.5], \"z\": [[4.391743522178305e-05, 2.635046113306983e-05, 2.635046113306983e-05, 1.7566974088713222e-05, 0.0002722880983750549, 0.0009486166007905139, 0.0014141414141414144, 0.0006675450153711023, 0.00018445322793148882, 0.00010540184453227932, 2.635046113306983e-05, 3.5133948177426444e-05, 2.635046113306983e-05, 0.0, 8.783487044356611e-06, 3.5133948177426444e-05, 0.0, 0.0, 0.0, 0.0], [0.0, 8.783487044356611e-06, 1.7566974088713222e-05, 2.635046113306983e-05, 0.0001756697408871322, 0.00044795783926218706, 0.0006938954765041722, 0.00024593763724198504, 6.148440931049626e-05, 8.783487044356611e-06, 8.783487044356611e-06, 1.7566974088713222e-05, 0.0, 8.783487044356611e-06, 0.0, 4.391743522178305e-05, 0.0, 0.0, 0.0, 0.0], [0.0, 0.0, 2.635046113306983e-05, 9.661835748792272e-05, 0.00041282389108476065, 0.0010979358805445762, 0.0014931927975406236, 0.0007114624505928853, 0.00012296881862099252, 2.635046113306983e-05, 3.5133948177426444e-05, 0.0, 0.0, 8.783487044356611e-06, 0.0, 8.783487044356611e-06, 0.0, 0.0, 0.0, 0.0], [0.0, 0.0, 8.783487044356611e-06, 0.00012296881862099252, 0.0006324110671936759, 0.0018620992534036011, 0.0025120772946859906, 0.001054018445322793, 0.00021080368906455863, 4.391743522178305e-05, 1.7566974088713222e-05, 3.5133948177426444e-05, 2.635046113306983e-05, 8.783487044356611e-06, 0.0, 8.783487044356611e-06, 0.0, 0.0, 0.0, 0.0], [0.0, 0.0, 0.0, 0.00013175230566534913, 0.0007992973210364515, 0.0033025911286780852, 0.00510320597277119, 0.001642512077294686, 0.00025472112428634165, 0.00018445322793148882, 6.148440931049626e-05, 1.7566974088713222e-05, 2.635046113306983e-05, 0.0, 8.783487044356611e-06, 1.7566974088713222e-05, 0.0, 0.0, 0.0, 0.0], [0.0, 0.0, 8.783487044356611e-06, 9.661835748792272e-05, 0.0006411945542380325, 0.004259991216512955, 0.00717610891523935, 0.0023364075537988583, 0.00038647342995169087, 9.661835748792272e-05, 2.635046113306983e-05, 1.7566974088713222e-05, 1.7566974088713222e-05, 8.783487044356611e-06, 8.783487044356611e-06, 0.0, 0.0, 0.0, 0.0, 0.0], [0.0, 0.0, 8.783487044356611e-06, 6.148440931049626e-05, 0.0006148440931049627, 0.004022837066315327, 0.008818620992534037, 0.0029424681598594644, 0.0003952569169960474, 6.148440931049626e-05, 4.391743522178305e-05, 1.7566974088713222e-05, 1.7566974088713222e-05, 0.0, 0.0, 0.0, 0.0, 0.0, 0.0, 0.0], [0.0, 0.0, 0.0, 3.5133948177426444e-05, 0.00047430830039525695, 0.002301273605621432, 0.005208607817303469, 0.0023803249890206415, 0.00038647342995169087, 6.148440931049626e-05, 7.026789635485289e-05, 3.5133948177426444e-05, 8.783487044356611e-06, 0.0, 0.0, 8.783487044356611e-06, 0.0, 0.0, 0.0, 0.0], [8.783487044356611e-06, 0.0, 0.0, 3.5133948177426444e-05, 0.00030742204655248134, 0.0016073781291172597, 0.0032411067193675886, 0.0016073781291172597, 0.00030742204655248134, 8.78348704435661e-05, 8.783487044356611e-06, 8.783487044356611e-06, 0.0, 0.0, 0.0, 1.7566974088713222e-05, 0.0, 0.0, 0.0, 0.0], [0.0, 0.0, 1.7566974088713222e-05, 1.7566974088713222e-05, 0.00023715415019762848, 0.000878348704435661, 0.00204655248133509, 0.0011155028546332893, 0.0003337725076855511, 7.905138339920949e-05, 3.5133948177426444e-05, 8.783487044356611e-06, 8.783487044356611e-06, 0.0, 0.0, 0.0, 0.0, 0.0, 0.0, 0.0], [0.0, 0.0, 0.0, 3.5133948177426444e-05, 0.00010540184453227932, 0.0006060606060606061, 0.001370223978919631, 0.000851998243302591, 0.00018445322793148882, 6.148440931049626e-05, 8.783487044356611e-06, 8.783487044356611e-06, 0.0, 0.0, 0.0, 0.0, 0.0, 0.0, 0.0, 0.0], [0.0, 0.0, 0.0, 8.783487044356611e-06, 8.78348704435661e-05, 0.0006236275801493193, 0.0010188844971453666, 0.0005270092226613965, 0.00015810276679841898, 0.00010540184453227932, 1.7566974088713222e-05, 0.0, 8.783487044356611e-06, 0.0, 0.0, 0.0, 0.0, 0.0, 0.0, 0.0], [0.0, 0.0, 0.0, 8.783487044356611e-06, 6.148440931049626e-05, 0.00044795783926218706, 0.0008607817303469478, 0.0004655248133509003, 0.00011418533157663593, 2.635046113306983e-05, 0.0, 8.783487044356611e-06, 0.0, 0.0, 0.0, 0.0, 0.0, 0.0, 0.0, 0.0], [0.0, 0.0, 0.0, 8.783487044356611e-06, 5.270092226613966e-05, 0.00036890645586297764, 0.0006675450153711023, 0.00041282389108476065, 0.00014053579270970577, 2.635046113306983e-05, 4.391743522178305e-05, 0.0, 0.0, 0.0, 0.0, 0.0, 0.0, 0.0, 0.0, 0.0], [0.0, 0.0, 0.0, 1.7566974088713222e-05, 3.5133948177426444e-05, 0.00018445322793148882, 0.0005797101449275362, 0.000202020202020202, 0.00010540184453227932, 8.783487044356611e-06, 0.0, 8.783487044356611e-06, 0.0, 0.0, 0.0, 0.0, 0.0, 0.0, 0.0, 0.0], [0.0, 0.0, 0.0, 8.783487044356611e-06, 1.7566974088713222e-05, 0.00010540184453227932, 0.00044795783926218706, 0.00022837066315327186, 7.026789635485289e-05, 1.7566974088713222e-05, 8.783487044356611e-06, 0.0, 0.0, 8.783487044356611e-06, 0.0, 0.0, 0.0, 0.0, 0.0, 0.0], [0.0, 0.0, 0.0, 0.0, 7.026789635485289e-05, 0.00014053579270970577, 0.0002722880983750549, 0.00018445322793148882, 5.270092226613966e-05, 3.5133948177426444e-05, 0.0, 0.0, 0.0, 0.0, 0.0, 0.0, 0.0, 0.0, 0.0, 0.0], [0.0, 0.0, 0.0, 0.0, 1.7566974088713222e-05, 0.00018445322793148882, 0.00028107158541941155, 0.0001756697408871322, 2.635046113306983e-05, 8.783487044356611e-06, 0.0, 0.0, 0.0, 0.0, 0.0, 0.0, 0.0, 0.0, 0.0, 0.0], [0.0, 0.0, 0.0, 0.0, 2.635046113306983e-05, 0.00014053579270970577, 0.0002986385595081247, 0.00012296881862099252, 7.026789635485289e-05, 8.783487044356611e-06, 8.783487044356611e-06, 0.0, 0.0, 0.0, 0.0, 0.0, 0.0, 0.0, 0.0, 0.0], [0.0, 0.0, 0.0, 8.783487044356611e-06, 0.00014053579270970577, 0.00051822573561704, 0.001282389108476065, 0.0010891523935002195, 0.00032498902064119457, 8.78348704435661e-05, 3.5133948177426444e-05, 8.783487044356611e-06, 0.0, 0.0, 8.783487044356611e-06, 0.0, 0.0, 0.0, 0.0, 0.0]]}, {\"contours\": {\"coloring\": \"lines\", \"end\": 0.02, \"start\": 0.005}, \"line\": {\"width\": 2}, \"type\": \"contour\", \"x\": [5.0, 15.0, 25.0, 35.0, 45.0, 55.0, 65.0, 75.0, 85.0, 95.0, 105.0, 115.0, 125.0, 135.0, 145.0, 155.0, 165.0, 175.0, 185.0, 195.0], \"y\": [0.5, 1.5, 2.5, 3.5, 4.5, 5.5, 6.5, 7.5, 8.5, 9.5, 10.5, 11.5, 12.5, 13.5, 14.5, 15.5, 16.5, 17.5, 18.5, 19.5], \"z\": [[8.156606851549755e-05, 0.0, 0.0, 0.0001631321370309951, 0.0004078303425774878, 0.0011419249592169657, 0.0010603588907014683, 0.0004078303425774878, 0.0003262642740619902, 0.0, 8.156606851549755e-05, 0.0, 0.0, 0.0, 8.156606851549755e-05, 0.0, 0.0, 0.0, 0.0, 0.0], [0.0, 0.0, 0.0, 0.0, 0.0004078303425774878, 0.001468189233278956, 0.002202283849918434, 0.0008156606851549756, 0.00024469820554649265, 0.0001631321370309951, 0.0, 8.156606851549755e-05, 0.0, 8.156606851549755e-05, 0.0, 0.0, 0.0, 0.0, 0.0, 0.0], [0.0, 0.0, 8.156606851549755e-05, 0.0, 0.0009787928221859706, 0.0035073409461663946, 0.004730831973898858, 0.0021207177814029365, 0.0008972267536704731, 0.0004078303425774878, 8.156606851549755e-05, 8.156606851549755e-05, 0.0001631321370309951, 8.156606851549755e-05, 0.0, 0.0001631321370309951, 0.0, 0.0, 0.0, 0.0], [0.0, 0.0, 0.0, 0.0, 0.0020391517128874386, 0.008075040783034258, 0.00831973898858075, 0.00399673735725938, 0.0016313213703099511, 0.0004893964110929853, 0.0004078303425774878, 8.156606851549755e-05, 0.0, 0.0, 0.0, 0.0, 0.0, 0.0, 0.0, 0.0], [0.0, 0.0, 0.0, 0.0, 0.0009787928221859706, 0.005628058727569331, 0.009380097879282219, 0.003099510603588907, 0.0011419249592169657, 0.000734094616639478, 0.0, 0.0, 8.156606851549755e-05, 0.0, 0.0, 8.156606851549755e-05, 0.0, 0.0, 0.0, 0.0], [0.0, 0.0, 0.0, 0.0, 0.0004078303425774878, 0.002365415986949429, 0.005546492659053833, 0.002691680261011419, 0.0013050570962479609, 0.0004078303425774878, 0.00024469820554649265, 0.0, 0.0, 0.0, 0.0, 0.0, 0.0, 0.0, 0.0, 0.0], [0.0, 0.0, 0.0, 0.0, 0.0006525285481239804, 0.0016313213703099511, 0.004078303425774877, 0.0018760195758564435, 0.0006525285481239804, 8.156606851549755e-05, 0.0001631321370309951, 8.156606851549755e-05, 0.0, 8.156606851549755e-05, 0.0, 0.0, 0.0, 0.0, 0.0, 0.0], [0.0, 0.0, 0.0, 8.156606851549755e-05, 0.0, 0.0013866231647634583, 0.0015497553017944535, 0.0004893964110929853, 0.0004893964110929853, 0.0, 0.0, 0.0, 0.0, 0.0, 0.0, 0.0, 0.0, 0.0, 0.0, 0.0], [0.0, 0.0, 0.0, 0.0, 8.156606851549755e-05, 0.0004893964110929853, 0.0008156606851549756, 0.0003262642740619902, 0.00024469820554649265, 0.0, 8.156606851549755e-05, 8.156606851549755e-05, 0.0, 0.0, 0.0, 0.0, 0.0, 0.0, 0.0, 0.0], [0.0, 0.0, 0.0, 0.0, 0.0, 0.00024469820554649265, 0.0003262642740619902, 8.156606851549755e-05, 0.0, 8.156606851549755e-05, 0.0, 0.0, 0.0, 0.0, 0.0, 0.0, 0.0, 0.0, 0.0, 0.0], [0.0, 0.0, 0.0, 0.0, 8.156606851549755e-05, 0.0, 0.0004078303425774878, 0.00024469820554649265, 8.156606851549755e-05, 8.156606851549755e-05, 8.156606851549755e-05, 0.0, 8.156606851549755e-05, 0.0, 0.0, 0.0, 0.0, 0.0, 0.0, 0.0], [0.0, 0.0, 0.0, 0.0, 0.0, 0.0, 8.156606851549755e-05, 8.156606851549755e-05, 8.156606851549755e-05, 0.0, 8.156606851549755e-05, 0.0, 0.0, 0.0, 0.0, 0.0, 0.0, 0.0, 0.0, 0.0], [0.0, 0.0, 0.0, 0.0, 0.0, 0.0, 8.156606851549755e-05, 8.156606851549755e-05, 8.156606851549755e-05, 0.0, 0.0, 0.0, 0.0, 0.0, 0.0, 0.0, 0.0, 0.0, 0.0, 0.0], [0.0, 0.0, 0.0, 0.0, 0.0, 8.156606851549755e-05, 0.0, 0.0, 0.0, 0.0, 0.0, 0.0, 0.0, 0.0, 0.0, 0.0, 0.0, 0.0, 0.0, 0.0], [0.0, 0.0, 0.0, 0.0, 0.0, 0.0, 8.156606851549755e-05, 0.0, 0.0, 0.0, 8.156606851549755e-05, 0.0, 0.0, 0.0, 0.0, 0.0, 0.0, 0.0, 0.0, 0.0], [0.0, 0.0, 0.0, 0.0, 0.0, 0.0, 0.0, 8.156606851549755e-05, 0.0, 0.0, 0.0, 0.0, 0.0, 0.0, 0.0, 0.0, 0.0, 0.0, 0.0, 0.0], [0.0, 0.0, 0.0, 0.0, 0.0, 0.0, 0.0, 8.156606851549755e-05, 0.0, 0.0, 0.0, 0.0, 0.0, 0.0, 0.0, 0.0, 0.0, 0.0, 0.0, 0.0], [0.0, 0.0, 0.0, 0.0, 0.0, 0.0, 0.0, 0.0, 0.0, 0.0, 0.0, 0.0, 0.0, 0.0, 0.0, 0.0, 0.0, 0.0, 0.0, 0.0], [0.0, 0.0, 0.0, 0.0, 0.0, 0.0, 0.0, 0.0, 0.0, 0.0, 0.0, 0.0, 0.0, 0.0, 0.0, 0.0, 0.0, 0.0, 0.0, 0.0], [0.0, 0.0, 0.0, 0.0, 0.0, 0.0, 0.0, 0.0, 8.156606851549755e-05, 8.156606851549755e-05, 0.0, 0.0, 0.0, 0.0, 0.0, 0.0, 0.0, 0.0, 0.0, 0.0]]}],\n",
       "                        {\"template\": {\"data\": {\"bar\": [{\"error_x\": {\"color\": \"#2a3f5f\"}, \"error_y\": {\"color\": \"#2a3f5f\"}, \"marker\": {\"line\": {\"color\": \"#E5ECF6\", \"width\": 0.5}}, \"type\": \"bar\"}], \"barpolar\": [{\"marker\": {\"line\": {\"color\": \"#E5ECF6\", \"width\": 0.5}}, \"type\": \"barpolar\"}], \"carpet\": [{\"aaxis\": {\"endlinecolor\": \"#2a3f5f\", \"gridcolor\": \"white\", \"linecolor\": \"white\", \"minorgridcolor\": \"white\", \"startlinecolor\": \"#2a3f5f\"}, \"baxis\": {\"endlinecolor\": \"#2a3f5f\", \"gridcolor\": \"white\", \"linecolor\": \"white\", \"minorgridcolor\": \"white\", \"startlinecolor\": \"#2a3f5f\"}, \"type\": \"carpet\"}], \"choropleth\": [{\"colorbar\": {\"outlinewidth\": 0, \"ticks\": \"\"}, \"type\": \"choropleth\"}], \"contour\": [{\"colorbar\": {\"outlinewidth\": 0, \"ticks\": \"\"}, \"colorscale\": [[0.0, \"#0d0887\"], [0.1111111111111111, \"#46039f\"], [0.2222222222222222, \"#7201a8\"], [0.3333333333333333, \"#9c179e\"], [0.4444444444444444, \"#bd3786\"], [0.5555555555555556, \"#d8576b\"], [0.6666666666666666, \"#ed7953\"], [0.7777777777777778, \"#fb9f3a\"], [0.8888888888888888, \"#fdca26\"], [1.0, \"#f0f921\"]], \"type\": \"contour\"}], \"contourcarpet\": [{\"colorbar\": {\"outlinewidth\": 0, \"ticks\": \"\"}, \"type\": \"contourcarpet\"}], \"heatmap\": [{\"colorbar\": {\"outlinewidth\": 0, \"ticks\": \"\"}, \"colorscale\": [[0.0, \"#0d0887\"], [0.1111111111111111, \"#46039f\"], [0.2222222222222222, \"#7201a8\"], [0.3333333333333333, \"#9c179e\"], [0.4444444444444444, \"#bd3786\"], [0.5555555555555556, \"#d8576b\"], [0.6666666666666666, \"#ed7953\"], [0.7777777777777778, \"#fb9f3a\"], [0.8888888888888888, \"#fdca26\"], [1.0, \"#f0f921\"]], \"type\": \"heatmap\"}], \"heatmapgl\": [{\"colorbar\": {\"outlinewidth\": 0, \"ticks\": \"\"}, \"colorscale\": [[0.0, \"#0d0887\"], [0.1111111111111111, \"#46039f\"], [0.2222222222222222, \"#7201a8\"], [0.3333333333333333, \"#9c179e\"], [0.4444444444444444, \"#bd3786\"], [0.5555555555555556, \"#d8576b\"], [0.6666666666666666, \"#ed7953\"], [0.7777777777777778, \"#fb9f3a\"], [0.8888888888888888, \"#fdca26\"], [1.0, \"#f0f921\"]], \"type\": \"heatmapgl\"}], \"histogram\": [{\"marker\": {\"colorbar\": {\"outlinewidth\": 0, \"ticks\": \"\"}}, \"type\": \"histogram\"}], \"histogram2d\": [{\"colorbar\": {\"outlinewidth\": 0, \"ticks\": \"\"}, \"colorscale\": [[0.0, \"#0d0887\"], [0.1111111111111111, \"#46039f\"], [0.2222222222222222, \"#7201a8\"], [0.3333333333333333, \"#9c179e\"], [0.4444444444444444, \"#bd3786\"], [0.5555555555555556, \"#d8576b\"], [0.6666666666666666, \"#ed7953\"], [0.7777777777777778, \"#fb9f3a\"], [0.8888888888888888, \"#fdca26\"], [1.0, \"#f0f921\"]], \"type\": \"histogram2d\"}], \"histogram2dcontour\": [{\"colorbar\": {\"outlinewidth\": 0, \"ticks\": \"\"}, \"colorscale\": [[0.0, \"#0d0887\"], [0.1111111111111111, \"#46039f\"], [0.2222222222222222, \"#7201a8\"], [0.3333333333333333, \"#9c179e\"], [0.4444444444444444, \"#bd3786\"], [0.5555555555555556, \"#d8576b\"], [0.6666666666666666, \"#ed7953\"], [0.7777777777777778, \"#fb9f3a\"], [0.8888888888888888, \"#fdca26\"], [1.0, \"#f0f921\"]], \"type\": \"histogram2dcontour\"}], \"mesh3d\": [{\"colorbar\": {\"outlinewidth\": 0, \"ticks\": \"\"}, \"type\": \"mesh3d\"}], \"parcoords\": [{\"line\": {\"colorbar\": {\"outlinewidth\": 0, \"ticks\": \"\"}}, \"type\": \"parcoords\"}], \"pie\": [{\"automargin\": true, \"type\": \"pie\"}], \"scatter\": [{\"marker\": {\"colorbar\": {\"outlinewidth\": 0, \"ticks\": \"\"}}, \"type\": \"scatter\"}], \"scatter3d\": [{\"line\": {\"colorbar\": {\"outlinewidth\": 0, \"ticks\": \"\"}}, \"marker\": {\"colorbar\": {\"outlinewidth\": 0, \"ticks\": \"\"}}, \"type\": \"scatter3d\"}], \"scattercarpet\": [{\"marker\": {\"colorbar\": {\"outlinewidth\": 0, \"ticks\": \"\"}}, \"type\": \"scattercarpet\"}], \"scattergeo\": [{\"marker\": {\"colorbar\": {\"outlinewidth\": 0, \"ticks\": \"\"}}, \"type\": \"scattergeo\"}], \"scattergl\": [{\"marker\": {\"colorbar\": {\"outlinewidth\": 0, \"ticks\": \"\"}}, \"type\": \"scattergl\"}], \"scattermapbox\": [{\"marker\": {\"colorbar\": {\"outlinewidth\": 0, \"ticks\": \"\"}}, \"type\": \"scattermapbox\"}], \"scatterpolar\": [{\"marker\": {\"colorbar\": {\"outlinewidth\": 0, \"ticks\": \"\"}}, \"type\": \"scatterpolar\"}], \"scatterpolargl\": [{\"marker\": {\"colorbar\": {\"outlinewidth\": 0, \"ticks\": \"\"}}, \"type\": \"scatterpolargl\"}], \"scatterternary\": [{\"marker\": {\"colorbar\": {\"outlinewidth\": 0, \"ticks\": \"\"}}, \"type\": \"scatterternary\"}], \"surface\": [{\"colorbar\": {\"outlinewidth\": 0, \"ticks\": \"\"}, \"colorscale\": [[0.0, \"#0d0887\"], [0.1111111111111111, \"#46039f\"], [0.2222222222222222, \"#7201a8\"], [0.3333333333333333, \"#9c179e\"], [0.4444444444444444, \"#bd3786\"], [0.5555555555555556, \"#d8576b\"], [0.6666666666666666, \"#ed7953\"], [0.7777777777777778, \"#fb9f3a\"], [0.8888888888888888, \"#fdca26\"], [1.0, \"#f0f921\"]], \"type\": \"surface\"}], \"table\": [{\"cells\": {\"fill\": {\"color\": \"#EBF0F8\"}, \"line\": {\"color\": \"white\"}}, \"header\": {\"fill\": {\"color\": \"#C8D4E3\"}, \"line\": {\"color\": \"white\"}}, \"type\": \"table\"}]}, \"layout\": {\"annotationdefaults\": {\"arrowcolor\": \"#2a3f5f\", \"arrowhead\": 0, \"arrowwidth\": 1}, \"coloraxis\": {\"colorbar\": {\"outlinewidth\": 0, \"ticks\": \"\"}}, \"colorscale\": {\"diverging\": [[0, \"#8e0152\"], [0.1, \"#c51b7d\"], [0.2, \"#de77ae\"], [0.3, \"#f1b6da\"], [0.4, \"#fde0ef\"], [0.5, \"#f7f7f7\"], [0.6, \"#e6f5d0\"], [0.7, \"#b8e186\"], [0.8, \"#7fbc41\"], [0.9, \"#4d9221\"], [1, \"#276419\"]], \"sequential\": [[0.0, \"#0d0887\"], [0.1111111111111111, \"#46039f\"], [0.2222222222222222, \"#7201a8\"], [0.3333333333333333, \"#9c179e\"], [0.4444444444444444, \"#bd3786\"], [0.5555555555555556, \"#d8576b\"], [0.6666666666666666, \"#ed7953\"], [0.7777777777777778, \"#fb9f3a\"], [0.8888888888888888, \"#fdca26\"], [1.0, \"#f0f921\"]], \"sequentialminus\": [[0.0, \"#0d0887\"], [0.1111111111111111, \"#46039f\"], [0.2222222222222222, \"#7201a8\"], [0.3333333333333333, \"#9c179e\"], [0.4444444444444444, \"#bd3786\"], [0.5555555555555556, \"#d8576b\"], [0.6666666666666666, \"#ed7953\"], [0.7777777777777778, \"#fb9f3a\"], [0.8888888888888888, \"#fdca26\"], [1.0, \"#f0f921\"]]}, \"colorway\": [\"#636efa\", \"#EF553B\", \"#00cc96\", \"#ab63fa\", \"#FFA15A\", \"#19d3f3\", \"#FF6692\", \"#B6E880\", \"#FF97FF\", \"#FECB52\"], \"font\": {\"color\": \"#2a3f5f\"}, \"geo\": {\"bgcolor\": \"white\", \"lakecolor\": \"white\", \"landcolor\": \"#E5ECF6\", \"showlakes\": true, \"showland\": true, \"subunitcolor\": \"white\"}, \"hoverlabel\": {\"align\": \"left\"}, \"hovermode\": \"closest\", \"mapbox\": {\"style\": \"light\"}, \"paper_bgcolor\": \"white\", \"plot_bgcolor\": \"#E5ECF6\", \"polar\": {\"angularaxis\": {\"gridcolor\": \"white\", \"linecolor\": \"white\", \"ticks\": \"\"}, \"bgcolor\": \"#E5ECF6\", \"radialaxis\": {\"gridcolor\": \"white\", \"linecolor\": \"white\", \"ticks\": \"\"}}, \"scene\": {\"xaxis\": {\"backgroundcolor\": \"#E5ECF6\", \"gridcolor\": \"white\", \"gridwidth\": 2, \"linecolor\": \"white\", \"showbackground\": true, \"ticks\": \"\", \"zerolinecolor\": \"white\"}, \"yaxis\": {\"backgroundcolor\": \"#E5ECF6\", \"gridcolor\": \"white\", \"gridwidth\": 2, \"linecolor\": \"white\", \"showbackground\": true, \"ticks\": \"\", \"zerolinecolor\": \"white\"}, \"zaxis\": {\"backgroundcolor\": \"#E5ECF6\", \"gridcolor\": \"white\", \"gridwidth\": 2, \"linecolor\": \"white\", \"showbackground\": true, \"ticks\": \"\", \"zerolinecolor\": \"white\"}}, \"shapedefaults\": {\"line\": {\"color\": \"#2a3f5f\"}}, \"ternary\": {\"aaxis\": {\"gridcolor\": \"white\", \"linecolor\": \"white\", \"ticks\": \"\"}, \"baxis\": {\"gridcolor\": \"white\", \"linecolor\": \"white\", \"ticks\": \"\"}, \"bgcolor\": \"#E5ECF6\", \"caxis\": {\"gridcolor\": \"white\", \"linecolor\": \"white\", \"ticks\": \"\"}}, \"title\": {\"x\": 0.05}, \"xaxis\": {\"automargin\": true, \"gridcolor\": \"white\", \"linecolor\": \"white\", \"ticks\": \"\", \"title\": {\"standoff\": 15}, \"zerolinecolor\": \"white\", \"zerolinewidth\": 2}, \"yaxis\": {\"automargin\": true, \"gridcolor\": \"white\", \"linecolor\": \"white\", \"ticks\": \"\", \"title\": {\"standoff\": 15}, \"zerolinecolor\": \"white\", \"zerolinewidth\": 2}}}, \"title\": {\"text\": \"ABV vs IBU with SRM to Boot\"}, \"xaxis\": {\"range\": [0, 120], \"title\": {\"text\": \"IBU\"}}, \"yaxis\": {\"range\": [0, 15], \"title\": {\"text\": \"ABV\"}}},\n",
       "                        {\"responsive\": true}\n",
       "                    ).then(function(){\n",
       "                            \n",
       "var gd = document.getElementById('6584a03e-bbae-46b6-a9a8-acd865326e1f');\n",
       "var x = new MutationObserver(function (mutations, observer) {{\n",
       "        var display = window.getComputedStyle(gd).display;\n",
       "        if (!display || display === 'none') {{\n",
       "            console.log([gd, 'removed!']);\n",
       "            Plotly.purge(gd);\n",
       "            observer.disconnect();\n",
       "        }}\n",
       "}});\n",
       "\n",
       "// Listen for the removal of the full notebook cells\n",
       "var notebookContainer = gd.closest('#notebook-container');\n",
       "if (notebookContainer) {{\n",
       "    x.observe(notebookContainer, {childList: true});\n",
       "}}\n",
       "\n",
       "// Listen for the clearing of the current output cell\n",
       "var outputEl = gd.closest('.output');\n",
       "if (outputEl) {{\n",
       "    x.observe(outputEl, {childList: true});\n",
       "}}\n",
       "\n",
       "                        })\n",
       "                };\n",
       "                });\n",
       "            </script>\n",
       "        </div>"
      ]
     },
     "metadata": {},
     "output_type": "display_data"
    }
   ],
   "source": [
    "hist, x_mid, y_mid = generate_hist(metrics, style=\"american ipa\")\n",
    "ipa = go.Contour(\n",
    "        x=x_mid,\n",
    "        y=y_mid,\n",
    "        z=hist,\n",
    "        contours_coloring='lines',\n",
    "        line_width=2,\n",
    "        contours={\"start\":0.005, \"end\": 0.02},\n",
    "    )\n",
    "hist, x_mid, y_mid = generate_hist(metrics, style=\"american stout\")\n",
    "stout = go.Contour(\n",
    "        x=x_mid,\n",
    "        y=y_mid,\n",
    "        z=hist,\n",
    "        contours_coloring='lines',\n",
    "        line_width=2,\n",
    "        contours={\"start\":0.005, \"end\": 0.02},\n",
    "        \n",
    "    )\n",
    "data = [ipa, stout]\n",
    "layout = {\n",
    "    \"xaxis\": {\"title\": \"IBU\", \"range\": [0, 120]},\n",
    "    \"yaxis\": {\"title\": \"ABV\", \"range\": [0, 15]},\n",
    "    \"title\": \"ABV vs IBU with SRM to Boot\",\n",
    "}\n",
    "fig = go.Figure(data=data, layout=layout)\n",
    "iplot(fig)"
   ]
  },
  {
   "cell_type": "code",
   "execution_count": null,
   "metadata": {},
   "outputs": [],
   "source": []
  }
 ],
 "metadata": {
  "kernelspec": {
   "display_name": "beer-env",
   "language": "python",
   "name": "beer-env"
  },
  "language_info": {
   "codemirror_mode": {
    "name": "ipython",
    "version": 3
   },
   "file_extension": ".py",
   "mimetype": "text/x-python",
   "name": "python",
   "nbconvert_exporter": "python",
   "pygments_lexer": "ipython3",
   "version": "3.6.9"
  }
 },
 "nbformat": 4,
 "nbformat_minor": 4
}
