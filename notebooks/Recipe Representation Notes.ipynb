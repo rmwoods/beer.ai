{
 "cells": [
  {
   "cell_type": "markdown",
   "metadata": {},
   "source": [
    "# How To Represent a Recipe"
   ]
  },
  {
   "cell_type": "markdown",
   "metadata": {},
   "source": [
    "1. Determine batch size - `recipe.boil_size` (could be in G or L). Want to normalize grains to this.\n",
    "  - this could be pre-boil volume (before you've lost water to boil). There is also the amount that goes to the fermenter, and the amount that goes to the bottles.\n",
    "  - `recipe.batch_size` looks to be post boil?\n",
    "2. Start with fermentables: recipe.fermentables\n",
    "  1. name + origin should be unique (though it looks like origin could be part of name)\n",
    "  2. Quantity we care about is fermentable.amount (kg) - should be normalized to boil size\n",
    "  3. All fermentables go in at the same time, so order is not important here. These get \"mashed\" (steeped in warm water)\n",
    "  4. Amount of time and temperature will change for above.\n",
    "  5. Can sometimes have multiple steps of mashing (e.g. temp 1 for t1 and temp 2 for t2).\n",
    "  - Note - all grains are almost always involved in all the mashing\n",
    "-  Liquid strained from solids, but this always happens. Not part of the recipe.\n",
    "3. Boil - usually boiled 60-90 minutes. Time is specified in `recipe.boil_time` (minutes)\n",
    "  - Different intervals, we add hops. `recipe.hops`\n",
    "  - Recipes specify when to add hops by the amount of time _left_ in the boil\n",
    "  - Need amount, alpha acid, form. hop.amount (g), hop.alpha (mass percentage?), hop.form (string, e.g. \"Leaf\", \"Pellet\").\n",
    "    - Need to normalize such that quantity of alpha acids is consistent if percent alpha acids changes.\n",
    "    - We need to normalize amount to the boil size\n",
    "    - Note: technically, we should take into account how boil size changes as time progresses but we probably don't need to.\n",
    "  1. Boil `time` minutes\n",
    "  2. e.g. hop1 @ 90 min, hop2 @ 45 min, hop3 @ 10 min (boil hop 1 for 90 minutes, add hop 2 after 45 minutes, add hop 2 after 80 minutes)\n",
    "  3. Can also get hops at 0, e.g. after boil ends (flame out hopping or whirlpool hopping).\n",
    "  - Sometimes other ingredients added to a boil, e.g. yeast nutrients or finings, but these are personal preference and we can ignore them.\n",
    "4. Fermentation. Note - this is super important, but home brew recipes don't really specify this in any detail. All we can do is pick out yeast. recipe.yeasts\n",
    "  1. Need yeast name and laboratory: yeast.name, yeast.laboratory\n",
    "  2. There would be a lot more details here, but not in these recipes.\n",
    "5. Potentially dry hopping. Specified in the recipe.hops list. recipe.hops\n",
    "  - Dry hop step is specified by hop.use, e.g. \"Boil\" or \"Dry Hop\"\n",
    "  1. Need name, amount (g), time (minutes). Amount should be normalized to `batch_size`, `hop.name`, `hop.amount`, `hop.time`\n",
    "6. Misc category\n",
    "  - These things can go in with the fermentation, after the fermentation, sometimes in the boil, sometimes in the mash.\n",
    "  - misc.name specifies unique item\n",
    "  - misc.use, misc.time (minutes? days?) specifies where in the recipe the ingredient goes and for how long. Normalization will depend on what stage it is added.\n",
    "  - misc.amount (kg?) specify how much\n",
    "7. <EOR> (end of recipe)\n",
    "\n",
    "Extra notes:\n",
    "   - May be worth enforcing ordering of ingredients:\n",
    "      1. fermentables\n",
    "      2. hops + boil\n",
    "      3. Yeasts\n",
    "      ?. Misc can go anywhere\n",
    "   - Probably want to scale everything to a boil size of 1"
   ]
  }
 ],
 "metadata": {
  "kernelspec": {
   "display_name": "beer-env",
   "language": "python",
   "name": "beer-env"
  },
  "language_info": {
   "codemirror_mode": {
    "name": "ipython",
    "version": 3
   },
   "file_extension": ".py",
   "mimetype": "text/x-python",
   "name": "python",
   "nbconvert_exporter": "python",
   "pygments_lexer": "ipython3",
   "version": "3.6.9"
  }
 },
 "nbformat": 4,
 "nbformat_minor": 2
}
