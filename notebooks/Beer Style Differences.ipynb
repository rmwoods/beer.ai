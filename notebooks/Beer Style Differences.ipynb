{
 "cells": [
  {
   "cell_type": "code",
   "execution_count": 1,
   "metadata": {},
   "outputs": [],
   "source": [
    "import glob\n",
    "import matplotlib.pyplot as plt\n",
    "import numpy as np\n",
    "import os\n",
    "import pandas as pd\n",
    "import pickle\n",
    "\n",
    "from beerai.config import DATA_DIR"
   ]
  },
  {
   "cell_type": "code",
   "execution_count": 2,
   "metadata": {},
   "outputs": [],
   "source": [
    "%matplotlib inline"
   ]
  },
  {
   "cell_type": "code",
   "execution_count": 3,
   "metadata": {},
   "outputs": [],
   "source": [
    "with pd.HDFStore(os.path.join(DATA_DIR, \"interim/all_recipes.h5\")) as store:\n",
    "    core = store.get(\"core\")\n",
    "    ings = store.get(\"ingredients\")"
   ]
  },
  {
   "cell_type": "code",
   "execution_count": 4,
   "metadata": {},
   "outputs": [
    {
     "data": {
      "text/html": [
       "<div>\n",
       "<style scoped>\n",
       "    .dataframe tbody tr th:only-of-type {\n",
       "        vertical-align: middle;\n",
       "    }\n",
       "\n",
       "    .dataframe tbody tr th {\n",
       "        vertical-align: top;\n",
       "    }\n",
       "\n",
       "    .dataframe thead th {\n",
       "        text-align: right;\n",
       "    }\n",
       "</style>\n",
       "<table border=\"1\" class=\"dataframe\">\n",
       "  <thead>\n",
       "    <tr style=\"text-align: right;\">\n",
       "      <th></th>\n",
       "      <th>batch_size</th>\n",
       "      <th>boil_size</th>\n",
       "      <th>boil_time</th>\n",
       "      <th>brewer</th>\n",
       "      <th>efficiency</th>\n",
       "      <th>name</th>\n",
       "      <th>origin</th>\n",
       "      <th>recipe_file</th>\n",
       "      <th>src_abv</th>\n",
       "      <th>src_color</th>\n",
       "      <th>src_fg</th>\n",
       "      <th>src_ibu</th>\n",
       "      <th>src_og</th>\n",
       "      <th>style_category</th>\n",
       "      <th>style_guide</th>\n",
       "      <th>style_name</th>\n",
       "      <th>style_version</th>\n",
       "    </tr>\n",
       "    <tr>\n",
       "      <th>id</th>\n",
       "      <th></th>\n",
       "      <th></th>\n",
       "      <th></th>\n",
       "      <th></th>\n",
       "      <th></th>\n",
       "      <th></th>\n",
       "      <th></th>\n",
       "      <th></th>\n",
       "      <th></th>\n",
       "      <th></th>\n",
       "      <th></th>\n",
       "      <th></th>\n",
       "      <th></th>\n",
       "      <th></th>\n",
       "      <th></th>\n",
       "      <th></th>\n",
       "      <th></th>\n",
       "    </tr>\n",
       "  </thead>\n",
       "  <tbody>\n",
       "    <tr>\n",
       "      <th>0</th>\n",
       "      <td>18.927059</td>\n",
       "      <td>21.198306</td>\n",
       "      <td>60.0</td>\n",
       "      <td>velkyal</td>\n",
       "      <td>0.75</td>\n",
       "      <td>dark island oir leann</td>\n",
       "      <td>brewtoad</td>\n",
       "      <td>recipes/brewtoad/dark-island-oir-leann.xml</td>\n",
       "      <td>NaN</td>\n",
       "      <td>NaN</td>\n",
       "      <td>NaN</td>\n",
       "      <td>NaN</td>\n",
       "      <td>NaN</td>\n",
       "      <td>6b</td>\n",
       "      <td>bjcp</td>\n",
       "      <td>blonde ale</td>\n",
       "      <td>1.0</td>\n",
       "    </tr>\n",
       "    <tr>\n",
       "      <th>1</th>\n",
       "      <td>22.712471</td>\n",
       "      <td>28.390588</td>\n",
       "      <td>60.0</td>\n",
       "      <td>wain thor</td>\n",
       "      <td>0.85</td>\n",
       "      <td>witbur</td>\n",
       "      <td>brewtoad</td>\n",
       "      <td>recipes/brewtoad/witbur.xml</td>\n",
       "      <td>NaN</td>\n",
       "      <td>NaN</td>\n",
       "      <td>NaN</td>\n",
       "      <td>NaN</td>\n",
       "      <td>NaN</td>\n",
       "      <td>6d</td>\n",
       "      <td>bjcp</td>\n",
       "      <td>american wheat or rye beer</td>\n",
       "      <td>1.0</td>\n",
       "    </tr>\n",
       "    <tr>\n",
       "      <th>2</th>\n",
       "      <td>20.819765</td>\n",
       "      <td>24.983718</td>\n",
       "      <td>60.0</td>\n",
       "      <td>btfielder</td>\n",
       "      <td>0.75</td>\n",
       "      <td>kolsch</td>\n",
       "      <td>brewtoad</td>\n",
       "      <td>recipes/brewtoad/kolsch-9285a4.xml</td>\n",
       "      <td>NaN</td>\n",
       "      <td>NaN</td>\n",
       "      <td>NaN</td>\n",
       "      <td>NaN</td>\n",
       "      <td>NaN</td>\n",
       "      <td>6c</td>\n",
       "      <td>bjcp</td>\n",
       "      <td>kölsch</td>\n",
       "      <td>1.0</td>\n",
       "    </tr>\n",
       "    <tr>\n",
       "      <th>3</th>\n",
       "      <td>18.927059</td>\n",
       "      <td>23.658824</td>\n",
       "      <td>60.0</td>\n",
       "      <td>viff brewing</td>\n",
       "      <td>0.75</td>\n",
       "      <td>amber alert</td>\n",
       "      <td>brewtoad</td>\n",
       "      <td>recipes/brewtoad/amber-alert-4.xml</td>\n",
       "      <td>NaN</td>\n",
       "      <td>NaN</td>\n",
       "      <td>NaN</td>\n",
       "      <td>NaN</td>\n",
       "      <td>NaN</td>\n",
       "      <td>10b</td>\n",
       "      <td>bjcp</td>\n",
       "      <td>american amber ale</td>\n",
       "      <td>1.0</td>\n",
       "    </tr>\n",
       "    <tr>\n",
       "      <th>4</th>\n",
       "      <td>18.927059</td>\n",
       "      <td>23.658824</td>\n",
       "      <td>60.0</td>\n",
       "      <td>pistolpete2</td>\n",
       "      <td>0.75</td>\n",
       "      <td>graff</td>\n",
       "      <td>brewtoad</td>\n",
       "      <td>recipes/brewtoad/graff-14.xml</td>\n",
       "      <td>NaN</td>\n",
       "      <td>NaN</td>\n",
       "      <td>NaN</td>\n",
       "      <td>NaN</td>\n",
       "      <td>NaN</td>\n",
       "      <td>20a</td>\n",
       "      <td>bjcp</td>\n",
       "      <td>fruit beer</td>\n",
       "      <td>1.0</td>\n",
       "    </tr>\n",
       "  </tbody>\n",
       "</table>\n",
       "</div>"
      ],
      "text/plain": [
       "    batch_size  boil_size  boil_time        brewer  efficiency  \\\n",
       "id                                                               \n",
       "0    18.927059  21.198306       60.0       velkyal        0.75   \n",
       "1    22.712471  28.390588       60.0     wain thor        0.85   \n",
       "2    20.819765  24.983718       60.0     btfielder        0.75   \n",
       "3    18.927059  23.658824       60.0  viff brewing        0.75   \n",
       "4    18.927059  23.658824       60.0   pistolpete2        0.75   \n",
       "\n",
       "                     name    origin  \\\n",
       "id                                    \n",
       "0   dark island oir leann  brewtoad   \n",
       "1                  witbur  brewtoad   \n",
       "2                  kolsch  brewtoad   \n",
       "3             amber alert  brewtoad   \n",
       "4                   graff  brewtoad   \n",
       "\n",
       "                                   recipe_file  src_abv  src_color  src_fg  \\\n",
       "id                                                                           \n",
       "0   recipes/brewtoad/dark-island-oir-leann.xml      NaN        NaN     NaN   \n",
       "1                  recipes/brewtoad/witbur.xml      NaN        NaN     NaN   \n",
       "2           recipes/brewtoad/kolsch-9285a4.xml      NaN        NaN     NaN   \n",
       "3           recipes/brewtoad/amber-alert-4.xml      NaN        NaN     NaN   \n",
       "4                recipes/brewtoad/graff-14.xml      NaN        NaN     NaN   \n",
       "\n",
       "    src_ibu  src_og style_category style_guide                  style_name  \\\n",
       "id                                                                           \n",
       "0       NaN     NaN             6b        bjcp                  blonde ale   \n",
       "1       NaN     NaN             6d        bjcp  american wheat or rye beer   \n",
       "2       NaN     NaN             6c        bjcp                      kölsch   \n",
       "3       NaN     NaN            10b        bjcp          american amber ale   \n",
       "4       NaN     NaN            20a        bjcp                  fruit beer   \n",
       "\n",
       "    style_version  \n",
       "id                 \n",
       "0             1.0  \n",
       "1             1.0  \n",
       "2             1.0  \n",
       "3             1.0  \n",
       "4             1.0  "
      ]
     },
     "execution_count": 4,
     "metadata": {},
     "output_type": "execute_result"
    }
   ],
   "source": [
    "core.head()"
   ]
  },
  {
   "cell_type": "code",
   "execution_count": 5,
   "metadata": {},
   "outputs": [],
   "source": [
    "map_files = glob.glob(os.path.join(DATA_DIR, \"interim/*map.pickle\"))\n",
    "map_files = {os.path.basename(m)[:-10]: m for m in map_files}\n",
    "\n",
    "maps = {}\n",
    "for label, map_file in map_files.items():\n",
    "    with open(map_file, \"rb\") as f:\n",
    "        maps[label] = pickle.load(f)"
   ]
  },
  {
   "cell_type": "code",
   "execution_count": 6,
   "metadata": {},
   "outputs": [],
   "source": [
    "ings[\"ferm_name\"] = ings[\"ferm_name\"].map(maps[\"ferm\"])\n",
    "ings[\"hop_name\"] = ings[\"hop_name\"].map(maps[\"hop\"])\n",
    "ings[\"yeast_name\"] = ings[\"yeast_name\"].map(maps[\"yeast\"])\n",
    "ings[\"misc_name\"] = ings[\"misc_name\"].map(maps[\"misc\"])"
   ]
  },
  {
   "cell_type": "code",
   "execution_count": 7,
   "metadata": {},
   "outputs": [],
   "source": [
    "styles = [\"robust porter\", \"american stout\"]"
   ]
  },
  {
   "cell_type": "code",
   "execution_count": 8,
   "metadata": {},
   "outputs": [],
   "source": [
    "recipe_ids = core[core[\"style_name\"].isin(styles)].index"
   ]
  },
  {
   "cell_type": "code",
   "execution_count": 9,
   "metadata": {},
   "outputs": [],
   "source": [
    "stouts =  core.loc[recipe_ids].join(ings, how=\"left\")"
   ]
  },
  {
   "cell_type": "code",
   "execution_count": 10,
   "metadata": {},
   "outputs": [
    {
     "data": {
      "text/plain": [
       "16895"
      ]
     },
     "execution_count": 10,
     "metadata": {},
     "output_type": "execute_result"
    }
   ],
   "source": [
    "stouts.index.nunique()"
   ]
  },
  {
   "cell_type": "markdown",
   "metadata": {},
   "source": [
    "# First Go\n",
    "\n",
    "Let's just start by counting the fermentables and normalizing"
   ]
  },
  {
   "cell_type": "code",
   "execution_count": null,
   "metadata": {},
   "outputs": [],
   "source": [
    "rp = stouts[stouts.style_name == \"robust porter\"].ferm_name.value_counts(normalize=True)\n",
    "rp.name = \"robust porter\"\n",
    "rp = pd.DataFrame(rp)"
   ]
  },
  {
   "cell_type": "code",
   "execution_count": 12,
   "metadata": {},
   "outputs": [],
   "source": [
    "ast = stouts[stouts.style_name == \"american stout\"].ferm_name.value_counts(normalize=True)\n",
    "ast.name = \"american stout\"\n",
    "ast = pd.DataFrame(ast)"
   ]
  },
  {
   "cell_type": "code",
   "execution_count": 13,
   "metadata": {},
   "outputs": [],
   "source": [
    "stout_ferms = rp.join(ast, how=\"outer\")"
   ]
  },
  {
   "cell_type": "code",
   "execution_count": 14,
   "metadata": {},
   "outputs": [],
   "source": [
    "stout_ferms[\"tot\"] = stout_ferms.sum(axis=1)\n",
    "stout_ferms = stout_ferms.sort_values(\"tot\")"
   ]
  },
  {
   "cell_type": "code",
   "execution_count": 15,
   "metadata": {},
   "outputs": [
    {
     "data": {
      "text/html": [
       "<div>\n",
       "<style scoped>\n",
       "    .dataframe tbody tr th:only-of-type {\n",
       "        vertical-align: middle;\n",
       "    }\n",
       "\n",
       "    .dataframe tbody tr th {\n",
       "        vertical-align: top;\n",
       "    }\n",
       "\n",
       "    .dataframe thead th {\n",
       "        text-align: right;\n",
       "    }\n",
       "</style>\n",
       "<table border=\"1\" class=\"dataframe\">\n",
       "  <thead>\n",
       "    <tr style=\"text-align: right;\">\n",
       "      <th></th>\n",
       "      <th>robust porter</th>\n",
       "      <th>american stout</th>\n",
       "      <th>tot</th>\n",
       "    </tr>\n",
       "  </thead>\n",
       "  <tbody>\n",
       "    <tr>\n",
       "      <th>white wheat</th>\n",
       "      <td>0.011574</td>\n",
       "      <td>0.011574</td>\n",
       "      <td>0.023148</td>\n",
       "    </tr>\n",
       "    <tr>\n",
       "      <th>brown malt</th>\n",
       "      <td>0.018876</td>\n",
       "      <td>0.005022</td>\n",
       "      <td>0.023898</td>\n",
       "    </tr>\n",
       "    <tr>\n",
       "      <th>special b</th>\n",
       "      <td>0.014662</td>\n",
       "      <td>0.009924</td>\n",
       "      <td>0.024586</td>\n",
       "    </tr>\n",
       "    <tr>\n",
       "      <th>pale chocolate</th>\n",
       "      <td>0.014157</td>\n",
       "      <td>0.011885</td>\n",
       "      <td>0.026042</td>\n",
       "    </tr>\n",
       "    <tr>\n",
       "      <th>munich malt</th>\n",
       "      <td>0.021401</td>\n",
       "      <td>0.008561</td>\n",
       "      <td>0.029961</td>\n",
       "    </tr>\n",
       "    <tr>\n",
       "      <th>liquid malt extract - light</th>\n",
       "      <td>0.017847</td>\n",
       "      <td>0.013415</td>\n",
       "      <td>0.031262</td>\n",
       "    </tr>\n",
       "    <tr>\n",
       "      <th>dry malt extract - light</th>\n",
       "      <td>0.017944</td>\n",
       "      <td>0.014802</td>\n",
       "      <td>0.032746</td>\n",
       "    </tr>\n",
       "    <tr>\n",
       "      <th>flaked barley</th>\n",
       "      <td>0.013380</td>\n",
       "      <td>0.026615</td>\n",
       "      <td>0.039996</td>\n",
       "    </tr>\n",
       "    <tr>\n",
       "      <th>carapils® malt</th>\n",
       "      <td>0.025828</td>\n",
       "      <td>0.019657</td>\n",
       "      <td>0.045485</td>\n",
       "    </tr>\n",
       "    <tr>\n",
       "      <th>caramel malt 40l</th>\n",
       "      <td>0.033266</td>\n",
       "      <td>0.021163</td>\n",
       "      <td>0.054429</td>\n",
       "    </tr>\n",
       "    <tr>\n",
       "      <th>caramel malt 80l</th>\n",
       "      <td>0.031441</td>\n",
       "      <td>0.024822</td>\n",
       "      <td>0.056262</td>\n",
       "    </tr>\n",
       "    <tr>\n",
       "      <th>caramel malt 120l</th>\n",
       "      <td>0.029635</td>\n",
       "      <td>0.038548</td>\n",
       "      <td>0.068183</td>\n",
       "    </tr>\n",
       "    <tr>\n",
       "      <th>maris otter pale</th>\n",
       "      <td>0.038471</td>\n",
       "      <td>0.030657</td>\n",
       "      <td>0.069127</td>\n",
       "    </tr>\n",
       "    <tr>\n",
       "      <th>caramel/crystal 60l</th>\n",
       "      <td>0.046588</td>\n",
       "      <td>0.036276</td>\n",
       "      <td>0.082864</td>\n",
       "    </tr>\n",
       "    <tr>\n",
       "      <th>flaked oats</th>\n",
       "      <td>0.023284</td>\n",
       "      <td>0.062724</td>\n",
       "      <td>0.086008</td>\n",
       "    </tr>\n",
       "    <tr>\n",
       "      <th>chocolate malt</th>\n",
       "      <td>0.075640</td>\n",
       "      <td>0.048950</td>\n",
       "      <td>0.124590</td>\n",
       "    </tr>\n",
       "    <tr>\n",
       "      <th>black malt</th>\n",
       "      <td>0.085952</td>\n",
       "      <td>0.054522</td>\n",
       "      <td>0.140474</td>\n",
       "    </tr>\n",
       "    <tr>\n",
       "      <th>chocolate</th>\n",
       "      <td>0.071018</td>\n",
       "      <td>0.071787</td>\n",
       "      <td>0.142805</td>\n",
       "    </tr>\n",
       "    <tr>\n",
       "      <th>roasted barley</th>\n",
       "      <td>0.039655</td>\n",
       "      <td>0.119016</td>\n",
       "      <td>0.158671</td>\n",
       "    </tr>\n",
       "    <tr>\n",
       "      <th>2-row</th>\n",
       "      <td>0.095836</td>\n",
       "      <td>0.098594</td>\n",
       "      <td>0.194430</td>\n",
       "    </tr>\n",
       "  </tbody>\n",
       "</table>\n",
       "</div>"
      ],
      "text/plain": [
       "                             robust porter  american stout       tot\n",
       "white wheat                       0.011574        0.011574  0.023148\n",
       "brown malt                        0.018876        0.005022  0.023898\n",
       "special b                         0.014662        0.009924  0.024586\n",
       "pale chocolate                    0.014157        0.011885  0.026042\n",
       "munich malt                       0.021401        0.008561  0.029961\n",
       "liquid malt extract - light       0.017847        0.013415  0.031262\n",
       "dry malt extract - light          0.017944        0.014802  0.032746\n",
       "flaked barley                     0.013380        0.026615  0.039996\n",
       "carapils® malt                    0.025828        0.019657  0.045485\n",
       "caramel malt 40l                  0.033266        0.021163  0.054429\n",
       "caramel malt 80l                  0.031441        0.024822  0.056262\n",
       "caramel malt 120l                 0.029635        0.038548  0.068183\n",
       "maris otter pale                  0.038471        0.030657  0.069127\n",
       "caramel/crystal 60l               0.046588        0.036276  0.082864\n",
       "flaked oats                       0.023284        0.062724  0.086008\n",
       "chocolate malt                    0.075640        0.048950  0.124590\n",
       "black malt                        0.085952        0.054522  0.140474\n",
       "chocolate                         0.071018        0.071787  0.142805\n",
       "roasted barley                    0.039655        0.119016  0.158671\n",
       "2-row                             0.095836        0.098594  0.194430"
      ]
     },
     "execution_count": 15,
     "metadata": {},
     "output_type": "execute_result"
    }
   ],
   "source": [
    "stout_ferms = stout_ferms.tail(20)\n",
    "stout_ferms"
   ]
  },
  {
   "cell_type": "code",
   "execution_count": 16,
   "metadata": {},
   "outputs": [
    {
     "data": {
      "text/plain": [
       "<AxesSubplot:>"
      ]
     },
     "execution_count": 16,
     "metadata": {},
     "output_type": "execute_result"
    },
    {
     "data": {
      "image/png": "[encoded data removed]",
      "text/plain": [
       "<Figure size 864x1296 with 1 Axes>"
      ]
     },
     "metadata": {
      "needs_background": "light"
     },
     "output_type": "display_data"
    }
   ],
   "source": [
    "stout_ferms[[\"american stout\", \"robust porter\"]].plot(kind=\"barh\", stacked=False, figsize=(12,18), fontsize=18)"
   ]
  },
  {
   "cell_type": "markdown",
   "metadata": {},
   "source": [
    "# Adjust for Mass\n",
    "\n",
    "The above calculation simply adds \"1\" for each appearance of a fermentable, regardless of how much of the fermentable is added, and would add multiple if it appeared in the recipe multiple times. What would likely be better would be to look at the percentage of the grain bill for each fermentable."
   ]
  },
  {
   "cell_type": "code",
   "execution_count": 30,
   "metadata": {},
   "outputs": [
    {
     "data": {
      "text/plain": [
       "style_name      ferm_name                          \n",
       "american stout  2-row                                  0.428363\n",
       "                6-row                                  0.004346\n",
       "                abbey malt                             0.000070\n",
       "                acidulated malt                        0.000102\n",
       "                amber malt                             0.000907\n",
       "                                                         ...   \n",
       "robust porter   victory® malt                          0.004919\n",
       "                vienna                                 0.004128\n",
       "                warminster floor-malted maris otter    0.002538\n",
       "                wheat, red                             0.000065\n",
       "                white wheat                            0.005850\n",
       "Name: ferm_amount, Length: 242, dtype: float64"
      ]
     },
     "execution_count": 30,
     "metadata": {},
     "output_type": "execute_result"
    }
   ],
   "source": [
    "by_style_ferm = stouts.groupby([\"style_name\", \"ferm_name\"]).ferm_amount.sum()\n",
    "by_style = stouts.groupby([\"style_name\"]).ferm_amount.sum()\n",
    "average_bill = by_style_ferm / by_style\n",
    "average_bill"
   ]
  },
  {
   "cell_type": "code",
   "execution_count": 53,
   "metadata": {},
   "outputs": [],
   "source": [
    "average_bill = average_bill.reset_index()"
   ]
  },
  {
   "cell_type": "code",
   "execution_count": 63,
   "metadata": {},
   "outputs": [],
   "source": [
    "ferms_by_mass = average_bill.pivot_table(index=\"ferm_name\", columns=\"style_name\", dropna=False)"
   ]
  },
  {
   "cell_type": "code",
   "execution_count": 69,
   "metadata": {},
   "outputs": [],
   "source": [
    "ferms_by_mass.columns = ferms_by_mass.columns.droplevel()"
   ]
  },
  {
   "cell_type": "code",
   "execution_count": 86,
   "metadata": {},
   "outputs": [],
   "source": [
    "ferms_by_mass[\"tot\"] = ferms_by_mass.sum(axis=1)\n",
    "ferms_by_mass[\"dif\"] = ferms_by_mass[\"american stout\"] - ferms_by_mass[\"robust porter\"]\n",
    "ferms_by_mass[\"absdif\"] = (ferms_by_mass[\"american stout\"] - ferms_by_mass[\"robust porter\"]).abs()"
   ]
  },
  {
   "cell_type": "code",
   "execution_count": 88,
   "metadata": {},
   "outputs": [],
   "source": [
    "ferms_by_mass = ferms_by_mass.sort_values(\"absdif\")"
   ]
  },
  {
   "cell_type": "code",
   "execution_count": 93,
   "metadata": {},
   "outputs": [
    {
     "data": {
      "text/plain": [
       "<AxesSubplot:ylabel='ferm_name'>"
      ]
     },
     "execution_count": 93,
     "metadata": {},
     "output_type": "execute_result"
    },
    {
     "data": {
      "image/png": "[encoded data removed]",
      "text/plain": [
       "<Figure size 864x1296 with 1 Axes>"
      ]
     },
     "metadata": {
      "needs_background": "light"
     },
     "output_type": "display_data"
    }
   ],
   "source": [
    "ferms_by_mass[\"dif\"].iloc[-20:].plot(kind=\"barh\", stacked=False, figsize=(12,18), fontsize=18)"
   ]
  },
  {
   "cell_type": "code",
   "execution_count": null,
   "metadata": {},
   "outputs": [],
   "source": []
  }
 ],
 "metadata": {
  "kernelspec": {
   "display_name": "beer-env",
   "language": "python",
   "name": "beer-env"
  },
  "language_info": {
   "codemirror_mode": {
    "name": "ipython",
    "version": 3
   },
   "file_extension": ".py",
   "mimetype": "text/x-python",
   "name": "python",
   "nbconvert_exporter": "python",
   "pygments_lexer": "ipython3",
   "version": "3.6.9"
  }
 },
 "nbformat": 4,
 "nbformat_minor": 2
}
