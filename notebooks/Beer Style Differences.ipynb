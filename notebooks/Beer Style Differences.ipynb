{
 "cells": [
  {
   "cell_type": "markdown",
   "metadata": {},
   "source": [
    "# Investigating differences between styles by ingredient"
   ]
  },
  {
   "cell_type": "code",
   "execution_count": null,
   "metadata": {},
   "outputs": [],
   "source": [
    "import glob\n",
    "import matplotlib.pyplot as plt\n",
    "import numpy as np\n",
    "import os\n",
    "import pandas as pd\n",
    "import pickle\n",
    "\n",
    "from beerai.config import DATA_DIR"
   ]
  },
  {
   "cell_type": "code",
   "execution_count": 5,
   "metadata": {},
   "outputs": [],
   "source": [
    "%matplotlib inline"
   ]
  },
  {
   "cell_type": "code",
   "execution_count": 6,
   "metadata": {},
   "outputs": [],
   "source": [
    "with pd.HDFStore(os.path.join(DATA_DIR, \"interim/all_recipes.h5\")) as store:\n",
    "    core = store.get(\"core\")\n",
    "    ings = store.get(\"ingredients\")"
   ]
  },
  {
   "cell_type": "code",
   "execution_count": 7,
   "metadata": {},
   "outputs": [
    {
     "data": {
      "text/html": [
       "<div>\n",
       "<style scoped>\n",
       "    .dataframe tbody tr th:only-of-type {\n",
       "        vertical-align: middle;\n",
       "    }\n",
       "\n",
       "    .dataframe tbody tr th {\n",
       "        vertical-align: top;\n",
       "    }\n",
       "\n",
       "    .dataframe thead th {\n",
       "        text-align: right;\n",
       "    }\n",
       "</style>\n",
       "<table border=\"1\" class=\"dataframe\">\n",
       "  <thead>\n",
       "    <tr style=\"text-align: right;\">\n",
       "      <th></th>\n",
       "      <th>batch_size</th>\n",
       "      <th>boil_size</th>\n",
       "      <th>boil_time</th>\n",
       "      <th>brewer</th>\n",
       "      <th>efficiency</th>\n",
       "      <th>name</th>\n",
       "      <th>origin</th>\n",
       "      <th>recipe_file</th>\n",
       "      <th>src_abv</th>\n",
       "      <th>src_color</th>\n",
       "      <th>src_fg</th>\n",
       "      <th>src_ibu</th>\n",
       "      <th>src_og</th>\n",
       "      <th>style_category</th>\n",
       "      <th>style_guide</th>\n",
       "      <th>style_name</th>\n",
       "      <th>style_version</th>\n",
       "    </tr>\n",
       "    <tr>\n",
       "      <th>id</th>\n",
       "      <th></th>\n",
       "      <th></th>\n",
       "      <th></th>\n",
       "      <th></th>\n",
       "      <th></th>\n",
       "      <th></th>\n",
       "      <th></th>\n",
       "      <th></th>\n",
       "      <th></th>\n",
       "      <th></th>\n",
       "      <th></th>\n",
       "      <th></th>\n",
       "      <th></th>\n",
       "      <th></th>\n",
       "      <th></th>\n",
       "      <th></th>\n",
       "      <th></th>\n",
       "    </tr>\n",
       "  </thead>\n",
       "  <tbody>\n",
       "    <tr>\n",
       "      <th>0</th>\n",
       "      <td>18.927059</td>\n",
       "      <td>21.198306</td>\n",
       "      <td>60.0</td>\n",
       "      <td>velkyal</td>\n",
       "      <td>0.75</td>\n",
       "      <td>dark island oir leann</td>\n",
       "      <td>brewtoad</td>\n",
       "      <td>recipes/brewtoad/dark-island-oir-leann.xml</td>\n",
       "      <td>NaN</td>\n",
       "      <td>NaN</td>\n",
       "      <td>NaN</td>\n",
       "      <td>NaN</td>\n",
       "      <td>NaN</td>\n",
       "      <td>6b</td>\n",
       "      <td>bjcp</td>\n",
       "      <td>blonde ale</td>\n",
       "      <td>1.0</td>\n",
       "    </tr>\n",
       "    <tr>\n",
       "      <th>1</th>\n",
       "      <td>22.712471</td>\n",
       "      <td>28.390588</td>\n",
       "      <td>60.0</td>\n",
       "      <td>wain thor</td>\n",
       "      <td>0.85</td>\n",
       "      <td>witbur</td>\n",
       "      <td>brewtoad</td>\n",
       "      <td>recipes/brewtoad/witbur.xml</td>\n",
       "      <td>NaN</td>\n",
       "      <td>NaN</td>\n",
       "      <td>NaN</td>\n",
       "      <td>NaN</td>\n",
       "      <td>NaN</td>\n",
       "      <td>6d</td>\n",
       "      <td>bjcp</td>\n",
       "      <td>american wheat or rye beer</td>\n",
       "      <td>1.0</td>\n",
       "    </tr>\n",
       "    <tr>\n",
       "      <th>2</th>\n",
       "      <td>20.819765</td>\n",
       "      <td>24.983718</td>\n",
       "      <td>60.0</td>\n",
       "      <td>btfielder</td>\n",
       "      <td>0.75</td>\n",
       "      <td>kolsch</td>\n",
       "      <td>brewtoad</td>\n",
       "      <td>recipes/brewtoad/kolsch-9285a4.xml</td>\n",
       "      <td>NaN</td>\n",
       "      <td>NaN</td>\n",
       "      <td>NaN</td>\n",
       "      <td>NaN</td>\n",
       "      <td>NaN</td>\n",
       "      <td>6c</td>\n",
       "      <td>bjcp</td>\n",
       "      <td>kölsch</td>\n",
       "      <td>1.0</td>\n",
       "    </tr>\n",
       "    <tr>\n",
       "      <th>3</th>\n",
       "      <td>18.927059</td>\n",
       "      <td>23.658824</td>\n",
       "      <td>60.0</td>\n",
       "      <td>viff brewing</td>\n",
       "      <td>0.75</td>\n",
       "      <td>amber alert</td>\n",
       "      <td>brewtoad</td>\n",
       "      <td>recipes/brewtoad/amber-alert-4.xml</td>\n",
       "      <td>NaN</td>\n",
       "      <td>NaN</td>\n",
       "      <td>NaN</td>\n",
       "      <td>NaN</td>\n",
       "      <td>NaN</td>\n",
       "      <td>10b</td>\n",
       "      <td>bjcp</td>\n",
       "      <td>american amber ale</td>\n",
       "      <td>1.0</td>\n",
       "    </tr>\n",
       "    <tr>\n",
       "      <th>4</th>\n",
       "      <td>18.927059</td>\n",
       "      <td>23.658824</td>\n",
       "      <td>60.0</td>\n",
       "      <td>pistolpete2</td>\n",
       "      <td>0.75</td>\n",
       "      <td>graff</td>\n",
       "      <td>brewtoad</td>\n",
       "      <td>recipes/brewtoad/graff-14.xml</td>\n",
       "      <td>NaN</td>\n",
       "      <td>NaN</td>\n",
       "      <td>NaN</td>\n",
       "      <td>NaN</td>\n",
       "      <td>NaN</td>\n",
       "      <td>20a</td>\n",
       "      <td>bjcp</td>\n",
       "      <td>fruit beer</td>\n",
       "      <td>1.0</td>\n",
       "    </tr>\n",
       "  </tbody>\n",
       "</table>\n",
       "</div>"
      ],
      "text/plain": [
       "    batch_size  boil_size  boil_time        brewer  efficiency  \\\n",
       "id                                                               \n",
       "0    18.927059  21.198306       60.0       velkyal        0.75   \n",
       "1    22.712471  28.390588       60.0     wain thor        0.85   \n",
       "2    20.819765  24.983718       60.0     btfielder        0.75   \n",
       "3    18.927059  23.658824       60.0  viff brewing        0.75   \n",
       "4    18.927059  23.658824       60.0   pistolpete2        0.75   \n",
       "\n",
       "                     name    origin  \\\n",
       "id                                    \n",
       "0   dark island oir leann  brewtoad   \n",
       "1                  witbur  brewtoad   \n",
       "2                  kolsch  brewtoad   \n",
       "3             amber alert  brewtoad   \n",
       "4                   graff  brewtoad   \n",
       "\n",
       "                                   recipe_file  src_abv  src_color  src_fg  \\\n",
       "id                                                                           \n",
       "0   recipes/brewtoad/dark-island-oir-leann.xml      NaN        NaN     NaN   \n",
       "1                  recipes/brewtoad/witbur.xml      NaN        NaN     NaN   \n",
       "2           recipes/brewtoad/kolsch-9285a4.xml      NaN        NaN     NaN   \n",
       "3           recipes/brewtoad/amber-alert-4.xml      NaN        NaN     NaN   \n",
       "4                recipes/brewtoad/graff-14.xml      NaN        NaN     NaN   \n",
       "\n",
       "    src_ibu  src_og style_category style_guide                  style_name  \\\n",
       "id                                                                           \n",
       "0       NaN     NaN             6b        bjcp                  blonde ale   \n",
       "1       NaN     NaN             6d        bjcp  american wheat or rye beer   \n",
       "2       NaN     NaN             6c        bjcp                      kölsch   \n",
       "3       NaN     NaN            10b        bjcp          american amber ale   \n",
       "4       NaN     NaN            20a        bjcp                  fruit beer   \n",
       "\n",
       "    style_version  \n",
       "id                 \n",
       "0             1.0  \n",
       "1             1.0  \n",
       "2             1.0  \n",
       "3             1.0  \n",
       "4             1.0  "
      ]
     },
     "execution_count": 7,
     "metadata": {},
     "output_type": "execute_result"
    }
   ],
   "source": [
    "core.head()"
   ]
  },
  {
   "cell_type": "code",
   "execution_count": 8,
   "metadata": {},
   "outputs": [],
   "source": [
    "map_files = glob.glob(os.path.join(DATA_DIR, \"interim/*map.pickle\"))\n",
    "map_files = {os.path.basename(m)[:-10]: m for m in map_files}\n",
    "\n",
    "maps = {}\n",
    "for label, map_file in map_files.items():\n",
    "    with open(map_file, \"rb\") as f:\n",
    "        maps[label] = pickle.load(f)"
   ]
  },
  {
   "cell_type": "code",
   "execution_count": 9,
   "metadata": {},
   "outputs": [],
   "source": [
    "ings[\"ferm_name\"] = ings[\"ferm_name\"].map(maps[\"ferm\"])\n",
    "ings[\"hop_name\"] = ings[\"hop_name\"].map(maps[\"hop\"])\n",
    "ings[\"yeast_name\"] = ings[\"yeast_name\"].map(maps[\"yeast\"])\n",
    "ings[\"misc_name\"] = ings[\"misc_name\"].map(maps[\"misc\"])"
   ]
  },
  {
   "cell_type": "code",
   "execution_count": 10,
   "metadata": {},
   "outputs": [],
   "source": [
    "styles = [\"robust porter\", \"american stout\"]"
   ]
  },
  {
   "cell_type": "code",
   "execution_count": 11,
   "metadata": {},
   "outputs": [],
   "source": [
    "recipe_ids = core[core[\"style_name\"].isin(styles)].index"
   ]
  },
  {
   "cell_type": "code",
   "execution_count": 12,
   "metadata": {},
   "outputs": [],
   "source": [
    "stouts =  core.loc[recipe_ids].join(ings, how=\"left\")"
   ]
  },
  {
   "cell_type": "code",
   "execution_count": 13,
   "metadata": {},
   "outputs": [
    {
     "data": {
      "text/plain": [
       "16895"
      ]
     },
     "execution_count": 13,
     "metadata": {},
     "output_type": "execute_result"
    }
   ],
   "source": [
    "stouts.index.nunique()"
   ]
  },
  {
   "cell_type": "markdown",
   "metadata": {},
   "source": [
    "There are a couple of ways we can frame the question of \"how do the fermentables differ between 2 styles\":\n",
    "\n",
    "1. What is the difference in likelihood/probability (sorry statisticians) that an ingredient will appear in the average recipe for a style?\n",
    "2. What is the difference in the amount of fermentable in the average recipe for a style?\n",
    "3. Probably a few others, but 1 and 2 are the most interesting for now.\n",
    "\n",
    "Let's start with 1.\n",
    "\n",
    "## How likely is a the average recipe for a style to include a specific fermentable?"
   ]
  },
  {
   "cell_type": "code",
   "execution_count": 27,
   "metadata": {},
   "outputs": [
    {
     "data": {
      "text/plain": [
       "style_name      ferm_name                          \n",
       "american stout  2-row                                  0.240308\n",
       "                6-row                                  0.007872\n",
       "                abbey malt                             0.000533\n",
       "                acidulated malt                        0.003492\n",
       "                amber malt                             0.004321\n",
       "                                                         ...   \n",
       "robust porter   victory® malt                          0.024978\n",
       "                vienna                                 0.015567\n",
       "                warminster floor-malted maris otter    0.002723\n",
       "                wheat, red                             0.000237\n",
       "                white wheat                            0.035277\n",
       "Name: id, Length: 242, dtype: float64"
      ]
     },
     "execution_count": 27,
     "metadata": {},
     "output_type": "execute_result"
    }
   ],
   "source": [
    "by_style_ferm = stouts.reset_index().groupby([\"style_name\", \"ferm_name\"])\n",
    "prob_ferm_by_style = by_style_ferm[\"id\"].nunique() / stouts.index.nunique()\n",
    "prob_ferm_by_style"
   ]
  },
  {
   "cell_type": "code",
   "execution_count": 53,
   "metadata": {},
   "outputs": [
    {
     "data": {
      "text/html": [
       "<div>\n",
       "<style scoped>\n",
       "    .dataframe tbody tr th:only-of-type {\n",
       "        vertical-align: middle;\n",
       "    }\n",
       "\n",
       "    .dataframe tbody tr th {\n",
       "        vertical-align: top;\n",
       "    }\n",
       "\n",
       "    .dataframe thead th {\n",
       "        text-align: right;\n",
       "    }\n",
       "</style>\n",
       "<table border=\"1\" class=\"dataframe\">\n",
       "  <thead>\n",
       "    <tr style=\"text-align: right;\">\n",
       "      <th>style_name</th>\n",
       "      <th>american stout</th>\n",
       "      <th>robust porter</th>\n",
       "      <th>tot</th>\n",
       "      <th>diff</th>\n",
       "      <th>absdiff</th>\n",
       "    </tr>\n",
       "    <tr>\n",
       "      <th>ferm_name</th>\n",
       "      <th></th>\n",
       "      <th></th>\n",
       "      <th></th>\n",
       "      <th></th>\n",
       "      <th></th>\n",
       "    </tr>\n",
       "  </thead>\n",
       "  <tbody>\n",
       "    <tr>\n",
       "      <th>turbinado</th>\n",
       "      <td>0.001184</td>\n",
       "      <td>0.001184</td>\n",
       "      <td>0.002368</td>\n",
       "      <td>0.000000</td>\n",
       "      <td>0.000000</td>\n",
       "    </tr>\n",
       "    <tr>\n",
       "      <th>flaked rice</th>\n",
       "      <td>0.000474</td>\n",
       "      <td>0.000414</td>\n",
       "      <td>0.000888</td>\n",
       "      <td>0.000059</td>\n",
       "      <td>0.000059</td>\n",
       "    </tr>\n",
       "    <tr>\n",
       "      <th>dry malt extract - pilsen</th>\n",
       "      <td>0.006392</td>\n",
       "      <td>0.006452</td>\n",
       "      <td>0.012844</td>\n",
       "      <td>-0.000059</td>\n",
       "      <td>0.000059</td>\n",
       "    </tr>\n",
       "    <tr>\n",
       "      <th>carahell®</th>\n",
       "      <td>0.001598</td>\n",
       "      <td>0.001657</td>\n",
       "      <td>0.003255</td>\n",
       "      <td>-0.000059</td>\n",
       "      <td>0.000059</td>\n",
       "    </tr>\n",
       "    <tr>\n",
       "      <th>liquid malt extract - dark</th>\n",
       "      <td>0.020065</td>\n",
       "      <td>0.019947</td>\n",
       "      <td>0.040012</td>\n",
       "      <td>0.000118</td>\n",
       "      <td>0.000118</td>\n",
       "    </tr>\n",
       "    <tr>\n",
       "      <th>...</th>\n",
       "      <td>...</td>\n",
       "      <td>...</td>\n",
       "      <td>...</td>\n",
       "      <td>...</td>\n",
       "      <td>...</td>\n",
       "    </tr>\n",
       "    <tr>\n",
       "      <th>caramel/crystal 60l</th>\n",
       "      <td>0.089376</td>\n",
       "      <td>0.141462</td>\n",
       "      <td>0.230838</td>\n",
       "      <td>-0.052086</td>\n",
       "      <td>0.052086</td>\n",
       "    </tr>\n",
       "    <tr>\n",
       "      <th>flaked oats</th>\n",
       "      <td>0.154780</td>\n",
       "      <td>0.070790</td>\n",
       "      <td>0.225570</td>\n",
       "      <td>0.083989</td>\n",
       "      <td>0.083989</td>\n",
       "    </tr>\n",
       "    <tr>\n",
       "      <th>chocolate malt</th>\n",
       "      <td>0.120154</td>\n",
       "      <td>0.227405</td>\n",
       "      <td>0.347558</td>\n",
       "      <td>-0.107251</td>\n",
       "      <td>0.107251</td>\n",
       "    </tr>\n",
       "    <tr>\n",
       "      <th>black malt</th>\n",
       "      <td>0.133649</td>\n",
       "      <td>0.260965</td>\n",
       "      <td>0.394614</td>\n",
       "      <td>-0.127316</td>\n",
       "      <td>0.127316</td>\n",
       "    </tr>\n",
       "    <tr>\n",
       "      <th>roasted barley</th>\n",
       "      <td>0.288369</td>\n",
       "      <td>0.119444</td>\n",
       "      <td>0.407813</td>\n",
       "      <td>0.168926</td>\n",
       "      <td>0.168926</td>\n",
       "    </tr>\n",
       "  </tbody>\n",
       "</table>\n",
       "<p>121 rows × 5 columns</p>\n",
       "</div>"
      ],
      "text/plain": [
       "style_name                  american stout  robust porter       tot      diff  \\\n",
       "ferm_name                                                                       \n",
       "turbinado                         0.001184       0.001184  0.002368  0.000000   \n",
       "flaked rice                       0.000474       0.000414  0.000888  0.000059   \n",
       "dry malt extract - pilsen         0.006392       0.006452  0.012844 -0.000059   \n",
       "carahell®                         0.001598       0.001657  0.003255 -0.000059   \n",
       "liquid malt extract - dark        0.020065       0.019947  0.040012  0.000118   \n",
       "...                                    ...            ...       ...       ...   \n",
       "caramel/crystal 60l               0.089376       0.141462  0.230838 -0.052086   \n",
       "flaked oats                       0.154780       0.070790  0.225570  0.083989   \n",
       "chocolate malt                    0.120154       0.227405  0.347558 -0.107251   \n",
       "black malt                        0.133649       0.260965  0.394614 -0.127316   \n",
       "roasted barley                    0.288369       0.119444  0.407813  0.168926   \n",
       "\n",
       "style_name                   absdiff  \n",
       "ferm_name                             \n",
       "turbinado                   0.000000  \n",
       "flaked rice                 0.000059  \n",
       "dry malt extract - pilsen   0.000059  \n",
       "carahell®                   0.000059  \n",
       "liquid malt extract - dark  0.000118  \n",
       "...                              ...  \n",
       "caramel/crystal 60l         0.052086  \n",
       "flaked oats                 0.083989  \n",
       "chocolate malt              0.107251  \n",
       "black malt                  0.127316  \n",
       "roasted barley              0.168926  \n",
       "\n",
       "[121 rows x 5 columns]"
      ]
     },
     "execution_count": 53,
     "metadata": {},
     "output_type": "execute_result"
    }
   ],
   "source": [
    "compare = prob_ferm_by_style.unstack().T\n",
    "compare[\"tot\"] = compare.sum(axis=1)\n",
    "compare[\"diff\"] = compare[\"american stout\"] - compare[\"robust porter\"]\n",
    "compare[\"absdiff\"] = (compare[\"american stout\"] - compare[\"robust porter\"]).abs()\n",
    "compare = compare.sort_values(\"absdiff\", ascending=True)\n",
    "compare"
   ]
  },
  {
   "cell_type": "code",
   "execution_count": 66,
   "metadata": {},
   "outputs": [
    {
     "data": {
      "text/plain": [
       "Text(0.5, 0, 'Difference in probability')"
      ]
     },
     "execution_count": 66,
     "metadata": {},
     "output_type": "execute_result"
    },
    {
     "data": {
      "image/png": "[encoded data removed]",
      "text/plain": [
       "<Figure size 648x864 with 1 Axes>"
      ]
     },
     "metadata": {
      "needs_background": "light"
     },
     "output_type": "display_data"
    }
   ],
   "source": [
    "ax = compare.iloc[-10:, 3].plot(kind=\"barh\", stacked=False, figsize=(9,12), fontsize=18)\n",
    "ax.set_title(\"Robust Porter (negative) vs American Stout (positive)\")\n",
    "ax.set_ylabel(\"Fermentable\")\n",
    "ax.set_xlabel(\"Difference in probability\")"
   ]
  },
  {
   "cell_type": "markdown",
   "metadata": {},
   "source": [
    "Interpretation: The odds of finding ingredient X in category Y is n% higher than in category Z.\n",
    "\n",
    "For example, the odds of finding roasted barley in an american stout is ~15% higher than in a robust porter."
   ]
  },
  {
   "cell_type": "markdown",
   "metadata": {},
   "source": [
    "# Adjust for Mass\n",
    "\n",
    "The above calculation simply adds \"1\" for each appearance of a fermentable, regardless of how much of the fermentable is added, and would add multiple if it appeared in the recipe multiple times. What would likely be better would be to look at the percentage of the grain bill for each fermentable."
   ]
  },
  {
   "cell_type": "code",
   "execution_count": 67,
   "metadata": {},
   "outputs": [
    {
     "data": {
      "text/plain": [
       "style_name      ferm_name                          \n",
       "american stout  2-row                                  0.428363\n",
       "                6-row                                  0.004346\n",
       "                abbey malt                             0.000070\n",
       "                acidulated malt                        0.000102\n",
       "                amber malt                             0.000907\n",
       "                                                         ...   \n",
       "robust porter   victory® malt                          0.004919\n",
       "                vienna                                 0.004128\n",
       "                warminster floor-malted maris otter    0.002538\n",
       "                wheat, red                             0.000065\n",
       "                white wheat                            0.005850\n",
       "Name: ferm_amount, Length: 242, dtype: float64"
      ]
     },
     "execution_count": 67,
     "metadata": {},
     "output_type": "execute_result"
    }
   ],
   "source": [
    "# Consideration - these are not scaled amounts. Need to scale fermentables first. Question is, do we scale \n",
    "# by total fermentables or by batch size (Liters). The difference is that one is a percentage of the,\n",
    "# grain bill, the other is an amount per liter, which relates to the strength of the beer.\n",
    "# I think the % is more interesting, not the per liter amount (per liter, the stronger beer will typically\n",
    "# have more of almost everything).\n",
    "by_style_ferm = stouts.groupby([\"style_name\", \"ferm_name\"]).ferm_amount.sum()\n",
    "by_style = stouts.groupby([\"style_name\"]).ferm_amount.sum()\n",
    "average_bill = by_style_ferm / by_style\n",
    "average_bill"
   ]
  },
  {
   "cell_type": "code",
   "execution_count": 53,
   "metadata": {},
   "outputs": [],
   "source": [
    "average_bill = average_bill.reset_index()"
   ]
  },
  {
   "cell_type": "code",
   "execution_count": 63,
   "metadata": {},
   "outputs": [],
   "source": [
    "ferms_by_mass = average_bill.pivot_table(index=\"ferm_name\", columns=\"style_name\", dropna=False)"
   ]
  },
  {
   "cell_type": "code",
   "execution_count": 69,
   "metadata": {},
   "outputs": [],
   "source": [
    "ferms_by_mass.columns = ferms_by_mass.columns.droplevel()"
   ]
  },
  {
   "cell_type": "code",
   "execution_count": 86,
   "metadata": {},
   "outputs": [],
   "source": [
    "ferms_by_mass[\"tot\"] = ferms_by_mass.sum(axis=1)\n",
    "ferms_by_mass[\"dif\"] = ferms_by_mass[\"american stout\"] - ferms_by_mass[\"robust porter\"]\n",
    "ferms_by_mass[\"absdif\"] = (ferms_by_mass[\"american stout\"] - ferms_by_mass[\"robust porter\"]).abs()"
   ]
  },
  {
   "cell_type": "code",
   "execution_count": 88,
   "metadata": {},
   "outputs": [],
   "source": [
    "ferms_by_mass = ferms_by_mass.sort_values(\"absdif\")"
   ]
  },
  {
   "cell_type": "code",
   "execution_count": 93,
   "metadata": {},
   "outputs": [
    {
     "data": {
      "text/plain": [
       "<AxesSubplot:ylabel='ferm_name'>"
      ]
     },
     "execution_count": 93,
     "metadata": {},
     "output_type": "execute_result"
    },
    {
     "data": {
      "image/png": "[encoded data removed]",
      "text/plain": [
       "<Figure size 864x1296 with 1 Axes>"
      ]
     },
     "metadata": {
      "needs_background": "light"
     },
     "output_type": "display_data"
    }
   ],
   "source": [
    "ferms_by_mass[\"dif\"].iloc[-20:].plot(kind=\"barh\", stacked=False, figsize=(12,18), fontsize=18)"
   ]
  },
  {
   "cell_type": "code",
   "execution_count": null,
   "metadata": {},
   "outputs": [],
   "source": []
  }
 ],
 "metadata": {
  "kernelspec": {
   "display_name": "beer.ai",
   "language": "python",
   "name": "beer.ai"
  },
  "language_info": {
   "codemirror_mode": {
    "name": "ipython",
    "version": 3
   },
   "file_extension": ".py",
   "mimetype": "text/x-python",
   "name": "python",
   "nbconvert_exporter": "python",
   "pygments_lexer": "ipython3",
   "version": "3.8.6"
  }
 },
 "nbformat": 4,
 "nbformat_minor": 2
}
