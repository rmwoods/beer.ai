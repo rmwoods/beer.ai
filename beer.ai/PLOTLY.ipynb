{
 "cells": [
  {
   "cell_type": "code",
   "execution_count": 1,
   "metadata": {},
   "outputs": [],
   "source": [
    "import cleaning\n",
    "import numpy as np\n",
    "import pandas as pd\n",
    "import matplotlib.pyplot as plt\n",
    "import plotly.graph_objs as go\n",
    "import utils\n",
    "\n",
    "from plotly import tools\n",
    "from plotly.offline import iplot"
   ]
  },
  {
   "cell_type": "markdown",
   "metadata": {},
   "source": [
    "# Visualizing Beers by Style\n",
    "\n",
    "..."
   ]
  },
  {
   "cell_type": "markdown",
   "metadata": {},
   "source": [
    "## Load in our data"
   ]
  },
  {
   "cell_type": "code",
   "execution_count": 2,
   "metadata": {},
   "outputs": [],
   "source": [
    "def load_recipes(index_range):\n",
    "    with pd.HDFStore(\"all_recipes.h5\", \"r\") as store:\n",
    "        where_clause = f\"(index >= {index_range[0]}) & (index <= {index_range[1]})\"\n",
    "        core = store.select(\"/core\", where=where_clause)\n",
    "        ing = store.select(\"/ingredients\", where=where_clause)\n",
    "    df = core.join(ing)\n",
    "    return df"
   ]
  },
  {
   "cell_type": "code",
   "execution_count": 3,
   "metadata": {},
   "outputs": [],
   "source": [
    "brewersfriend_indices = [330790, 403157]"
   ]
  },
  {
   "cell_type": "code",
   "execution_count": 4,
   "metadata": {},
   "outputs": [],
   "source": [
    "bf = load_recipes(brewersfriend_indices)"
   ]
  },
  {
   "cell_type": "code",
   "execution_count": 5,
   "metadata": {},
   "outputs": [
    {
     "data": {
      "text/html": [
       "<div>\n",
       "<style scoped>\n",
       "    .dataframe tbody tr th:only-of-type {\n",
       "        vertical-align: middle;\n",
       "    }\n",
       "\n",
       "    .dataframe tbody tr th {\n",
       "        vertical-align: top;\n",
       "    }\n",
       "\n",
       "    .dataframe thead th {\n",
       "        text-align: right;\n",
       "    }\n",
       "</style>\n",
       "<table border=\"1\" class=\"dataframe\">\n",
       "  <thead>\n",
       "    <tr style=\"text-align: right;\">\n",
       "      <th></th>\n",
       "      <th>batch_size</th>\n",
       "      <th>boil_size</th>\n",
       "      <th>boil_time</th>\n",
       "      <th>brewer</th>\n",
       "      <th>efficiency</th>\n",
       "      <th>name</th>\n",
       "      <th>origin</th>\n",
       "      <th>recipe_file</th>\n",
       "      <th>src_abv</th>\n",
       "      <th>src_color</th>\n",
       "      <th>...</th>\n",
       "      <th>misc_time</th>\n",
       "      <th>misc_use</th>\n",
       "      <th>yeast_amount</th>\n",
       "      <th>yeast_attenuation</th>\n",
       "      <th>yeast_flocculation</th>\n",
       "      <th>yeast_form</th>\n",
       "      <th>yeast_laboratory</th>\n",
       "      <th>yeast_name</th>\n",
       "      <th>yeast_product_id</th>\n",
       "      <th>yeast_type</th>\n",
       "    </tr>\n",
       "    <tr>\n",
       "      <th>id</th>\n",
       "      <th></th>\n",
       "      <th></th>\n",
       "      <th></th>\n",
       "      <th></th>\n",
       "      <th></th>\n",
       "      <th></th>\n",
       "      <th></th>\n",
       "      <th></th>\n",
       "      <th></th>\n",
       "      <th></th>\n",
       "      <th></th>\n",
       "      <th></th>\n",
       "      <th></th>\n",
       "      <th></th>\n",
       "      <th></th>\n",
       "      <th></th>\n",
       "      <th></th>\n",
       "      <th></th>\n",
       "      <th></th>\n",
       "      <th></th>\n",
       "      <th></th>\n",
       "    </tr>\n",
       "  </thead>\n",
       "  <tbody>\n",
       "    <tr>\n",
       "      <th>330790</th>\n",
       "      <td>18.927059</td>\n",
       "      <td>22.712471</td>\n",
       "      <td>60.0</td>\n",
       "      <td>NaN</td>\n",
       "      <td>0.63</td>\n",
       "      <td>northwest wheat</td>\n",
       "      <td>brewersfriend</td>\n",
       "      <td>recipes/brewersfriend/189607.xml</td>\n",
       "      <td>4.71</td>\n",
       "      <td>5.56</td>\n",
       "      <td>...</td>\n",
       "      <td>NaN</td>\n",
       "      <td>NaN</td>\n",
       "      <td>0.1</td>\n",
       "      <td>72.5</td>\n",
       "      <td>low</td>\n",
       "      <td>liquid</td>\n",
       "      <td>white labs</td>\n",
       "      <td>american hefeweizen ale yeast wlp320</td>\n",
       "      <td>WLP320</td>\n",
       "      <td>ale</td>\n",
       "    </tr>\n",
       "    <tr>\n",
       "      <th>330790</th>\n",
       "      <td>18.927059</td>\n",
       "      <td>22.712471</td>\n",
       "      <td>60.0</td>\n",
       "      <td>NaN</td>\n",
       "      <td>0.63</td>\n",
       "      <td>northwest wheat</td>\n",
       "      <td>brewersfriend</td>\n",
       "      <td>recipes/brewersfriend/189607.xml</td>\n",
       "      <td>4.71</td>\n",
       "      <td>5.56</td>\n",
       "      <td>...</td>\n",
       "      <td>NaN</td>\n",
       "      <td>NaN</td>\n",
       "      <td>NaN</td>\n",
       "      <td>NaN</td>\n",
       "      <td>NaN</td>\n",
       "      <td>NaN</td>\n",
       "      <td>NaN</td>\n",
       "      <td>NaN</td>\n",
       "      <td>NaN</td>\n",
       "      <td>NaN</td>\n",
       "    </tr>\n",
       "    <tr>\n",
       "      <th>330790</th>\n",
       "      <td>18.927059</td>\n",
       "      <td>22.712471</td>\n",
       "      <td>60.0</td>\n",
       "      <td>NaN</td>\n",
       "      <td>0.63</td>\n",
       "      <td>northwest wheat</td>\n",
       "      <td>brewersfriend</td>\n",
       "      <td>recipes/brewersfriend/189607.xml</td>\n",
       "      <td>4.71</td>\n",
       "      <td>5.56</td>\n",
       "      <td>...</td>\n",
       "      <td>NaN</td>\n",
       "      <td>NaN</td>\n",
       "      <td>NaN</td>\n",
       "      <td>NaN</td>\n",
       "      <td>NaN</td>\n",
       "      <td>NaN</td>\n",
       "      <td>NaN</td>\n",
       "      <td>NaN</td>\n",
       "      <td>NaN</td>\n",
       "      <td>NaN</td>\n",
       "    </tr>\n",
       "    <tr>\n",
       "      <th>330791</th>\n",
       "      <td>20.819765</td>\n",
       "      <td>11.356235</td>\n",
       "      <td>60.0</td>\n",
       "      <td>andy weaver</td>\n",
       "      <td>0.45</td>\n",
       "      <td>the beach some-what wheat</td>\n",
       "      <td>brewersfriend</td>\n",
       "      <td>recipes/brewersfriend/43750.xml</td>\n",
       "      <td>4.68</td>\n",
       "      <td>3.47</td>\n",
       "      <td>...</td>\n",
       "      <td>15.0</td>\n",
       "      <td>boil</td>\n",
       "      <td>0.1</td>\n",
       "      <td>76.5</td>\n",
       "      <td>medium</td>\n",
       "      <td>liquid</td>\n",
       "      <td>white labs</td>\n",
       "      <td>california ale yeast wlp001</td>\n",
       "      <td>WLP001</td>\n",
       "      <td>ale</td>\n",
       "    </tr>\n",
       "    <tr>\n",
       "      <th>330791</th>\n",
       "      <td>20.819765</td>\n",
       "      <td>11.356235</td>\n",
       "      <td>60.0</td>\n",
       "      <td>andy weaver</td>\n",
       "      <td>0.45</td>\n",
       "      <td>the beach some-what wheat</td>\n",
       "      <td>brewersfriend</td>\n",
       "      <td>recipes/brewersfriend/43750.xml</td>\n",
       "      <td>4.68</td>\n",
       "      <td>3.47</td>\n",
       "      <td>...</td>\n",
       "      <td>NaN</td>\n",
       "      <td>NaN</td>\n",
       "      <td>NaN</td>\n",
       "      <td>NaN</td>\n",
       "      <td>NaN</td>\n",
       "      <td>NaN</td>\n",
       "      <td>NaN</td>\n",
       "      <td>NaN</td>\n",
       "      <td>NaN</td>\n",
       "      <td>NaN</td>\n",
       "    </tr>\n",
       "  </tbody>\n",
       "</table>\n",
       "<p>5 rows × 46 columns</p>\n",
       "</div>"
      ],
      "text/plain": [
       "        batch_size  boil_size  boil_time       brewer  efficiency  \\\n",
       "id                                                                  \n",
       "330790   18.927059  22.712471       60.0          NaN        0.63   \n",
       "330790   18.927059  22.712471       60.0          NaN        0.63   \n",
       "330790   18.927059  22.712471       60.0          NaN        0.63   \n",
       "330791   20.819765  11.356235       60.0  andy weaver        0.45   \n",
       "330791   20.819765  11.356235       60.0  andy weaver        0.45   \n",
       "\n",
       "                             name         origin  \\\n",
       "id                                                 \n",
       "330790            northwest wheat  brewersfriend   \n",
       "330790            northwest wheat  brewersfriend   \n",
       "330790            northwest wheat  brewersfriend   \n",
       "330791  the beach some-what wheat  brewersfriend   \n",
       "330791  the beach some-what wheat  brewersfriend   \n",
       "\n",
       "                             recipe_file  src_abv  src_color  ...  misc_time  \\\n",
       "id                                                            ...              \n",
       "330790  recipes/brewersfriend/189607.xml     4.71       5.56  ...        NaN   \n",
       "330790  recipes/brewersfriend/189607.xml     4.71       5.56  ...        NaN   \n",
       "330790  recipes/brewersfriend/189607.xml     4.71       5.56  ...        NaN   \n",
       "330791   recipes/brewersfriend/43750.xml     4.68       3.47  ...       15.0   \n",
       "330791   recipes/brewersfriend/43750.xml     4.68       3.47  ...        NaN   \n",
       "\n",
       "        misc_use  yeast_amount yeast_attenuation yeast_flocculation  \\\n",
       "id                                                                    \n",
       "330790       NaN           0.1              72.5                low   \n",
       "330790       NaN           NaN               NaN                NaN   \n",
       "330790       NaN           NaN               NaN                NaN   \n",
       "330791      boil           0.1              76.5             medium   \n",
       "330791       NaN           NaN               NaN                NaN   \n",
       "\n",
       "       yeast_form  yeast_laboratory                            yeast_name  \\\n",
       "id                                                                          \n",
       "330790     liquid        white labs  american hefeweizen ale yeast wlp320   \n",
       "330790        NaN               NaN                                   NaN   \n",
       "330790        NaN               NaN                                   NaN   \n",
       "330791     liquid        white labs           california ale yeast wlp001   \n",
       "330791        NaN               NaN                                   NaN   \n",
       "\n",
       "        yeast_product_id yeast_type  \n",
       "id                                   \n",
       "330790            WLP320        ale  \n",
       "330790               NaN        NaN  \n",
       "330790               NaN        NaN  \n",
       "330791            WLP001        ale  \n",
       "330791               NaN        NaN  \n",
       "\n",
       "[5 rows x 46 columns]"
      ]
     },
     "execution_count": 5,
     "metadata": {},
     "output_type": "execute_result"
    }
   ],
   "source": [
    "bf.head()"
   ]
  },
  {
   "cell_type": "code",
   "execution_count": 6,
   "metadata": {},
   "outputs": [],
   "source": [
    "bf[\"ferm_scaled\"] = utils.scale_ferm(bf)\n",
    "bf[\"hop_scaled\"] = utils.scale_hop(bf)\n",
    "bf[\"efficiency\"] = cleaning.clean_efficiency(bf[\"efficiency\"])\n",
    "bf[\"ferm_yield\"] = cleaning.clean_ferm_yield(bf)"
   ]
  },
  {
   "cell_type": "code",
   "execution_count": 7,
   "metadata": {},
   "outputs": [],
   "source": [
    "bf[\"ibu\"] = utils.ibu(bf, utilization_factor=3.75)"
   ]
  },
  {
   "cell_type": "code",
   "execution_count": 8,
   "metadata": {},
   "outputs": [],
   "source": [
    "bf[\"abv\"] = utils.abv(bf)"
   ]
  },
  {
   "cell_type": "code",
   "execution_count": 9,
   "metadata": {},
   "outputs": [],
   "source": [
    "bf[\"srm\"] = utils.srm(bf)"
   ]
  },
  {
   "cell_type": "markdown",
   "metadata": {},
   "source": [
    "## Let's Plot Some Shit\n",
    "\n",
    "We'd like to see where styles of beer live in IBU vs ABV vs SRM space. We'll make a bubble ploy of abv vs ibu with SRM as the color of the points"
   ]
  },
  {
   "cell_type": "code",
   "execution_count": 10,
   "metadata": {},
   "outputs": [],
   "source": [
    "flattened = bf.groupby(bf.index).first()"
   ]
  },
  {
   "cell_type": "code",
   "execution_count": 11,
   "metadata": {},
   "outputs": [],
   "source": [
    "summary = flattened.groupby(flattened.style_name).agg([\"mean\", \"std\", \"count\", \"min\", \"max\"])"
   ]
  },
  {
   "cell_type": "code",
   "execution_count": 12,
   "metadata": {},
   "outputs": [
    {
     "data": {
      "text/html": [
       "<div>\n",
       "<style scoped>\n",
       "    .dataframe tbody tr th:only-of-type {\n",
       "        vertical-align: middle;\n",
       "    }\n",
       "\n",
       "    .dataframe tbody tr th {\n",
       "        vertical-align: top;\n",
       "    }\n",
       "\n",
       "    .dataframe thead tr th {\n",
       "        text-align: left;\n",
       "    }\n",
       "\n",
       "    .dataframe thead tr:last-of-type th {\n",
       "        text-align: right;\n",
       "    }\n",
       "</style>\n",
       "<table border=\"1\" class=\"dataframe\">\n",
       "  <thead>\n",
       "    <tr>\n",
       "      <th></th>\n",
       "      <th colspan=\"5\" halign=\"left\">batch_size</th>\n",
       "      <th colspan=\"5\" halign=\"left\">boil_size</th>\n",
       "      <th>...</th>\n",
       "      <th colspan=\"5\" halign=\"left\">abv</th>\n",
       "      <th colspan=\"5\" halign=\"left\">srm</th>\n",
       "    </tr>\n",
       "    <tr>\n",
       "      <th></th>\n",
       "      <th>mean</th>\n",
       "      <th>std</th>\n",
       "      <th>count</th>\n",
       "      <th>min</th>\n",
       "      <th>max</th>\n",
       "      <th>mean</th>\n",
       "      <th>std</th>\n",
       "      <th>count</th>\n",
       "      <th>min</th>\n",
       "      <th>max</th>\n",
       "      <th>...</th>\n",
       "      <th>mean</th>\n",
       "      <th>std</th>\n",
       "      <th>count</th>\n",
       "      <th>min</th>\n",
       "      <th>max</th>\n",
       "      <th>mean</th>\n",
       "      <th>std</th>\n",
       "      <th>count</th>\n",
       "      <th>min</th>\n",
       "      <th>max</th>\n",
       "    </tr>\n",
       "    <tr>\n",
       "      <th>style_name</th>\n",
       "      <th></th>\n",
       "      <th></th>\n",
       "      <th></th>\n",
       "      <th></th>\n",
       "      <th></th>\n",
       "      <th></th>\n",
       "      <th></th>\n",
       "      <th></th>\n",
       "      <th></th>\n",
       "      <th></th>\n",
       "      <th></th>\n",
       "      <th></th>\n",
       "      <th></th>\n",
       "      <th></th>\n",
       "      <th></th>\n",
       "      <th></th>\n",
       "      <th></th>\n",
       "      <th></th>\n",
       "      <th></th>\n",
       "      <th></th>\n",
       "      <th></th>\n",
       "    </tr>\n",
       "  </thead>\n",
       "  <tbody>\n",
       "    <tr>\n",
       "      <th>altbier</th>\n",
       "      <td>31.057625</td>\n",
       "      <td>49.646363</td>\n",
       "      <td>135</td>\n",
       "      <td>3.785412</td>\n",
       "      <td>400.000000</td>\n",
       "      <td>36.022632</td>\n",
       "      <td>50.046760</td>\n",
       "      <td>135</td>\n",
       "      <td>4.731765</td>\n",
       "      <td>400.000000</td>\n",
       "      <td>...</td>\n",
       "      <td>5.200655</td>\n",
       "      <td>0.788355</td>\n",
       "      <td>134</td>\n",
       "      <td>3.957418</td>\n",
       "      <td>10.071932</td>\n",
       "      <td>14.014869</td>\n",
       "      <td>3.438448</td>\n",
       "      <td>135</td>\n",
       "      <td>4.110905</td>\n",
       "      <td>25.811490</td>\n",
       "    </tr>\n",
       "    <tr>\n",
       "      <th>alternative grain beer</th>\n",
       "      <td>21.724638</td>\n",
       "      <td>11.345737</td>\n",
       "      <td>33</td>\n",
       "      <td>3.785412</td>\n",
       "      <td>56.781177</td>\n",
       "      <td>25.398382</td>\n",
       "      <td>13.114301</td>\n",
       "      <td>33</td>\n",
       "      <td>4.731765</td>\n",
       "      <td>56.781177</td>\n",
       "      <td>...</td>\n",
       "      <td>5.519940</td>\n",
       "      <td>1.224522</td>\n",
       "      <td>33</td>\n",
       "      <td>0.812578</td>\n",
       "      <td>7.633375</td>\n",
       "      <td>8.869423</td>\n",
       "      <td>8.228932</td>\n",
       "      <td>33</td>\n",
       "      <td>2.190416</td>\n",
       "      <td>36.508555</td>\n",
       "    </tr>\n",
       "    <tr>\n",
       "      <th>alternative sugar beer</th>\n",
       "      <td>41.874259</td>\n",
       "      <td>108.152914</td>\n",
       "      <td>20</td>\n",
       "      <td>2.839059</td>\n",
       "      <td>500.000000</td>\n",
       "      <td>47.655377</td>\n",
       "      <td>118.666938</td>\n",
       "      <td>20</td>\n",
       "      <td>2.839059</td>\n",
       "      <td>550.000000</td>\n",
       "      <td>...</td>\n",
       "      <td>7.445037</td>\n",
       "      <td>3.982194</td>\n",
       "      <td>20</td>\n",
       "      <td>4.470323</td>\n",
       "      <td>19.145347</td>\n",
       "      <td>11.760128</td>\n",
       "      <td>9.406656</td>\n",
       "      <td>20</td>\n",
       "      <td>0.000000</td>\n",
       "      <td>34.848271</td>\n",
       "    </tr>\n",
       "    <tr>\n",
       "      <th>american amber ale</th>\n",
       "      <td>39.902423</td>\n",
       "      <td>142.497020</td>\n",
       "      <td>1938</td>\n",
       "      <td>3.000000</td>\n",
       "      <td>2300.000000</td>\n",
       "      <td>44.766137</td>\n",
       "      <td>153.226920</td>\n",
       "      <td>1938</td>\n",
       "      <td>1.000000</td>\n",
       "      <td>2500.000000</td>\n",
       "      <td>...</td>\n",
       "      <td>5.817678</td>\n",
       "      <td>1.854701</td>\n",
       "      <td>1938</td>\n",
       "      <td>0.173750</td>\n",
       "      <td>43.376096</td>\n",
       "      <td>14.229950</td>\n",
       "      <td>5.386384</td>\n",
       "      <td>1938</td>\n",
       "      <td>0.000000</td>\n",
       "      <td>74.744365</td>\n",
       "    </tr>\n",
       "    <tr>\n",
       "      <th>american barleywine</th>\n",
       "      <td>48.345396</td>\n",
       "      <td>193.852913</td>\n",
       "      <td>325</td>\n",
       "      <td>3.785412</td>\n",
       "      <td>2000.000000</td>\n",
       "      <td>57.096033</td>\n",
       "      <td>210.964236</td>\n",
       "      <td>325</td>\n",
       "      <td>4.731765</td>\n",
       "      <td>2200.000000</td>\n",
       "      <td>...</td>\n",
       "      <td>10.528385</td>\n",
       "      <td>2.304487</td>\n",
       "      <td>325</td>\n",
       "      <td>0.621218</td>\n",
       "      <td>22.842054</td>\n",
       "      <td>17.026249</td>\n",
       "      <td>7.235920</td>\n",
       "      <td>325</td>\n",
       "      <td>2.233151</td>\n",
       "      <td>69.371813</td>\n",
       "    </tr>\n",
       "  </tbody>\n",
       "</table>\n",
       "<p>5 rows × 140 columns</p>\n",
       "</div>"
      ],
      "text/plain": [
       "                       batch_size                                           \\\n",
       "                             mean         std count       min          max   \n",
       "style_name                                                                   \n",
       "altbier                 31.057625   49.646363   135  3.785412   400.000000   \n",
       "alternative grain beer  21.724638   11.345737    33  3.785412    56.781177   \n",
       "alternative sugar beer  41.874259  108.152914    20  2.839059   500.000000   \n",
       "american amber ale      39.902423  142.497020  1938  3.000000  2300.000000   \n",
       "american barleywine     48.345396  193.852913   325  3.785412  2000.000000   \n",
       "\n",
       "                        boil_size                                           \\\n",
       "                             mean         std count       min          max   \n",
       "style_name                                                                   \n",
       "altbier                 36.022632   50.046760   135  4.731765   400.000000   \n",
       "alternative grain beer  25.398382   13.114301    33  4.731765    56.781177   \n",
       "alternative sugar beer  47.655377  118.666938    20  2.839059   550.000000   \n",
       "american amber ale      44.766137  153.226920  1938  1.000000  2500.000000   \n",
       "american barleywine     57.096033  210.964236   325  4.731765  2200.000000   \n",
       "\n",
       "                        ...        abv                                       \\\n",
       "                        ...       mean       std count       min        max   \n",
       "style_name              ...                                                   \n",
       "altbier                 ...   5.200655  0.788355   134  3.957418  10.071932   \n",
       "alternative grain beer  ...   5.519940  1.224522    33  0.812578   7.633375   \n",
       "alternative sugar beer  ...   7.445037  3.982194    20  4.470323  19.145347   \n",
       "american amber ale      ...   5.817678  1.854701  1938  0.173750  43.376096   \n",
       "american barleywine     ...  10.528385  2.304487   325  0.621218  22.842054   \n",
       "\n",
       "                              srm                                       \n",
       "                             mean       std count       min        max  \n",
       "style_name                                                              \n",
       "altbier                 14.014869  3.438448   135  4.110905  25.811490  \n",
       "alternative grain beer   8.869423  8.228932    33  2.190416  36.508555  \n",
       "alternative sugar beer  11.760128  9.406656    20  0.000000  34.848271  \n",
       "american amber ale      14.229950  5.386384  1938  0.000000  74.744365  \n",
       "american barleywine     17.026249  7.235920   325  2.233151  69.371813  \n",
       "\n",
       "[5 rows x 140 columns]"
      ]
     },
     "execution_count": 12,
     "metadata": {},
     "output_type": "execute_result"
    }
   ],
   "source": [
    "summary.head()"
   ]
  },
  {
   "cell_type": "code",
   "execution_count": 13,
   "metadata": {},
   "outputs": [],
   "source": [
    "from plotly import colors"
   ]
  },
  {
   "cell_type": "code",
   "execution_count": 14,
   "metadata": {},
   "outputs": [],
   "source": [
    "max_val = 35\n",
    "cscale = colors.make_colorscale([\"white\", \"yellow\",\"red\", \"brown\", \"black\"], scale=[0, 4./max_val, 9./max_val, 16./max_val, 1])"
   ]
  },
  {
   "cell_type": "code",
   "execution_count": 23,
   "metadata": {},
   "outputs": [
    {
     "data": {
      "text/plain": [
       "array([ 3.94267402,  5.01468733,  4.59159744,  8.19302678,  5.39528446,\n",
       "        4.65297538,  8.26559515,  4.27384764,  5.27421762,  5.28639934,\n",
       "        4.50164828,  4.86671542,  5.46986608,  4.27481569,  4.34818307,\n",
       "        4.8105417 ,  3.49774976,  4.00985096,  4.38524769,  3.93547163,\n",
       "        4.92778102,  3.27925673,  3.74219991,  4.43310489,  4.68690777,\n",
       "        4.79531481,  3.80524189,  4.77923728,  3.85192403,  4.36072157,\n",
       "        4.6081006 ,  4.42882462,  4.93945813,  4.17115229,  4.24702957,\n",
       "        4.47542524,  3.86906853,  1.        ,  3.91178638,  5.48435247,\n",
       "        4.15688409,  3.9221702 ,  3.97028158,  5.19569156,  3.19307051,\n",
       "        3.70160505,  3.40438481,  3.71553365,  3.91283932,  4.08754546,\n",
       "        4.84952463,  3.93134584,  3.36825195,  3.9428592 ,  3.53092726,\n",
       "        6.45808635,  4.32712164,  4.12409504,  4.16926666,  2.89866819,\n",
       "        3.19756582,  4.03343922,  4.50332595,  4.70623238,  4.19389362,\n",
       "        5.0048824 ,  4.44589771,  5.41453243,  3.90274401,  4.10657662,\n",
       "        3.86447916,  3.5912214 ,  4.58431049,  0.57164436,  4.39216973,\n",
       "        4.21212722,  2.86394218,  3.52610621,  3.30827259,  4.66890637,\n",
       "        3.86818773,  4.58988534,  3.1081585 ,  4.17443815,  3.39542953,\n",
       "        4.68601503,  6.52089981,  5.00272843,  3.59536473,  3.97781455,\n",
       "        5.31869402,  3.56430935,  4.26763494,  3.87457937,  3.47364337,\n",
       "        3.70915931,  3.3770278 ,  4.01227458,  3.42692786,  2.35275152,\n",
       "        4.09712743,  6.31898777,  3.53477813,  3.28768705,  3.68644367,\n",
       "        4.83203549,  5.24440633,  3.49577865,  3.29342106,  2.9001821 ,\n",
       "        2.25818475,  8.55380863,  3.78456998,  3.84707012,  4.08799048,\n",
       "        4.16791642,  4.23202192,  3.96723387,  4.01609894,  2.88290932,\n",
       "        4.55690542,  4.00087412,  3.14758023,  3.4607326 ,  3.57864081,\n",
       "        3.6836571 ,  4.17162566,  4.32294215,  3.01086919,  3.98501608,\n",
       "        2.95027114,  4.40339905,  4.97662592,  5.70171805,  4.17138244,\n",
       "        3.98702659,  3.76270905,  3.47035227,  4.24777482,  3.9942083 ,\n",
       "        4.22970565,  3.14846316,  3.17274469,  4.32678928,  3.81212542,\n",
       "        5.26019948,  4.51334685,  4.90127676,  5.75850086,  4.82603964,\n",
       "        5.87910535,  5.21158409,  5.20367636, 12.60041876,  4.14715266,\n",
       "        4.8116734 ,  4.58806145,  3.47065387,  4.23394207,  3.34066239,\n",
       "        4.16840698,  3.87029181,  5.84051321,  4.37510769,  3.24990681,\n",
       "       -0.41330426,  3.76287619,  4.08099298,  3.48166478,  3.80179443,\n",
       "        3.72283102,  3.61253819,  5.35824033,  4.10992424,  4.16877811,\n",
       "        4.33770552,  3.74523141,  4.94670432])"
      ]
     },
     "execution_count": 23,
     "metadata": {},
     "output_type": "execute_result"
    }
   ],
   "source": [
    "size"
   ]
  },
  {
   "cell_type": "code",
   "execution_count": 25,
   "metadata": {},
   "outputs": [],
   "source": [
    "np.clip?"
   ]
  },
  {
   "cell_type": "code",
   "execution_count": 28,
   "metadata": {},
   "outputs": [
    {
     "data": {
      "application/vnd.plotly.v1+json": {
       "config": {
        "linkText": "Export to plot.ly",
        "plotlyServerURL": "https://plot.ly",
        "showLink": false
       },
       "data": [
        {
         "marker": {
          "color": [
           14.01486896587762,
           8.869422797055876,
           11.760128305255282,
           14.229950067315253,
           17.02624932086326,
           23.78981934068697,
           8.607501092481831,
           5.088949085172231,
           10.714196574100303,
           7.215187020721385,
           36.17782994323026,
           41.448480036163225,
           14.470508964266962,
           4.938345673341797,
           5.620159827987077,
           6.584109942322084,
           5.608562775754781,
           15.343129869198805,
           33.694404374083724,
           6.28961760966178,
           31.39575595804805,
           17.6628975276949,
           6.330064070241505,
           8.101194464436244,
           12.377655065195393,
           7.875518845428156,
           3.6845740281142167,
           11.765858030590845,
           12.02232747738947,
           5.08112127256501,
           4.4581390075525436,
           13.736376394269675,
           7.109739456790675,
           19.153881270641595,
           5.403942011708581,
           16.588289628011054,
           30.710518868481955,
           13.572935731689027,
           10.919144659591224,
           11.461818974290862,
           4.591906758168849,
           18.121245206181285,
           20.60885694480622,
           17.03175225680421,
           7.341214942193667,
           4.664231282291727,
           7.2219908988623445,
           10.506175489635616,
           23.76386880107492,
           4.405933023081741,
           4.551176881586546,
           22.38215461620291,
           20.147997815173817,
           19.493779860713154,
           5.325507712091152,
           8.41176084668539,
           5.454718875484142,
           37.973983420376825,
           17.424268897549243,
           17.404594187180827,
           18.89500890801447,
           13.91257414336548,
           19.183358300424853,
           18.309809268063574,
           4.022814749740856,
           9.45316396877493,
           30.10912166033079,
           12.686827253055325,
           11.3544553696739,
           6.924173550370418,
           20.53044372074924,
           14.588016010297185,
           42.540215238387496,
           2.0330542863287686,
           11.787770673311442,
           7.468934113936011,
           7.025310782399993,
           5.515112652289617,
           5.191562054902309,
           6.95596762083039,
           3.821049601585294,
           4.127136602641387,
           4.191306624499727,
           4.453884675653245,
           7.864301413366925,
           20.784761257693972,
           10.96663445948302,
           53.90162003610319,
           9.792214595538715,
           19.236942101438483,
           4.928273632939925,
           38.63471087041401,
           15.74887288508785,
           36.63109216710348,
           11.462438670324628,
           6.1502012687125065,
           14.87518899436542,
           4.114862634557032,
           5.31070450966078,
           3.749174036655715,
           5.111160133984551,
           22.835281925553677,
           8.655062118197867,
           7.582885407830725,
           19.088139746318557,
           7.538106543506358,
           15.33156983928874,
           19.732839697108012,
           4.429006009115696,
           11.171384307827001,
           10.837813477208288,
           14.49616783740212,
           15.797640728249942,
           18.718834429230018,
           38.02698826070809,
           10.441019987854204,
           20.095988365912273,
           13.182895190963897,
           9.174312806648171,
           7.843583493426158,
           23.028530976184562,
           12.935132640046591,
           20.635861486242288,
           3.563218495952895,
           5.001047791695125,
           29.217150972236855,
           4.84123303411533,
           9.432697099012092,
           15.289687730816862,
           35.67427488552285,
           14.741788598358724,
           14.92355164613984,
           54.164795807684925,
           17.484123232979478,
           6.587793512424162,
           27.583399496747095,
           17.433253067621507,
           16.10408646208411,
           20.92149764290081,
           15.168004670225097,
           15.609346921005926,
           15.824455036477275,
           6.855795541392434,
           22.838460517042773,
           9.231569295426485,
           16.875398712682145,
           10.375499580991928,
           8.242794347432016,
           34.83950030505553,
           18.255801225459255,
           5.302373341099748,
           15.69945421974057,
           10.671013440184517,
           5.337781352598779,
           16.26347313809666,
           29.873689697005304,
           13.84695389356661,
           3.8842365171935738,
           8.379537016059329,
           4.836196369826731,
           11.660304823767076,
           21.567586011561204,
           6.862723764364884,
           40.40940933551266,
           18.53814576863128,
           0.545426671669274,
           6.1471895993636165,
           38.73376744682115,
           10.780990923292103,
           20.35970870802297,
           4.662018279325041,
           5.001163988182728,
           24.75092413057706,
           11.49981158563508,
           7.340780352678421,
           22.655369307647508,
           4.536859363266707,
           29.752515293777805
          ],
          "colorbar": {
           "title": {
            "text": "SRM"
           }
          },
          "colorscale": [
           [
            0,
            "white"
           ],
           [
            0.11428571428571428,
            "yellow"
           ],
           [
            0.2571428571428571,
            "red"
           ],
           [
            0.45714285714285713,
            "brown"
           ],
           [
            1,
            "black"
           ]
          ],
          "showscale": true,
          "size": [
           14.153631194101662,
           10.088788238716907,
           8.643856189774725,
           21.84070571083016,
           16.688591815831632,
           20.217048913556336,
           26.950706915460263,
           15.536368649553852,
           22.069597925154536,
           25.661030413953675,
           19.089928865578475,
           20.52183906732581,
           15.509775004326936,
           18.6029923899651,
           18.27398222416046,
           5.169925001442312,
           10.98370619265935,
           12.45763738099176,
           16.835705029771795,
           17.795690912011022,
           18.04473562605691,
           17.98304369215139,
           16.758756734142523,
           18.45282438557757,
           17.3519140658835,
           18.243067034680063,
           17.154857656071496,
           17.093788919775275,
           14.818781872275403,
           21.40261292391725,
           16.67970000576925,
           12.98370619265935,
           11.90839262077375,
           17.031399676568086,
           15.943087107901544,
           15.062762921032624,
           17.414718264161767,
           0,
           14.45763738099176,
           19.90839262077375,
           15.258713240159219,
           10.4189067312579,
           12,
           14.132178380915544,
           12.885886991697456,
           19.312849726555562,
           8.174925682500678,
           9.813781191217037,
           10.088788238716907,
           14.625765910568711,
           15.69098010188875,
           11.715961990255144,
           15.753033893129999,
           15.69098010188875,
           10.715104009236168,
           19.3519140658835,
           12.49585502688717,
           17.69098010188875,
           15.047123912114026,
           10.918863237274595,
           15.139711216661896,
           13.287712379549449,
           8.784634845557521,
           15.83772647454919,
           9.715961990255144,
           19.120665668424884,
           15.482933972802293,
           17.379995942838892,
           18.661833756229235,
           11.765286098723683,
           11.109177703355275,
           14.319742673556778,
           16.894166452419306,
           2,
           10.339850002884624,
           17.855555924164683,
           8.918863237274595,
           12.339850002884624,
           9.813781191217037,
           8.339850002884624,
           15.229419688230417,
           17.582325777110036,
           14.279102704797587,
           11.954559846999834,
           12.299494239009364,
           16.62576591056871,
           20.965615913453334,
           18.688591815831632,
           12.885886991697456,
           9.90839262077375,
           16.389513708844497,
           11.861474675125773,
           20.34735427260684,
           15.954559846999834,
           8,
           8.49585502688717,
           9.715961990255144,
           19.3904565829915,
           12.258566033889933,
           5.169925001442312,
           12.339850002884624,
           6,
           14.132178380915544,
           7.614709844115208,
           16.099697098901125,
           14.607561496354206,
           14.11056487100238,
           15.954559846999834,
           16.67970000576925,
           16.706293650996166,
           5.614709844115208,
           18.35981818002987,
           12.044735626056909,
           16.268852640441853,
           19.72527471511759,
           16.94335042878409,
           16.369750685816566,
           8.174925682500678,
           16.04473562605691,
           11.813781191217037,
           13.813781191217037,
           10.258566033889933,
           9.813781191217037,
           8,
           9.715961990255144,
           6.918863237274595,
           13.509775004326936,
           4.643856189774724,
           10.784634845557521,
           19.53305781719773,
           9.90839262077375,
           13.015589280397393,
           19.67210071011614,
           8.784634845557521,
           22.63256306349244,
           15.373001054366437,
           14.852529509404196,
           13.509775004326936,
           13.373001054366437,
           10.4189067312579,
           10.643856189774725,
           9.169925001442312,
           10.784634845557521,
           13.31642296550359,
           16.810282926272688,
           17.35896019901089,
           11.229419688230417,
           15.455840909126398,
           18.457637380991763,
           12.918863237274595,
           12.044735626056909,
           17.51644642945345,
           16.533573081389804,
           16.142924725113247,
           12.132178380915544,
           6.918863237274595,
           17.825778672459922,
           10.98370619265935,
           16.561541540261207,
           11.509775004326936,
           17.63396724651076,
           15.56271942704932,
           10.258566033889933,
           19.598563243043845,
           13.229419688230417,
           2,
           13.813781191217037,
           9.614709844115207,
           17.015589280397393,
           14.153631194101662,
           19.789635526615886,
           19.56271942704932,
           15.139711216661896,
           10.918863237274595,
           10.852529509404196,
           14.4189067312579,
           20.02524907773012,
           12.044735626056909
          ]
         },
         "mode": "markers",
         "text": [
          "altbier",
          "alternative grain beer",
          "alternative sugar beer",
          "american amber ale",
          "american barleywine",
          "american brown ale",
          "american ipa",
          "american lager",
          "american light lager",
          "american pale ale",
          "american porter",
          "american stout",
          "american strong ale",
          "american wheat beer",
          "american wheat or rye beer",
          "apple wine",
          "australian sparkling ale",
          "autumn seasonal beer",
          "baltic porter",
          "belgian blond ale",
          "belgian dark strong ale",
          "belgian dubbel",
          "belgian golden strong ale",
          "belgian pale ale",
          "belgian specialty ale",
          "belgian tripel",
          "berliner weisse",
          "best bitter",
          "bière de garde",
          "blonde ale",
          "bohemian pilsener",
          "braggot",
          "brett beer",
          "british brown ale",
          "british golden ale",
          "british strong ale",
          "brown porter",
          "burton ale",
          "california common",
          "california common beer",
          "classic american pilsner",
          "classic rauchbier",
          "classic style smoked beer",
          "clone beer",
          "common cider",
          "cream ale",
          "cyser (apple melomel)",
          "czech amber lager",
          "czech dark lager",
          "czech pale lager",
          "czech premium pale lager",
          "dark american lager",
          "dark mild",
          "doppelbock",
          "dortmunder export",
          "double ipa",
          "dry mead",
          "dry stout",
          "dunkelweizen",
          "dunkles bock",
          "dunkles weissbier",
          "düsseldorf altbier",
          "eisbock",
          "english barleywine",
          "english cider",
          "english ipa",
          "english porter",
          "experimental beer",
          "extra special/strong bitter (esb)",
          "festbier",
          "flanders brown ale/oud bruin",
          "flanders red ale",
          "foreign extra stout",
          "french cider",
          "fruit and spice beer",
          "fruit beer",
          "fruit cider",
          "fruit lambic",
          "german helles exportbier",
          "german leichtbier",
          "german pils",
          "german pilsner (pils)",
          "gose",
          "gueuze",
          "helles bock",
          "holiday/winter special spiced beer",
          "imperial ipa",
          "imperial stout",
          "international amber lager",
          "international dark lager",
          "international pale lager",
          "irish extra stout",
          "irish red ale",
          "irish stout",
          "kellerbier: amber kellerbier",
          "kellerbier: pale kellerbier",
          "kentucky common",
          "kölsch",
          "lambic",
          "lichtenhainer",
          "light american lager",
          "london brown ale",
          "maibock/helles bock",
          "metheglin",
          "mild",
          "mixed-fermentation sour beer",
          "mixed-style beer",
          "munich dunkel",
          "munich helles",
          "märzen",
          "new england cider",
          "no profile selected",
          "north german altbier",
          "northern english brown",
          "oatmeal stout",
          "oktoberfest/märzen",
          "old ale",
          "open category mead",
          "ordinary bitter",
          "other fruit melomel",
          "other smoked beer",
          "other specialty cider or perry",
          "oud bruin",
          "piwo grodziskie",
          "pre-prohibition lager",
          "pre-prohibition porter",
          "premium american lager",
          "pyment (grape melomel)",
          "rauchbier",
          "robust porter",
          "roggenbier",
          "roggenbier (german rye beer)",
          "russian imperial stout",
          "sahti",
          "saison",
          "schwarzbier",
          "scottish export",
          "scottish export 80/-",
          "scottish heavy",
          "scottish heavy 70/-",
          "scottish light",
          "scottish light 60/-",
          "semi-sweet mead",
          "southern english brown",
          "special/best/premium bitter",
          "specialty beer",
          "specialty fruit beer",
          "specialty ipa: belgian ipa",
          "specialty ipa: black ipa",
          "specialty ipa: brown ipa",
          "specialty ipa: new england ipa",
          "specialty ipa: red ipa",
          "specialty ipa: rye ipa",
          "specialty ipa: white ipa",
          "specialty smoked beer",
          "specialty wood-aged beer",
          "spice, herb, or vegetable beer",
          "standard american lager",
          "standard/ordinary bitter",
          "straight (unblended) lambic",
          "strong bitter",
          "strong scotch ale",
          "sweet mead",
          "sweet stout",
          "traditional bock",
          "traditional perry",
          "trappist single",
          "tropical stout",
          "vienna lager",
          "wee heavy",
          "weissbier",
          "weizen/weissbier",
          "weizenbock",
          "wheatwine",
          "wild specialty beer",
          "winter seasonal beer",
          "witbier",
          "wood-aged beer"
         ],
         "type": "scatter",
         "x": [
          37.07516709355909,
          38.31400968728273,
          23.59473779594847,
          45.21568753799865,
          78.36007722860039,
          34.499267952804885,
          79.08340352138059,
          22.134257981414894,
          30.199342964042707,
          46.517885856806,
          36.17137095597745,
          44.11461314173908,
          68.38550148416309,
          26.676466110620453,
          28.58676907565779,
          10.015008379429304,
          32.54027812207186,
          24.72970955823959,
          34.00826856640981,
          24.98464108636027,
          27.714076366206385,
          22.456538129769886,
          28.03666502209262,
          28.95520158707616,
          33.1733693461812,
          28.26620429025252,
          7.31772477431462,
          33.98096803604763,
          24.183230198335085,
          26.78423094911045,
          38.928405456541334,
          17.00542889563829,
          33.77776598224849,
          26.92155302444416,
          34.23391138753963,
          41.80914474503966,
          29.584918509810414,
          42.33023623926316,
          38.45769061397746,
          39.411993832339775,
          30.433838954257762,
          26.438020779577467,
          30.551235316272113,
          40.894343123716006,
          1.1876053194658143,
          21.040935405041896,
          1.5724029522927316,
          26.924543114543113,
          29.83689398491915,
          29.755463618090044,
          37.99606477153378,
          24.30567073115242,
          19.839871420616632,
          24.833823907707103,
          25.016754222362056,
          107.9845170993748,
          3.7527184487292153,
          36.06862848756627,
          19.485200966249774,
          23.39676599250532,
          15.341985370002124,
          40.84368831141515,
          28.9798553274315,
          54.36566379792993,
          3.5595515478048685,
          55.21641810050855,
          31.31245943005836,
          35.78690274718102,
          39.04640132873368,
          25.531709764328884,
          19.18665728885472,
          13.763474463055857,
          45.06594640303642,
          0,
          20.1789251571661,
          25.026915898780018,
          0.15579934675147825,
          11.114836001159091,
          27.315234023083047,
          34.20796305672586,
          31.699797813975046,
          33.728755427715434,
          8.609870381895947,
          11.957044106102384,
          27.956186900916464,
          31.7880478370618,
          111.89850663820738,
          57.66904480376282,
          22.08642903728561,
          23.57077086308481,
          29.056816469355848,
          37.959568098770625,
          26.925762641382324,
          33.14607501745585,
          27.630688364837837,
          26.221860369148658,
          19.64997280038319,
          25.168975655528417,
          7.910047500973774,
          7.245491979058614,
          19.221263353014674,
          51.80243117280018,
          27.78752955366907,
          2.181550345621799,
          23.455096927476657,
          15.6851776298515,
          40.379354498332276,
          23.872401048855053,
          20.58780071812531,
          21.980658752642324,
          1.2174331157751361,
          58.065638478313,
          34.464578782361095,
          27.47197264885102,
          31.804255802334527,
          25.58649895733172,
          42.0167224575353,
          7.222728493910847,
          30.827247446385314,
          0.9780540933335421,
          37.37331667713852,
          6.321477588985562,
          15.0932101553214,
          19.54143462738871,
          33.76852307567138,
          36.29994311139394,
          26.08053870988824,
          8.547369720874176,
          24.45734833673197,
          36.17300931673697,
          17.623567212360445,
          23.50940118824782,
          61.258177473394156,
          9.994430782180821,
          28.92840580415206,
          27.75370421529298,
          23.998966525904244,
          23.69651743327633,
          25.55017690498722,
          23.789879899986964,
          21.859844633755422,
          21.152134621121565,
          0.7689973832970461,
          24.50257934329217,
          33.49163793650668,
          38.282810712572235,
          26.2192752020766,
          68.474099472561,
          77.62815085843879,
          60.95682778601909,
          77.56545472665341,
          64.87209126506373,
          64.90366410247448,
          439.6957926082655,
          30.62982972335781,
          31.324009876260337,
          27.422131185314967,
          15.580747388532833,
          33.24832557311312,
          7.7534111677254,
          38.61133542859379,
          28.002003665494364,
          10.277077969340302,
          28.072262937216337,
          23.254810882768595,
          0,
          27.98902143120473,
          37.82921095666183,
          24.621491911174488,
          26.60679889926477,
          15.75760616689425,
          16.189624013459223,
          23.464712139183575,
          42.77535050348607,
          20.128474005372766,
          31.84057331700769,
          17.46291916034195,
          40.35327346296417
         ],
         "y": [
          5.200654600661583,
          5.519939883825891,
          7.44503695478858,
          5.817677895359228,
          10.528384739892061,
          5.887815451598191,
          6.517644802616469,
          5.171390185875067,
          5.768950358581137,
          5.52902381414396,
          6.329661505511959,
          6.626466587321395,
          7.773303275254477,
          5.365051954758956,
          5.232139301175958,
          9.234509681063853,
          5.017147936946177,
          7.107784955029452,
          7.559854998509757,
          6.739512074294551,
          9.881544416983552,
          6.918257974076251,
          8.062331525018113,
          5.631721792298576,
          6.4934246464699035,
          9.26705378906168,
          4.205019061601401,
          5.328242901296596,
          7.007432065908427,
          5.068840345265543,
          5.421872252520575,
          9.475828096466138,
          6.179058265906407,
          5.312741161236849,
          4.744489076974695,
          6.731198907696045,
          5.506577387759659,
          6.555741330132935,
          5.111968332979956,
          5.906185194293218,
          5.723907100859154,
          6.239755712882794,
          5.977448744720187,
          6.7502533411752665,
          6.1781185801700484,
          5.333520924161185,
          9.661821562260744,
          5.404347270752628,
          5.181683089608756,
          5.225938873845123,
          6.092252379899674,
          5.766068478033405,
          4.11372380448054,
          8.129489085311054,
          5.375843431946794,
          8.163496336750319,
          10.103809765532821,
          5.330329716547551,
          5.757642911499027,
          6.683764295145322,
          5.688307336758816,
          5.302710594640972,
          9.203941054408121,
          10.643014808762421,
          5.945660884449856,
          6.108812735804029,
          5.421563169095221,
          6.617791674126043,
          5.4075171979678505,
          5.810757126567172,
          6.534665388708725,
          6.217959112686281,
          6.9560154594469745,
          6.454530460914975,
          6.019764878909395,
          5.636904396771361,
          8.188057745420188,
          5.8067967168932615,
          5.355448110782333,
          4.780240252074352,
          5.159815417425491,
          5.24375981326547,
          4.67621438410657,
          5.242336224536897,
          6.719261934123841,
          7.333180947857643,
          8.301900618776731,
          9.985542462514767,
          5.193186979207056,
          5.488941359951177,
          5.409460370426014,
          6.064028809140538,
          5.46150784976949,
          4.885125434330728,
          5.17080047152237,
          5.047531227616147,
          4.898806727359224,
          4.978666338721896,
          6.014295339650133,
          4.321111429825719,
          4.695385714980627,
          5.183260830807366,
          6.64712656562987,
          12.57849033564832,
          4.561056103192452,
          5.868599943731799,
          6.404829564436104,
          5.451894369164435,
          5.0687625309482405,
          5.878561914103105,
          6.693399976147998,
          6.477970402013468,
          5.529236631242117,
          5.268821012151396,
          6.066558170973165,
          5.549273770057766,
          7.434922191611523,
          8.72596070802591,
          4.088383622434307,
          11.412124086887792,
          6.0014502228801145,
          6.8199669204068725,
          6.793539087794529,
          3.626142527698476,
          5.5588180910267,
          5.844681859696622,
          5.506954033668599,
          9.40188485681992,
          5.739025782986357,
          6.235739021885237,
          5.3952926979778795,
          5.649870279027014,
          9.913441094267514,
          16.573231076794887,
          6.067691053220226,
          5.34142200827126,
          5.784632258945845,
          5.270293410971168,
          6.421082930241009,
          5.180017038619779,
          5.15720711007676,
          4.461468104110566,
          10.889570637475435,
          4.965104862282162,
          4.669045508101989,
          6.666435271076369,
          5.8414984150578375,
          7.125348578746774,
          7.026153064659377,
          6.502713255842463,
          6.4451280985302475,
          6.497657770122847,
          6.730058302667363,
          6.1545571298513355,
          6.229528150996809,
          8.078068304423445,
          6.421731288271104,
          4.910243363549014,
          4.5029913160060575,
          5.9615508294315465,
          5.403325185603329,
          8.28258325435059,
          12.115851068143037,
          6.240278071710092,
          6.400293305004188,
          6.496781425604512,
          5.509481905121705,
          6.821737492830574,
          5.266209378798633,
          8.40458136306367,
          5.360139345382344,
          5.319823823613897,
          9.567213539379976,
          9.675405683948505,
          5.829567533849999,
          7.0326893490183044,
          5.242185531928392,
          9.378327581229648
         ]
        }
       ],
       "layout": {
        "template": {
         "data": {
          "bar": [
           {
            "error_x": {
             "color": "#2a3f5f"
            },
            "error_y": {
             "color": "#2a3f5f"
            },
            "marker": {
             "line": {
              "color": "#E5ECF6",
              "width": 0.5
             }
            },
            "type": "bar"
           }
          ],
          "barpolar": [
           {
            "marker": {
             "line": {
              "color": "#E5ECF6",
              "width": 0.5
             }
            },
            "type": "barpolar"
           }
          ],
          "carpet": [
           {
            "aaxis": {
             "endlinecolor": "#2a3f5f",
             "gridcolor": "white",
             "linecolor": "white",
             "minorgridcolor": "white",
             "startlinecolor": "#2a3f5f"
            },
            "baxis": {
             "endlinecolor": "#2a3f5f",
             "gridcolor": "white",
             "linecolor": "white",
             "minorgridcolor": "white",
             "startlinecolor": "#2a3f5f"
            },
            "type": "carpet"
           }
          ],
          "choropleth": [
           {
            "colorbar": {
             "outlinewidth": 0,
             "ticks": ""
            },
            "type": "choropleth"
           }
          ],
          "contour": [
           {
            "colorbar": {
             "outlinewidth": 0,
             "ticks": ""
            },
            "colorscale": [
             [
              0,
              "#0d0887"
             ],
             [
              0.1111111111111111,
              "#46039f"
             ],
             [
              0.2222222222222222,
              "#7201a8"
             ],
             [
              0.3333333333333333,
              "#9c179e"
             ],
             [
              0.4444444444444444,
              "#bd3786"
             ],
             [
              0.5555555555555556,
              "#d8576b"
             ],
             [
              0.6666666666666666,
              "#ed7953"
             ],
             [
              0.7777777777777778,
              "#fb9f3a"
             ],
             [
              0.8888888888888888,
              "#fdca26"
             ],
             [
              1,
              "#f0f921"
             ]
            ],
            "type": "contour"
           }
          ],
          "contourcarpet": [
           {
            "colorbar": {
             "outlinewidth": 0,
             "ticks": ""
            },
            "type": "contourcarpet"
           }
          ],
          "heatmap": [
           {
            "colorbar": {
             "outlinewidth": 0,
             "ticks": ""
            },
            "colorscale": [
             [
              0,
              "#0d0887"
             ],
             [
              0.1111111111111111,
              "#46039f"
             ],
             [
              0.2222222222222222,
              "#7201a8"
             ],
             [
              0.3333333333333333,
              "#9c179e"
             ],
             [
              0.4444444444444444,
              "#bd3786"
             ],
             [
              0.5555555555555556,
              "#d8576b"
             ],
             [
              0.6666666666666666,
              "#ed7953"
             ],
             [
              0.7777777777777778,
              "#fb9f3a"
             ],
             [
              0.8888888888888888,
              "#fdca26"
             ],
             [
              1,
              "#f0f921"
             ]
            ],
            "type": "heatmap"
           }
          ],
          "heatmapgl": [
           {
            "colorbar": {
             "outlinewidth": 0,
             "ticks": ""
            },
            "colorscale": [
             [
              0,
              "#0d0887"
             ],
             [
              0.1111111111111111,
              "#46039f"
             ],
             [
              0.2222222222222222,
              "#7201a8"
             ],
             [
              0.3333333333333333,
              "#9c179e"
             ],
             [
              0.4444444444444444,
              "#bd3786"
             ],
             [
              0.5555555555555556,
              "#d8576b"
             ],
             [
              0.6666666666666666,
              "#ed7953"
             ],
             [
              0.7777777777777778,
              "#fb9f3a"
             ],
             [
              0.8888888888888888,
              "#fdca26"
             ],
             [
              1,
              "#f0f921"
             ]
            ],
            "type": "heatmapgl"
           }
          ],
          "histogram": [
           {
            "marker": {
             "colorbar": {
              "outlinewidth": 0,
              "ticks": ""
             }
            },
            "type": "histogram"
           }
          ],
          "histogram2d": [
           {
            "colorbar": {
             "outlinewidth": 0,
             "ticks": ""
            },
            "colorscale": [
             [
              0,
              "#0d0887"
             ],
             [
              0.1111111111111111,
              "#46039f"
             ],
             [
              0.2222222222222222,
              "#7201a8"
             ],
             [
              0.3333333333333333,
              "#9c179e"
             ],
             [
              0.4444444444444444,
              "#bd3786"
             ],
             [
              0.5555555555555556,
              "#d8576b"
             ],
             [
              0.6666666666666666,
              "#ed7953"
             ],
             [
              0.7777777777777778,
              "#fb9f3a"
             ],
             [
              0.8888888888888888,
              "#fdca26"
             ],
             [
              1,
              "#f0f921"
             ]
            ],
            "type": "histogram2d"
           }
          ],
          "histogram2dcontour": [
           {
            "colorbar": {
             "outlinewidth": 0,
             "ticks": ""
            },
            "colorscale": [
             [
              0,
              "#0d0887"
             ],
             [
              0.1111111111111111,
              "#46039f"
             ],
             [
              0.2222222222222222,
              "#7201a8"
             ],
             [
              0.3333333333333333,
              "#9c179e"
             ],
             [
              0.4444444444444444,
              "#bd3786"
             ],
             [
              0.5555555555555556,
              "#d8576b"
             ],
             [
              0.6666666666666666,
              "#ed7953"
             ],
             [
              0.7777777777777778,
              "#fb9f3a"
             ],
             [
              0.8888888888888888,
              "#fdca26"
             ],
             [
              1,
              "#f0f921"
             ]
            ],
            "type": "histogram2dcontour"
           }
          ],
          "mesh3d": [
           {
            "colorbar": {
             "outlinewidth": 0,
             "ticks": ""
            },
            "type": "mesh3d"
           }
          ],
          "parcoords": [
           {
            "line": {
             "colorbar": {
              "outlinewidth": 0,
              "ticks": ""
             }
            },
            "type": "parcoords"
           }
          ],
          "pie": [
           {
            "automargin": true,
            "type": "pie"
           }
          ],
          "scatter": [
           {
            "marker": {
             "colorbar": {
              "outlinewidth": 0,
              "ticks": ""
             }
            },
            "type": "scatter"
           }
          ],
          "scatter3d": [
           {
            "line": {
             "colorbar": {
              "outlinewidth": 0,
              "ticks": ""
             }
            },
            "marker": {
             "colorbar": {
              "outlinewidth": 0,
              "ticks": ""
             }
            },
            "type": "scatter3d"
           }
          ],
          "scattercarpet": [
           {
            "marker": {
             "colorbar": {
              "outlinewidth": 0,
              "ticks": ""
             }
            },
            "type": "scattercarpet"
           }
          ],
          "scattergeo": [
           {
            "marker": {
             "colorbar": {
              "outlinewidth": 0,
              "ticks": ""
             }
            },
            "type": "scattergeo"
           }
          ],
          "scattergl": [
           {
            "marker": {
             "colorbar": {
              "outlinewidth": 0,
              "ticks": ""
             }
            },
            "type": "scattergl"
           }
          ],
          "scattermapbox": [
           {
            "marker": {
             "colorbar": {
              "outlinewidth": 0,
              "ticks": ""
             }
            },
            "type": "scattermapbox"
           }
          ],
          "scatterpolar": [
           {
            "marker": {
             "colorbar": {
              "outlinewidth": 0,
              "ticks": ""
             }
            },
            "type": "scatterpolar"
           }
          ],
          "scatterpolargl": [
           {
            "marker": {
             "colorbar": {
              "outlinewidth": 0,
              "ticks": ""
             }
            },
            "type": "scatterpolargl"
           }
          ],
          "scatterternary": [
           {
            "marker": {
             "colorbar": {
              "outlinewidth": 0,
              "ticks": ""
             }
            },
            "type": "scatterternary"
           }
          ],
          "surface": [
           {
            "colorbar": {
             "outlinewidth": 0,
             "ticks": ""
            },
            "colorscale": [
             [
              0,
              "#0d0887"
             ],
             [
              0.1111111111111111,
              "#46039f"
             ],
             [
              0.2222222222222222,
              "#7201a8"
             ],
             [
              0.3333333333333333,
              "#9c179e"
             ],
             [
              0.4444444444444444,
              "#bd3786"
             ],
             [
              0.5555555555555556,
              "#d8576b"
             ],
             [
              0.6666666666666666,
              "#ed7953"
             ],
             [
              0.7777777777777778,
              "#fb9f3a"
             ],
             [
              0.8888888888888888,
              "#fdca26"
             ],
             [
              1,
              "#f0f921"
             ]
            ],
            "type": "surface"
           }
          ],
          "table": [
           {
            "cells": {
             "fill": {
              "color": "#EBF0F8"
             },
             "line": {
              "color": "white"
             }
            },
            "header": {
             "fill": {
              "color": "#C8D4E3"
             },
             "line": {
              "color": "white"
             }
            },
            "type": "table"
           }
          ]
         },
         "layout": {
          "annotationdefaults": {
           "arrowcolor": "#2a3f5f",
           "arrowhead": 0,
           "arrowwidth": 1
          },
          "coloraxis": {
           "colorbar": {
            "outlinewidth": 0,
            "ticks": ""
           }
          },
          "colorscale": {
           "diverging": [
            [
             0,
             "#8e0152"
            ],
            [
             0.1,
             "#c51b7d"
            ],
            [
             0.2,
             "#de77ae"
            ],
            [
             0.3,
             "#f1b6da"
            ],
            [
             0.4,
             "#fde0ef"
            ],
            [
             0.5,
             "#f7f7f7"
            ],
            [
             0.6,
             "#e6f5d0"
            ],
            [
             0.7,
             "#b8e186"
            ],
            [
             0.8,
             "#7fbc41"
            ],
            [
             0.9,
             "#4d9221"
            ],
            [
             1,
             "#276419"
            ]
           ],
           "sequential": [
            [
             0,
             "#0d0887"
            ],
            [
             0.1111111111111111,
             "#46039f"
            ],
            [
             0.2222222222222222,
             "#7201a8"
            ],
            [
             0.3333333333333333,
             "#9c179e"
            ],
            [
             0.4444444444444444,
             "#bd3786"
            ],
            [
             0.5555555555555556,
             "#d8576b"
            ],
            [
             0.6666666666666666,
             "#ed7953"
            ],
            [
             0.7777777777777778,
             "#fb9f3a"
            ],
            [
             0.8888888888888888,
             "#fdca26"
            ],
            [
             1,
             "#f0f921"
            ]
           ],
           "sequentialminus": [
            [
             0,
             "#0d0887"
            ],
            [
             0.1111111111111111,
             "#46039f"
            ],
            [
             0.2222222222222222,
             "#7201a8"
            ],
            [
             0.3333333333333333,
             "#9c179e"
            ],
            [
             0.4444444444444444,
             "#bd3786"
            ],
            [
             0.5555555555555556,
             "#d8576b"
            ],
            [
             0.6666666666666666,
             "#ed7953"
            ],
            [
             0.7777777777777778,
             "#fb9f3a"
            ],
            [
             0.8888888888888888,
             "#fdca26"
            ],
            [
             1,
             "#f0f921"
            ]
           ]
          },
          "colorway": [
           "#636efa",
           "#EF553B",
           "#00cc96",
           "#ab63fa",
           "#FFA15A",
           "#19d3f3",
           "#FF6692",
           "#B6E880",
           "#FF97FF",
           "#FECB52"
          ],
          "font": {
           "color": "#2a3f5f"
          },
          "geo": {
           "bgcolor": "white",
           "lakecolor": "white",
           "landcolor": "#E5ECF6",
           "showlakes": true,
           "showland": true,
           "subunitcolor": "white"
          },
          "hoverlabel": {
           "align": "left"
          },
          "hovermode": "closest",
          "mapbox": {
           "style": "light"
          },
          "paper_bgcolor": "white",
          "plot_bgcolor": "#E5ECF6",
          "polar": {
           "angularaxis": {
            "gridcolor": "white",
            "linecolor": "white",
            "ticks": ""
           },
           "bgcolor": "#E5ECF6",
           "radialaxis": {
            "gridcolor": "white",
            "linecolor": "white",
            "ticks": ""
           }
          },
          "scene": {
           "xaxis": {
            "backgroundcolor": "#E5ECF6",
            "gridcolor": "white",
            "gridwidth": 2,
            "linecolor": "white",
            "showbackground": true,
            "ticks": "",
            "zerolinecolor": "white"
           },
           "yaxis": {
            "backgroundcolor": "#E5ECF6",
            "gridcolor": "white",
            "gridwidth": 2,
            "linecolor": "white",
            "showbackground": true,
            "ticks": "",
            "zerolinecolor": "white"
           },
           "zaxis": {
            "backgroundcolor": "#E5ECF6",
            "gridcolor": "white",
            "gridwidth": 2,
            "linecolor": "white",
            "showbackground": true,
            "ticks": "",
            "zerolinecolor": "white"
           }
          },
          "shapedefaults": {
           "line": {
            "color": "#2a3f5f"
           }
          },
          "ternary": {
           "aaxis": {
            "gridcolor": "white",
            "linecolor": "white",
            "ticks": ""
           },
           "baxis": {
            "gridcolor": "white",
            "linecolor": "white",
            "ticks": ""
           },
           "bgcolor": "#E5ECF6",
           "caxis": {
            "gridcolor": "white",
            "linecolor": "white",
            "ticks": ""
           }
          },
          "title": {
           "x": 0.05
          },
          "xaxis": {
           "automargin": true,
           "gridcolor": "white",
           "linecolor": "white",
           "ticks": "",
           "title": {
            "standoff": 15
           },
           "zerolinecolor": "white",
           "zerolinewidth": 2
          },
          "yaxis": {
           "automargin": true,
           "gridcolor": "white",
           "linecolor": "white",
           "ticks": "",
           "title": {
            "standoff": 15
           },
           "zerolinecolor": "white",
           "zerolinewidth": 2
          }
         }
        },
        "title": {
         "text": "ABV vs IBU with SRM to Boot"
        },
        "xaxis": {
         "range": [
          0,
          120
         ],
         "title": {
          "text": "IBU"
         }
        },
        "yaxis": {
         "range": [
          2,
          15
         ],
         "title": {
          "text": "ABV"
         }
        }
       }
      },
      "text/html": [
       "<div>\n",
       "        \n",
       "        \n",
       "            <div id=\"c7a46190-8f93-4710-8350-f03b46451d21\" class=\"plotly-graph-div\" style=\"height:525px; width:100%;\"></div>\n",
       "            <script type=\"text/javascript\">\n",
       "                require([\"plotly\"], function(Plotly) {\n",
       "                    window.PLOTLYENV=window.PLOTLYENV || {};\n",
       "                    \n",
       "                if (document.getElementById(\"c7a46190-8f93-4710-8350-f03b46451d21\")) {\n",
       "                    Plotly.newPlot(\n",
       "                        'c7a46190-8f93-4710-8350-f03b46451d21',\n",
       "                        [{\"marker\": {\"color\": [14.01486896587762, 8.869422797055876, 11.760128305255282, 14.229950067315253, 17.02624932086326, 23.78981934068697, 8.607501092481831, 5.088949085172231, 10.714196574100303, 7.215187020721385, 36.17782994323026, 41.448480036163225, 14.470508964266962, 4.938345673341797, 5.620159827987077, 6.584109942322084, 5.608562775754781, 15.343129869198805, 33.694404374083724, 6.28961760966178, 31.39575595804805, 17.6628975276949, 6.330064070241505, 8.101194464436244, 12.377655065195393, 7.875518845428156, 3.6845740281142167, 11.765858030590845, 12.02232747738947, 5.08112127256501, 4.4581390075525436, 13.736376394269675, 7.109739456790675, 19.153881270641595, 5.403942011708581, 16.588289628011054, 30.710518868481955, 13.572935731689027, 10.919144659591224, 11.461818974290862, 4.591906758168849, 18.121245206181285, 20.60885694480622, 17.03175225680421, 7.341214942193667, 4.664231282291727, 7.2219908988623445, 10.506175489635616, 23.76386880107492, 4.405933023081741, 4.551176881586546, 22.38215461620291, 20.147997815173817, 19.493779860713154, 5.325507712091152, 8.41176084668539, 5.454718875484142, 37.973983420376825, 17.424268897549243, 17.404594187180827, 18.89500890801447, 13.91257414336548, 19.183358300424853, 18.309809268063574, 4.022814749740856, 9.45316396877493, 30.10912166033079, 12.686827253055325, 11.3544553696739, 6.924173550370418, 20.53044372074924, 14.588016010297185, 42.540215238387496, 2.0330542863287686, 11.787770673311442, 7.468934113936011, 7.025310782399993, 5.515112652289617, 5.191562054902309, 6.95596762083039, 3.821049601585294, 4.127136602641387, 4.191306624499727, 4.453884675653245, 7.864301413366925, 20.784761257693972, 10.96663445948302, 53.90162003610319, 9.792214595538715, 19.236942101438483, 4.928273632939925, 38.63471087041401, 15.74887288508785, 36.63109216710348, 11.462438670324628, 6.1502012687125065, 14.87518899436542, 4.114862634557032, 5.31070450966078, 3.749174036655715, 5.111160133984551, 22.835281925553677, 8.655062118197867, 7.582885407830725, 19.088139746318557, 7.538106543506358, 15.33156983928874, 19.732839697108012, 4.429006009115696, 11.171384307827001, 10.837813477208288, 14.49616783740212, 15.797640728249942, 18.718834429230018, 38.02698826070809, 10.441019987854204, 20.095988365912273, 13.182895190963897, 9.174312806648171, 7.843583493426158, 23.028530976184562, 12.935132640046591, 20.635861486242288, 3.563218495952895, 5.001047791695125, 29.217150972236855, 4.84123303411533, 9.432697099012092, 15.289687730816862, 35.67427488552285, 14.741788598358724, 14.92355164613984, 54.164795807684925, 17.484123232979478, 6.587793512424162, 27.583399496747095, 17.433253067621507, 16.10408646208411, 20.92149764290081, 15.168004670225097, 15.609346921005926, 15.824455036477275, 6.855795541392434, 22.838460517042773, 9.231569295426485, 16.875398712682145, 10.375499580991928, 8.242794347432016, 34.83950030505553, 18.255801225459255, 5.302373341099748, 15.69945421974057, 10.671013440184517, 5.337781352598779, 16.26347313809666, 29.873689697005304, 13.84695389356661, 3.8842365171935738, 8.379537016059329, 4.836196369826731, 11.660304823767076, 21.567586011561204, 6.862723764364884, 40.40940933551266, 18.53814576863128, 0.545426671669274, 6.1471895993636165, 38.73376744682115, 10.780990923292103, 20.35970870802297, 4.662018279325041, 5.001163988182728, 24.75092413057706, 11.49981158563508, 7.340780352678421, 22.655369307647508, 4.536859363266707, 29.752515293777805], \"colorbar\": {\"title\": {\"text\": \"SRM\"}}, \"colorscale\": [[0, \"white\"], [0.11428571428571428, \"yellow\"], [0.2571428571428571, \"red\"], [0.45714285714285713, \"brown\"], [1, \"black\"]], \"showscale\": true, \"size\": [14.153631194101662, 10.088788238716907, 8.643856189774725, 21.84070571083016, 16.688591815831632, 20.217048913556336, 26.950706915460263, 15.536368649553852, 22.069597925154536, 25.661030413953675, 19.089928865578475, 20.52183906732581, 15.509775004326936, 18.6029923899651, 18.27398222416046, 5.169925001442312, 10.98370619265935, 12.45763738099176, 16.835705029771795, 17.795690912011022, 18.04473562605691, 17.98304369215139, 16.758756734142523, 18.45282438557757, 17.3519140658835, 18.243067034680063, 17.154857656071496, 17.093788919775275, 14.818781872275403, 21.40261292391725, 16.67970000576925, 12.98370619265935, 11.90839262077375, 17.031399676568086, 15.943087107901544, 15.062762921032624, 17.414718264161767, 0.0, 14.45763738099176, 19.90839262077375, 15.258713240159219, 10.4189067312579, 12.0, 14.132178380915544, 12.885886991697456, 19.312849726555562, 8.174925682500678, 9.813781191217037, 10.088788238716907, 14.625765910568711, 15.69098010188875, 11.715961990255144, 15.753033893129999, 15.69098010188875, 10.715104009236168, 19.3519140658835, 12.49585502688717, 17.69098010188875, 15.047123912114026, 10.918863237274595, 15.139711216661896, 13.287712379549449, 8.784634845557521, 15.83772647454919, 9.715961990255144, 19.120665668424884, 15.482933972802293, 17.379995942838892, 18.661833756229235, 11.765286098723683, 11.109177703355275, 14.319742673556778, 16.894166452419306, 2.0, 10.339850002884624, 17.855555924164683, 8.918863237274595, 12.339850002884624, 9.813781191217037, 8.339850002884624, 15.229419688230417, 17.582325777110036, 14.279102704797587, 11.954559846999834, 12.299494239009364, 16.62576591056871, 20.965615913453334, 18.688591815831632, 12.885886991697456, 9.90839262077375, 16.389513708844497, 11.861474675125773, 20.34735427260684, 15.954559846999834, 8.0, 8.49585502688717, 9.715961990255144, 19.3904565829915, 12.258566033889933, 5.169925001442312, 12.339850002884624, 6.0, 14.132178380915544, 7.614709844115208, 16.099697098901125, 14.607561496354206, 14.11056487100238, 15.954559846999834, 16.67970000576925, 16.706293650996166, 5.614709844115208, 18.35981818002987, 12.044735626056909, 16.268852640441853, 19.72527471511759, 16.94335042878409, 16.369750685816566, 8.174925682500678, 16.04473562605691, 11.813781191217037, 13.813781191217037, 10.258566033889933, 9.813781191217037, 8.0, 9.715961990255144, 6.918863237274595, 13.509775004326936, 4.643856189774724, 10.784634845557521, 19.53305781719773, 9.90839262077375, 13.015589280397393, 19.67210071011614, 8.784634845557521, 22.63256306349244, 15.373001054366437, 14.852529509404196, 13.509775004326936, 13.373001054366437, 10.4189067312579, 10.643856189774725, 9.169925001442312, 10.784634845557521, 13.31642296550359, 16.810282926272688, 17.35896019901089, 11.229419688230417, 15.455840909126398, 18.457637380991763, 12.918863237274595, 12.044735626056909, 17.51644642945345, 16.533573081389804, 16.142924725113247, 12.132178380915544, 6.918863237274595, 17.825778672459922, 10.98370619265935, 16.561541540261207, 11.509775004326936, 17.63396724651076, 15.56271942704932, 10.258566033889933, 19.598563243043845, 13.229419688230417, 2.0, 13.813781191217037, 9.614709844115207, 17.015589280397393, 14.153631194101662, 19.789635526615886, 19.56271942704932, 15.139711216661896, 10.918863237274595, 10.852529509404196, 14.4189067312579, 20.02524907773012, 12.044735626056909]}, \"mode\": \"markers\", \"text\": [\"altbier\", \"alternative grain beer\", \"alternative sugar beer\", \"american amber ale\", \"american barleywine\", \"american brown ale\", \"american ipa\", \"american lager\", \"american light lager\", \"american pale ale\", \"american porter\", \"american stout\", \"american strong ale\", \"american wheat beer\", \"american wheat or rye beer\", \"apple wine\", \"australian sparkling ale\", \"autumn seasonal beer\", \"baltic porter\", \"belgian blond ale\", \"belgian dark strong ale\", \"belgian dubbel\", \"belgian golden strong ale\", \"belgian pale ale\", \"belgian specialty ale\", \"belgian tripel\", \"berliner weisse\", \"best bitter\", \"bi\\u00e8re de garde\", \"blonde ale\", \"bohemian pilsener\", \"braggot\", \"brett beer\", \"british brown ale\", \"british golden ale\", \"british strong ale\", \"brown porter\", \"burton ale\", \"california common\", \"california common beer\", \"classic american pilsner\", \"classic rauchbier\", \"classic style smoked beer\", \"clone beer\", \"common cider\", \"cream ale\", \"cyser (apple melomel)\", \"czech amber lager\", \"czech dark lager\", \"czech pale lager\", \"czech premium pale lager\", \"dark american lager\", \"dark mild\", \"doppelbock\", \"dortmunder export\", \"double ipa\", \"dry mead\", \"dry stout\", \"dunkelweizen\", \"dunkles bock\", \"dunkles weissbier\", \"d\\u00fcsseldorf altbier\", \"eisbock\", \"english barleywine\", \"english cider\", \"english ipa\", \"english porter\", \"experimental beer\", \"extra special/strong bitter (esb)\", \"festbier\", \"flanders brown ale/oud bruin\", \"flanders red ale\", \"foreign extra stout\", \"french cider\", \"fruit and spice beer\", \"fruit beer\", \"fruit cider\", \"fruit lambic\", \"german helles exportbier\", \"german leichtbier\", \"german pils\", \"german pilsner (pils)\", \"gose\", \"gueuze\", \"helles bock\", \"holiday/winter special spiced beer\", \"imperial ipa\", \"imperial stout\", \"international amber lager\", \"international dark lager\", \"international pale lager\", \"irish extra stout\", \"irish red ale\", \"irish stout\", \"kellerbier: amber kellerbier\", \"kellerbier: pale kellerbier\", \"kentucky common\", \"k\\u00f6lsch\", \"lambic\", \"lichtenhainer\", \"light american lager\", \"london brown ale\", \"maibock/helles bock\", \"metheglin\", \"mild\", \"mixed-fermentation sour beer\", \"mixed-style beer\", \"munich dunkel\", \"munich helles\", \"m\\u00e4rzen\", \"new england cider\", \"no profile selected\", \"north german altbier\", \"northern english brown\", \"oatmeal stout\", \"oktoberfest/m\\u00e4rzen\", \"old ale\", \"open category mead\", \"ordinary bitter\", \"other fruit melomel\", \"other smoked beer\", \"other specialty cider or perry\", \"oud bruin\", \"piwo grodziskie\", \"pre-prohibition lager\", \"pre-prohibition porter\", \"premium american lager\", \"pyment (grape melomel)\", \"rauchbier\", \"robust porter\", \"roggenbier\", \"roggenbier (german rye beer)\", \"russian imperial stout\", \"sahti\", \"saison\", \"schwarzbier\", \"scottish export\", \"scottish export 80/-\", \"scottish heavy\", \"scottish heavy 70/-\", \"scottish light\", \"scottish light 60/-\", \"semi-sweet mead\", \"southern english brown\", \"special/best/premium bitter\", \"specialty beer\", \"specialty fruit beer\", \"specialty ipa: belgian ipa\", \"specialty ipa: black ipa\", \"specialty ipa: brown ipa\", \"specialty ipa: new england ipa\", \"specialty ipa: red ipa\", \"specialty ipa: rye ipa\", \"specialty ipa: white ipa\", \"specialty smoked beer\", \"specialty wood-aged beer\", \"spice, herb, or vegetable beer\", \"standard american lager\", \"standard/ordinary bitter\", \"straight (unblended) lambic\", \"strong bitter\", \"strong scotch ale\", \"sweet mead\", \"sweet stout\", \"traditional bock\", \"traditional perry\", \"trappist single\", \"tropical stout\", \"vienna lager\", \"wee heavy\", \"weissbier\", \"weizen/weissbier\", \"weizenbock\", \"wheatwine\", \"wild specialty beer\", \"winter seasonal beer\", \"witbier\", \"wood-aged beer\"], \"type\": \"scatter\", \"x\": [37.07516709355909, 38.31400968728273, 23.59473779594847, 45.21568753799865, 78.36007722860039, 34.499267952804885, 79.08340352138059, 22.134257981414894, 30.199342964042707, 46.517885856806, 36.17137095597745, 44.11461314173908, 68.38550148416309, 26.676466110620453, 28.58676907565779, 10.015008379429304, 32.54027812207186, 24.72970955823959, 34.00826856640981, 24.98464108636027, 27.714076366206385, 22.456538129769886, 28.03666502209262, 28.95520158707616, 33.1733693461812, 28.26620429025252, 7.31772477431462, 33.98096803604763, 24.183230198335085, 26.78423094911045, 38.928405456541334, 17.00542889563829, 33.77776598224849, 26.92155302444416, 34.23391138753963, 41.80914474503966, 29.584918509810414, 42.33023623926316, 38.45769061397746, 39.411993832339775, 30.433838954257762, 26.438020779577467, 30.551235316272113, 40.894343123716006, 1.1876053194658143, 21.040935405041896, 1.5724029522927316, 26.924543114543113, 29.83689398491915, 29.755463618090044, 37.99606477153378, 24.30567073115242, 19.839871420616632, 24.833823907707103, 25.016754222362056, 107.9845170993748, 3.7527184487292153, 36.06862848756627, 19.485200966249774, 23.39676599250532, 15.341985370002124, 40.84368831141515, 28.9798553274315, 54.36566379792993, 3.5595515478048685, 55.21641810050855, 31.31245943005836, 35.78690274718102, 39.04640132873368, 25.531709764328884, 19.18665728885472, 13.763474463055857, 45.06594640303642, 0.0, 20.1789251571661, 25.026915898780018, 0.15579934675147825, 11.114836001159091, 27.315234023083047, 34.20796305672586, 31.699797813975046, 33.728755427715434, 8.609870381895947, 11.957044106102384, 27.956186900916464, 31.7880478370618, 111.89850663820738, 57.66904480376282, 22.08642903728561, 23.57077086308481, 29.056816469355848, 37.959568098770625, 26.925762641382324, 33.14607501745585, 27.630688364837837, 26.221860369148658, 19.64997280038319, 25.168975655528417, 7.910047500973774, 7.245491979058614, 19.221263353014674, 51.80243117280018, 27.78752955366907, 2.181550345621799, 23.455096927476657, 15.6851776298515, 40.379354498332276, 23.872401048855053, 20.58780071812531, 21.980658752642324, 1.2174331157751361, 58.065638478313, 34.464578782361095, 27.47197264885102, 31.804255802334527, 25.58649895733172, 42.0167224575353, 7.222728493910847, 30.827247446385314, 0.9780540933335421, 37.37331667713852, 6.321477588985562, 15.0932101553214, 19.54143462738871, 33.76852307567138, 36.29994311139394, 26.08053870988824, 8.547369720874176, 24.45734833673197, 36.17300931673697, 17.623567212360445, 23.50940118824782, 61.258177473394156, 9.994430782180821, 28.92840580415206, 27.75370421529298, 23.998966525904244, 23.69651743327633, 25.55017690498722, 23.789879899986964, 21.859844633755422, 21.152134621121565, 0.7689973832970461, 24.50257934329217, 33.49163793650668, 38.282810712572235, 26.2192752020766, 68.474099472561, 77.62815085843879, 60.95682778601909, 77.56545472665341, 64.87209126506373, 64.90366410247448, 439.6957926082655, 30.62982972335781, 31.324009876260337, 27.422131185314967, 15.580747388532833, 33.24832557311312, 7.7534111677254, 38.61133542859379, 28.002003665494364, 10.277077969340302, 28.072262937216337, 23.254810882768595, 0.0, 27.98902143120473, 37.82921095666183, 24.621491911174488, 26.60679889926477, 15.75760616689425, 16.189624013459223, 23.464712139183575, 42.77535050348607, 20.128474005372766, 31.84057331700769, 17.46291916034195, 40.35327346296417], \"y\": [5.200654600661583, 5.519939883825891, 7.44503695478858, 5.817677895359228, 10.528384739892061, 5.887815451598191, 6.517644802616469, 5.171390185875067, 5.768950358581137, 5.52902381414396, 6.329661505511959, 6.626466587321395, 7.773303275254477, 5.365051954758956, 5.232139301175958, 9.234509681063853, 5.017147936946177, 7.107784955029452, 7.559854998509757, 6.739512074294551, 9.881544416983552, 6.918257974076251, 8.062331525018113, 5.631721792298576, 6.4934246464699035, 9.26705378906168, 4.205019061601401, 5.328242901296596, 7.007432065908427, 5.068840345265543, 5.421872252520575, 9.475828096466138, 6.179058265906407, 5.312741161236849, 4.744489076974695, 6.731198907696045, 5.506577387759659, 6.555741330132935, 5.111968332979956, 5.906185194293218, 5.723907100859154, 6.239755712882794, 5.977448744720187, 6.7502533411752665, 6.1781185801700484, 5.333520924161185, 9.661821562260744, 5.404347270752628, 5.181683089608756, 5.225938873845123, 6.092252379899674, 5.766068478033405, 4.11372380448054, 8.129489085311054, 5.375843431946794, 8.163496336750319, 10.103809765532821, 5.330329716547551, 5.757642911499027, 6.683764295145322, 5.688307336758816, 5.302710594640972, 9.203941054408121, 10.643014808762421, 5.945660884449856, 6.108812735804029, 5.421563169095221, 6.617791674126043, 5.4075171979678505, 5.810757126567172, 6.534665388708725, 6.217959112686281, 6.9560154594469745, 6.454530460914975, 6.019764878909395, 5.636904396771361, 8.188057745420188, 5.8067967168932615, 5.355448110782333, 4.780240252074352, 5.159815417425491, 5.24375981326547, 4.67621438410657, 5.242336224536897, 6.719261934123841, 7.333180947857643, 8.301900618776731, 9.985542462514767, 5.193186979207056, 5.488941359951177, 5.409460370426014, 6.064028809140538, 5.46150784976949, 4.885125434330728, 5.17080047152237, 5.047531227616147, 4.898806727359224, 4.978666338721896, 6.014295339650133, 4.321111429825719, 4.695385714980627, 5.183260830807366, 6.64712656562987, 12.57849033564832, 4.561056103192452, 5.868599943731799, 6.404829564436104, 5.451894369164435, 5.0687625309482405, 5.878561914103105, 6.693399976147998, 6.477970402013468, 5.529236631242117, 5.268821012151396, 6.066558170973165, 5.549273770057766, 7.434922191611523, 8.72596070802591, 4.088383622434307, 11.412124086887792, 6.0014502228801145, 6.8199669204068725, 6.793539087794529, 3.626142527698476, 5.5588180910267, 5.844681859696622, 5.506954033668599, 9.40188485681992, 5.739025782986357, 6.235739021885237, 5.3952926979778795, 5.649870279027014, 9.913441094267514, 16.573231076794887, 6.067691053220226, 5.34142200827126, 5.784632258945845, 5.270293410971168, 6.421082930241009, 5.180017038619779, 5.15720711007676, 4.461468104110566, 10.889570637475435, 4.965104862282162, 4.669045508101989, 6.666435271076369, 5.8414984150578375, 7.125348578746774, 7.026153064659377, 6.502713255842463, 6.4451280985302475, 6.497657770122847, 6.730058302667363, 6.1545571298513355, 6.229528150996809, 8.078068304423445, 6.421731288271104, 4.910243363549014, 4.5029913160060575, 5.9615508294315465, 5.403325185603329, 8.28258325435059, 12.115851068143037, 6.240278071710092, 6.400293305004188, 6.496781425604512, 5.509481905121705, 6.821737492830574, 5.266209378798633, 8.40458136306367, 5.360139345382344, 5.319823823613897, 9.567213539379976, 9.675405683948505, 5.829567533849999, 7.0326893490183044, 5.242185531928392, 9.378327581229648]}],\n",
       "                        {\"template\": {\"data\": {\"bar\": [{\"error_x\": {\"color\": \"#2a3f5f\"}, \"error_y\": {\"color\": \"#2a3f5f\"}, \"marker\": {\"line\": {\"color\": \"#E5ECF6\", \"width\": 0.5}}, \"type\": \"bar\"}], \"barpolar\": [{\"marker\": {\"line\": {\"color\": \"#E5ECF6\", \"width\": 0.5}}, \"type\": \"barpolar\"}], \"carpet\": [{\"aaxis\": {\"endlinecolor\": \"#2a3f5f\", \"gridcolor\": \"white\", \"linecolor\": \"white\", \"minorgridcolor\": \"white\", \"startlinecolor\": \"#2a3f5f\"}, \"baxis\": {\"endlinecolor\": \"#2a3f5f\", \"gridcolor\": \"white\", \"linecolor\": \"white\", \"minorgridcolor\": \"white\", \"startlinecolor\": \"#2a3f5f\"}, \"type\": \"carpet\"}], \"choropleth\": [{\"colorbar\": {\"outlinewidth\": 0, \"ticks\": \"\"}, \"type\": \"choropleth\"}], \"contour\": [{\"colorbar\": {\"outlinewidth\": 0, \"ticks\": \"\"}, \"colorscale\": [[0.0, \"#0d0887\"], [0.1111111111111111, \"#46039f\"], [0.2222222222222222, \"#7201a8\"], [0.3333333333333333, \"#9c179e\"], [0.4444444444444444, \"#bd3786\"], [0.5555555555555556, \"#d8576b\"], [0.6666666666666666, \"#ed7953\"], [0.7777777777777778, \"#fb9f3a\"], [0.8888888888888888, \"#fdca26\"], [1.0, \"#f0f921\"]], \"type\": \"contour\"}], \"contourcarpet\": [{\"colorbar\": {\"outlinewidth\": 0, \"ticks\": \"\"}, \"type\": \"contourcarpet\"}], \"heatmap\": [{\"colorbar\": {\"outlinewidth\": 0, \"ticks\": \"\"}, \"colorscale\": [[0.0, \"#0d0887\"], [0.1111111111111111, \"#46039f\"], [0.2222222222222222, \"#7201a8\"], [0.3333333333333333, \"#9c179e\"], [0.4444444444444444, \"#bd3786\"], [0.5555555555555556, \"#d8576b\"], [0.6666666666666666, \"#ed7953\"], [0.7777777777777778, \"#fb9f3a\"], [0.8888888888888888, \"#fdca26\"], [1.0, \"#f0f921\"]], \"type\": \"heatmap\"}], \"heatmapgl\": [{\"colorbar\": {\"outlinewidth\": 0, \"ticks\": \"\"}, \"colorscale\": [[0.0, \"#0d0887\"], [0.1111111111111111, \"#46039f\"], [0.2222222222222222, \"#7201a8\"], [0.3333333333333333, \"#9c179e\"], [0.4444444444444444, \"#bd3786\"], [0.5555555555555556, \"#d8576b\"], [0.6666666666666666, \"#ed7953\"], [0.7777777777777778, \"#fb9f3a\"], [0.8888888888888888, \"#fdca26\"], [1.0, \"#f0f921\"]], \"type\": \"heatmapgl\"}], \"histogram\": [{\"marker\": {\"colorbar\": {\"outlinewidth\": 0, \"ticks\": \"\"}}, \"type\": \"histogram\"}], \"histogram2d\": [{\"colorbar\": {\"outlinewidth\": 0, \"ticks\": \"\"}, \"colorscale\": [[0.0, \"#0d0887\"], [0.1111111111111111, \"#46039f\"], [0.2222222222222222, \"#7201a8\"], [0.3333333333333333, \"#9c179e\"], [0.4444444444444444, \"#bd3786\"], [0.5555555555555556, \"#d8576b\"], [0.6666666666666666, \"#ed7953\"], [0.7777777777777778, \"#fb9f3a\"], [0.8888888888888888, \"#fdca26\"], [1.0, \"#f0f921\"]], \"type\": \"histogram2d\"}], \"histogram2dcontour\": [{\"colorbar\": {\"outlinewidth\": 0, \"ticks\": \"\"}, \"colorscale\": [[0.0, \"#0d0887\"], [0.1111111111111111, \"#46039f\"], [0.2222222222222222, \"#7201a8\"], [0.3333333333333333, \"#9c179e\"], [0.4444444444444444, \"#bd3786\"], [0.5555555555555556, \"#d8576b\"], [0.6666666666666666, \"#ed7953\"], [0.7777777777777778, \"#fb9f3a\"], [0.8888888888888888, \"#fdca26\"], [1.0, \"#f0f921\"]], \"type\": \"histogram2dcontour\"}], \"mesh3d\": [{\"colorbar\": {\"outlinewidth\": 0, \"ticks\": \"\"}, \"type\": \"mesh3d\"}], \"parcoords\": [{\"line\": {\"colorbar\": {\"outlinewidth\": 0, \"ticks\": \"\"}}, \"type\": \"parcoords\"}], \"pie\": [{\"automargin\": true, \"type\": \"pie\"}], \"scatter\": [{\"marker\": {\"colorbar\": {\"outlinewidth\": 0, \"ticks\": \"\"}}, \"type\": \"scatter\"}], \"scatter3d\": [{\"line\": {\"colorbar\": {\"outlinewidth\": 0, \"ticks\": \"\"}}, \"marker\": {\"colorbar\": {\"outlinewidth\": 0, \"ticks\": \"\"}}, \"type\": \"scatter3d\"}], \"scattercarpet\": [{\"marker\": {\"colorbar\": {\"outlinewidth\": 0, \"ticks\": \"\"}}, \"type\": \"scattercarpet\"}], \"scattergeo\": [{\"marker\": {\"colorbar\": {\"outlinewidth\": 0, \"ticks\": \"\"}}, \"type\": \"scattergeo\"}], \"scattergl\": [{\"marker\": {\"colorbar\": {\"outlinewidth\": 0, \"ticks\": \"\"}}, \"type\": \"scattergl\"}], \"scattermapbox\": [{\"marker\": {\"colorbar\": {\"outlinewidth\": 0, \"ticks\": \"\"}}, \"type\": \"scattermapbox\"}], \"scatterpolar\": [{\"marker\": {\"colorbar\": {\"outlinewidth\": 0, \"ticks\": \"\"}}, \"type\": \"scatterpolar\"}], \"scatterpolargl\": [{\"marker\": {\"colorbar\": {\"outlinewidth\": 0, \"ticks\": \"\"}}, \"type\": \"scatterpolargl\"}], \"scatterternary\": [{\"marker\": {\"colorbar\": {\"outlinewidth\": 0, \"ticks\": \"\"}}, \"type\": \"scatterternary\"}], \"surface\": [{\"colorbar\": {\"outlinewidth\": 0, \"ticks\": \"\"}, \"colorscale\": [[0.0, \"#0d0887\"], [0.1111111111111111, \"#46039f\"], [0.2222222222222222, \"#7201a8\"], [0.3333333333333333, \"#9c179e\"], [0.4444444444444444, \"#bd3786\"], [0.5555555555555556, \"#d8576b\"], [0.6666666666666666, \"#ed7953\"], [0.7777777777777778, \"#fb9f3a\"], [0.8888888888888888, \"#fdca26\"], [1.0, \"#f0f921\"]], \"type\": \"surface\"}], \"table\": [{\"cells\": {\"fill\": {\"color\": \"#EBF0F8\"}, \"line\": {\"color\": \"white\"}}, \"header\": {\"fill\": {\"color\": \"#C8D4E3\"}, \"line\": {\"color\": \"white\"}}, \"type\": \"table\"}]}, \"layout\": {\"annotationdefaults\": {\"arrowcolor\": \"#2a3f5f\", \"arrowhead\": 0, \"arrowwidth\": 1}, \"coloraxis\": {\"colorbar\": {\"outlinewidth\": 0, \"ticks\": \"\"}}, \"colorscale\": {\"diverging\": [[0, \"#8e0152\"], [0.1, \"#c51b7d\"], [0.2, \"#de77ae\"], [0.3, \"#f1b6da\"], [0.4, \"#fde0ef\"], [0.5, \"#f7f7f7\"], [0.6, \"#e6f5d0\"], [0.7, \"#b8e186\"], [0.8, \"#7fbc41\"], [0.9, \"#4d9221\"], [1, \"#276419\"]], \"sequential\": [[0.0, \"#0d0887\"], [0.1111111111111111, \"#46039f\"], [0.2222222222222222, \"#7201a8\"], [0.3333333333333333, \"#9c179e\"], [0.4444444444444444, \"#bd3786\"], [0.5555555555555556, \"#d8576b\"], [0.6666666666666666, \"#ed7953\"], [0.7777777777777778, \"#fb9f3a\"], [0.8888888888888888, \"#fdca26\"], [1.0, \"#f0f921\"]], \"sequentialminus\": [[0.0, \"#0d0887\"], [0.1111111111111111, \"#46039f\"], [0.2222222222222222, \"#7201a8\"], [0.3333333333333333, \"#9c179e\"], [0.4444444444444444, \"#bd3786\"], [0.5555555555555556, \"#d8576b\"], [0.6666666666666666, \"#ed7953\"], [0.7777777777777778, \"#fb9f3a\"], [0.8888888888888888, \"#fdca26\"], [1.0, \"#f0f921\"]]}, \"colorway\": [\"#636efa\", \"#EF553B\", \"#00cc96\", \"#ab63fa\", \"#FFA15A\", \"#19d3f3\", \"#FF6692\", \"#B6E880\", \"#FF97FF\", \"#FECB52\"], \"font\": {\"color\": \"#2a3f5f\"}, \"geo\": {\"bgcolor\": \"white\", \"lakecolor\": \"white\", \"landcolor\": \"#E5ECF6\", \"showlakes\": true, \"showland\": true, \"subunitcolor\": \"white\"}, \"hoverlabel\": {\"align\": \"left\"}, \"hovermode\": \"closest\", \"mapbox\": {\"style\": \"light\"}, \"paper_bgcolor\": \"white\", \"plot_bgcolor\": \"#E5ECF6\", \"polar\": {\"angularaxis\": {\"gridcolor\": \"white\", \"linecolor\": \"white\", \"ticks\": \"\"}, \"bgcolor\": \"#E5ECF6\", \"radialaxis\": {\"gridcolor\": \"white\", \"linecolor\": \"white\", \"ticks\": \"\"}}, \"scene\": {\"xaxis\": {\"backgroundcolor\": \"#E5ECF6\", \"gridcolor\": \"white\", \"gridwidth\": 2, \"linecolor\": \"white\", \"showbackground\": true, \"ticks\": \"\", \"zerolinecolor\": \"white\"}, \"yaxis\": {\"backgroundcolor\": \"#E5ECF6\", \"gridcolor\": \"white\", \"gridwidth\": 2, \"linecolor\": \"white\", \"showbackground\": true, \"ticks\": \"\", \"zerolinecolor\": \"white\"}, \"zaxis\": {\"backgroundcolor\": \"#E5ECF6\", \"gridcolor\": \"white\", \"gridwidth\": 2, \"linecolor\": \"white\", \"showbackground\": true, \"ticks\": \"\", \"zerolinecolor\": \"white\"}}, \"shapedefaults\": {\"line\": {\"color\": \"#2a3f5f\"}}, \"ternary\": {\"aaxis\": {\"gridcolor\": \"white\", \"linecolor\": \"white\", \"ticks\": \"\"}, \"baxis\": {\"gridcolor\": \"white\", \"linecolor\": \"white\", \"ticks\": \"\"}, \"bgcolor\": \"#E5ECF6\", \"caxis\": {\"gridcolor\": \"white\", \"linecolor\": \"white\", \"ticks\": \"\"}}, \"title\": {\"x\": 0.05}, \"xaxis\": {\"automargin\": true, \"gridcolor\": \"white\", \"linecolor\": \"white\", \"ticks\": \"\", \"title\": {\"standoff\": 15}, \"zerolinecolor\": \"white\", \"zerolinewidth\": 2}, \"yaxis\": {\"automargin\": true, \"gridcolor\": \"white\", \"linecolor\": \"white\", \"ticks\": \"\", \"title\": {\"standoff\": 15}, \"zerolinecolor\": \"white\", \"zerolinewidth\": 2}}}, \"title\": {\"text\": \"ABV vs IBU with SRM to Boot\"}, \"xaxis\": {\"range\": [0, 120], \"title\": {\"text\": \"IBU\"}}, \"yaxis\": {\"range\": [2, 15], \"title\": {\"text\": \"ABV\"}}},\n",
       "                        {\"responsive\": true}\n",
       "                    ).then(function(){\n",
       "                            \n",
       "var gd = document.getElementById('c7a46190-8f93-4710-8350-f03b46451d21');\n",
       "var x = new MutationObserver(function (mutations, observer) {{\n",
       "        var display = window.getComputedStyle(gd).display;\n",
       "        if (!display || display === 'none') {{\n",
       "            console.log([gd, 'removed!']);\n",
       "            Plotly.purge(gd);\n",
       "            observer.disconnect();\n",
       "        }}\n",
       "}});\n",
       "\n",
       "// Listen for the removal of the full notebook cells\n",
       "var notebookContainer = gd.closest('#notebook-container');\n",
       "if (notebookContainer) {{\n",
       "    x.observe(notebookContainer, {childList: true});\n",
       "}}\n",
       "\n",
       "// Listen for the clearing of the current output cell\n",
       "var outputEl = gd.closest('.output');\n",
       "if (outputEl) {{\n",
       "    x.observe(outputEl, {childList: true});\n",
       "}}\n",
       "\n",
       "                        })\n",
       "                };\n",
       "                });\n",
       "            </script>\n",
       "        </div>"
      ]
     },
     "metadata": {},
     "output_type": "display_data"
    }
   ],
   "source": [
    "size = 2*np.log2(summary[(\"ibu\", \"count\")].values)\n",
    "color = summary[(\"srm\", \"mean\")].values\n",
    "data = [\n",
    "    {\n",
    "        \"y\": summary[(\"abv\",\"mean\")],\n",
    "        \n",
    "        \"x\": summary[(\"ibu\",\"mean\")],\n",
    "        \"mode\": \"markers\",\n",
    "        \"marker\": {\n",
    "            \"color\": color,\n",
    "            #\"opacity\": 0.5,\n",
    "            \"colorscale\": cscale,\n",
    "            \"colorbar\": {\"title\": \"SRM\"},\n",
    "            \"size\": size,\n",
    "            \"showscale\": True\n",
    "        },\n",
    "        \"text\" : summary.index.values,\n",
    "    }\n",
    "]\n",
    "# \"color_continuous_scale\": [\"red\", \"green\", \"blue\"],\n",
    "layout = {\n",
    "    \"xaxis\": {\"title\": \"IBU\", \"range\": [0, 120]},\n",
    "    \"yaxis\": {\"title\": \"ABV\", \"range\": [2, 15]},\n",
    "    \"title\": \"ABV vs IBU with SRM to Boot\",\n",
    "}\n",
    "fig = go.Figure(data=data, layout=layout)\n",
    "iplot(fig)"
   ]
  },
  {
   "cell_type": "code",
   "execution_count": null,
   "metadata": {},
   "outputs": [],
   "source": []
  },
  {
   "cell_type": "code",
   "execution_count": null,
   "metadata": {},
   "outputs": [],
   "source": []
  },
  {
   "cell_type": "code",
   "execution_count": null,
   "metadata": {},
   "outputs": [],
   "source": []
  }
 ],
 "metadata": {
  "kernelspec": {
   "display_name": "beerai",
   "language": "python",
   "name": "beerai"
  },
  "language_info": {
   "codemirror_mode": {
    "name": "ipython",
    "version": 3
   },
   "file_extension": ".py",
   "mimetype": "text/x-python",
   "name": "python",
   "nbconvert_exporter": "python",
   "pygments_lexer": "ipython3",
   "version": "3.6.9"
  }
 },
 "nbformat": 4,
 "nbformat_minor": 2
}
