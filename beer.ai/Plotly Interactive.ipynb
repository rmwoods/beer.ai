{
 "cells": [
  {
   "cell_type": "code",
   "execution_count": 1,
   "metadata": {},
   "outputs": [],
   "source": [
    "import cleaning\n",
    "import numpy as np\n",
    "import pandas as pd\n",
    "import matplotlib.pyplot as plt\n",
    "import plotly.express as px\n",
    "import plotly.graph_objs as go\n",
    "import utils\n",
    "\n",
    "from ipywidgets import widgets\n",
    "from plotly import tools\n",
    "from plotly.offline import iplot\n",
    "from plotly import colors"
   ]
  },
  {
   "cell_type": "code",
   "execution_count": 2,
   "metadata": {},
   "outputs": [],
   "source": [
    "def load_recipes(index_range):\n",
    "    with pd.HDFStore(\"all_recipes.h5\", \"r\") as store:\n",
    "        where_clause = f\"(index >= {index_range[0]}) & (index <= {index_range[1]})\"\n",
    "        core = store.select(\"/core\", where=where_clause)\n",
    "        ing = store.select(\"/ingredients\", where=where_clause)\n",
    "    df = core.join(ing)\n",
    "    return df"
   ]
  },
  {
   "cell_type": "code",
   "execution_count": 3,
   "metadata": {},
   "outputs": [],
   "source": [
    "brewersfriend_indices = [330790, 403157]\n",
    "brewtoad_indices = [258423, 330789]"
   ]
  },
  {
   "cell_type": "code",
   "execution_count": 4,
   "metadata": {},
   "outputs": [],
   "source": [
    "bf = load_recipes(brewersfriend_indices)\n",
    "bt = load_recipes(brewtoad_indices)"
   ]
  },
  {
   "cell_type": "code",
   "execution_count": 5,
   "metadata": {},
   "outputs": [],
   "source": [
    "df = pd.concat([bf, bt], axis=0).sort_index()"
   ]
  },
  {
   "cell_type": "code",
   "execution_count": 6,
   "metadata": {},
   "outputs": [],
   "source": [
    "def generate_metrics(df):\n",
    "    df[\"ferm_scaled\"] = utils.scale_ferm(df)\n",
    "    df[\"hop_scaled\"] = utils.scale_hop(df)\n",
    "    df[\"efficiency\"] = cleaning.clean_efficiency(df[\"efficiency\"])\n",
    "    df[\"ferm_yield\"] = cleaning.clean_ferm_yield(df)\n",
    "    df[\"ibu\"] = utils.ibu(df, utilization_factor=3.75)\n",
    "    df[\"abv\"] = utils.abv(df)\n",
    "    df[\"srm\"] = utils.srm(df)"
   ]
  },
  {
   "cell_type": "code",
   "execution_count": 7,
   "metadata": {},
   "outputs": [],
   "source": [
    "generate_metrics(df)"
   ]
  },
  {
   "cell_type": "code",
   "execution_count": 8,
   "metadata": {},
   "outputs": [],
   "source": [
    "metrics = df.groupby(df.index).first()"
   ]
  },
  {
   "cell_type": "code",
   "execution_count": 101,
   "metadata": {},
   "outputs": [],
   "source": [
    "def generate_hist(df, style):\n",
    "    tmp = df.loc[df[\"style_name\"] == style]\n",
    "    ibu = tmp[\"ibu\"].clip(0, 200)\n",
    "    abv = tmp[\"abv\"].clip(0, 15)\n",
    "    hist, x_edge, y_edge = np.histogram2d(ibu.values, abv.values, bins=20, range=[[0,200],[0,20]], density=True)\n",
    "    x_mid = (x_edge[1:] + x_edge[:-1])/2.\n",
    "    y_mid = (y_edge[1:] + y_edge[:-1])/2.\n",
    "    return hist, x_mid, y_mid"
   ]
  },
  {
   "cell_type": "markdown",
   "metadata": {},
   "source": [
    "# Creating a Dynamic Plot\n",
    "\n",
    "* Define all the pieces of what you will show\n",
    "  * The graph itself (e.g. scatter plot)\n",
    "  * Any buttons, sliders, etc.\n",
    "  * Data sources\n",
    "* Define any validator and/or response functions\n",
    "  * Validators make sure inputs are OK\n",
    "  * Response functions make sure the graph changes appropriately - they are fed to `observe()` methods for each widget (could have different or the same response functions for each widget)\n",
    "* Show your plot\n",
    "  * Layout all your items, including the plot itself"
   ]
  },
  {
   "cell_type": "code",
   "execution_count": 102,
   "metadata": {},
   "outputs": [],
   "source": [
    "# We want a contour plot, and we would like to select the group of beer that is being contoured based in user input\n",
    "\n",
    "contour_traces = []\n",
    "\n",
    "g = go.FigureWidget(\n",
    "    data=contour_traces,\n",
    "    layout=go.Layout(\n",
    "        title=dict(text='IBU vs ABV')\n",
    "    )\n",
    ")\n",
    "\n",
    "dropdown = widgets.SelectMultiple(\n",
    "    description=\"Style Name\",\n",
    "    options=sorted(metrics.style_name.unique().tolist()),\n",
    ")"
   ]
  },
  {
   "cell_type": "code",
   "execution_count": 103,
   "metadata": {},
   "outputs": [],
   "source": [
    "def validator_template():\n",
    "    return True\n",
    "\n",
    "\n",
    "def response(change):\n",
    "    if validator_template():\n",
    "        new_traces = []\n",
    "        for style_name in dropdown.value:\n",
    "            hist, x_mid, y_mid = generate_hist(metrics, style_name)\n",
    "            new_traces.append(\n",
    "                go.Contour(\n",
    "                    name=style_name,\n",
    "                    x=x_mid,\n",
    "                    y=y_mid,\n",
    "                    z=hist,\n",
    "                    contours_coloring='lines',\n",
    "                    line_width=2,\n",
    "                    contours={\"start\":0.005, \"end\": 0.02},\n",
    "                ),\n",
    "            )\n",
    "        layout = {\n",
    "            \"title\": dict(text='ABV vs IBU'),\n",
    "            \"xaxis\": dict(title=\"IBU\"),\n",
    "            \"yaxis\": dict(title=\"ABV\"),\n",
    "        }\n",
    "\n",
    "        g.update(dict1={\"data\": new_traces, \"layout\": layout}, overwrite=True)\n",
    "\n",
    "dropdown.observe(response)"
   ]
  },
  {
   "cell_type": "code",
   "execution_count": 104,
   "metadata": {
    "scrolled": false
   },
   "outputs": [
    {
     "data": {
      "application/vnd.jupyter.widget-view+json": {
       "model_id": "b2355f775e3b41418bfb72f1d12ba203",
       "version_major": 2,
       "version_minor": 0
      },
      "text/plain": [
       "VBox(children=(SelectMultiple(description='Style Name', options=('altbier', 'alternative grain beer', 'alterna…"
      ]
     },
     "metadata": {},
     "output_type": "display_data"
    }
   ],
   "source": [
    "widgets.VBox([dropdown, g])"
   ]
  },
  {
   "cell_type": "code",
   "execution_count": 13,
   "metadata": {},
   "outputs": [],
   "source": [
    "import datetime\n",
    "import numpy as np\n",
    "import pandas as pd\n",
    "\n",
    "import plotly.graph_objects as go\n"
   ]
  },
  {
   "cell_type": "code",
   "execution_count": 14,
   "metadata": {},
   "outputs": [],
   "source": [
    "df = pd.read_csv(\n",
    "    'https://raw.githubusercontent.com/yankev/testing/master/datasets/nycflights.csv')\n",
    "df = df.drop(df.columns[[0]], axis=1)"
   ]
  },
  {
   "cell_type": "code",
   "execution_count": 15,
   "metadata": {},
   "outputs": [],
   "source": [
    "month = widgets.IntSlider(\n",
    "    value=1.0,\n",
    "    min=1.0,\n",
    "    max=12.0,\n",
    "    step=1.0,\n",
    "    description='Month:',\n",
    "    continuous_update=False\n",
    ")\n",
    "\n",
    "use_date = widgets.Checkbox(\n",
    "    description='Date: ',\n",
    "    value=True,\n",
    ")\n",
    "\n",
    "textbox = widgets.Dropdown(\n",
    "    description='Airline:   ',\n",
    "    value='DL',\n",
    "    options=df['carrier'].unique().tolist()\n",
    ")\n",
    "\n",
    "origin = widgets.Dropdown(\n",
    "    options=list(df['origin'].unique()),\n",
    "    value='LGA',\n",
    "    description='Origin Airport:',\n",
    ")\n",
    "\n",
    "# Assign an empty figure widget with two traces\n",
    "trace1 = go.Histogram(x=df['arr_delay'], opacity=0.75, name='Arrival Delays')\n",
    "trace2 = go.Histogram(x=df['dep_delay'], opacity=0.75, name='Departure Delays')\n",
    "g = go.FigureWidget(data=[trace1, trace2],\n",
    "                    layout=go.Layout(\n",
    "                        title=dict(\n",
    "                            text='NYC FlightDatabase'\n",
    "                        ),\n",
    "                        barmode='overlay'\n",
    "                    ))"
   ]
  },
  {
   "cell_type": "code",
   "execution_count": 16,
   "metadata": {},
   "outputs": [],
   "source": [
    "def validate():\n",
    "    if origin.value in df['origin'].unique() and textbox.value in df['carrier'].unique():\n",
    "        return True\n",
    "    else:\n",
    "        return False\n",
    "\n",
    "\n",
    "def response(change):\n",
    "    if validate():\n",
    "        if use_date.value:\n",
    "            filter_list = [i and j and k for i, j, k in\n",
    "                           zip(df['month'] == month.value, df['carrier'] == textbox.value,\n",
    "                               df['origin'] == origin.value)]\n",
    "            temp_df = df[filter_list]\n",
    "\n",
    "        else:\n",
    "            filter_list = [i and j for i, j in\n",
    "                           zip(df['carrier'] == 'DL', df['origin'] == origin.value)]\n",
    "            temp_df = df[filter_list]\n",
    "        x1 = temp_df['arr_delay']\n",
    "        x2 = temp_df['dep_delay']\n",
    "        with g.batch_update():\n",
    "            g.data[0].x = x1\n",
    "            g.data[1].x = x2\n",
    "            g.layout.barmode = 'overlay'\n",
    "            g.layout.xaxis.title = 'Delay in Minutes'\n",
    "            g.layout.yaxis.title = 'Number of Delays'\n",
    "\n",
    "\n",
    "origin.observe(response, names=\"value\")\n",
    "textbox.observe(response, names=\"value\")\n",
    "month.observe(response, names=\"value\")\n",
    "use_date.observe(response, names=\"value\")"
   ]
  },
  {
   "cell_type": "code",
   "execution_count": 17,
   "metadata": {},
   "outputs": [
    {
     "data": {
      "application/vnd.jupyter.widget-view+json": {
       "model_id": "ff44b069c138487d90d5cb9030edc568",
       "version_major": 2,
       "version_minor": 0
      },
      "text/plain": [
       "VBox(children=(HBox(children=(Checkbox(value=True, description='Date: '), IntSlider(value=1, continuous_update…"
      ]
     },
     "metadata": {},
     "output_type": "display_data"
    }
   ],
   "source": [
    "container = widgets.HBox(children=[use_date, month])\n",
    "container2 = widgets.HBox([origin, textbox])\n",
    "widgets.VBox([container,\n",
    "              container2,\n",
    "              g])"
   ]
  },
  {
   "cell_type": "code",
   "execution_count": null,
   "metadata": {},
   "outputs": [],
   "source": []
  }
 ],
 "metadata": {
  "kernelspec": {
   "display_name": "beerai",
   "language": "python",
   "name": "beerai"
  },
  "language_info": {
   "codemirror_mode": {
    "name": "ipython",
    "version": 3
   },
   "file_extension": ".py",
   "mimetype": "text/x-python",
   "name": "python",
   "nbconvert_exporter": "python",
   "pygments_lexer": "ipython3",
   "version": "3.6.9"
  }
 },
 "nbformat": 4,
 "nbformat_minor": 2
}
